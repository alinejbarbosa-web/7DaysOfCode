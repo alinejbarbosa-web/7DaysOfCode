{
  "cells": [
    {
      "cell_type": "markdown",
      "metadata": {
        "id": "view-in-github",
        "colab_type": "text"
      },
      "source": [
        "<a href=\"https://colab.research.google.com/github/alinejbarbosa-web/7DaysOfCode/blob/main/_7DaysOfCode_Dia_02.ipynb\" target=\"_parent\"><img src=\"https://colab.research.google.com/assets/colab-badge.svg\" alt=\"Open In Colab\"/></a>"
      ]
    },
    {
      "cell_type": "code",
      "execution_count": null,
      "metadata": {
        "id": "9bPcyrMYLX2Y"
      },
      "outputs": [],
      "source": [
        "import pandas as pd"
      ]
    },
    {
      "cell_type": "code",
      "execution_count": null,
      "metadata": {
        "id": "gbr8OPwyTAZQ"
      },
      "outputs": [],
      "source": [
        "arquivo_dia01 = \"/content/drive/MyDrive/desafio_biblioteca/dia01_dados.parquet\""
      ]
    },
    {
      "cell_type": "code",
      "execution_count": null,
      "metadata": {
        "id": "uU2icCB2TyQU"
      },
      "outputs": [],
      "source": [
        "from google.colab import files"
      ]
    },
    {
      "cell_type": "code",
      "execution_count": null,
      "metadata": {
        "colab": {
          "background_save": true,
          "base_uri": "https://localhost:8080/",
          "height": 38
        },
        "id": "_Z45MLJHUYKE",
        "outputId": "24e78c62-3380-44d0-eb39-dc39f42ed676"
      },
      "outputs": [
        {
          "data": {
            "text/html": [
              "\n",
              "     <input type=\"file\" id=\"files-52006804-6754-480e-83fe-457d4ba37fa8\" name=\"files[]\" multiple disabled\n",
              "        style=\"border:none\" />\n",
              "     <output id=\"result-52006804-6754-480e-83fe-457d4ba37fa8\">\n",
              "      Upload widget is only available when the cell has been executed in the\n",
              "      current browser session. Please rerun this cell to enable.\n",
              "      </output>\n",
              "      <script>// Copyright 2017 Google LLC\n",
              "//\n",
              "// Licensed under the Apache License, Version 2.0 (the \"License\");\n",
              "// you may not use this file except in compliance with the License.\n",
              "// You may obtain a copy of the License at\n",
              "//\n",
              "//      http://www.apache.org/licenses/LICENSE-2.0\n",
              "//\n",
              "// Unless required by applicable law or agreed to in writing, software\n",
              "// distributed under the License is distributed on an \"AS IS\" BASIS,\n",
              "// WITHOUT WARRANTIES OR CONDITIONS OF ANY KIND, either express or implied.\n",
              "// See the License for the specific language governing permissions and\n",
              "// limitations under the License.\n",
              "\n",
              "/**\n",
              " * @fileoverview Helpers for google.colab Python module.\n",
              " */\n",
              "(function(scope) {\n",
              "function span(text, styleAttributes = {}) {\n",
              "  const element = document.createElement('span');\n",
              "  element.textContent = text;\n",
              "  for (const key of Object.keys(styleAttributes)) {\n",
              "    element.style[key] = styleAttributes[key];\n",
              "  }\n",
              "  return element;\n",
              "}\n",
              "\n",
              "// Max number of bytes which will be uploaded at a time.\n",
              "const MAX_PAYLOAD_SIZE = 100 * 1024;\n",
              "\n",
              "function _uploadFiles(inputId, outputId) {\n",
              "  const steps = uploadFilesStep(inputId, outputId);\n",
              "  const outputElement = document.getElementById(outputId);\n",
              "  // Cache steps on the outputElement to make it available for the next call\n",
              "  // to uploadFilesContinue from Python.\n",
              "  outputElement.steps = steps;\n",
              "\n",
              "  return _uploadFilesContinue(outputId);\n",
              "}\n",
              "\n",
              "// This is roughly an async generator (not supported in the browser yet),\n",
              "// where there are multiple asynchronous steps and the Python side is going\n",
              "// to poll for completion of each step.\n",
              "// This uses a Promise to block the python side on completion of each step,\n",
              "// then passes the result of the previous step as the input to the next step.\n",
              "function _uploadFilesContinue(outputId) {\n",
              "  const outputElement = document.getElementById(outputId);\n",
              "  const steps = outputElement.steps;\n",
              "\n",
              "  const next = steps.next(outputElement.lastPromiseValue);\n",
              "  return Promise.resolve(next.value.promise).then((value) => {\n",
              "    // Cache the last promise value to make it available to the next\n",
              "    // step of the generator.\n",
              "    outputElement.lastPromiseValue = value;\n",
              "    return next.value.response;\n",
              "  });\n",
              "}\n",
              "\n",
              "/**\n",
              " * Generator function which is called between each async step of the upload\n",
              " * process.\n",
              " * @param {string} inputId Element ID of the input file picker element.\n",
              " * @param {string} outputId Element ID of the output display.\n",
              " * @return {!Iterable<!Object>} Iterable of next steps.\n",
              " */\n",
              "function* uploadFilesStep(inputId, outputId) {\n",
              "  const inputElement = document.getElementById(inputId);\n",
              "  inputElement.disabled = false;\n",
              "\n",
              "  const outputElement = document.getElementById(outputId);\n",
              "  outputElement.innerHTML = '';\n",
              "\n",
              "  const pickedPromise = new Promise((resolve) => {\n",
              "    inputElement.addEventListener('change', (e) => {\n",
              "      resolve(e.target.files);\n",
              "    });\n",
              "  });\n",
              "\n",
              "  const cancel = document.createElement('button');\n",
              "  inputElement.parentElement.appendChild(cancel);\n",
              "  cancel.textContent = 'Cancel upload';\n",
              "  const cancelPromise = new Promise((resolve) => {\n",
              "    cancel.onclick = () => {\n",
              "      resolve(null);\n",
              "    };\n",
              "  });\n",
              "\n",
              "  // Wait for the user to pick the files.\n",
              "  const files = yield {\n",
              "    promise: Promise.race([pickedPromise, cancelPromise]),\n",
              "    response: {\n",
              "      action: 'starting',\n",
              "    }\n",
              "  };\n",
              "\n",
              "  cancel.remove();\n",
              "\n",
              "  // Disable the input element since further picks are not allowed.\n",
              "  inputElement.disabled = true;\n",
              "\n",
              "  if (!files) {\n",
              "    return {\n",
              "      response: {\n",
              "        action: 'complete',\n",
              "      }\n",
              "    };\n",
              "  }\n",
              "\n",
              "  for (const file of files) {\n",
              "    const li = document.createElement('li');\n",
              "    li.append(span(file.name, {fontWeight: 'bold'}));\n",
              "    li.append(span(\n",
              "        `(${file.type || 'n/a'}) - ${file.size} bytes, ` +\n",
              "        `last modified: ${\n",
              "            file.lastModifiedDate ? file.lastModifiedDate.toLocaleDateString() :\n",
              "                                    'n/a'} - `));\n",
              "    const percent = span('0% done');\n",
              "    li.appendChild(percent);\n",
              "\n",
              "    outputElement.appendChild(li);\n",
              "\n",
              "    const fileDataPromise = new Promise((resolve) => {\n",
              "      const reader = new FileReader();\n",
              "      reader.onload = (e) => {\n",
              "        resolve(e.target.result);\n",
              "      };\n",
              "      reader.readAsArrayBuffer(file);\n",
              "    });\n",
              "    // Wait for the data to be ready.\n",
              "    let fileData = yield {\n",
              "      promise: fileDataPromise,\n",
              "      response: {\n",
              "        action: 'continue',\n",
              "      }\n",
              "    };\n",
              "\n",
              "    // Use a chunked sending to avoid message size limits. See b/62115660.\n",
              "    let position = 0;\n",
              "    do {\n",
              "      const length = Math.min(fileData.byteLength - position, MAX_PAYLOAD_SIZE);\n",
              "      const chunk = new Uint8Array(fileData, position, length);\n",
              "      position += length;\n",
              "\n",
              "      const base64 = btoa(String.fromCharCode.apply(null, chunk));\n",
              "      yield {\n",
              "        response: {\n",
              "          action: 'append',\n",
              "          file: file.name,\n",
              "          data: base64,\n",
              "        },\n",
              "      };\n",
              "\n",
              "      let percentDone = fileData.byteLength === 0 ?\n",
              "          100 :\n",
              "          Math.round((position / fileData.byteLength) * 100);\n",
              "      percent.textContent = `${percentDone}% done`;\n",
              "\n",
              "    } while (position < fileData.byteLength);\n",
              "  }\n",
              "\n",
              "  // All done.\n",
              "  yield {\n",
              "    response: {\n",
              "      action: 'complete',\n",
              "    }\n",
              "  };\n",
              "}\n",
              "\n",
              "scope.google = scope.google || {};\n",
              "scope.google.colab = scope.google.colab || {};\n",
              "scope.google.colab._files = {\n",
              "  _uploadFiles,\n",
              "  _uploadFilesContinue,\n",
              "};\n",
              "})(self);\n",
              "</script> "
            ],
            "text/plain": [
              "<IPython.core.display.HTML object>"
            ]
          },
          "metadata": {},
          "output_type": "display_data"
        },
        {
          "ename": "TypeError",
          "evalue": "'NoneType' object is not subscriptable",
          "output_type": "error",
          "traceback": [
            "\u001b[0;31m---------------------------------------------------------------------------\u001b[0m",
            "\u001b[0;31mTypeError\u001b[0m                                 Traceback (most recent call last)",
            "\u001b[0;32m/tmp/ipython-input-1304425687.py\u001b[0m in \u001b[0;36m<cell line: 0>\u001b[0;34m()\u001b[0m\n\u001b[0;32m----> 1\u001b[0;31m \u001b[0muploaded\u001b[0m \u001b[0;34m=\u001b[0m \u001b[0mfiles\u001b[0m\u001b[0;34m.\u001b[0m\u001b[0mupload\u001b[0m\u001b[0;34m(\u001b[0m\u001b[0;34m)\u001b[0m\u001b[0;34m\u001b[0m\u001b[0;34m\u001b[0m\u001b[0m\n\u001b[0m",
            "\u001b[0;32m/usr/local/lib/python3.12/dist-packages/google/colab/files.py\u001b[0m in \u001b[0;36mupload\u001b[0;34m(target_dir)\u001b[0m\n\u001b[1;32m     70\u001b[0m   \"\"\"\n\u001b[1;32m     71\u001b[0m \u001b[0;34m\u001b[0m\u001b[0m\n\u001b[0;32m---> 72\u001b[0;31m   \u001b[0muploaded_files\u001b[0m \u001b[0;34m=\u001b[0m \u001b[0m_upload_files\u001b[0m\u001b[0;34m(\u001b[0m\u001b[0mmultiple\u001b[0m\u001b[0;34m=\u001b[0m\u001b[0;32mTrue\u001b[0m\u001b[0;34m)\u001b[0m\u001b[0;34m\u001b[0m\u001b[0;34m\u001b[0m\u001b[0m\n\u001b[0m\u001b[1;32m     73\u001b[0m   \u001b[0;31m# Mapping from original filename to filename as saved locally.\u001b[0m\u001b[0;34m\u001b[0m\u001b[0;34m\u001b[0m\u001b[0m\n\u001b[1;32m     74\u001b[0m   \u001b[0mlocal_filenames\u001b[0m \u001b[0;34m=\u001b[0m \u001b[0mdict\u001b[0m\u001b[0;34m(\u001b[0m\u001b[0;34m)\u001b[0m\u001b[0;34m\u001b[0m\u001b[0;34m\u001b[0m\u001b[0m\n",
            "\u001b[0;32m/usr/local/lib/python3.12/dist-packages/google/colab/files.py\u001b[0m in \u001b[0;36m_upload_files\u001b[0;34m(multiple)\u001b[0m\n\u001b[1;32m    169\u001b[0m   \u001b[0mfiles\u001b[0m \u001b[0;34m=\u001b[0m \u001b[0m_collections\u001b[0m\u001b[0;34m.\u001b[0m\u001b[0mdefaultdict\u001b[0m\u001b[0;34m(\u001b[0m\u001b[0mbytes\u001b[0m\u001b[0;34m)\u001b[0m\u001b[0;34m\u001b[0m\u001b[0;34m\u001b[0m\u001b[0m\n\u001b[1;32m    170\u001b[0m \u001b[0;34m\u001b[0m\u001b[0m\n\u001b[0;32m--> 171\u001b[0;31m   \u001b[0;32mwhile\u001b[0m \u001b[0mresult\u001b[0m\u001b[0;34m[\u001b[0m\u001b[0;34m'action'\u001b[0m\u001b[0;34m]\u001b[0m \u001b[0;34m!=\u001b[0m \u001b[0;34m'complete'\u001b[0m\u001b[0;34m:\u001b[0m\u001b[0;34m\u001b[0m\u001b[0;34m\u001b[0m\u001b[0m\n\u001b[0m\u001b[1;32m    172\u001b[0m     result = _output.eval_js(\n\u001b[1;32m    173\u001b[0m         'google.colab._files._uploadFilesContinue(\"{output_id}\")'.format(\n",
            "\u001b[0;31mTypeError\u001b[0m: 'NoneType' object is not subscriptable"
          ]
        }
      ],
      "source": [
        "uploaded = files.upload()"
      ]
    },
    {
      "cell_type": "code",
      "execution_count": null,
      "metadata": {
        "colab": {
          "background_save": true
        },
        "id": "xt0HUhheVWVn"
      },
      "outputs": [],
      "source": [
        "import pandas as pd"
      ]
    },
    {
      "cell_type": "code",
      "execution_count": null,
      "metadata": {
        "colab": {
          "background_save": true
        },
        "id": "k0d88WX_VYnv"
      },
      "outputs": [],
      "source": [
        "dados = pd.read_parquet(\"dia01_dados.parquet\")\n",
        "display(dados.head())"
      ]
    },
    {
      "cell_type": "code",
      "execution_count": null,
      "metadata": {
        "colab": {
          "background_save": true
        },
        "id": "3ZQtycExVYcY"
      },
      "outputs": [],
      "source": [
        "import os"
      ]
    },
    {
      "cell_type": "code",
      "execution_count": null,
      "metadata": {
        "colab": {
          "background_save": true
        },
        "id": "MdW8alv-VhCb"
      },
      "outputs": [],
      "source": [
        "pasta_drive = \"/content/drive/MyDrive/desafio_biblioteca\"\n",
        "os.makedirs(pasta_drive, exist_ok=True)"
      ]
    },
    {
      "cell_type": "code",
      "execution_count": null,
      "metadata": {
        "colab": {
          "background_save": true
        },
        "id": "xMh-Sd7EVnL1"
      },
      "outputs": [],
      "source": [
        "dados.to_parquet(f\"{pasta_drive}/dia01_dados.parquet\", index=False)\n",
        "dados.to_csv(f\"{pasta_drive}/dia01_dados.csv\", index=False, encoding=\"utf-8\")"
      ]
    },
    {
      "cell_type": "code",
      "execution_count": null,
      "metadata": {
        "colab": {
          "background_save": true
        },
        "id": "9piwj0YeVu-S"
      },
      "outputs": [],
      "source": [
        "print(\"✅ Arquivo do Dia 01 salvo no Drive!\")"
      ]
    },
    {
      "cell_type": "code",
      "execution_count": null,
      "metadata": {
        "colab": {
          "background_save": true
        },
        "id": "BXkDLPj8Vu8t"
      },
      "outputs": [],
      "source": [
        "import pandas as pd"
      ]
    },
    {
      "cell_type": "code",
      "execution_count": null,
      "metadata": {
        "colab": {
          "background_save": true
        },
        "id": "l0xaUA5UV3a9"
      },
      "outputs": [],
      "source": [
        "dados = pd.read_parquet(\"dia01_dados.parquet\")\n",
        "display(dados.head())"
      ]
    },
    {
      "cell_type": "code",
      "execution_count": null,
      "metadata": {
        "colab": {
          "background_save": true
        },
        "id": "KksRF8GGV-FE"
      },
      "outputs": [],
      "source": [
        "def classificar_cdu(valor):\n",
        "    try:\n",
        "        valor = int(str(valor)[:3])  # pega os 3 primeiros dígitos\n",
        "    except:\n",
        "        return \"Não identificado\"\n",
        "\n",
        "    if 0 <= valor <= 99:\n",
        "        return \"Generalidades. Ciência e conhecimento\"\n",
        "    elif 100 <= valor <= 199:\n",
        "        return \"Filosofia e psicologia\"\n",
        "    elif 200 <= valor <= 299:\n",
        "        return \"Religião\"\n",
        "    elif 300 <= valor <= 399:\n",
        "        return \"Ciências sociais\"\n",
        "    elif 400 <= valor <= 499:\n",
        "        return \"Classe vaga\"\n",
        "    elif 500 <= valor <= 599:\n",
        "        return \"Matemática e ciências naturais\"\n",
        "    elif 600 <= valor <= 699:\n",
        "        return \"Ciências aplicadas\"\n",
        "    elif 700 <= valor <= 799:\n",
        "        return \"Belas artes\"\n",
        "    elif 800 <= valor <= 899:\n",
        "        return \"Linguagem. Língua. Linguística\"\n",
        "    elif 900 <= valor <= 999:\n",
        "        return \"Geografia. Biografia. História\"\n",
        "    else:\n",
        "        return \"Não identificado\""
      ]
    },
    {
      "cell_type": "code",
      "execution_count": null,
      "metadata": {
        "colab": {
          "background_save": true
        },
        "id": "KnJRqZiEWFIv"
      },
      "outputs": [],
      "source": [
        "dados[\"classe_CDU\"] = dados[\"localizacao\"].apply(classificar_cdu)\n",
        "\n",
        "display(dados[[\"localizacao\", \"classe_CDU\"]].head(10))"
      ]
    },
    {
      "cell_type": "code",
      "execution_count": null,
      "metadata": {
        "colab": {
          "background_save": true
        },
        "id": "vz2z3qXpWJ6j"
      },
      "outputs": [],
      "source": [
        "if \"registro_sistema\" in dados.columns:\n",
        "    dados = dados.drop(columns=[\"registro_sistema\"])"
      ]
    },
    {
      "cell_type": "code",
      "execution_count": null,
      "metadata": {
        "colab": {
          "background_save": true
        },
        "id": "PmEujBF4WLU8"
      },
      "outputs": [],
      "source": [
        "if \"matricula_ou_siape\" in dados.columns:\n",
        "    dados[\"matricula_ou_siape\"] = dados[\"matricula_ou_siape\"].astype(str)"
      ]
    },
    {
      "cell_type": "code",
      "execution_count": null,
      "metadata": {
        "colab": {
          "background_save": true
        },
        "id": "6rTOxBjjWRIO"
      },
      "outputs": [],
      "source": [
        "print(\"Valores nulos por coluna:\")\n",
        "print(dados.isnull().sum())"
      ]
    },
    {
      "cell_type": "code",
      "execution_count": null,
      "metadata": {
        "colab": {
          "background_save": true
        },
        "id": "BZPdwUWpWUpF"
      },
      "outputs": [],
      "source": [
        "print(f\"Registros duplicados: {dados.duplicated().sum()}\")"
      ]
    },
    {
      "cell_type": "code",
      "execution_count": null,
      "metadata": {
        "colab": {
          "background_save": true
        },
        "id": "GLCxads6WXvi"
      },
      "outputs": [],
      "source": [
        "dados = dados.drop_duplicates()"
      ]
    },
    {
      "cell_type": "code",
      "execution_count": null,
      "metadata": {
        "colab": {
          "background_save": true
        },
        "id": "9PjycHAPWbby"
      },
      "outputs": [],
      "source": [
        "dados = dados.dropna(subset=[\"localizacao\", \"classe_CDU\", \"codigo_barras\"])"
      ]
    },
    {
      "cell_type": "code",
      "execution_count": null,
      "metadata": {
        "colab": {
          "background_save": true
        },
        "id": "yom5DdJbWd_j"
      },
      "outputs": [],
      "source": [
        "import os"
      ]
    },
    {
      "cell_type": "code",
      "execution_count": null,
      "metadata": {
        "colab": {
          "background_save": true
        },
        "id": "Rj1EjhjgWjeF"
      },
      "outputs": [],
      "source": [
        "pasta_drive = \"/content/drive/MyDrive/desafio_biblioteca\"\n",
        "os.makedirs(pasta_drive, exist_ok=True)"
      ]
    },
    {
      "cell_type": "code",
      "execution_count": null,
      "metadata": {
        "colab": {
          "background_save": true
        },
        "id": "jxJ_gGVqWmm_"
      },
      "outputs": [],
      "source": [
        "dados.to_parquet(f\"{pasta_drive}/dia02_dados.parquet\", index=False)\n",
        "dados.to_csv(f\"{pasta_drive}/dia02_dados.csv\", index=False, encoding=\"utf-8\")"
      ]
    },
    {
      "cell_type": "code",
      "execution_count": null,
      "metadata": {
        "colab": {
          "background_save": true
        },
        "id": "aTxfK9wIWwNC"
      },
      "outputs": [],
      "source": [
        "print(\"✅ Arquivos do Dia 02 salvos no Drive!\")"
      ]
    },
    {
      "cell_type": "code",
      "execution_count": null,
      "metadata": {
        "colab": {
          "background_save": true
        },
        "id": "H8FrfikgQkue"
      },
      "outputs": [],
      "source": [
        "import pandas as pd"
      ]
    },
    {
      "cell_type": "code",
      "execution_count": null,
      "metadata": {
        "colab": {
          "background_save": true
        },
        "id": "wVUqeqioQnPc"
      },
      "outputs": [],
      "source": [
        "import os"
      ]
    },
    {
      "cell_type": "code",
      "execution_count": null,
      "metadata": {
        "colab": {
          "background_save": true
        },
        "id": "z75zz_XKQ-bt"
      },
      "outputs": [],
      "source": [
        "caminho_pasta = \"/content/drive/MyDrive/desafio_biblioteca\"\n",
        "os.listdir(caminho_pasta)"
      ]
    },
    {
      "cell_type": "code",
      "execution_count": null,
      "metadata": {
        "colab": {
          "background_save": true
        },
        "id": "2160a553"
      },
      "outputs": [],
      "source": [
        "from google.colab import drive\n",
        "drive.mount('/content/drive')"
      ]
    },
    {
      "cell_type": "code",
      "execution_count": null,
      "metadata": {
        "colab": {
          "background_save": true
        },
        "id": "daaef22b"
      },
      "outputs": [],
      "source": [
        "caminho_pasta = \"/content/drive/MyDrive/desafio_biblioteca\"\n",
        "os.listdir(caminho_pasta)"
      ]
    },
    {
      "cell_type": "code",
      "execution_count": null,
      "metadata": {
        "colab": {
          "background_save": true
        },
        "id": "FtMNt5C9Rxx9"
      },
      "outputs": [],
      "source": [
        "arquivo_dia01 = '/content/drive/MyDrive/desafio_biblioteca/dia01_dados.csv'\n",
        "dados = pd.read_csv(arquivo_dia01)\n",
        "\n",
        "display(dados.head())"
      ]
    },
    {
      "cell_type": "code",
      "execution_count": null,
      "metadata": {
        "colab": {
          "background_save": true
        },
        "id": "ev90lHpBRxZQ"
      },
      "outputs": [],
      "source": [
        "import os\n",
        "import pandas as pd"
      ]
    },
    {
      "cell_type": "code",
      "execution_count": null,
      "metadata": {
        "colab": {
          "background_save": true
        },
        "id": "pVIlIizFSC8y"
      },
      "outputs": [],
      "source": [
        "caminho_pasta = \"/content/drive/MyDrive/desafio_biblioteca\""
      ]
    },
    {
      "cell_type": "code",
      "execution_count": null,
      "metadata": {
        "colab": {
          "background_save": true
        },
        "id": "3cKsb9HgSGUQ"
      },
      "outputs": [],
      "source": [
        "print(\"Arquivos encontrados:\", os.listdir(caminho_pasta))"
      ]
    },
    {
      "cell_type": "code",
      "execution_count": null,
      "metadata": {
        "colab": {
          "background_save": true
        },
        "id": "8vAVjp7BSGN8"
      },
      "outputs": [],
      "source": [
        "arquivo_dia01 = os.path.join(caminho_pasta, \"dia01_dados.csv\")"
      ]
    },
    {
      "cell_type": "code",
      "execution_count": null,
      "metadata": {
        "colab": {
          "background_save": true
        },
        "id": "qZisHVscSJPU"
      },
      "outputs": [],
      "source": [
        "dados = pd.read_csv(arquivo_dia01)"
      ]
    },
    {
      "cell_type": "code",
      "execution_count": null,
      "metadata": {
        "colab": {
          "background_save": true
        },
        "id": "KkPBfauDSNnu"
      },
      "outputs": [],
      "source": [
        "display(dados.head())"
      ]
    },
    {
      "cell_type": "code",
      "execution_count": null,
      "metadata": {
        "colab": {
          "background_save": true
        },
        "id": "XhHCXXqKSX-1"
      },
      "outputs": [],
      "source": [
        "print(dados.info())"
      ]
    },
    {
      "cell_type": "code",
      "execution_count": null,
      "metadata": {
        "colab": {
          "background_save": true
        },
        "id": "VFdB5KzESaaU"
      },
      "outputs": [],
      "source": [
        "print(dados.describe())"
      ]
    },
    {
      "cell_type": "code",
      "execution_count": null,
      "metadata": {
        "colab": {
          "background_save": true
        },
        "id": "kTPGFcy0See1"
      },
      "outputs": [],
      "source": [
        "print(dados.isnull().sum())"
      ]
    },
    {
      "cell_type": "code",
      "execution_count": null,
      "metadata": {
        "colab": {
          "background_save": true
        },
        "id": "s27YysEHSj7_"
      },
      "outputs": [],
      "source": [
        "dados.columns = [col.strip().lower().replace(\" \", \"_\") for col in dados.columns]"
      ]
    },
    {
      "cell_type": "code",
      "execution_count": null,
      "metadata": {
        "colab": {
          "background_save": true
        },
        "id": "Lr_NldGlSnoZ"
      },
      "outputs": [],
      "source": [
        "print(dados.head())"
      ]
    },
    {
      "cell_type": "code",
      "execution_count": null,
      "metadata": {
        "colab": {
          "background_save": true
        },
        "id": "Gi1b32CCS-QB"
      },
      "outputs": [],
      "source": [
        "print(dados.columns.tolist())"
      ]
    },
    {
      "cell_type": "code",
      "execution_count": null,
      "metadata": {
        "colab": {
          "background_save": true
        },
        "id": "CeXey7UGTEvV"
      },
      "outputs": [],
      "source": [
        "dados['tipo_vinculo_usuario'].value_counts()"
      ]
    },
    {
      "cell_type": "code",
      "execution_count": null,
      "metadata": {
        "colab": {
          "background_save": true
        },
        "id": "eUMP6epBTItF"
      },
      "outputs": [],
      "source": [
        "dados['biblioteca'].value_counts()"
      ]
    },
    {
      "cell_type": "code",
      "execution_count": null,
      "metadata": {
        "colab": {
          "background_save": true
        },
        "id": "eXClXnL-TK1Z"
      },
      "outputs": [],
      "source": [
        "dados['colecao'].value_counts().head(10)"
      ]
    },
    {
      "cell_type": "code",
      "execution_count": null,
      "metadata": {
        "colab": {
          "background_save": true
        },
        "id": "qMW5lqKJTOmU"
      },
      "outputs": [],
      "source": [
        "dados['data_emprestimo'] = pd.to_datetime(dados['data_emprestimo'])\n",
        "dados['data_devolucao'] = pd.to_datetime(dados['data_devolucao'])\n",
        "\n",
        "dados['dias_emprestado'] = (dados['data_devolucao'] - dados['data_emprestimo']).dt.days"
      ]
    },
    {
      "cell_type": "code",
      "execution_count": null,
      "metadata": {
        "colab": {
          "background_save": true
        },
        "id": "4IeVyjG4TSLP"
      },
      "outputs": [],
      "source": [
        "dados.groupby('tipo_vinculo_usuario')['dias_emprestado'].mean()"
      ]
    },
    {
      "cell_type": "code",
      "execution_count": null,
      "metadata": {
        "colab": {
          "background_save": true
        },
        "id": "HmtUWyj3Tng8"
      },
      "outputs": [],
      "source": [
        "dados['tipo_vinculo_usuario'].value_counts()\n",
        "dados['status_material'].value_counts()\n",
        "dados['biblioteca'].value_counts()"
      ]
    },
    {
      "cell_type": "code",
      "execution_count": null,
      "metadata": {
        "colab": {
          "background_save": true
        },
        "id": "DKlrxVl9TpSt"
      },
      "outputs": [],
      "source": [
        "top_exemplares = dados['codigo_barras'].value_counts().head(10)\n",
        "top_exemplares"
      ]
    },
    {
      "cell_type": "code",
      "execution_count": null,
      "metadata": {
        "colab": {
          "background_save": true
        },
        "id": "6gE2yL9TTu-J"
      },
      "outputs": [],
      "source": [
        "top_usuarios = dados['matricula_ou_siape'].value_counts().head(10)\n",
        "top_usuarios"
      ]
    },
    {
      "cell_type": "code",
      "execution_count": null,
      "metadata": {
        "colab": {
          "background_save": true
        },
        "id": "0j1aPTiNTxkI"
      },
      "outputs": [],
      "source": [
        "dados['data_emprestimo'] = pd.to_datetime(dados['data_emprestimo'])\n",
        "dados['data_devolucao'] = pd.to_datetime(dados['data_devolucao'])\n",
        "\n",
        "dados['tempo_emprestimo'] = (dados['data_devolucao'] - dados['data_emprestimo']).dt.days\n",
        "dados['tempo_emprestimo'].describe()"
      ]
    },
    {
      "cell_type": "code",
      "execution_count": null,
      "metadata": {
        "colab": {
          "background_save": true
        },
        "id": "88lIvUN5T4cI"
      },
      "outputs": [],
      "source": [
        "emprestimos_por_mes = dados['data_emprestimo'].dt.to_period('M').value_counts().sort_index()\n",
        "emprestimos_por_mes.plot(kind='bar', figsize=(12,4))"
      ]
    },
    {
      "cell_type": "code",
      "execution_count": null,
      "metadata": {
        "colab": {
          "background_save": true
        },
        "id": "543_e0ddUDKo"
      },
      "outputs": [],
      "source": [
        "emprestimos_por_ano = dados['data_emprestimo'].dt.to_period('Y').value_counts().sort_index()\n",
        "emprestimos_por_ano.plot(kind='bar', figsize=(10, 6))"
      ]
    },
    {
      "cell_type": "code",
      "execution_count": null,
      "metadata": {
        "colab": {
          "background_save": true
        },
        "id": "-hGeSEA7UYnJ"
      },
      "outputs": [],
      "source": [
        "print(\"✅ Dia 02 finalizado com sucesso!\")\n",
        "print(\"- Estatísticas descritivas calculadas\")\n",
        "print(\"- Top exemplares e usuários levantados\")\n",
        "print(\"- Duração média de empréstimos analisada\")\n",
        "print(\"- Distribuição mensal de empréstimos gerada\")"
      ]
    },
    {
      "cell_type": "code",
      "execution_count": null,
      "metadata": {
        "colab": {
          "background_save": true
        },
        "id": "7p0Cn9aSVXRR"
      },
      "outputs": [],
      "source": [
        "import os\n",
        "\n",
        "caminho_pasta = \"/content/drive/MyDrive/desafio_biblioteca\"\n",
        "print(\"Arquivos na pasta:\")\n",
        "print(os.listdir(caminho_pasta))"
      ]
    },
    {
      "cell_type": "code",
      "execution_count": null,
      "metadata": {
        "colab": {
          "background_save": true
        },
        "id": "mkS6jIzUVeMn"
      },
      "outputs": [],
      "source": [
        "import pandas as pd"
      ]
    },
    {
      "cell_type": "code",
      "execution_count": null,
      "metadata": {
        "colab": {
          "background_save": true
        },
        "id": "K4J22sedVfSA"
      },
      "outputs": [],
      "source": [
        "arquivo_dia02 = os.path.join(caminho_pasta, \"dia02_dados.csv\")\n",
        "dados.to_csv(arquivo_dia02, index=False)\n",
        "print(f\"Arquivo do Dia 02 salvo em: {arquivo_dia02}\")"
      ]
    },
    {
      "cell_type": "code",
      "execution_count": null,
      "metadata": {
        "colab": {
          "background_save": true
        },
        "id": "9oJ0cFeBV4hF"
      },
      "outputs": [],
      "source": [
        "import os\n",
        "\n",
        "caminho_pasta = \"/content/drive/MyDrive/desafio_biblioteca\"\n",
        "print(\"Arquivos na pasta:\")\n",
        "print(os.listdir(caminho_pasta))"
      ]
    }
  ],
  "metadata": {
    "colab": {
      "provenance": [],
      "authorship_tag": "ABX9TyOVdxGg1KZmxbs9pThv9CjZ",
      "include_colab_link": true
    },
    "kernelspec": {
      "display_name": "Python 3",
      "name": "python3"
    },
    "language_info": {
      "name": "python"
    }
  },
  "nbformat": 4,
  "nbformat_minor": 0
}