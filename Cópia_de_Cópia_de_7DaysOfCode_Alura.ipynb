{
  "cells": [
    {
      "cell_type": "markdown",
      "metadata": {
        "id": "view-in-github",
        "colab_type": "text"
      },
      "source": [
        "<a href=\"https://colab.research.google.com/github/alinejbarbosa-web/7DaysOfCode/blob/main/C%C3%B3pia_de_C%C3%B3pia_de_7DaysOfCode_Alura.ipynb\" target=\"_parent\"><img src=\"https://colab.research.google.com/assets/colab-badge.svg\" alt=\"Open In Colab\"/></a>"
      ]
    },
    {
      "cell_type": "code",
      "execution_count": null,
      "metadata": {
        "id": "MuVj7RNDqKXV"
      },
      "outputs": [],
      "source": [
        "import pandas as pd"
      ]
    },
    {
      "cell_type": "code",
      "execution_count": null,
      "metadata": {
        "id": "vJsiP3zctRW3"
      },
      "outputs": [],
      "source": [
        "url_acervo = \"https://dados.ufrn.br/dataset/7f7d844f-9e7d-41e3-b8f3-765e9cf4af0a/resource/5af6ef16-69a5-4ff5-a87d-4f33f33f7a25/download/exemplares.csv\""
      ]
    },
    {
      "cell_type": "code",
      "execution_count": null,
      "metadata": {
        "id": "ZFikIkQZ82Dm"
      },
      "outputs": [],
      "source": [
        "url_acervo = \"https://raw.githubusercontent.com/FranciscoFoz/7_Days_of_Code_Alura-Python-Pandas/main/Dia_1-Importando_dados/Datasets/dados_emprestimos/exemplares.csv\""
      ]
    },
    {
      "cell_type": "code",
      "execution_count": null,
      "metadata": {
        "id": "aHGsXAvE8_lP"
      },
      "outputs": [],
      "source": [
        "import pandas as pd"
      ]
    },
    {
      "cell_type": "code",
      "execution_count": null,
      "metadata": {
        "id": "QEuZMKcZ-AGM"
      },
      "outputs": [],
      "source": [
        "url_acervo = \"PAR1\u0015\u0004\u0015���\u0001\u0015��BL\u0015�\u0010\u0015\u0004\u0012\""
      ]
    },
    {
      "cell_type": "code",
      "execution_count": null,
      "metadata": {
        "id": "7_fFJQWe-PVC"
      },
      "outputs": [],
      "source": [
        "import pandas as pd"
      ]
    },
    {
      "cell_type": "code",
      "execution_count": null,
      "metadata": {
        "id": "dgpeGwgR-TR-"
      },
      "outputs": [],
      "source": [
        "url_acervo = \"https://raw.githubusercontent.com/FranciscoFoz/7_Days_of_Code_Alura-Python-Pandas/main/Dia_1-Importando_dados/Datasets/dados_emprestimos/exemplares.csv\""
      ]
    },
    {
      "cell_type": "code",
      "execution_count": null,
      "metadata": {
        "id": "0iCH-vFM-r8C"
      },
      "outputs": [],
      "source": [
        "from google.colab import files"
      ]
    },
    {
      "cell_type": "code",
      "execution_count": null,
      "metadata": {
        "colab": {
          "base_uri": "https://localhost:8080/",
          "height": 73
        },
        "id": "6FL0p9bJ_8cI",
        "outputId": "3b38a81d-6e2e-4447-c53a-dc3437e84fd8"
      },
      "outputs": [
        {
          "data": {
            "text/html": [
              "\n",
              "     <input type=\"file\" id=\"files-e87685c3-af9a-436d-a3ee-f8fc6540d04e\" name=\"files[]\" multiple disabled\n",
              "        style=\"border:none\" />\n",
              "     <output id=\"result-e87685c3-af9a-436d-a3ee-f8fc6540d04e\">\n",
              "      Upload widget is only available when the cell has been executed in the\n",
              "      current browser session. Please rerun this cell to enable.\n",
              "      </output>\n",
              "      <script>// Copyright 2017 Google LLC\n",
              "//\n",
              "// Licensed under the Apache License, Version 2.0 (the \"License\");\n",
              "// you may not use this file except in compliance with the License.\n",
              "// You may obtain a copy of the License at\n",
              "//\n",
              "//      http://www.apache.org/licenses/LICENSE-2.0\n",
              "//\n",
              "// Unless required by applicable law or agreed to in writing, software\n",
              "// distributed under the License is distributed on an \"AS IS\" BASIS,\n",
              "// WITHOUT WARRANTIES OR CONDITIONS OF ANY KIND, either express or implied.\n",
              "// See the License for the specific language governing permissions and\n",
              "// limitations under the License.\n",
              "\n",
              "/**\n",
              " * @fileoverview Helpers for google.colab Python module.\n",
              " */\n",
              "(function(scope) {\n",
              "function span(text, styleAttributes = {}) {\n",
              "  const element = document.createElement('span');\n",
              "  element.textContent = text;\n",
              "  for (const key of Object.keys(styleAttributes)) {\n",
              "    element.style[key] = styleAttributes[key];\n",
              "  }\n",
              "  return element;\n",
              "}\n",
              "\n",
              "// Max number of bytes which will be uploaded at a time.\n",
              "const MAX_PAYLOAD_SIZE = 100 * 1024;\n",
              "\n",
              "function _uploadFiles(inputId, outputId) {\n",
              "  const steps = uploadFilesStep(inputId, outputId);\n",
              "  const outputElement = document.getElementById(outputId);\n",
              "  // Cache steps on the outputElement to make it available for the next call\n",
              "  // to uploadFilesContinue from Python.\n",
              "  outputElement.steps = steps;\n",
              "\n",
              "  return _uploadFilesContinue(outputId);\n",
              "}\n",
              "\n",
              "// This is roughly an async generator (not supported in the browser yet),\n",
              "// where there are multiple asynchronous steps and the Python side is going\n",
              "// to poll for completion of each step.\n",
              "// This uses a Promise to block the python side on completion of each step,\n",
              "// then passes the result of the previous step as the input to the next step.\n",
              "function _uploadFilesContinue(outputId) {\n",
              "  const outputElement = document.getElementById(outputId);\n",
              "  const steps = outputElement.steps;\n",
              "\n",
              "  const next = steps.next(outputElement.lastPromiseValue);\n",
              "  return Promise.resolve(next.value.promise).then((value) => {\n",
              "    // Cache the last promise value to make it available to the next\n",
              "    // step of the generator.\n",
              "    outputElement.lastPromiseValue = value;\n",
              "    return next.value.response;\n",
              "  });\n",
              "}\n",
              "\n",
              "/**\n",
              " * Generator function which is called between each async step of the upload\n",
              " * process.\n",
              " * @param {string} inputId Element ID of the input file picker element.\n",
              " * @param {string} outputId Element ID of the output display.\n",
              " * @return {!Iterable<!Object>} Iterable of next steps.\n",
              " */\n",
              "function* uploadFilesStep(inputId, outputId) {\n",
              "  const inputElement = document.getElementById(inputId);\n",
              "  inputElement.disabled = false;\n",
              "\n",
              "  const outputElement = document.getElementById(outputId);\n",
              "  outputElement.innerHTML = '';\n",
              "\n",
              "  const pickedPromise = new Promise((resolve) => {\n",
              "    inputElement.addEventListener('change', (e) => {\n",
              "      resolve(e.target.files);\n",
              "    });\n",
              "  });\n",
              "\n",
              "  const cancel = document.createElement('button');\n",
              "  inputElement.parentElement.appendChild(cancel);\n",
              "  cancel.textContent = 'Cancel upload';\n",
              "  const cancelPromise = new Promise((resolve) => {\n",
              "    cancel.onclick = () => {\n",
              "      resolve(null);\n",
              "    };\n",
              "  });\n",
              "\n",
              "  // Wait for the user to pick the files.\n",
              "  const files = yield {\n",
              "    promise: Promise.race([pickedPromise, cancelPromise]),\n",
              "    response: {\n",
              "      action: 'starting',\n",
              "    }\n",
              "  };\n",
              "\n",
              "  cancel.remove();\n",
              "\n",
              "  // Disable the input element since further picks are not allowed.\n",
              "  inputElement.disabled = true;\n",
              "\n",
              "  if (!files) {\n",
              "    return {\n",
              "      response: {\n",
              "        action: 'complete',\n",
              "      }\n",
              "    };\n",
              "  }\n",
              "\n",
              "  for (const file of files) {\n",
              "    const li = document.createElement('li');\n",
              "    li.append(span(file.name, {fontWeight: 'bold'}));\n",
              "    li.append(span(\n",
              "        `(${file.type || 'n/a'}) - ${file.size} bytes, ` +\n",
              "        `last modified: ${\n",
              "            file.lastModifiedDate ? file.lastModifiedDate.toLocaleDateString() :\n",
              "                                    'n/a'} - `));\n",
              "    const percent = span('0% done');\n",
              "    li.appendChild(percent);\n",
              "\n",
              "    outputElement.appendChild(li);\n",
              "\n",
              "    const fileDataPromise = new Promise((resolve) => {\n",
              "      const reader = new FileReader();\n",
              "      reader.onload = (e) => {\n",
              "        resolve(e.target.result);\n",
              "      };\n",
              "      reader.readAsArrayBuffer(file);\n",
              "    });\n",
              "    // Wait for the data to be ready.\n",
              "    let fileData = yield {\n",
              "      promise: fileDataPromise,\n",
              "      response: {\n",
              "        action: 'continue',\n",
              "      }\n",
              "    };\n",
              "\n",
              "    // Use a chunked sending to avoid message size limits. See b/62115660.\n",
              "    let position = 0;\n",
              "    do {\n",
              "      const length = Math.min(fileData.byteLength - position, MAX_PAYLOAD_SIZE);\n",
              "      const chunk = new Uint8Array(fileData, position, length);\n",
              "      position += length;\n",
              "\n",
              "      const base64 = btoa(String.fromCharCode.apply(null, chunk));\n",
              "      yield {\n",
              "        response: {\n",
              "          action: 'append',\n",
              "          file: file.name,\n",
              "          data: base64,\n",
              "        },\n",
              "      };\n",
              "\n",
              "      let percentDone = fileData.byteLength === 0 ?\n",
              "          100 :\n",
              "          Math.round((position / fileData.byteLength) * 100);\n",
              "      percent.textContent = `${percentDone}% done`;\n",
              "\n",
              "    } while (position < fileData.byteLength);\n",
              "  }\n",
              "\n",
              "  // All done.\n",
              "  yield {\n",
              "    response: {\n",
              "      action: 'complete',\n",
              "    }\n",
              "  };\n",
              "}\n",
              "\n",
              "scope.google = scope.google || {};\n",
              "scope.google.colab = scope.google.colab || {};\n",
              "scope.google.colab._files = {\n",
              "  _uploadFiles,\n",
              "  _uploadFilesContinue,\n",
              "};\n",
              "})(self);\n",
              "</script> "
            ],
            "text/plain": [
              "<IPython.core.display.HTML object>"
            ]
          },
          "metadata": {},
          "output_type": "display_data"
        },
        {
          "name": "stdout",
          "output_type": "stream",
          "text": [
            "Saving dados_exemplares (4).parquet to dados_exemplares (4).parquet\n"
          ]
        }
      ],
      "source": [
        "uploaded = files.upload()"
      ]
    },
    {
      "cell_type": "code",
      "execution_count": null,
      "metadata": {
        "id": "IHPngVF0B4GW"
      },
      "outputs": [],
      "source": [
        "import pandas as pd"
      ]
    },
    {
      "cell_type": "code",
      "execution_count": null,
      "metadata": {
        "id": "WuVXO3RDB7e5"
      },
      "outputs": [],
      "source": [
        "from google.colab import files"
      ]
    },
    {
      "cell_type": "code",
      "execution_count": null,
      "metadata": {
        "colab": {
          "base_uri": "https://localhost:8080/",
          "height": 73
        },
        "id": "8EDhymFlCAA5",
        "outputId": "094831d0-49a5-44e9-feec-0f15591f35b1"
      },
      "outputs": [
        {
          "data": {
            "text/html": [
              "\n",
              "     <input type=\"file\" id=\"files-408e07b9-0960-4ead-be7e-0e6a91140448\" name=\"files[]\" multiple disabled\n",
              "        style=\"border:none\" />\n",
              "     <output id=\"result-408e07b9-0960-4ead-be7e-0e6a91140448\">\n",
              "      Upload widget is only available when the cell has been executed in the\n",
              "      current browser session. Please rerun this cell to enable.\n",
              "      </output>\n",
              "      <script>// Copyright 2017 Google LLC\n",
              "//\n",
              "// Licensed under the Apache License, Version 2.0 (the \"License\");\n",
              "// you may not use this file except in compliance with the License.\n",
              "// You may obtain a copy of the License at\n",
              "//\n",
              "//      http://www.apache.org/licenses/LICENSE-2.0\n",
              "//\n",
              "// Unless required by applicable law or agreed to in writing, software\n",
              "// distributed under the License is distributed on an \"AS IS\" BASIS,\n",
              "// WITHOUT WARRANTIES OR CONDITIONS OF ANY KIND, either express or implied.\n",
              "// See the License for the specific language governing permissions and\n",
              "// limitations under the License.\n",
              "\n",
              "/**\n",
              " * @fileoverview Helpers for google.colab Python module.\n",
              " */\n",
              "(function(scope) {\n",
              "function span(text, styleAttributes = {}) {\n",
              "  const element = document.createElement('span');\n",
              "  element.textContent = text;\n",
              "  for (const key of Object.keys(styleAttributes)) {\n",
              "    element.style[key] = styleAttributes[key];\n",
              "  }\n",
              "  return element;\n",
              "}\n",
              "\n",
              "// Max number of bytes which will be uploaded at a time.\n",
              "const MAX_PAYLOAD_SIZE = 100 * 1024;\n",
              "\n",
              "function _uploadFiles(inputId, outputId) {\n",
              "  const steps = uploadFilesStep(inputId, outputId);\n",
              "  const outputElement = document.getElementById(outputId);\n",
              "  // Cache steps on the outputElement to make it available for the next call\n",
              "  // to uploadFilesContinue from Python.\n",
              "  outputElement.steps = steps;\n",
              "\n",
              "  return _uploadFilesContinue(outputId);\n",
              "}\n",
              "\n",
              "// This is roughly an async generator (not supported in the browser yet),\n",
              "// where there are multiple asynchronous steps and the Python side is going\n",
              "// to poll for completion of each step.\n",
              "// This uses a Promise to block the python side on completion of each step,\n",
              "// then passes the result of the previous step as the input to the next step.\n",
              "function _uploadFilesContinue(outputId) {\n",
              "  const outputElement = document.getElementById(outputId);\n",
              "  const steps = outputElement.steps;\n",
              "\n",
              "  const next = steps.next(outputElement.lastPromiseValue);\n",
              "  return Promise.resolve(next.value.promise).then((value) => {\n",
              "    // Cache the last promise value to make it available to the next\n",
              "    // step of the generator.\n",
              "    outputElement.lastPromiseValue = value;\n",
              "    return next.value.response;\n",
              "  });\n",
              "}\n",
              "\n",
              "/**\n",
              " * Generator function which is called between each async step of the upload\n",
              " * process.\n",
              " * @param {string} inputId Element ID of the input file picker element.\n",
              " * @param {string} outputId Element ID of the output display.\n",
              " * @return {!Iterable<!Object>} Iterable of next steps.\n",
              " */\n",
              "function* uploadFilesStep(inputId, outputId) {\n",
              "  const inputElement = document.getElementById(inputId);\n",
              "  inputElement.disabled = false;\n",
              "\n",
              "  const outputElement = document.getElementById(outputId);\n",
              "  outputElement.innerHTML = '';\n",
              "\n",
              "  const pickedPromise = new Promise((resolve) => {\n",
              "    inputElement.addEventListener('change', (e) => {\n",
              "      resolve(e.target.files);\n",
              "    });\n",
              "  });\n",
              "\n",
              "  const cancel = document.createElement('button');\n",
              "  inputElement.parentElement.appendChild(cancel);\n",
              "  cancel.textContent = 'Cancel upload';\n",
              "  const cancelPromise = new Promise((resolve) => {\n",
              "    cancel.onclick = () => {\n",
              "      resolve(null);\n",
              "    };\n",
              "  });\n",
              "\n",
              "  // Wait for the user to pick the files.\n",
              "  const files = yield {\n",
              "    promise: Promise.race([pickedPromise, cancelPromise]),\n",
              "    response: {\n",
              "      action: 'starting',\n",
              "    }\n",
              "  };\n",
              "\n",
              "  cancel.remove();\n",
              "\n",
              "  // Disable the input element since further picks are not allowed.\n",
              "  inputElement.disabled = true;\n",
              "\n",
              "  if (!files) {\n",
              "    return {\n",
              "      response: {\n",
              "        action: 'complete',\n",
              "      }\n",
              "    };\n",
              "  }\n",
              "\n",
              "  for (const file of files) {\n",
              "    const li = document.createElement('li');\n",
              "    li.append(span(file.name, {fontWeight: 'bold'}));\n",
              "    li.append(span(\n",
              "        `(${file.type || 'n/a'}) - ${file.size} bytes, ` +\n",
              "        `last modified: ${\n",
              "            file.lastModifiedDate ? file.lastModifiedDate.toLocaleDateString() :\n",
              "                                    'n/a'} - `));\n",
              "    const percent = span('0% done');\n",
              "    li.appendChild(percent);\n",
              "\n",
              "    outputElement.appendChild(li);\n",
              "\n",
              "    const fileDataPromise = new Promise((resolve) => {\n",
              "      const reader = new FileReader();\n",
              "      reader.onload = (e) => {\n",
              "        resolve(e.target.result);\n",
              "      };\n",
              "      reader.readAsArrayBuffer(file);\n",
              "    });\n",
              "    // Wait for the data to be ready.\n",
              "    let fileData = yield {\n",
              "      promise: fileDataPromise,\n",
              "      response: {\n",
              "        action: 'continue',\n",
              "      }\n",
              "    };\n",
              "\n",
              "    // Use a chunked sending to avoid message size limits. See b/62115660.\n",
              "    let position = 0;\n",
              "    do {\n",
              "      const length = Math.min(fileData.byteLength - position, MAX_PAYLOAD_SIZE);\n",
              "      const chunk = new Uint8Array(fileData, position, length);\n",
              "      position += length;\n",
              "\n",
              "      const base64 = btoa(String.fromCharCode.apply(null, chunk));\n",
              "      yield {\n",
              "        response: {\n",
              "          action: 'append',\n",
              "          file: file.name,\n",
              "          data: base64,\n",
              "        },\n",
              "      };\n",
              "\n",
              "      let percentDone = fileData.byteLength === 0 ?\n",
              "          100 :\n",
              "          Math.round((position / fileData.byteLength) * 100);\n",
              "      percent.textContent = `${percentDone}% done`;\n",
              "\n",
              "    } while (position < fileData.byteLength);\n",
              "  }\n",
              "\n",
              "  // All done.\n",
              "  yield {\n",
              "    response: {\n",
              "      action: 'complete',\n",
              "    }\n",
              "  };\n",
              "}\n",
              "\n",
              "scope.google = scope.google || {};\n",
              "scope.google.colab = scope.google.colab || {};\n",
              "scope.google.colab._files = {\n",
              "  _uploadFiles,\n",
              "  _uploadFilesContinue,\n",
              "};\n",
              "})(self);\n",
              "</script> "
            ],
            "text/plain": [
              "<IPython.core.display.HTML object>"
            ]
          },
          "metadata": {},
          "output_type": "display_data"
        },
        {
          "name": "stdout",
          "output_type": "stream",
          "text": [
            "Saving dados_exemplares.parquet to dados_exemplares (1).parquet\n"
          ]
        }
      ],
      "source": [
        "uploaded = files.upload()"
      ]
    },
    {
      "cell_type": "code",
      "execution_count": null,
      "metadata": {
        "colab": {
          "base_uri": "https://localhost:8080/"
        },
        "id": "P9dBSqovCRWu",
        "outputId": "eaaf9771-ebe7-4da8-edc2-bfd5a30629d0"
      },
      "outputs": [
        {
          "name": "stdout",
          "output_type": "stream",
          "text": [
            "Arquivos disponíveis no Colab:\n",
            "'dados_exemplares (1).parquet'\t dados_exemplares.parquet\n",
            "'dados_exemplares (4).parquet'\t sample_data\n"
          ]
        }
      ],
      "source": [
        "print(\"Arquivos disponíveis no Colab:\")\n",
        "!ls"
      ]
    },
    {
      "cell_type": "code",
      "execution_count": null,
      "metadata": {
        "id": "YDmpNiGdCxLP"
      },
      "outputs": [],
      "source": [
        "import pandas as pd"
      ]
    },
    {
      "cell_type": "code",
      "execution_count": null,
      "metadata": {
        "id": "1FYiIMsUCy9u"
      },
      "outputs": [],
      "source": [
        "acervo = pd.read_parquet(\"dados_exemplares.parquet\")"
      ]
    },
    {
      "cell_type": "code",
      "execution_count": null,
      "metadata": {
        "colab": {
          "base_uri": "https://localhost:8080/",
          "height": 324
        },
        "id": "HeqQzwP1C3jN",
        "outputId": "a7c42888-ccbe-4c98-d8df-034c33ea42ba"
      },
      "outputs": [
        {
          "data": {
            "application/vnd.google.colaboratory.intrinsic+json": {
              "type": "dataframe",
              "variable_name": "acervo"
            },
            "text/html": [
              "\n",
              "  <div id=\"df-5dfc5fdf-72d6-4d95-b003-871bd3853e33\" class=\"colab-df-container\">\n",
              "    <div>\n",
              "<style scoped>\n",
              "    .dataframe tbody tr th:only-of-type {\n",
              "        vertical-align: middle;\n",
              "    }\n",
              "\n",
              "    .dataframe tbody tr th {\n",
              "        vertical-align: top;\n",
              "    }\n",
              "\n",
              "    .dataframe thead th {\n",
              "        text-align: right;\n",
              "    }\n",
              "</style>\n",
              "<table border=\"1\" class=\"dataframe\">\n",
              "  <thead>\n",
              "    <tr style=\"text-align: right;\">\n",
              "      <th></th>\n",
              "      <th>id_exemplar</th>\n",
              "      <th>codigo_barras</th>\n",
              "      <th>colecao</th>\n",
              "      <th>biblioteca</th>\n",
              "      <th>status_material</th>\n",
              "      <th>localizacao</th>\n",
              "      <th>registro_sistema</th>\n",
              "    </tr>\n",
              "    <tr>\n",
              "      <th>index</th>\n",
              "      <th></th>\n",
              "      <th></th>\n",
              "      <th></th>\n",
              "      <th></th>\n",
              "      <th></th>\n",
              "      <th></th>\n",
              "      <th></th>\n",
              "    </tr>\n",
              "  </thead>\n",
              "  <tbody>\n",
              "    <tr>\n",
              "      <th>0</th>\n",
              "      <td>5</td>\n",
              "      <td>L000003</td>\n",
              "      <td>Acervo Circulante</td>\n",
              "      <td>Biblioteca Central Zila Mamede</td>\n",
              "      <td>REGULAR</td>\n",
              "      <td>694</td>\n",
              "      <td>1</td>\n",
              "    </tr>\n",
              "    <tr>\n",
              "      <th>1</th>\n",
              "      <td>4</td>\n",
              "      <td>L000002</td>\n",
              "      <td>Acervo Circulante</td>\n",
              "      <td>Biblioteca Central Zila Mamede</td>\n",
              "      <td>REGULAR</td>\n",
              "      <td>688</td>\n",
              "      <td>1</td>\n",
              "    </tr>\n",
              "    <tr>\n",
              "      <th>2</th>\n",
              "      <td>3</td>\n",
              "      <td>L000001</td>\n",
              "      <td>Acervo Circulante</td>\n",
              "      <td>Biblioteca Central Zila Mamede</td>\n",
              "      <td>ESPECIAL</td>\n",
              "      <td>638</td>\n",
              "      <td>1</td>\n",
              "    </tr>\n",
              "    <tr>\n",
              "      <th>3</th>\n",
              "      <td>7</td>\n",
              "      <td>L000114</td>\n",
              "      <td>Acervo Circulante</td>\n",
              "      <td>Biblioteca Central Zila Mamede</td>\n",
              "      <td>REGULAR</td>\n",
              "      <td>616</td>\n",
              "      <td>5</td>\n",
              "    </tr>\n",
              "    <tr>\n",
              "      <th>5</th>\n",
              "      <td>10</td>\n",
              "      <td>L000041</td>\n",
              "      <td>Acervo Circulante</td>\n",
              "      <td>Biblioteca Central Zila Mamede</td>\n",
              "      <td>ESPECIAL</td>\n",
              "      <td>657</td>\n",
              "      <td>15</td>\n",
              "    </tr>\n",
              "  </tbody>\n",
              "</table>\n",
              "</div>\n",
              "    <div class=\"colab-df-buttons\">\n",
              "\n",
              "  <div class=\"colab-df-container\">\n",
              "    <button class=\"colab-df-convert\" onclick=\"convertToInteractive('df-5dfc5fdf-72d6-4d95-b003-871bd3853e33')\"\n",
              "            title=\"Convert this dataframe to an interactive table.\"\n",
              "            style=\"display:none;\">\n",
              "\n",
              "  <svg xmlns=\"http://www.w3.org/2000/svg\" height=\"24px\" viewBox=\"0 -960 960 960\">\n",
              "    <path d=\"M120-120v-720h720v720H120Zm60-500h600v-160H180v160Zm220 220h160v-160H400v160Zm0 220h160v-160H400v160ZM180-400h160v-160H180v160Zm440 0h160v-160H620v160ZM180-180h160v-160H180v160Zm440 0h160v-160H620v160Z\"/>\n",
              "  </svg>\n",
              "    </button>\n",
              "\n",
              "  <style>\n",
              "    .colab-df-container {\n",
              "      display:flex;\n",
              "      gap: 12px;\n",
              "    }\n",
              "\n",
              "    .colab-df-convert {\n",
              "      background-color: #E8F0FE;\n",
              "      border: none;\n",
              "      border-radius: 50%;\n",
              "      cursor: pointer;\n",
              "      display: none;\n",
              "      fill: #1967D2;\n",
              "      height: 32px;\n",
              "      padding: 0 0 0 0;\n",
              "      width: 32px;\n",
              "    }\n",
              "\n",
              "    .colab-df-convert:hover {\n",
              "      background-color: #E2EBFA;\n",
              "      box-shadow: 0px 1px 2px rgba(60, 64, 67, 0.3), 0px 1px 3px 1px rgba(60, 64, 67, 0.15);\n",
              "      fill: #174EA6;\n",
              "    }\n",
              "\n",
              "    .colab-df-buttons div {\n",
              "      margin-bottom: 4px;\n",
              "    }\n",
              "\n",
              "    [theme=dark] .colab-df-convert {\n",
              "      background-color: #3B4455;\n",
              "      fill: #D2E3FC;\n",
              "    }\n",
              "\n",
              "    [theme=dark] .colab-df-convert:hover {\n",
              "      background-color: #434B5C;\n",
              "      box-shadow: 0px 1px 3px 1px rgba(0, 0, 0, 0.15);\n",
              "      filter: drop-shadow(0px 1px 2px rgba(0, 0, 0, 0.3));\n",
              "      fill: #FFFFFF;\n",
              "    }\n",
              "  </style>\n",
              "\n",
              "    <script>\n",
              "      const buttonEl =\n",
              "        document.querySelector('#df-5dfc5fdf-72d6-4d95-b003-871bd3853e33 button.colab-df-convert');\n",
              "      buttonEl.style.display =\n",
              "        google.colab.kernel.accessAllowed ? 'block' : 'none';\n",
              "\n",
              "      async function convertToInteractive(key) {\n",
              "        const element = document.querySelector('#df-5dfc5fdf-72d6-4d95-b003-871bd3853e33');\n",
              "        const dataTable =\n",
              "          await google.colab.kernel.invokeFunction('convertToInteractive',\n",
              "                                                    [key], {});\n",
              "        if (!dataTable) return;\n",
              "\n",
              "        const docLinkHtml = 'Like what you see? Visit the ' +\n",
              "          '<a target=\"_blank\" href=https://colab.research.google.com/notebooks/data_table.ipynb>data table notebook</a>'\n",
              "          + ' to learn more about interactive tables.';\n",
              "        element.innerHTML = '';\n",
              "        dataTable['output_type'] = 'display_data';\n",
              "        await google.colab.output.renderOutput(dataTable, element);\n",
              "        const docLink = document.createElement('div');\n",
              "        docLink.innerHTML = docLinkHtml;\n",
              "        element.appendChild(docLink);\n",
              "      }\n",
              "    </script>\n",
              "  </div>\n",
              "\n",
              "\n",
              "    <div id=\"df-bd551b40-69ff-4dee-81eb-70340d0c37c3\">\n",
              "      <button class=\"colab-df-quickchart\" onclick=\"quickchart('df-bd551b40-69ff-4dee-81eb-70340d0c37c3')\"\n",
              "                title=\"Suggest charts\"\n",
              "                style=\"display:none;\">\n",
              "\n",
              "<svg xmlns=\"http://www.w3.org/2000/svg\" height=\"24px\"viewBox=\"0 0 24 24\"\n",
              "     width=\"24px\">\n",
              "    <g>\n",
              "        <path d=\"M19 3H5c-1.1 0-2 .9-2 2v14c0 1.1.9 2 2 2h14c1.1 0 2-.9 2-2V5c0-1.1-.9-2-2-2zM9 17H7v-7h2v7zm4 0h-2V7h2v10zm4 0h-2v-4h2v4z\"/>\n",
              "    </g>\n",
              "</svg>\n",
              "      </button>\n",
              "\n",
              "<style>\n",
              "  .colab-df-quickchart {\n",
              "      --bg-color: #E8F0FE;\n",
              "      --fill-color: #1967D2;\n",
              "      --hover-bg-color: #E2EBFA;\n",
              "      --hover-fill-color: #174EA6;\n",
              "      --disabled-fill-color: #AAA;\n",
              "      --disabled-bg-color: #DDD;\n",
              "  }\n",
              "\n",
              "  [theme=dark] .colab-df-quickchart {\n",
              "      --bg-color: #3B4455;\n",
              "      --fill-color: #D2E3FC;\n",
              "      --hover-bg-color: #434B5C;\n",
              "      --hover-fill-color: #FFFFFF;\n",
              "      --disabled-bg-color: #3B4455;\n",
              "      --disabled-fill-color: #666;\n",
              "  }\n",
              "\n",
              "  .colab-df-quickchart {\n",
              "    background-color: var(--bg-color);\n",
              "    border: none;\n",
              "    border-radius: 50%;\n",
              "    cursor: pointer;\n",
              "    display: none;\n",
              "    fill: var(--fill-color);\n",
              "    height: 32px;\n",
              "    padding: 0;\n",
              "    width: 32px;\n",
              "  }\n",
              "\n",
              "  .colab-df-quickchart:hover {\n",
              "    background-color: var(--hover-bg-color);\n",
              "    box-shadow: 0 1px 2px rgba(60, 64, 67, 0.3), 0 1px 3px 1px rgba(60, 64, 67, 0.15);\n",
              "    fill: var(--button-hover-fill-color);\n",
              "  }\n",
              "\n",
              "  .colab-df-quickchart-complete:disabled,\n",
              "  .colab-df-quickchart-complete:disabled:hover {\n",
              "    background-color: var(--disabled-bg-color);\n",
              "    fill: var(--disabled-fill-color);\n",
              "    box-shadow: none;\n",
              "  }\n",
              "\n",
              "  .colab-df-spinner {\n",
              "    border: 2px solid var(--fill-color);\n",
              "    border-color: transparent;\n",
              "    border-bottom-color: var(--fill-color);\n",
              "    animation:\n",
              "      spin 1s steps(1) infinite;\n",
              "  }\n",
              "\n",
              "  @keyframes spin {\n",
              "    0% {\n",
              "      border-color: transparent;\n",
              "      border-bottom-color: var(--fill-color);\n",
              "      border-left-color: var(--fill-color);\n",
              "    }\n",
              "    20% {\n",
              "      border-color: transparent;\n",
              "      border-left-color: var(--fill-color);\n",
              "      border-top-color: var(--fill-color);\n",
              "    }\n",
              "    30% {\n",
              "      border-color: transparent;\n",
              "      border-left-color: var(--fill-color);\n",
              "      border-top-color: var(--fill-color);\n",
              "      border-right-color: var(--fill-color);\n",
              "    }\n",
              "    40% {\n",
              "      border-color: transparent;\n",
              "      border-right-color: var(--fill-color);\n",
              "      border-top-color: var(--fill-color);\n",
              "    }\n",
              "    60% {\n",
              "      border-color: transparent;\n",
              "      border-right-color: var(--fill-color);\n",
              "    }\n",
              "    80% {\n",
              "      border-color: transparent;\n",
              "      border-right-color: var(--fill-color);\n",
              "      border-bottom-color: var(--fill-color);\n",
              "    }\n",
              "    90% {\n",
              "      border-color: transparent;\n",
              "      border-bottom-color: var(--fill-color);\n",
              "    }\n",
              "  }\n",
              "</style>\n",
              "\n",
              "      <script>\n",
              "        async function quickchart(key) {\n",
              "          const quickchartButtonEl =\n",
              "            document.querySelector('#' + key + ' button');\n",
              "          quickchartButtonEl.disabled = true;  // To prevent multiple clicks.\n",
              "          quickchartButtonEl.classList.add('colab-df-spinner');\n",
              "          try {\n",
              "            const charts = await google.colab.kernel.invokeFunction(\n",
              "                'suggestCharts', [key], {});\n",
              "          } catch (error) {\n",
              "            console.error('Error during call to suggestCharts:', error);\n",
              "          }\n",
              "          quickchartButtonEl.classList.remove('colab-df-spinner');\n",
              "          quickchartButtonEl.classList.add('colab-df-quickchart-complete');\n",
              "        }\n",
              "        (() => {\n",
              "          let quickchartButtonEl =\n",
              "            document.querySelector('#df-bd551b40-69ff-4dee-81eb-70340d0c37c3 button');\n",
              "          quickchartButtonEl.style.display =\n",
              "            google.colab.kernel.accessAllowed ? 'block' : 'none';\n",
              "        })();\n",
              "      </script>\n",
              "    </div>\n",
              "\n",
              "    </div>\n",
              "  </div>\n"
            ],
            "text/plain": [
              "       id_exemplar codigo_barras            colecao  \\\n",
              "index                                                 \n",
              "0                5       L000003  Acervo Circulante   \n",
              "1                4       L000002  Acervo Circulante   \n",
              "2                3       L000001  Acervo Circulante   \n",
              "3                7       L000114  Acervo Circulante   \n",
              "5               10       L000041  Acervo Circulante   \n",
              "\n",
              "                           biblioteca status_material  localizacao  \\\n",
              "index                                                                \n",
              "0      Biblioteca Central Zila Mamede         REGULAR          694   \n",
              "1      Biblioteca Central Zila Mamede         REGULAR          688   \n",
              "2      Biblioteca Central Zila Mamede        ESPECIAL          638   \n",
              "3      Biblioteca Central Zila Mamede         REGULAR          616   \n",
              "5      Biblioteca Central Zila Mamede        ESPECIAL          657   \n",
              "\n",
              "       registro_sistema  \n",
              "index                    \n",
              "0                     1  \n",
              "1                     1  \n",
              "2                     1  \n",
              "3                     5  \n",
              "5                    15  "
            ]
          },
          "execution_count": 46,
          "metadata": {},
          "output_type": "execute_result"
        }
      ],
      "source": [
        "acervo.head()"
      ]
    },
    {
      "cell_type": "code",
      "execution_count": null,
      "metadata": {
        "id": "fBTHhGBDDbl-"
      },
      "outputs": [],
      "source": [
        "from google.colab import files"
      ]
    },
    {
      "cell_type": "code",
      "execution_count": null,
      "metadata": {
        "colab": {
          "base_uri": "https://localhost:8080/",
          "height": 73
        },
        "id": "89311w7UDc2f",
        "outputId": "1bffee40-8dc0-431e-821a-900f445914e5"
      },
      "outputs": [
        {
          "data": {
            "text/html": [
              "\n",
              "     <input type=\"file\" id=\"files-cfcb8b09-8755-40f7-aa94-14806d626767\" name=\"files[]\" multiple disabled\n",
              "        style=\"border:none\" />\n",
              "     <output id=\"result-cfcb8b09-8755-40f7-aa94-14806d626767\">\n",
              "      Upload widget is only available when the cell has been executed in the\n",
              "      current browser session. Please rerun this cell to enable.\n",
              "      </output>\n",
              "      <script>// Copyright 2017 Google LLC\n",
              "//\n",
              "// Licensed under the Apache License, Version 2.0 (the \"License\");\n",
              "// you may not use this file except in compliance with the License.\n",
              "// You may obtain a copy of the License at\n",
              "//\n",
              "//      http://www.apache.org/licenses/LICENSE-2.0\n",
              "//\n",
              "// Unless required by applicable law or agreed to in writing, software\n",
              "// distributed under the License is distributed on an \"AS IS\" BASIS,\n",
              "// WITHOUT WARRANTIES OR CONDITIONS OF ANY KIND, either express or implied.\n",
              "// See the License for the specific language governing permissions and\n",
              "// limitations under the License.\n",
              "\n",
              "/**\n",
              " * @fileoverview Helpers for google.colab Python module.\n",
              " */\n",
              "(function(scope) {\n",
              "function span(text, styleAttributes = {}) {\n",
              "  const element = document.createElement('span');\n",
              "  element.textContent = text;\n",
              "  for (const key of Object.keys(styleAttributes)) {\n",
              "    element.style[key] = styleAttributes[key];\n",
              "  }\n",
              "  return element;\n",
              "}\n",
              "\n",
              "// Max number of bytes which will be uploaded at a time.\n",
              "const MAX_PAYLOAD_SIZE = 100 * 1024;\n",
              "\n",
              "function _uploadFiles(inputId, outputId) {\n",
              "  const steps = uploadFilesStep(inputId, outputId);\n",
              "  const outputElement = document.getElementById(outputId);\n",
              "  // Cache steps on the outputElement to make it available for the next call\n",
              "  // to uploadFilesContinue from Python.\n",
              "  outputElement.steps = steps;\n",
              "\n",
              "  return _uploadFilesContinue(outputId);\n",
              "}\n",
              "\n",
              "// This is roughly an async generator (not supported in the browser yet),\n",
              "// where there are multiple asynchronous steps and the Python side is going\n",
              "// to poll for completion of each step.\n",
              "// This uses a Promise to block the python side on completion of each step,\n",
              "// then passes the result of the previous step as the input to the next step.\n",
              "function _uploadFilesContinue(outputId) {\n",
              "  const outputElement = document.getElementById(outputId);\n",
              "  const steps = outputElement.steps;\n",
              "\n",
              "  const next = steps.next(outputElement.lastPromiseValue);\n",
              "  return Promise.resolve(next.value.promise).then((value) => {\n",
              "    // Cache the last promise value to make it available to the next\n",
              "    // step of the generator.\n",
              "    outputElement.lastPromiseValue = value;\n",
              "    return next.value.response;\n",
              "  });\n",
              "}\n",
              "\n",
              "/**\n",
              " * Generator function which is called between each async step of the upload\n",
              " * process.\n",
              " * @param {string} inputId Element ID of the input file picker element.\n",
              " * @param {string} outputId Element ID of the output display.\n",
              " * @return {!Iterable<!Object>} Iterable of next steps.\n",
              " */\n",
              "function* uploadFilesStep(inputId, outputId) {\n",
              "  const inputElement = document.getElementById(inputId);\n",
              "  inputElement.disabled = false;\n",
              "\n",
              "  const outputElement = document.getElementById(outputId);\n",
              "  outputElement.innerHTML = '';\n",
              "\n",
              "  const pickedPromise = new Promise((resolve) => {\n",
              "    inputElement.addEventListener('change', (e) => {\n",
              "      resolve(e.target.files);\n",
              "    });\n",
              "  });\n",
              "\n",
              "  const cancel = document.createElement('button');\n",
              "  inputElement.parentElement.appendChild(cancel);\n",
              "  cancel.textContent = 'Cancel upload';\n",
              "  const cancelPromise = new Promise((resolve) => {\n",
              "    cancel.onclick = () => {\n",
              "      resolve(null);\n",
              "    };\n",
              "  });\n",
              "\n",
              "  // Wait for the user to pick the files.\n",
              "  const files = yield {\n",
              "    promise: Promise.race([pickedPromise, cancelPromise]),\n",
              "    response: {\n",
              "      action: 'starting',\n",
              "    }\n",
              "  };\n",
              "\n",
              "  cancel.remove();\n",
              "\n",
              "  // Disable the input element since further picks are not allowed.\n",
              "  inputElement.disabled = true;\n",
              "\n",
              "  if (!files) {\n",
              "    return {\n",
              "      response: {\n",
              "        action: 'complete',\n",
              "      }\n",
              "    };\n",
              "  }\n",
              "\n",
              "  for (const file of files) {\n",
              "    const li = document.createElement('li');\n",
              "    li.append(span(file.name, {fontWeight: 'bold'}));\n",
              "    li.append(span(\n",
              "        `(${file.type || 'n/a'}) - ${file.size} bytes, ` +\n",
              "        `last modified: ${\n",
              "            file.lastModifiedDate ? file.lastModifiedDate.toLocaleDateString() :\n",
              "                                    'n/a'} - `));\n",
              "    const percent = span('0% done');\n",
              "    li.appendChild(percent);\n",
              "\n",
              "    outputElement.appendChild(li);\n",
              "\n",
              "    const fileDataPromise = new Promise((resolve) => {\n",
              "      const reader = new FileReader();\n",
              "      reader.onload = (e) => {\n",
              "        resolve(e.target.result);\n",
              "      };\n",
              "      reader.readAsArrayBuffer(file);\n",
              "    });\n",
              "    // Wait for the data to be ready.\n",
              "    let fileData = yield {\n",
              "      promise: fileDataPromise,\n",
              "      response: {\n",
              "        action: 'continue',\n",
              "      }\n",
              "    };\n",
              "\n",
              "    // Use a chunked sending to avoid message size limits. See b/62115660.\n",
              "    let position = 0;\n",
              "    do {\n",
              "      const length = Math.min(fileData.byteLength - position, MAX_PAYLOAD_SIZE);\n",
              "      const chunk = new Uint8Array(fileData, position, length);\n",
              "      position += length;\n",
              "\n",
              "      const base64 = btoa(String.fromCharCode.apply(null, chunk));\n",
              "      yield {\n",
              "        response: {\n",
              "          action: 'append',\n",
              "          file: file.name,\n",
              "          data: base64,\n",
              "        },\n",
              "      };\n",
              "\n",
              "      let percentDone = fileData.byteLength === 0 ?\n",
              "          100 :\n",
              "          Math.round((position / fileData.byteLength) * 100);\n",
              "      percent.textContent = `${percentDone}% done`;\n",
              "\n",
              "    } while (position < fileData.byteLength);\n",
              "  }\n",
              "\n",
              "  // All done.\n",
              "  yield {\n",
              "    response: {\n",
              "      action: 'complete',\n",
              "    }\n",
              "  };\n",
              "}\n",
              "\n",
              "scope.google = scope.google || {};\n",
              "scope.google.colab = scope.google.colab || {};\n",
              "scope.google.colab._files = {\n",
              "  _uploadFiles,\n",
              "  _uploadFilesContinue,\n",
              "};\n",
              "})(self);\n",
              "</script> "
            ],
            "text/plain": [
              "<IPython.core.display.HTML object>"
            ]
          },
          "metadata": {},
          "output_type": "display_data"
        },
        {
          "name": "stdout",
          "output_type": "stream",
          "text": [
            "Saving Dia_1_Importacao_de_dados.ipynb to Dia_1_Importacao_de_dados.ipynb\n"
          ]
        }
      ],
      "source": [
        "uploaded = files.upload()"
      ]
    },
    {
      "cell_type": "code",
      "execution_count": null,
      "metadata": {
        "id": "Aug4zx5NDs2O"
      },
      "outputs": [],
      "source": [
        "import pandas as pd"
      ]
    },
    {
      "cell_type": "code",
      "execution_count": null,
      "metadata": {
        "id": "TczcYMScE5DU"
      },
      "outputs": [],
      "source": [
        "url = \"https://raw.githubusercontent.com/FranciscoFoz/7_Days_of_Code_Alura-Python-Pandas/refs/heads/main/Dia_1-Importando_dados/Dia_1_Importacao_de_dados.ipynb\""
      ]
    },
    {
      "cell_type": "code",
      "execution_count": null,
      "metadata": {
        "id": "tVJBT1SuGR3Z"
      },
      "outputs": [],
      "source": [
        "import pandas as pd"
      ]
    },
    {
      "cell_type": "code",
      "execution_count": null,
      "metadata": {
        "id": "V2litC1rG2Tx"
      },
      "outputs": [],
      "source": [
        "from google.colab import files"
      ]
    },
    {
      "cell_type": "code",
      "execution_count": null,
      "metadata": {
        "id": "_q9KGuE9G7of"
      },
      "outputs": [],
      "source": [
        "acervo = pd.read_parquet(\"dados_exemplares.parquet\")"
      ]
    },
    {
      "cell_type": "code",
      "execution_count": null,
      "metadata": {
        "colab": {
          "base_uri": "https://localhost:8080/"
        },
        "id": "jAULzY9WG-6a",
        "outputId": "d33a0750-5019-4b13-9c92-a232dbbae4fa"
      },
      "outputs": [
        {
          "name": "stdout",
          "output_type": "stream",
          "text": [
            "Acervo carregado:\n"
          ]
        }
      ],
      "source": [
        "print(\"Acervo carregado:\")"
      ]
    },
    {
      "cell_type": "code",
      "execution_count": null,
      "metadata": {
        "colab": {
          "base_uri": "https://localhost:8080/"
        },
        "id": "hoNLqkrRHCFG",
        "outputId": "0ff26fd4-3d1e-4602-ead6-018c34fc0179"
      },
      "outputs": [
        {
          "name": "stdout",
          "output_type": "stream",
          "text": [
            "       id_exemplar codigo_barras            colecao  \\\n",
            "index                                                 \n",
            "0                5       L000003  Acervo Circulante   \n",
            "1                4       L000002  Acervo Circulante   \n",
            "2                3       L000001  Acervo Circulante   \n",
            "3                7       L000114  Acervo Circulante   \n",
            "5               10       L000041  Acervo Circulante   \n",
            "\n",
            "                           biblioteca status_material  localizacao  \\\n",
            "index                                                                \n",
            "0      Biblioteca Central Zila Mamede         REGULAR          694   \n",
            "1      Biblioteca Central Zila Mamede         REGULAR          688   \n",
            "2      Biblioteca Central Zila Mamede        ESPECIAL          638   \n",
            "3      Biblioteca Central Zila Mamede         REGULAR          616   \n",
            "5      Biblioteca Central Zila Mamede        ESPECIAL          657   \n",
            "\n",
            "       registro_sistema  \n",
            "index                    \n",
            "0                     1  \n",
            "1                     1  \n",
            "2                     1  \n",
            "3                     5  \n",
            "5                    15  \n"
          ]
        }
      ],
      "source": [
        "print(acervo.head())"
      ]
    },
    {
      "cell_type": "code",
      "execution_count": null,
      "metadata": {
        "id": "z2vi0m1gHvCX"
      },
      "outputs": [],
      "source": [
        "import pandas as pd"
      ]
    },
    {
      "cell_type": "code",
      "execution_count": null,
      "metadata": {
        "id": "ezaYgXFVHxeg"
      },
      "outputs": [],
      "source": [
        "base_url = \"https://github.com/FranciscoFoz/7_Days_of_Code_Alura-Python-Pandas/raw/48684f508c0c9ad1d51975c72091b160dee66db4/Dia_1-Importando_dados/Datasets/dados_emprestimos/\"\n"
      ]
    },
    {
      "cell_type": "code",
      "execution_count": null,
      "metadata": {
        "id": "Bxkh6FylH4hz"
      },
      "outputs": [],
      "source": [
        "anos = list(range(2010, 2021))"
      ]
    },
    {
      "cell_type": "code",
      "execution_count": null,
      "metadata": {
        "id": "D3_jQiAVH5hv"
      },
      "outputs": [],
      "source": [
        "emprestimos_dfs = []"
      ]
    },
    {
      "cell_type": "code",
      "execution_count": null,
      "metadata": {
        "id": "DHdff04tJF-M"
      },
      "outputs": [],
      "source": [
        "from google.colab import files"
      ]
    },
    {
      "cell_type": "code",
      "execution_count": null,
      "metadata": {
        "colab": {
          "base_uri": "https://localhost:8080/",
          "height": 767
        },
        "id": "YBIvOpRxJG83",
        "outputId": "ccc9b059-2cf0-4123-f218-a26a3a12f7e1"
      },
      "outputs": [
        {
          "data": {
            "text/html": [
              "\n",
              "     <input type=\"file\" id=\"files-5411336b-58c9-47b6-97a0-9ee8ba8dd359\" name=\"files[]\" multiple disabled\n",
              "        style=\"border:none\" />\n",
              "     <output id=\"result-5411336b-58c9-47b6-97a0-9ee8ba8dd359\">\n",
              "      Upload widget is only available when the cell has been executed in the\n",
              "      current browser session. Please rerun this cell to enable.\n",
              "      </output>\n",
              "      <script>// Copyright 2017 Google LLC\n",
              "//\n",
              "// Licensed under the Apache License, Version 2.0 (the \"License\");\n",
              "// you may not use this file except in compliance with the License.\n",
              "// You may obtain a copy of the License at\n",
              "//\n",
              "//      http://www.apache.org/licenses/LICENSE-2.0\n",
              "//\n",
              "// Unless required by applicable law or agreed to in writing, software\n",
              "// distributed under the License is distributed on an \"AS IS\" BASIS,\n",
              "// WITHOUT WARRANTIES OR CONDITIONS OF ANY KIND, either express or implied.\n",
              "// See the License for the specific language governing permissions and\n",
              "// limitations under the License.\n",
              "\n",
              "/**\n",
              " * @fileoverview Helpers for google.colab Python module.\n",
              " */\n",
              "(function(scope) {\n",
              "function span(text, styleAttributes = {}) {\n",
              "  const element = document.createElement('span');\n",
              "  element.textContent = text;\n",
              "  for (const key of Object.keys(styleAttributes)) {\n",
              "    element.style[key] = styleAttributes[key];\n",
              "  }\n",
              "  return element;\n",
              "}\n",
              "\n",
              "// Max number of bytes which will be uploaded at a time.\n",
              "const MAX_PAYLOAD_SIZE = 100 * 1024;\n",
              "\n",
              "function _uploadFiles(inputId, outputId) {\n",
              "  const steps = uploadFilesStep(inputId, outputId);\n",
              "  const outputElement = document.getElementById(outputId);\n",
              "  // Cache steps on the outputElement to make it available for the next call\n",
              "  // to uploadFilesContinue from Python.\n",
              "  outputElement.steps = steps;\n",
              "\n",
              "  return _uploadFilesContinue(outputId);\n",
              "}\n",
              "\n",
              "// This is roughly an async generator (not supported in the browser yet),\n",
              "// where there are multiple asynchronous steps and the Python side is going\n",
              "// to poll for completion of each step.\n",
              "// This uses a Promise to block the python side on completion of each step,\n",
              "// then passes the result of the previous step as the input to the next step.\n",
              "function _uploadFilesContinue(outputId) {\n",
              "  const outputElement = document.getElementById(outputId);\n",
              "  const steps = outputElement.steps;\n",
              "\n",
              "  const next = steps.next(outputElement.lastPromiseValue);\n",
              "  return Promise.resolve(next.value.promise).then((value) => {\n",
              "    // Cache the last promise value to make it available to the next\n",
              "    // step of the generator.\n",
              "    outputElement.lastPromiseValue = value;\n",
              "    return next.value.response;\n",
              "  });\n",
              "}\n",
              "\n",
              "/**\n",
              " * Generator function which is called between each async step of the upload\n",
              " * process.\n",
              " * @param {string} inputId Element ID of the input file picker element.\n",
              " * @param {string} outputId Element ID of the output display.\n",
              " * @return {!Iterable<!Object>} Iterable of next steps.\n",
              " */\n",
              "function* uploadFilesStep(inputId, outputId) {\n",
              "  const inputElement = document.getElementById(inputId);\n",
              "  inputElement.disabled = false;\n",
              "\n",
              "  const outputElement = document.getElementById(outputId);\n",
              "  outputElement.innerHTML = '';\n",
              "\n",
              "  const pickedPromise = new Promise((resolve) => {\n",
              "    inputElement.addEventListener('change', (e) => {\n",
              "      resolve(e.target.files);\n",
              "    });\n",
              "  });\n",
              "\n",
              "  const cancel = document.createElement('button');\n",
              "  inputElement.parentElement.appendChild(cancel);\n",
              "  cancel.textContent = 'Cancel upload';\n",
              "  const cancelPromise = new Promise((resolve) => {\n",
              "    cancel.onclick = () => {\n",
              "      resolve(null);\n",
              "    };\n",
              "  });\n",
              "\n",
              "  // Wait for the user to pick the files.\n",
              "  const files = yield {\n",
              "    promise: Promise.race([pickedPromise, cancelPromise]),\n",
              "    response: {\n",
              "      action: 'starting',\n",
              "    }\n",
              "  };\n",
              "\n",
              "  cancel.remove();\n",
              "\n",
              "  // Disable the input element since further picks are not allowed.\n",
              "  inputElement.disabled = true;\n",
              "\n",
              "  if (!files) {\n",
              "    return {\n",
              "      response: {\n",
              "        action: 'complete',\n",
              "      }\n",
              "    };\n",
              "  }\n",
              "\n",
              "  for (const file of files) {\n",
              "    const li = document.createElement('li');\n",
              "    li.append(span(file.name, {fontWeight: 'bold'}));\n",
              "    li.append(span(\n",
              "        `(${file.type || 'n/a'}) - ${file.size} bytes, ` +\n",
              "        `last modified: ${\n",
              "            file.lastModifiedDate ? file.lastModifiedDate.toLocaleDateString() :\n",
              "                                    'n/a'} - `));\n",
              "    const percent = span('0% done');\n",
              "    li.appendChild(percent);\n",
              "\n",
              "    outputElement.appendChild(li);\n",
              "\n",
              "    const fileDataPromise = new Promise((resolve) => {\n",
              "      const reader = new FileReader();\n",
              "      reader.onload = (e) => {\n",
              "        resolve(e.target.result);\n",
              "      };\n",
              "      reader.readAsArrayBuffer(file);\n",
              "    });\n",
              "    // Wait for the data to be ready.\n",
              "    let fileData = yield {\n",
              "      promise: fileDataPromise,\n",
              "      response: {\n",
              "        action: 'continue',\n",
              "      }\n",
              "    };\n",
              "\n",
              "    // Use a chunked sending to avoid message size limits. See b/62115660.\n",
              "    let position = 0;\n",
              "    do {\n",
              "      const length = Math.min(fileData.byteLength - position, MAX_PAYLOAD_SIZE);\n",
              "      const chunk = new Uint8Array(fileData, position, length);\n",
              "      position += length;\n",
              "\n",
              "      const base64 = btoa(String.fromCharCode.apply(null, chunk));\n",
              "      yield {\n",
              "        response: {\n",
              "          action: 'append',\n",
              "          file: file.name,\n",
              "          data: base64,\n",
              "        },\n",
              "      };\n",
              "\n",
              "      let percentDone = fileData.byteLength === 0 ?\n",
              "          100 :\n",
              "          Math.round((position / fileData.byteLength) * 100);\n",
              "      percent.textContent = `${percentDone}% done`;\n",
              "\n",
              "    } while (position < fileData.byteLength);\n",
              "  }\n",
              "\n",
              "  // All done.\n",
              "  yield {\n",
              "    response: {\n",
              "      action: 'complete',\n",
              "    }\n",
              "  };\n",
              "}\n",
              "\n",
              "scope.google = scope.google || {};\n",
              "scope.google.colab = scope.google.colab || {};\n",
              "scope.google.colab._files = {\n",
              "  _uploadFiles,\n",
              "  _uploadFilesContinue,\n",
              "};\n",
              "})(self);\n",
              "</script> "
            ],
            "text/plain": [
              "<IPython.core.display.HTML object>"
            ]
          },
          "metadata": {},
          "output_type": "display_data"
        },
        {
          "name": "stdout",
          "output_type": "stream",
          "text": [
            "Saving emprestimos-20201.csv to emprestimos-20201.csv\n",
            "Saving emprestimos-20192.csv to emprestimos-20192.csv\n",
            "Saving emprestimos-20191.csv to emprestimos-20191.csv\n",
            "Saving emprestimos-20182.csv to emprestimos-20182.csv\n",
            "Saving emprestimos-20181.csv to emprestimos-20181.csv\n",
            "Saving emprestimos-20172.csv to emprestimos-20172.csv\n",
            "Saving emprestimos-20171.csv to emprestimos-20171.csv\n",
            "Saving emprestimos-20162.csv to emprestimos-20162.csv\n",
            "Saving emprestimos-20161.csv to emprestimos-20161.csv\n",
            "Saving emprestimos-20152.csv to emprestimos-20152.csv\n",
            "Saving emprestimos-20151.csv to emprestimos-20151.csv\n",
            "Saving emprestimos-20142.csv to emprestimos-20142.csv\n",
            "Saving emprestimos-20141.csv to emprestimos-20141.csv\n",
            "Saving emprestimos-20132.csv to emprestimos-20132.csv\n",
            "Saving emprestimos-20131.csv to emprestimos-20131.csv\n",
            "Saving emprestimos-20122.csv to emprestimos-20122.csv\n",
            "Saving emprestimos-20121.csv to emprestimos-20121.csv\n",
            "Saving emprestimos-20112.csv to emprestimos-20112.csv\n",
            "Saving emprestimos-20111.csv to emprestimos-20111.csv\n",
            "Saving emprestimos-20102.csv to emprestimos-20102.csv\n",
            "Saving emprestimos-20101.csv to emprestimos-20101.csv\n"
          ]
        }
      ],
      "source": [
        "uploaded = files.upload()"
      ]
    },
    {
      "cell_type": "code",
      "execution_count": null,
      "metadata": {
        "id": "C9HZCgjvQlGC"
      },
      "outputs": [],
      "source": [
        "import pandas as pd"
      ]
    },
    {
      "cell_type": "code",
      "execution_count": null,
      "metadata": {
        "id": "ycpqt-6dQp4S"
      },
      "outputs": [],
      "source": [
        "emprestimos_dfs = []"
      ]
    },
    {
      "cell_type": "code",
      "execution_count": null,
      "metadata": {
        "colab": {
          "base_uri": "https://localhost:8080/"
        },
        "id": "fmhxH4kzQq9y",
        "outputId": "79c35cb7-6cd7-4a32-e286-3e00343c559f"
      },
      "outputs": [
        {
          "name": "stdout",
          "output_type": "stream",
          "text": [
            "Lendo emprestimos-20201.csv...\n",
            "Lendo emprestimos-20192.csv...\n",
            "Lendo emprestimos-20191.csv...\n",
            "Lendo emprestimos-20182.csv...\n",
            "Lendo emprestimos-20181.csv...\n",
            "Lendo emprestimos-20172.csv...\n",
            "Lendo emprestimos-20171.csv...\n",
            "Lendo emprestimos-20162.csv...\n",
            "Lendo emprestimos-20161.csv...\n",
            "Lendo emprestimos-20152.csv...\n",
            "Lendo emprestimos-20151.csv...\n",
            "Lendo emprestimos-20142.csv...\n",
            "Lendo emprestimos-20141.csv...\n",
            "Lendo emprestimos-20132.csv...\n",
            "Lendo emprestimos-20131.csv...\n",
            "Lendo emprestimos-20122.csv...\n",
            "Lendo emprestimos-20121.csv...\n",
            "Lendo emprestimos-20112.csv...\n",
            "Lendo emprestimos-20111.csv...\n",
            "Lendo emprestimos-20102.csv...\n",
            "Lendo emprestimos-20101.csv...\n"
          ]
        }
      ],
      "source": [
        "for nome_arquivo in uploaded.keys():\n",
        "    print(f\"Lendo {nome_arquivo}...\")\n",
        "    df = pd.read_csv(nome_arquivo, sep=\";\", encoding=\"ISO-8859-1\", low_memory=False)\n",
        "    emprestimos_dfs.append(df)"
      ]
    },
    {
      "cell_type": "code",
      "execution_count": null,
      "metadata": {
        "colab": {
          "base_uri": "https://localhost:8080/",
          "height": 244
        },
        "id": "tuvR6M5IQ04j",
        "outputId": "ed920711-133b-45a4-d80d-4323e332c02b"
      },
      "outputs": [
        {
          "name": "stdout",
          "output_type": "stream",
          "text": [
            "Total de registros de empréstimos: 2258018\n"
          ]
        },
        {
          "data": {
            "application/vnd.google.colaboratory.intrinsic+json": {
              "type": "dataframe",
              "variable_name": "emprestimos"
            },
            "text/html": [
              "\n",
              "  <div id=\"df-fe1afc63-9ee9-4674-950e-46d70e790d1f\" class=\"colab-df-container\">\n",
              "    <div>\n",
              "<style scoped>\n",
              "    .dataframe tbody tr th:only-of-type {\n",
              "        vertical-align: middle;\n",
              "    }\n",
              "\n",
              "    .dataframe tbody tr th {\n",
              "        vertical-align: top;\n",
              "    }\n",
              "\n",
              "    .dataframe thead th {\n",
              "        text-align: right;\n",
              "    }\n",
              "</style>\n",
              "<table border=\"1\" class=\"dataframe\">\n",
              "  <thead>\n",
              "    <tr style=\"text-align: right;\">\n",
              "      <th></th>\n",
              "      <th>id_emprestimo,codigo_barras,data_renovacao,data_emprestimo,data_devolucao,matricula_ou_siape,tipo_vinculo_usuario</th>\n",
              "    </tr>\n",
              "  </thead>\n",
              "  <tbody>\n",
              "    <tr>\n",
              "      <th>0</th>\n",
              "      <td>2962509,2007005628,,2020/01/02 08:17:30.290000...</td>\n",
              "    </tr>\n",
              "    <tr>\n",
              "      <th>1</th>\n",
              "      <td>2962510,L202802,,2020/01/02 08:17:30.391000000...</td>\n",
              "    </tr>\n",
              "    <tr>\n",
              "      <th>2</th>\n",
              "      <td>2962511,2012008328,,2020/01/02 08:17:30.436000...</td>\n",
              "    </tr>\n",
              "    <tr>\n",
              "      <th>3</th>\n",
              "      <td>2962512,2012055016,2020/01/17 09:56:18.3800000...</td>\n",
              "    </tr>\n",
              "    <tr>\n",
              "      <th>4</th>\n",
              "      <td>2962513,L197391,2020/01/17 23:50:18.862000000,...</td>\n",
              "    </tr>\n",
              "  </tbody>\n",
              "</table>\n",
              "</div>\n",
              "    <div class=\"colab-df-buttons\">\n",
              "\n",
              "  <div class=\"colab-df-container\">\n",
              "    <button class=\"colab-df-convert\" onclick=\"convertToInteractive('df-fe1afc63-9ee9-4674-950e-46d70e790d1f')\"\n",
              "            title=\"Convert this dataframe to an interactive table.\"\n",
              "            style=\"display:none;\">\n",
              "\n",
              "  <svg xmlns=\"http://www.w3.org/2000/svg\" height=\"24px\" viewBox=\"0 -960 960 960\">\n",
              "    <path d=\"M120-120v-720h720v720H120Zm60-500h600v-160H180v160Zm220 220h160v-160H400v160Zm0 220h160v-160H400v160ZM180-400h160v-160H180v160Zm440 0h160v-160H620v160ZM180-180h160v-160H180v160Zm440 0h160v-160H620v160Z\"/>\n",
              "  </svg>\n",
              "    </button>\n",
              "\n",
              "  <style>\n",
              "    .colab-df-container {\n",
              "      display:flex;\n",
              "      gap: 12px;\n",
              "    }\n",
              "\n",
              "    .colab-df-convert {\n",
              "      background-color: #E8F0FE;\n",
              "      border: none;\n",
              "      border-radius: 50%;\n",
              "      cursor: pointer;\n",
              "      display: none;\n",
              "      fill: #1967D2;\n",
              "      height: 32px;\n",
              "      padding: 0 0 0 0;\n",
              "      width: 32px;\n",
              "    }\n",
              "\n",
              "    .colab-df-convert:hover {\n",
              "      background-color: #E2EBFA;\n",
              "      box-shadow: 0px 1px 2px rgba(60, 64, 67, 0.3), 0px 1px 3px 1px rgba(60, 64, 67, 0.15);\n",
              "      fill: #174EA6;\n",
              "    }\n",
              "\n",
              "    .colab-df-buttons div {\n",
              "      margin-bottom: 4px;\n",
              "    }\n",
              "\n",
              "    [theme=dark] .colab-df-convert {\n",
              "      background-color: #3B4455;\n",
              "      fill: #D2E3FC;\n",
              "    }\n",
              "\n",
              "    [theme=dark] .colab-df-convert:hover {\n",
              "      background-color: #434B5C;\n",
              "      box-shadow: 0px 1px 3px 1px rgba(0, 0, 0, 0.15);\n",
              "      filter: drop-shadow(0px 1px 2px rgba(0, 0, 0, 0.3));\n",
              "      fill: #FFFFFF;\n",
              "    }\n",
              "  </style>\n",
              "\n",
              "    <script>\n",
              "      const buttonEl =\n",
              "        document.querySelector('#df-fe1afc63-9ee9-4674-950e-46d70e790d1f button.colab-df-convert');\n",
              "      buttonEl.style.display =\n",
              "        google.colab.kernel.accessAllowed ? 'block' : 'none';\n",
              "\n",
              "      async function convertToInteractive(key) {\n",
              "        const element = document.querySelector('#df-fe1afc63-9ee9-4674-950e-46d70e790d1f');\n",
              "        const dataTable =\n",
              "          await google.colab.kernel.invokeFunction('convertToInteractive',\n",
              "                                                    [key], {});\n",
              "        if (!dataTable) return;\n",
              "\n",
              "        const docLinkHtml = 'Like what you see? Visit the ' +\n",
              "          '<a target=\"_blank\" href=https://colab.research.google.com/notebooks/data_table.ipynb>data table notebook</a>'\n",
              "          + ' to learn more about interactive tables.';\n",
              "        element.innerHTML = '';\n",
              "        dataTable['output_type'] = 'display_data';\n",
              "        await google.colab.output.renderOutput(dataTable, element);\n",
              "        const docLink = document.createElement('div');\n",
              "        docLink.innerHTML = docLinkHtml;\n",
              "        element.appendChild(docLink);\n",
              "      }\n",
              "    </script>\n",
              "  </div>\n",
              "\n",
              "\n",
              "    <div id=\"df-0a684770-13f6-47b3-a67f-2a0362ba3a3b\">\n",
              "      <button class=\"colab-df-quickchart\" onclick=\"quickchart('df-0a684770-13f6-47b3-a67f-2a0362ba3a3b')\"\n",
              "                title=\"Suggest charts\"\n",
              "                style=\"display:none;\">\n",
              "\n",
              "<svg xmlns=\"http://www.w3.org/2000/svg\" height=\"24px\"viewBox=\"0 0 24 24\"\n",
              "     width=\"24px\">\n",
              "    <g>\n",
              "        <path d=\"M19 3H5c-1.1 0-2 .9-2 2v14c0 1.1.9 2 2 2h14c1.1 0 2-.9 2-2V5c0-1.1-.9-2-2-2zM9 17H7v-7h2v7zm4 0h-2V7h2v10zm4 0h-2v-4h2v4z\"/>\n",
              "    </g>\n",
              "</svg>\n",
              "      </button>\n",
              "\n",
              "<style>\n",
              "  .colab-df-quickchart {\n",
              "      --bg-color: #E8F0FE;\n",
              "      --fill-color: #1967D2;\n",
              "      --hover-bg-color: #E2EBFA;\n",
              "      --hover-fill-color: #174EA6;\n",
              "      --disabled-fill-color: #AAA;\n",
              "      --disabled-bg-color: #DDD;\n",
              "  }\n",
              "\n",
              "  [theme=dark] .colab-df-quickchart {\n",
              "      --bg-color: #3B4455;\n",
              "      --fill-color: #D2E3FC;\n",
              "      --hover-bg-color: #434B5C;\n",
              "      --hover-fill-color: #FFFFFF;\n",
              "      --disabled-bg-color: #3B4455;\n",
              "      --disabled-fill-color: #666;\n",
              "  }\n",
              "\n",
              "  .colab-df-quickchart {\n",
              "    background-color: var(--bg-color);\n",
              "    border: none;\n",
              "    border-radius: 50%;\n",
              "    cursor: pointer;\n",
              "    display: none;\n",
              "    fill: var(--fill-color);\n",
              "    height: 32px;\n",
              "    padding: 0;\n",
              "    width: 32px;\n",
              "  }\n",
              "\n",
              "  .colab-df-quickchart:hover {\n",
              "    background-color: var(--hover-bg-color);\n",
              "    box-shadow: 0 1px 2px rgba(60, 64, 67, 0.3), 0 1px 3px 1px rgba(60, 64, 67, 0.15);\n",
              "    fill: var(--button-hover-fill-color);\n",
              "  }\n",
              "\n",
              "  .colab-df-quickchart-complete:disabled,\n",
              "  .colab-df-quickchart-complete:disabled:hover {\n",
              "    background-color: var(--disabled-bg-color);\n",
              "    fill: var(--disabled-fill-color);\n",
              "    box-shadow: none;\n",
              "  }\n",
              "\n",
              "  .colab-df-spinner {\n",
              "    border: 2px solid var(--fill-color);\n",
              "    border-color: transparent;\n",
              "    border-bottom-color: var(--fill-color);\n",
              "    animation:\n",
              "      spin 1s steps(1) infinite;\n",
              "  }\n",
              "\n",
              "  @keyframes spin {\n",
              "    0% {\n",
              "      border-color: transparent;\n",
              "      border-bottom-color: var(--fill-color);\n",
              "      border-left-color: var(--fill-color);\n",
              "    }\n",
              "    20% {\n",
              "      border-color: transparent;\n",
              "      border-left-color: var(--fill-color);\n",
              "      border-top-color: var(--fill-color);\n",
              "    }\n",
              "    30% {\n",
              "      border-color: transparent;\n",
              "      border-left-color: var(--fill-color);\n",
              "      border-top-color: var(--fill-color);\n",
              "      border-right-color: var(--fill-color);\n",
              "    }\n",
              "    40% {\n",
              "      border-color: transparent;\n",
              "      border-right-color: var(--fill-color);\n",
              "      border-top-color: var(--fill-color);\n",
              "    }\n",
              "    60% {\n",
              "      border-color: transparent;\n",
              "      border-right-color: var(--fill-color);\n",
              "    }\n",
              "    80% {\n",
              "      border-color: transparent;\n",
              "      border-right-color: var(--fill-color);\n",
              "      border-bottom-color: var(--fill-color);\n",
              "    }\n",
              "    90% {\n",
              "      border-color: transparent;\n",
              "      border-bottom-color: var(--fill-color);\n",
              "    }\n",
              "  }\n",
              "</style>\n",
              "\n",
              "      <script>\n",
              "        async function quickchart(key) {\n",
              "          const quickchartButtonEl =\n",
              "            document.querySelector('#' + key + ' button');\n",
              "          quickchartButtonEl.disabled = true;  // To prevent multiple clicks.\n",
              "          quickchartButtonEl.classList.add('colab-df-spinner');\n",
              "          try {\n",
              "            const charts = await google.colab.kernel.invokeFunction(\n",
              "                'suggestCharts', [key], {});\n",
              "          } catch (error) {\n",
              "            console.error('Error during call to suggestCharts:', error);\n",
              "          }\n",
              "          quickchartButtonEl.classList.remove('colab-df-spinner');\n",
              "          quickchartButtonEl.classList.add('colab-df-quickchart-complete');\n",
              "        }\n",
              "        (() => {\n",
              "          let quickchartButtonEl =\n",
              "            document.querySelector('#df-0a684770-13f6-47b3-a67f-2a0362ba3a3b button');\n",
              "          quickchartButtonEl.style.display =\n",
              "            google.colab.kernel.accessAllowed ? 'block' : 'none';\n",
              "        })();\n",
              "      </script>\n",
              "    </div>\n",
              "\n",
              "    </div>\n",
              "  </div>\n"
            ],
            "text/plain": [
              "  id_emprestimo,codigo_barras,data_renovacao,data_emprestimo,data_devolucao,matricula_ou_siape,tipo_vinculo_usuario\n",
              "0  2962509,2007005628,,2020/01/02 08:17:30.290000...                                                               \n",
              "1  2962510,L202802,,2020/01/02 08:17:30.391000000...                                                               \n",
              "2  2962511,2012008328,,2020/01/02 08:17:30.436000...                                                               \n",
              "3  2962512,2012055016,2020/01/17 09:56:18.3800000...                                                               \n",
              "4  2962513,L197391,2020/01/17 23:50:18.862000000,...                                                               "
            ]
          },
          "execution_count": 82,
          "metadata": {},
          "output_type": "execute_result"
        }
      ],
      "source": [
        "emprestimos = pd.concat(emprestimos_dfs, ignore_index=True)\n",
        "print(f\"Total de registros de empréstimos: {len(emprestimos)}\")\n",
        "emprestimos.head()"
      ]
    },
    {
      "cell_type": "code",
      "execution_count": null,
      "metadata": {
        "colab": {
          "base_uri": "https://localhost:8080/",
          "height": 321
        },
        "id": "o65L99SiRZDj",
        "outputId": "3128f45d-6f5a-4c33-948b-64c1cd8d606b"
      },
      "outputs": [
        {
          "ename": "KeyError",
          "evalue": "'codigo_barra'",
          "output_type": "error",
          "traceback": [
            "\u001b[0;31m---------------------------------------------------------------------------\u001b[0m",
            "\u001b[0;31mKeyError\u001b[0m                                  Traceback (most recent call last)",
            "\u001b[0;32m/tmp/ipython-input-3117857297.py\u001b[0m in \u001b[0;36m<cell line: 0>\u001b[0;34m()\u001b[0m\n\u001b[0;32m----> 1\u001b[0;31m \u001b[0mdados_completos\u001b[0m \u001b[0;34m=\u001b[0m \u001b[0memprestimos\u001b[0m\u001b[0;34m.\u001b[0m\u001b[0mmerge\u001b[0m\u001b[0;34m(\u001b[0m\u001b[0macervo\u001b[0m\u001b[0;34m,\u001b[0m \u001b[0mhow\u001b[0m\u001b[0;34m=\u001b[0m\u001b[0;34m\"left\"\u001b[0m\u001b[0;34m,\u001b[0m \u001b[0mleft_on\u001b[0m\u001b[0;34m=\u001b[0m\u001b[0;34m\"codigo_barra\"\u001b[0m\u001b[0;34m,\u001b[0m \u001b[0mright_on\u001b[0m\u001b[0;34m=\u001b[0m\u001b[0;34m\"codigo_barra\"\u001b[0m\u001b[0;34m)\u001b[0m\u001b[0;34m\u001b[0m\u001b[0;34m\u001b[0m\u001b[0m\n\u001b[0m\u001b[1;32m      2\u001b[0m \u001b[0mprint\u001b[0m\u001b[0;34m(\u001b[0m\u001b[0;34m\"Dados completos (empréstimos + acervo):\"\u001b[0m\u001b[0;34m)\u001b[0m\u001b[0;34m\u001b[0m\u001b[0;34m\u001b[0m\u001b[0m\n\u001b[1;32m      3\u001b[0m \u001b[0mdados_completos\u001b[0m\u001b[0;34m.\u001b[0m\u001b[0mhead\u001b[0m\u001b[0;34m(\u001b[0m\u001b[0;34m)\u001b[0m\u001b[0;34m\u001b[0m\u001b[0;34m\u001b[0m\u001b[0m\n",
            "\u001b[0;32m/usr/local/lib/python3.12/dist-packages/pandas/core/frame.py\u001b[0m in \u001b[0;36mmerge\u001b[0;34m(self, right, how, on, left_on, right_on, left_index, right_index, sort, suffixes, copy, indicator, validate)\u001b[0m\n\u001b[1;32m  10830\u001b[0m         \u001b[0;32mfrom\u001b[0m \u001b[0mpandas\u001b[0m\u001b[0;34m.\u001b[0m\u001b[0mcore\u001b[0m\u001b[0;34m.\u001b[0m\u001b[0mreshape\u001b[0m\u001b[0;34m.\u001b[0m\u001b[0mmerge\u001b[0m \u001b[0;32mimport\u001b[0m \u001b[0mmerge\u001b[0m\u001b[0;34m\u001b[0m\u001b[0;34m\u001b[0m\u001b[0m\n\u001b[1;32m  10831\u001b[0m \u001b[0;34m\u001b[0m\u001b[0m\n\u001b[0;32m> 10832\u001b[0;31m         return merge(\n\u001b[0m\u001b[1;32m  10833\u001b[0m             \u001b[0mself\u001b[0m\u001b[0;34m,\u001b[0m\u001b[0;34m\u001b[0m\u001b[0;34m\u001b[0m\u001b[0m\n\u001b[1;32m  10834\u001b[0m             \u001b[0mright\u001b[0m\u001b[0;34m,\u001b[0m\u001b[0;34m\u001b[0m\u001b[0;34m\u001b[0m\u001b[0m\n",
            "\u001b[0;32m/usr/local/lib/python3.12/dist-packages/pandas/core/reshape/merge.py\u001b[0m in \u001b[0;36mmerge\u001b[0;34m(left, right, how, on, left_on, right_on, left_index, right_index, sort, suffixes, copy, indicator, validate)\u001b[0m\n\u001b[1;32m    168\u001b[0m         )\n\u001b[1;32m    169\u001b[0m     \u001b[0;32melse\u001b[0m\u001b[0;34m:\u001b[0m\u001b[0;34m\u001b[0m\u001b[0;34m\u001b[0m\u001b[0m\n\u001b[0;32m--> 170\u001b[0;31m         op = _MergeOperation(\n\u001b[0m\u001b[1;32m    171\u001b[0m             \u001b[0mleft_df\u001b[0m\u001b[0;34m,\u001b[0m\u001b[0;34m\u001b[0m\u001b[0;34m\u001b[0m\u001b[0m\n\u001b[1;32m    172\u001b[0m             \u001b[0mright_df\u001b[0m\u001b[0;34m,\u001b[0m\u001b[0;34m\u001b[0m\u001b[0;34m\u001b[0m\u001b[0m\n",
            "\u001b[0;32m/usr/local/lib/python3.12/dist-packages/pandas/core/reshape/merge.py\u001b[0m in \u001b[0;36m__init__\u001b[0;34m(self, left, right, how, on, left_on, right_on, left_index, right_index, sort, suffixes, indicator, validate)\u001b[0m\n\u001b[1;32m    792\u001b[0m             \u001b[0mleft_drop\u001b[0m\u001b[0;34m,\u001b[0m\u001b[0;34m\u001b[0m\u001b[0;34m\u001b[0m\u001b[0m\n\u001b[1;32m    793\u001b[0m             \u001b[0mright_drop\u001b[0m\u001b[0;34m,\u001b[0m\u001b[0;34m\u001b[0m\u001b[0;34m\u001b[0m\u001b[0m\n\u001b[0;32m--> 794\u001b[0;31m         ) = self._get_merge_keys()\n\u001b[0m\u001b[1;32m    795\u001b[0m \u001b[0;34m\u001b[0m\u001b[0m\n\u001b[1;32m    796\u001b[0m         \u001b[0;32mif\u001b[0m \u001b[0mleft_drop\u001b[0m\u001b[0;34m:\u001b[0m\u001b[0;34m\u001b[0m\u001b[0;34m\u001b[0m\u001b[0m\n",
            "\u001b[0;32m/usr/local/lib/python3.12/dist-packages/pandas/core/reshape/merge.py\u001b[0m in \u001b[0;36m_get_merge_keys\u001b[0;34m(self)\u001b[0m\n\u001b[1;32m   1295\u001b[0m                         \u001b[0mrk\u001b[0m \u001b[0;34m=\u001b[0m \u001b[0mcast\u001b[0m\u001b[0;34m(\u001b[0m\u001b[0mHashable\u001b[0m\u001b[0;34m,\u001b[0m \u001b[0mrk\u001b[0m\u001b[0;34m)\u001b[0m\u001b[0;34m\u001b[0m\u001b[0;34m\u001b[0m\u001b[0m\n\u001b[1;32m   1296\u001b[0m                         \u001b[0;32mif\u001b[0m \u001b[0mrk\u001b[0m \u001b[0;32mis\u001b[0m \u001b[0;32mnot\u001b[0m \u001b[0;32mNone\u001b[0m\u001b[0;34m:\u001b[0m\u001b[0;34m\u001b[0m\u001b[0;34m\u001b[0m\u001b[0m\n\u001b[0;32m-> 1297\u001b[0;31m                             \u001b[0mright_keys\u001b[0m\u001b[0;34m.\u001b[0m\u001b[0mappend\u001b[0m\u001b[0;34m(\u001b[0m\u001b[0mright\u001b[0m\u001b[0;34m.\u001b[0m\u001b[0m_get_label_or_level_values\u001b[0m\u001b[0;34m(\u001b[0m\u001b[0mrk\u001b[0m\u001b[0;34m)\u001b[0m\u001b[0;34m)\u001b[0m\u001b[0;34m\u001b[0m\u001b[0;34m\u001b[0m\u001b[0m\n\u001b[0m\u001b[1;32m   1298\u001b[0m                         \u001b[0;32melse\u001b[0m\u001b[0;34m:\u001b[0m\u001b[0;34m\u001b[0m\u001b[0;34m\u001b[0m\u001b[0m\n\u001b[1;32m   1299\u001b[0m                             \u001b[0;31m# work-around for merge_asof(right_index=True)\u001b[0m\u001b[0;34m\u001b[0m\u001b[0;34m\u001b[0m\u001b[0m\n",
            "\u001b[0;32m/usr/local/lib/python3.12/dist-packages/pandas/core/generic.py\u001b[0m in \u001b[0;36m_get_label_or_level_values\u001b[0;34m(self, key, axis)\u001b[0m\n\u001b[1;32m   1909\u001b[0m             \u001b[0mvalues\u001b[0m \u001b[0;34m=\u001b[0m \u001b[0mself\u001b[0m\u001b[0;34m.\u001b[0m\u001b[0maxes\u001b[0m\u001b[0;34m[\u001b[0m\u001b[0maxis\u001b[0m\u001b[0;34m]\u001b[0m\u001b[0;34m.\u001b[0m\u001b[0mget_level_values\u001b[0m\u001b[0;34m(\u001b[0m\u001b[0mkey\u001b[0m\u001b[0;34m)\u001b[0m\u001b[0;34m.\u001b[0m\u001b[0m_values\u001b[0m\u001b[0;34m\u001b[0m\u001b[0;34m\u001b[0m\u001b[0m\n\u001b[1;32m   1910\u001b[0m         \u001b[0;32melse\u001b[0m\u001b[0;34m:\u001b[0m\u001b[0;34m\u001b[0m\u001b[0;34m\u001b[0m\u001b[0m\n\u001b[0;32m-> 1911\u001b[0;31m             \u001b[0;32mraise\u001b[0m \u001b[0mKeyError\u001b[0m\u001b[0;34m(\u001b[0m\u001b[0mkey\u001b[0m\u001b[0;34m)\u001b[0m\u001b[0;34m\u001b[0m\u001b[0;34m\u001b[0m\u001b[0m\n\u001b[0m\u001b[1;32m   1912\u001b[0m \u001b[0;34m\u001b[0m\u001b[0m\n\u001b[1;32m   1913\u001b[0m         \u001b[0;31m# Check for duplicates\u001b[0m\u001b[0;34m\u001b[0m\u001b[0;34m\u001b[0m\u001b[0m\n",
            "\u001b[0;31mKeyError\u001b[0m: 'codigo_barra'"
          ]
        }
      ],
      "source": [
        "dados_completos = emprestimos.merge(acervo, how=\"left\", left_on=\"codigo_barra\", right_on=\"codigo_barra\")\n",
        "print(\"Dados completos (empréstimos + acervo):\")\n",
        "dados_completos.head()"
      ]
    },
    {
      "cell_type": "code",
      "execution_count": null,
      "metadata": {
        "colab": {
          "base_uri": "https://localhost:8080/"
        },
        "id": "bTeh8LD3RmKe",
        "outputId": "f0188551-fce6-4eb0-99bf-360561b6775f"
      },
      "outputs": [
        {
          "name": "stdout",
          "output_type": "stream",
          "text": [
            "Colunas do DataFrame de empréstimos:\n",
            "Index(['id_emprestimo,codigo_barras,data_renovacao,data_emprestimo,data_devolucao,matricula_ou_siape,tipo_vinculo_usuario'], dtype='object')\n"
          ]
        }
      ],
      "source": [
        "print(\"Colunas do DataFrame de empréstimos:\")\n",
        "print(emprestimos.columns)"
      ]
    },
    {
      "cell_type": "code",
      "execution_count": null,
      "metadata": {
        "colab": {
          "base_uri": "https://localhost:8080/"
        },
        "id": "MmHIPmetRrvF",
        "outputId": "062c6a5b-dbbe-429d-8360-88bf0015da61"
      },
      "outputs": [
        {
          "name": "stdout",
          "output_type": "stream",
          "text": [
            "\n",
            "Colunas do DataFrame do acervo:\n",
            "Index(['id_exemplar', 'codigo_barras', 'colecao', 'biblioteca',\n",
            "       'status_material', 'localizacao', 'registro_sistema'],\n",
            "      dtype='object')\n"
          ]
        }
      ],
      "source": [
        "\n",
        "print(\"\\nColunas do DataFrame do acervo:\")\n",
        "print(acervo.columns)"
      ]
    },
    {
      "cell_type": "code",
      "execution_count": null,
      "metadata": {
        "colab": {
          "base_uri": "https://localhost:8080/",
          "height": 304
        },
        "id": "cdFFpDyZR5mJ",
        "outputId": "51cda028-5d5a-4563-b08c-2ba912a06bd6"
      },
      "outputs": [
        {
          "ename": "FileNotFoundError",
          "evalue": "[Errno 2] No such file or directory: 'nome_arquivo.csv'",
          "output_type": "error",
          "traceback": [
            "\u001b[0;31m---------------------------------------------------------------------------\u001b[0m",
            "\u001b[0;31mFileNotFoundError\u001b[0m                         Traceback (most recent call last)",
            "\u001b[0;32m/tmp/ipython-input-2621854230.py\u001b[0m in \u001b[0;36m<cell line: 0>\u001b[0;34m()\u001b[0m\n\u001b[0;32m----> 1\u001b[0;31m \u001b[0mdf\u001b[0m \u001b[0;34m=\u001b[0m \u001b[0mpd\u001b[0m\u001b[0;34m.\u001b[0m\u001b[0mread_csv\u001b[0m\u001b[0;34m(\u001b[0m\u001b[0;34m\"nome_arquivo.csv\"\u001b[0m\u001b[0;34m,\u001b[0m \u001b[0msep\u001b[0m\u001b[0;34m=\u001b[0m\u001b[0;34m\",\"\u001b[0m\u001b[0;34m,\u001b[0m \u001b[0mencoding\u001b[0m\u001b[0;34m=\u001b[0m\u001b[0;34m\"ISO-8859-1\"\u001b[0m\u001b[0;34m,\u001b[0m \u001b[0mlow_memory\u001b[0m\u001b[0;34m=\u001b[0m\u001b[0;32mFalse\u001b[0m\u001b[0;34m)\u001b[0m\u001b[0;34m\u001b[0m\u001b[0;34m\u001b[0m\u001b[0m\n\u001b[0m",
            "\u001b[0;32m/usr/local/lib/python3.12/dist-packages/pandas/io/parsers/readers.py\u001b[0m in \u001b[0;36mread_csv\u001b[0;34m(filepath_or_buffer, sep, delimiter, header, names, index_col, usecols, dtype, engine, converters, true_values, false_values, skipinitialspace, skiprows, skipfooter, nrows, na_values, keep_default_na, na_filter, verbose, skip_blank_lines, parse_dates, infer_datetime_format, keep_date_col, date_parser, date_format, dayfirst, cache_dates, iterator, chunksize, compression, thousands, decimal, lineterminator, quotechar, quoting, doublequote, escapechar, comment, encoding, encoding_errors, dialect, on_bad_lines, delim_whitespace, low_memory, memory_map, float_precision, storage_options, dtype_backend)\u001b[0m\n\u001b[1;32m   1024\u001b[0m     \u001b[0mkwds\u001b[0m\u001b[0;34m.\u001b[0m\u001b[0mupdate\u001b[0m\u001b[0;34m(\u001b[0m\u001b[0mkwds_defaults\u001b[0m\u001b[0;34m)\u001b[0m\u001b[0;34m\u001b[0m\u001b[0;34m\u001b[0m\u001b[0m\n\u001b[1;32m   1025\u001b[0m \u001b[0;34m\u001b[0m\u001b[0m\n\u001b[0;32m-> 1026\u001b[0;31m     \u001b[0;32mreturn\u001b[0m \u001b[0m_read\u001b[0m\u001b[0;34m(\u001b[0m\u001b[0mfilepath_or_buffer\u001b[0m\u001b[0;34m,\u001b[0m \u001b[0mkwds\u001b[0m\u001b[0;34m)\u001b[0m\u001b[0;34m\u001b[0m\u001b[0;34m\u001b[0m\u001b[0m\n\u001b[0m\u001b[1;32m   1027\u001b[0m \u001b[0;34m\u001b[0m\u001b[0m\n\u001b[1;32m   1028\u001b[0m \u001b[0;34m\u001b[0m\u001b[0m\n",
            "\u001b[0;32m/usr/local/lib/python3.12/dist-packages/pandas/io/parsers/readers.py\u001b[0m in \u001b[0;36m_read\u001b[0;34m(filepath_or_buffer, kwds)\u001b[0m\n\u001b[1;32m    618\u001b[0m \u001b[0;34m\u001b[0m\u001b[0m\n\u001b[1;32m    619\u001b[0m     \u001b[0;31m# Create the parser.\u001b[0m\u001b[0;34m\u001b[0m\u001b[0;34m\u001b[0m\u001b[0m\n\u001b[0;32m--> 620\u001b[0;31m     \u001b[0mparser\u001b[0m \u001b[0;34m=\u001b[0m \u001b[0mTextFileReader\u001b[0m\u001b[0;34m(\u001b[0m\u001b[0mfilepath_or_buffer\u001b[0m\u001b[0;34m,\u001b[0m \u001b[0;34m**\u001b[0m\u001b[0mkwds\u001b[0m\u001b[0;34m)\u001b[0m\u001b[0;34m\u001b[0m\u001b[0;34m\u001b[0m\u001b[0m\n\u001b[0m\u001b[1;32m    621\u001b[0m \u001b[0;34m\u001b[0m\u001b[0m\n\u001b[1;32m    622\u001b[0m     \u001b[0;32mif\u001b[0m \u001b[0mchunksize\u001b[0m \u001b[0;32mor\u001b[0m \u001b[0miterator\u001b[0m\u001b[0;34m:\u001b[0m\u001b[0;34m\u001b[0m\u001b[0;34m\u001b[0m\u001b[0m\n",
            "\u001b[0;32m/usr/local/lib/python3.12/dist-packages/pandas/io/parsers/readers.py\u001b[0m in \u001b[0;36m__init__\u001b[0;34m(self, f, engine, **kwds)\u001b[0m\n\u001b[1;32m   1618\u001b[0m \u001b[0;34m\u001b[0m\u001b[0m\n\u001b[1;32m   1619\u001b[0m         \u001b[0mself\u001b[0m\u001b[0;34m.\u001b[0m\u001b[0mhandles\u001b[0m\u001b[0;34m:\u001b[0m \u001b[0mIOHandles\u001b[0m \u001b[0;34m|\u001b[0m \u001b[0;32mNone\u001b[0m \u001b[0;34m=\u001b[0m \u001b[0;32mNone\u001b[0m\u001b[0;34m\u001b[0m\u001b[0;34m\u001b[0m\u001b[0m\n\u001b[0;32m-> 1620\u001b[0;31m         \u001b[0mself\u001b[0m\u001b[0;34m.\u001b[0m\u001b[0m_engine\u001b[0m \u001b[0;34m=\u001b[0m \u001b[0mself\u001b[0m\u001b[0;34m.\u001b[0m\u001b[0m_make_engine\u001b[0m\u001b[0;34m(\u001b[0m\u001b[0mf\u001b[0m\u001b[0;34m,\u001b[0m \u001b[0mself\u001b[0m\u001b[0;34m.\u001b[0m\u001b[0mengine\u001b[0m\u001b[0;34m)\u001b[0m\u001b[0;34m\u001b[0m\u001b[0;34m\u001b[0m\u001b[0m\n\u001b[0m\u001b[1;32m   1621\u001b[0m \u001b[0;34m\u001b[0m\u001b[0m\n\u001b[1;32m   1622\u001b[0m     \u001b[0;32mdef\u001b[0m \u001b[0mclose\u001b[0m\u001b[0;34m(\u001b[0m\u001b[0mself\u001b[0m\u001b[0;34m)\u001b[0m \u001b[0;34m->\u001b[0m \u001b[0;32mNone\u001b[0m\u001b[0;34m:\u001b[0m\u001b[0;34m\u001b[0m\u001b[0;34m\u001b[0m\u001b[0m\n",
            "\u001b[0;32m/usr/local/lib/python3.12/dist-packages/pandas/io/parsers/readers.py\u001b[0m in \u001b[0;36m_make_engine\u001b[0;34m(self, f, engine)\u001b[0m\n\u001b[1;32m   1878\u001b[0m                 \u001b[0;32mif\u001b[0m \u001b[0;34m\"b\"\u001b[0m \u001b[0;32mnot\u001b[0m \u001b[0;32min\u001b[0m \u001b[0mmode\u001b[0m\u001b[0;34m:\u001b[0m\u001b[0;34m\u001b[0m\u001b[0;34m\u001b[0m\u001b[0m\n\u001b[1;32m   1879\u001b[0m                     \u001b[0mmode\u001b[0m \u001b[0;34m+=\u001b[0m \u001b[0;34m\"b\"\u001b[0m\u001b[0;34m\u001b[0m\u001b[0;34m\u001b[0m\u001b[0m\n\u001b[0;32m-> 1880\u001b[0;31m             self.handles = get_handle(\n\u001b[0m\u001b[1;32m   1881\u001b[0m                 \u001b[0mf\u001b[0m\u001b[0;34m,\u001b[0m\u001b[0;34m\u001b[0m\u001b[0;34m\u001b[0m\u001b[0m\n\u001b[1;32m   1882\u001b[0m                 \u001b[0mmode\u001b[0m\u001b[0;34m,\u001b[0m\u001b[0;34m\u001b[0m\u001b[0;34m\u001b[0m\u001b[0m\n",
            "\u001b[0;32m/usr/local/lib/python3.12/dist-packages/pandas/io/common.py\u001b[0m in \u001b[0;36mget_handle\u001b[0;34m(path_or_buf, mode, encoding, compression, memory_map, is_text, errors, storage_options)\u001b[0m\n\u001b[1;32m    871\u001b[0m         \u001b[0;32mif\u001b[0m \u001b[0mioargs\u001b[0m\u001b[0;34m.\u001b[0m\u001b[0mencoding\u001b[0m \u001b[0;32mand\u001b[0m \u001b[0;34m\"b\"\u001b[0m \u001b[0;32mnot\u001b[0m \u001b[0;32min\u001b[0m \u001b[0mioargs\u001b[0m\u001b[0;34m.\u001b[0m\u001b[0mmode\u001b[0m\u001b[0;34m:\u001b[0m\u001b[0;34m\u001b[0m\u001b[0;34m\u001b[0m\u001b[0m\n\u001b[1;32m    872\u001b[0m             \u001b[0;31m# Encoding\u001b[0m\u001b[0;34m\u001b[0m\u001b[0;34m\u001b[0m\u001b[0m\n\u001b[0;32m--> 873\u001b[0;31m             handle = open(\n\u001b[0m\u001b[1;32m    874\u001b[0m                 \u001b[0mhandle\u001b[0m\u001b[0;34m,\u001b[0m\u001b[0;34m\u001b[0m\u001b[0;34m\u001b[0m\u001b[0m\n\u001b[1;32m    875\u001b[0m                 \u001b[0mioargs\u001b[0m\u001b[0;34m.\u001b[0m\u001b[0mmode\u001b[0m\u001b[0;34m,\u001b[0m\u001b[0;34m\u001b[0m\u001b[0;34m\u001b[0m\u001b[0m\n",
            "\u001b[0;31mFileNotFoundError\u001b[0m: [Errno 2] No such file or directory: 'nome_arquivo.csv'"
          ]
        }
      ],
      "source": [
        "df = pd.read_csv(\"nome_arquivo.csv\", sep=\",\", encoding=\"ISO-8859-1\", low_memory=False)"
      ]
    },
    {
      "cell_type": "code",
      "execution_count": null,
      "metadata": {
        "id": "B3ufv9cCSLcp"
      },
      "outputs": [],
      "source": [
        "import pandas as pd"
      ]
    },
    {
      "cell_type": "code",
      "execution_count": null,
      "metadata": {
        "id": "QvcifpEeSOLh"
      },
      "outputs": [],
      "source": [
        "emprestimos_dfs = []"
      ]
    },
    {
      "cell_type": "code",
      "execution_count": null,
      "metadata": {
        "id": "GK9kUzlFSPQC"
      },
      "outputs": [],
      "source": [
        "for nome_arquivo in uploaded.keys():\n",
        "    df = pd.read_csv(nome_arquivo, sep=\",\", encoding=\"ISO-8859-1\", low_memory=False)\n",
        "    emprestimos_dfs.append(df)"
      ]
    },
    {
      "cell_type": "code",
      "execution_count": null,
      "metadata": {
        "colab": {
          "base_uri": "https://localhost:8080/"
        },
        "id": "4CyhxyycSYrL",
        "outputId": "5ed0b009-fdd5-4ef6-86a0-6998dcb3c2a9"
      },
      "outputs": [
        {
          "name": "stdout",
          "output_type": "stream",
          "text": [
            "   id_emprestimo codigo_barras                 data_renovacao  \\\n",
            "0        2962509    2007005628                            NaN   \n",
            "1        2962510       L202802                            NaN   \n",
            "2        2962511    2012008328                            NaN   \n",
            "3        2962512    2012055016  2020/01/17 09:56:18.380000000   \n",
            "4        2962513       L197391  2020/01/17 23:50:18.862000000   \n",
            "\n",
            "                 data_emprestimo                 data_devolucao  \\\n",
            "0  2020/01/02 08:17:30.290000000  2020/01/07 11:14:07.000000000   \n",
            "1  2020/01/02 08:17:30.391000000  2020/01/07 11:14:17.000000000   \n",
            "2  2020/01/02 08:17:30.436000000  2020/01/07 11:24:46.000000000   \n",
            "3  2020/01/02 08:36:40.163000000  2020/01/31 14:53:52.000000000   \n",
            "4  2020/01/02 09:36:03.877000000  2020/01/24 08:18:19.000000000   \n",
            "\n",
            "   matricula_ou_siape       tipo_vinculo_usuario  \n",
            "0        2.018103e+10  ALUNO DE PÃS-GRADUAÃÃO  \n",
            "1        2.018103e+10  ALUNO DE PÃS-GRADUAÃÃO  \n",
            "2        2.018103e+10  ALUNO DE PÃS-GRADUAÃÃO  \n",
            "3        2.019015e+10       ALUNO DE GRADUAÃÃO  \n",
            "4        2.018005e+10       ALUNO DE GRADUAÃÃO  \n"
          ]
        }
      ],
      "source": [
        "emprestimos = pd.concat(emprestimos_dfs, ignore_index=True)\n",
        "print(emprestimos.head())"
      ]
    },
    {
      "cell_type": "code",
      "execution_count": null,
      "metadata": {
        "colab": {
          "base_uri": "https://localhost:8080/",
          "height": 304
        },
        "id": "KJbVQr4XSeXJ",
        "outputId": "36871ec7-cbe5-4506-933d-44ec56cb1199"
      },
      "outputs": [
        {
          "ename": "KeyError",
          "evalue": "'codigo_barra'",
          "output_type": "error",
          "traceback": [
            "\u001b[0;31m---------------------------------------------------------------------------\u001b[0m",
            "\u001b[0;31mKeyError\u001b[0m                                  Traceback (most recent call last)",
            "\u001b[0;32m/tmp/ipython-input-2139867341.py\u001b[0m in \u001b[0;36m<cell line: 0>\u001b[0;34m()\u001b[0m\n\u001b[0;32m----> 1\u001b[0;31m \u001b[0mdados_completos\u001b[0m \u001b[0;34m=\u001b[0m \u001b[0memprestimos\u001b[0m\u001b[0;34m.\u001b[0m\u001b[0mmerge\u001b[0m\u001b[0;34m(\u001b[0m\u001b[0macervo\u001b[0m\u001b[0;34m,\u001b[0m \u001b[0mhow\u001b[0m\u001b[0;34m=\u001b[0m\u001b[0;34m\"left\"\u001b[0m\u001b[0;34m,\u001b[0m \u001b[0mleft_on\u001b[0m\u001b[0;34m=\u001b[0m\u001b[0;34m\"codigo_barras\"\u001b[0m\u001b[0;34m,\u001b[0m \u001b[0mright_on\u001b[0m\u001b[0;34m=\u001b[0m\u001b[0;34m\"codigo_barra\"\u001b[0m\u001b[0;34m)\u001b[0m\u001b[0;34m\u001b[0m\u001b[0;34m\u001b[0m\u001b[0m\n\u001b[0m\u001b[1;32m      2\u001b[0m \u001b[0mdados_completos\u001b[0m\u001b[0;34m.\u001b[0m\u001b[0mhead\u001b[0m\u001b[0;34m(\u001b[0m\u001b[0;34m)\u001b[0m\u001b[0;34m\u001b[0m\u001b[0;34m\u001b[0m\u001b[0m\n",
            "\u001b[0;32m/usr/local/lib/python3.12/dist-packages/pandas/core/frame.py\u001b[0m in \u001b[0;36mmerge\u001b[0;34m(self, right, how, on, left_on, right_on, left_index, right_index, sort, suffixes, copy, indicator, validate)\u001b[0m\n\u001b[1;32m  10830\u001b[0m         \u001b[0;32mfrom\u001b[0m \u001b[0mpandas\u001b[0m\u001b[0;34m.\u001b[0m\u001b[0mcore\u001b[0m\u001b[0;34m.\u001b[0m\u001b[0mreshape\u001b[0m\u001b[0;34m.\u001b[0m\u001b[0mmerge\u001b[0m \u001b[0;32mimport\u001b[0m \u001b[0mmerge\u001b[0m\u001b[0;34m\u001b[0m\u001b[0;34m\u001b[0m\u001b[0m\n\u001b[1;32m  10831\u001b[0m \u001b[0;34m\u001b[0m\u001b[0m\n\u001b[0;32m> 10832\u001b[0;31m         return merge(\n\u001b[0m\u001b[1;32m  10833\u001b[0m             \u001b[0mself\u001b[0m\u001b[0;34m,\u001b[0m\u001b[0;34m\u001b[0m\u001b[0;34m\u001b[0m\u001b[0m\n\u001b[1;32m  10834\u001b[0m             \u001b[0mright\u001b[0m\u001b[0;34m,\u001b[0m\u001b[0;34m\u001b[0m\u001b[0;34m\u001b[0m\u001b[0m\n",
            "\u001b[0;32m/usr/local/lib/python3.12/dist-packages/pandas/core/reshape/merge.py\u001b[0m in \u001b[0;36mmerge\u001b[0;34m(left, right, how, on, left_on, right_on, left_index, right_index, sort, suffixes, copy, indicator, validate)\u001b[0m\n\u001b[1;32m    168\u001b[0m         )\n\u001b[1;32m    169\u001b[0m     \u001b[0;32melse\u001b[0m\u001b[0;34m:\u001b[0m\u001b[0;34m\u001b[0m\u001b[0;34m\u001b[0m\u001b[0m\n\u001b[0;32m--> 170\u001b[0;31m         op = _MergeOperation(\n\u001b[0m\u001b[1;32m    171\u001b[0m             \u001b[0mleft_df\u001b[0m\u001b[0;34m,\u001b[0m\u001b[0;34m\u001b[0m\u001b[0;34m\u001b[0m\u001b[0m\n\u001b[1;32m    172\u001b[0m             \u001b[0mright_df\u001b[0m\u001b[0;34m,\u001b[0m\u001b[0;34m\u001b[0m\u001b[0;34m\u001b[0m\u001b[0m\n",
            "\u001b[0;32m/usr/local/lib/python3.12/dist-packages/pandas/core/reshape/merge.py\u001b[0m in \u001b[0;36m__init__\u001b[0;34m(self, left, right, how, on, left_on, right_on, left_index, right_index, sort, suffixes, indicator, validate)\u001b[0m\n\u001b[1;32m    792\u001b[0m             \u001b[0mleft_drop\u001b[0m\u001b[0;34m,\u001b[0m\u001b[0;34m\u001b[0m\u001b[0;34m\u001b[0m\u001b[0m\n\u001b[1;32m    793\u001b[0m             \u001b[0mright_drop\u001b[0m\u001b[0;34m,\u001b[0m\u001b[0;34m\u001b[0m\u001b[0;34m\u001b[0m\u001b[0m\n\u001b[0;32m--> 794\u001b[0;31m         ) = self._get_merge_keys()\n\u001b[0m\u001b[1;32m    795\u001b[0m \u001b[0;34m\u001b[0m\u001b[0m\n\u001b[1;32m    796\u001b[0m         \u001b[0;32mif\u001b[0m \u001b[0mleft_drop\u001b[0m\u001b[0;34m:\u001b[0m\u001b[0;34m\u001b[0m\u001b[0;34m\u001b[0m\u001b[0m\n",
            "\u001b[0;32m/usr/local/lib/python3.12/dist-packages/pandas/core/reshape/merge.py\u001b[0m in \u001b[0;36m_get_merge_keys\u001b[0;34m(self)\u001b[0m\n\u001b[1;32m   1295\u001b[0m                         \u001b[0mrk\u001b[0m \u001b[0;34m=\u001b[0m \u001b[0mcast\u001b[0m\u001b[0;34m(\u001b[0m\u001b[0mHashable\u001b[0m\u001b[0;34m,\u001b[0m \u001b[0mrk\u001b[0m\u001b[0;34m)\u001b[0m\u001b[0;34m\u001b[0m\u001b[0;34m\u001b[0m\u001b[0m\n\u001b[1;32m   1296\u001b[0m                         \u001b[0;32mif\u001b[0m \u001b[0mrk\u001b[0m \u001b[0;32mis\u001b[0m \u001b[0;32mnot\u001b[0m \u001b[0;32mNone\u001b[0m\u001b[0;34m:\u001b[0m\u001b[0;34m\u001b[0m\u001b[0;34m\u001b[0m\u001b[0m\n\u001b[0;32m-> 1297\u001b[0;31m                             \u001b[0mright_keys\u001b[0m\u001b[0;34m.\u001b[0m\u001b[0mappend\u001b[0m\u001b[0;34m(\u001b[0m\u001b[0mright\u001b[0m\u001b[0;34m.\u001b[0m\u001b[0m_get_label_or_level_values\u001b[0m\u001b[0;34m(\u001b[0m\u001b[0mrk\u001b[0m\u001b[0;34m)\u001b[0m\u001b[0;34m)\u001b[0m\u001b[0;34m\u001b[0m\u001b[0;34m\u001b[0m\u001b[0m\n\u001b[0m\u001b[1;32m   1298\u001b[0m                         \u001b[0;32melse\u001b[0m\u001b[0;34m:\u001b[0m\u001b[0;34m\u001b[0m\u001b[0;34m\u001b[0m\u001b[0m\n\u001b[1;32m   1299\u001b[0m                             \u001b[0;31m# work-around for merge_asof(right_index=True)\u001b[0m\u001b[0;34m\u001b[0m\u001b[0;34m\u001b[0m\u001b[0m\n",
            "\u001b[0;32m/usr/local/lib/python3.12/dist-packages/pandas/core/generic.py\u001b[0m in \u001b[0;36m_get_label_or_level_values\u001b[0;34m(self, key, axis)\u001b[0m\n\u001b[1;32m   1909\u001b[0m             \u001b[0mvalues\u001b[0m \u001b[0;34m=\u001b[0m \u001b[0mself\u001b[0m\u001b[0;34m.\u001b[0m\u001b[0maxes\u001b[0m\u001b[0;34m[\u001b[0m\u001b[0maxis\u001b[0m\u001b[0;34m]\u001b[0m\u001b[0;34m.\u001b[0m\u001b[0mget_level_values\u001b[0m\u001b[0;34m(\u001b[0m\u001b[0mkey\u001b[0m\u001b[0;34m)\u001b[0m\u001b[0;34m.\u001b[0m\u001b[0m_values\u001b[0m\u001b[0;34m\u001b[0m\u001b[0;34m\u001b[0m\u001b[0m\n\u001b[1;32m   1910\u001b[0m         \u001b[0;32melse\u001b[0m\u001b[0;34m:\u001b[0m\u001b[0;34m\u001b[0m\u001b[0;34m\u001b[0m\u001b[0m\n\u001b[0;32m-> 1911\u001b[0;31m             \u001b[0;32mraise\u001b[0m \u001b[0mKeyError\u001b[0m\u001b[0;34m(\u001b[0m\u001b[0mkey\u001b[0m\u001b[0;34m)\u001b[0m\u001b[0;34m\u001b[0m\u001b[0;34m\u001b[0m\u001b[0m\n\u001b[0m\u001b[1;32m   1912\u001b[0m \u001b[0;34m\u001b[0m\u001b[0m\n\u001b[1;32m   1913\u001b[0m         \u001b[0;31m# Check for duplicates\u001b[0m\u001b[0;34m\u001b[0m\u001b[0;34m\u001b[0m\u001b[0m\n",
            "\u001b[0;31mKeyError\u001b[0m: 'codigo_barra'"
          ]
        }
      ],
      "source": [
        "dados_completos = emprestimos.merge(acervo, how=\"left\", left_on=\"codigo_barras\", right_on=\"codigo_barra\")\n",
        "dados_completos.head()"
      ]
    },
    {
      "cell_type": "code",
      "execution_count": null,
      "metadata": {
        "colab": {
          "base_uri": "https://localhost:8080/"
        },
        "id": "D82sW0vASpFV",
        "outputId": "9582fc3f-33ce-4289-a866-2a1cdb7deb6f"
      },
      "outputs": [
        {
          "name": "stdout",
          "output_type": "stream",
          "text": [
            "Index(['id_exemplar', 'codigo_barras', 'colecao', 'biblioteca',\n",
            "       'status_material', 'localizacao', 'registro_sistema'],\n",
            "      dtype='object')\n"
          ]
        }
      ],
      "source": [
        "print(acervo.columns)"
      ]
    },
    {
      "cell_type": "code",
      "execution_count": null,
      "metadata": {
        "id": "W5kUiFX5S4td"
      },
      "outputs": [],
      "source": [
        "emprestimos.columns = emprestimos.columns.str.strip().str.lower()\n",
        "acervo.columns = acervo.columns.str.strip().str.lower()"
      ]
    },
    {
      "cell_type": "code",
      "execution_count": null,
      "metadata": {
        "id": "jk6mT7qfS6PC"
      },
      "outputs": [],
      "source": [
        "dados_completos = emprestimos.merge(acervo, how=\"left\", on=\"codigo_barras\")"
      ]
    },
    {
      "cell_type": "code",
      "execution_count": null,
      "metadata": {
        "colab": {
          "base_uri": "https://localhost:8080/"
        },
        "id": "Zg6owopnTCpS",
        "outputId": "bd5564a7-e636-4752-9d69-ccb4dbbb9ee2"
      },
      "outputs": [
        {
          "name": "stdout",
          "output_type": "stream",
          "text": [
            "   id_emprestimo codigo_barras                 data_renovacao  \\\n",
            "0        2962509    2007005628                            NaN   \n",
            "1        2962510       L202802                            NaN   \n",
            "2        2962511    2012008328                            NaN   \n",
            "3        2962512    2012055016  2020/01/17 09:56:18.380000000   \n",
            "4        2962513       L197391  2020/01/17 23:50:18.862000000   \n",
            "\n",
            "                 data_emprestimo                 data_devolucao  \\\n",
            "0  2020/01/02 08:17:30.290000000  2020/01/07 11:14:07.000000000   \n",
            "1  2020/01/02 08:17:30.391000000  2020/01/07 11:14:17.000000000   \n",
            "2  2020/01/02 08:17:30.436000000  2020/01/07 11:24:46.000000000   \n",
            "3  2020/01/02 08:36:40.163000000  2020/01/31 14:53:52.000000000   \n",
            "4  2020/01/02 09:36:03.877000000  2020/01/24 08:18:19.000000000   \n",
            "\n",
            "   matricula_ou_siape       tipo_vinculo_usuario  id_exemplar  \\\n",
            "0        2.018103e+10  ALUNO DE PÃS-GRADUAÃÃO     216276.0   \n",
            "1        2.018103e+10  ALUNO DE PÃS-GRADUAÃÃO          NaN   \n",
            "2        2.018103e+10  ALUNO DE PÃS-GRADUAÃÃO     971301.0   \n",
            "3        2.019015e+10       ALUNO DE GRADUAÃÃO    1019380.0   \n",
            "4        2.018005e+10       ALUNO DE GRADUAÃÃO     177552.0   \n",
            "\n",
            "             colecao                      biblioteca status_material  \\\n",
            "0  Acervo Circulante  Biblioteca Central Zila Mamede         REGULAR   \n",
            "1                NaN                             NaN             NaN   \n",
            "2  Acervo Circulante  Biblioteca Central Zila Mamede         REGULAR   \n",
            "3  Acervo Circulante  Biblioteca Central Zila Mamede         REGULAR   \n",
            "4  Acervo Circulante  Biblioteca Central Zila Mamede         REGULAR   \n",
            "\n",
            "   localizacao  registro_sistema  \n",
            "0        640.0           87626.0  \n",
            "1          NaN               NaN  \n",
            "2        350.0          176661.0  \n",
            "3        696.0          168729.0  \n",
            "4        699.0           67693.0  \n",
            "\n",
            "Informações gerais do DataFrame:\n",
            "<class 'pandas.core.frame.DataFrame'>\n",
            "RangeIndex: 2261816 entries, 0 to 2261815\n",
            "Data columns (total 13 columns):\n",
            " #   Column                Dtype  \n",
            "---  ------                -----  \n",
            " 0   id_emprestimo         int64  \n",
            " 1   codigo_barras         object \n",
            " 2   data_renovacao        object \n",
            " 3   data_emprestimo       object \n",
            " 4   data_devolucao        object \n",
            " 5   matricula_ou_siape    float64\n",
            " 6   tipo_vinculo_usuario  object \n",
            " 7   id_exemplar           float64\n",
            " 8   colecao               object \n",
            " 9   biblioteca            object \n",
            " 10  status_material       object \n",
            " 11  localizacao           float64\n",
            " 12  registro_sistema      float64\n",
            "dtypes: float64(4), int64(1), object(8)\n",
            "memory usage: 224.3+ MB\n",
            "None\n"
          ]
        }
      ],
      "source": [
        "print(dados_completos.head())\n",
        "print(\"\\nInformações gerais do DataFrame:\")\n",
        "print(dados_completos.info())"
      ]
    },
    {
      "cell_type": "code",
      "execution_count": null,
      "metadata": {
        "colab": {
          "base_uri": "https://localhost:8080/"
        },
        "id": "lklBlO7cTPY_",
        "outputId": "6ccc5793-e4e4-4d38-dab2-cc03655601d0"
      },
      "outputs": [
        {
          "name": "stdout",
          "output_type": "stream",
          "text": [
            "Total de registros após remover duplicatas: 2261779\n"
          ]
        }
      ],
      "source": [
        "dados_completos = dados_completos.drop_duplicates()\n",
        "print(f\"Total de registros após remover duplicatas: {len(dados_completos)}\")"
      ]
    },
    {
      "cell_type": "code",
      "execution_count": null,
      "metadata": {
        "colab": {
          "base_uri": "https://localhost:8080/"
        },
        "id": "a-rNMwhkTTmq",
        "outputId": "0f79d1b4-49d9-427f-9776-b657beb7fb89"
      },
      "outputs": [
        {
          "name": "stdout",
          "output_type": "stream",
          "text": [
            "id_emprestimo                 0\n",
            "codigo_barras                 0\n",
            "data_renovacao          1287952\n",
            "data_emprestimo               0\n",
            "data_devolucao             6484\n",
            "matricula_ou_siape         3171\n",
            "tipo_vinculo_usuario          0\n",
            "id_exemplar              189257\n",
            "colecao                  189257\n",
            "biblioteca               189257\n",
            "status_material          189257\n",
            "localizacao              189257\n",
            "registro_sistema         189257\n",
            "dtype: int64\n"
          ]
        }
      ],
      "source": [
        "print(dados_completos.isnull().sum())"
      ]
    },
    {
      "cell_type": "code",
      "execution_count": null,
      "metadata": {
        "id": "E0cmxMwoTwS2"
      },
      "outputs": [],
      "source": [
        "nulos = dados_completos.isnull().sum()"
      ]
    },
    {
      "cell_type": "code",
      "execution_count": null,
      "metadata": {
        "colab": {
          "base_uri": "https://localhost:8080/"
        },
        "id": "gBWo0YbnTzrX",
        "outputId": "36df322e-6606-4dc7-d9eb-693efaad031d"
      },
      "outputs": [
        {
          "name": "stdout",
          "output_type": "stream",
          "text": [
            "Colunas com valores nulos:\n",
            "data_renovacao        1287952\n",
            "data_devolucao           6484\n",
            "matricula_ou_siape       3171\n",
            "id_exemplar            189257\n",
            "colecao                189257\n",
            "biblioteca             189257\n",
            "status_material        189257\n",
            "localizacao            189257\n",
            "registro_sistema       189257\n",
            "dtype: int64\n"
          ]
        }
      ],
      "source": [
        "print(\"Colunas com valores nulos:\")\n",
        "print(nulos[nulos > 0])"
      ]
    },
    {
      "cell_type": "code",
      "execution_count": null,
      "metadata": {
        "colab": {
          "base_uri": "https://localhost:8080/"
        },
        "id": "-8Gs53UQT5F-",
        "outputId": "f4d99a79-85af-4f50-da6a-7da3e1404813"
      },
      "outputs": [
        {
          "name": "stdout",
          "output_type": "stream",
          "text": [
            "\n",
            "Percentual de nulos por coluna:\n",
            "data_renovacao        56.944202\n",
            "data_devolucao         0.286677\n",
            "matricula_ou_siape     0.140199\n",
            "id_exemplar            8.367617\n",
            "colecao                8.367617\n",
            "biblioteca             8.367617\n",
            "status_material        8.367617\n",
            "localizacao            8.367617\n",
            "registro_sistema       8.367617\n",
            "dtype: float64\n"
          ]
        }
      ],
      "source": [
        "percentual_nulos = (dados_completos.isnull().sum() / len(dados_completos)) * 100\n",
        "print(\"\\nPercentual de nulos por coluna:\")\n",
        "print(percentual_nulos[percentual_nulos > 0])"
      ]
    },
    {
      "cell_type": "code",
      "execution_count": null,
      "metadata": {
        "id": "Y7LBhx2NT5EJ"
      },
      "outputs": [],
      "source": [
        "dados_completos['tem_dados_essenciais'] = dados_completos['codigo_barras'].notna() & dados_completos['data_emprestimo'].notna()"
      ]
    },
    {
      "cell_type": "code",
      "execution_count": null,
      "metadata": {
        "colab": {
          "base_uri": "https://localhost:8080/"
        },
        "id": "Hv63lo-LUGvW",
        "outputId": "6193cb2d-7f79-4d7d-bd28-e929f8519652"
      },
      "outputs": [
        {
          "name": "stdout",
          "output_type": "stream",
          "text": [
            "  codigo_barras                data_emprestimo  tem_dados_essenciais\n",
            "0    2007005628  2020/01/02 08:17:30.290000000                  True\n",
            "1       L202802  2020/01/02 08:17:30.391000000                  True\n",
            "2    2012008328  2020/01/02 08:17:30.436000000                  True\n",
            "3    2012055016  2020/01/02 08:36:40.163000000                  True\n",
            "4       L197391  2020/01/02 09:36:03.877000000                  True\n"
          ]
        }
      ],
      "source": [
        "\n",
        "print(dados_completos[['codigo_barras','data_emprestimo','tem_dados_essenciais']].head())"
      ]
    },
    {
      "cell_type": "code",
      "execution_count": null,
      "metadata": {
        "id": "TfKMfslBUJCQ"
      },
      "outputs": [],
      "source": [
        "import pandas as pd"
      ]
    },
    {
      "cell_type": "code",
      "execution_count": null,
      "metadata": {
        "id": "50ceXLiGIWtU"
      },
      "outputs": [],
      "source": [
        "from google.colab import files"
      ]
    },
    {
      "cell_type": "code",
      "execution_count": null,
      "metadata": {
        "colab": {
          "base_uri": "https://localhost:8080/",
          "height": 802
        },
        "id": "ysJ64zSSIZB4",
        "outputId": "080ad5c5-2bf4-4151-8ad0-350ca0e74520"
      },
      "outputs": [
        {
          "data": {
            "text/html": [
              "\n",
              "     <input type=\"file\" id=\"files-6b311d9a-1c8a-4ab0-82fd-dd4aaa320e9e\" name=\"files[]\" multiple disabled\n",
              "        style=\"border:none\" />\n",
              "     <output id=\"result-6b311d9a-1c8a-4ab0-82fd-dd4aaa320e9e\">\n",
              "      Upload widget is only available when the cell has been executed in the\n",
              "      current browser session. Please rerun this cell to enable.\n",
              "      </output>\n",
              "      <script>// Copyright 2017 Google LLC\n",
              "//\n",
              "// Licensed under the Apache License, Version 2.0 (the \"License\");\n",
              "// you may not use this file except in compliance with the License.\n",
              "// You may obtain a copy of the License at\n",
              "//\n",
              "//      http://www.apache.org/licenses/LICENSE-2.0\n",
              "//\n",
              "// Unless required by applicable law or agreed to in writing, software\n",
              "// distributed under the License is distributed on an \"AS IS\" BASIS,\n",
              "// WITHOUT WARRANTIES OR CONDITIONS OF ANY KIND, either express or implied.\n",
              "// See the License for the specific language governing permissions and\n",
              "// limitations under the License.\n",
              "\n",
              "/**\n",
              " * @fileoverview Helpers for google.colab Python module.\n",
              " */\n",
              "(function(scope) {\n",
              "function span(text, styleAttributes = {}) {\n",
              "  const element = document.createElement('span');\n",
              "  element.textContent = text;\n",
              "  for (const key of Object.keys(styleAttributes)) {\n",
              "    element.style[key] = styleAttributes[key];\n",
              "  }\n",
              "  return element;\n",
              "}\n",
              "\n",
              "// Max number of bytes which will be uploaded at a time.\n",
              "const MAX_PAYLOAD_SIZE = 100 * 1024;\n",
              "\n",
              "function _uploadFiles(inputId, outputId) {\n",
              "  const steps = uploadFilesStep(inputId, outputId);\n",
              "  const outputElement = document.getElementById(outputId);\n",
              "  // Cache steps on the outputElement to make it available for the next call\n",
              "  // to uploadFilesContinue from Python.\n",
              "  outputElement.steps = steps;\n",
              "\n",
              "  return _uploadFilesContinue(outputId);\n",
              "}\n",
              "\n",
              "// This is roughly an async generator (not supported in the browser yet),\n",
              "// where there are multiple asynchronous steps and the Python side is going\n",
              "// to poll for completion of each step.\n",
              "// This uses a Promise to block the python side on completion of each step,\n",
              "// then passes the result of the previous step as the input to the next step.\n",
              "function _uploadFilesContinue(outputId) {\n",
              "  const outputElement = document.getElementById(outputId);\n",
              "  const steps = outputElement.steps;\n",
              "\n",
              "  const next = steps.next(outputElement.lastPromiseValue);\n",
              "  return Promise.resolve(next.value.promise).then((value) => {\n",
              "    // Cache the last promise value to make it available to the next\n",
              "    // step of the generator.\n",
              "    outputElement.lastPromiseValue = value;\n",
              "    return next.value.response;\n",
              "  });\n",
              "}\n",
              "\n",
              "/**\n",
              " * Generator function which is called between each async step of the upload\n",
              " * process.\n",
              " * @param {string} inputId Element ID of the input file picker element.\n",
              " * @param {string} outputId Element ID of the output display.\n",
              " * @return {!Iterable<!Object>} Iterable of next steps.\n",
              " */\n",
              "function* uploadFilesStep(inputId, outputId) {\n",
              "  const inputElement = document.getElementById(inputId);\n",
              "  inputElement.disabled = false;\n",
              "\n",
              "  const outputElement = document.getElementById(outputId);\n",
              "  outputElement.innerHTML = '';\n",
              "\n",
              "  const pickedPromise = new Promise((resolve) => {\n",
              "    inputElement.addEventListener('change', (e) => {\n",
              "      resolve(e.target.files);\n",
              "    });\n",
              "  });\n",
              "\n",
              "  const cancel = document.createElement('button');\n",
              "  inputElement.parentElement.appendChild(cancel);\n",
              "  cancel.textContent = 'Cancel upload';\n",
              "  const cancelPromise = new Promise((resolve) => {\n",
              "    cancel.onclick = () => {\n",
              "      resolve(null);\n",
              "    };\n",
              "  });\n",
              "\n",
              "  // Wait for the user to pick the files.\n",
              "  const files = yield {\n",
              "    promise: Promise.race([pickedPromise, cancelPromise]),\n",
              "    response: {\n",
              "      action: 'starting',\n",
              "    }\n",
              "  };\n",
              "\n",
              "  cancel.remove();\n",
              "\n",
              "  // Disable the input element since further picks are not allowed.\n",
              "  inputElement.disabled = true;\n",
              "\n",
              "  if (!files) {\n",
              "    return {\n",
              "      response: {\n",
              "        action: 'complete',\n",
              "      }\n",
              "    };\n",
              "  }\n",
              "\n",
              "  for (const file of files) {\n",
              "    const li = document.createElement('li');\n",
              "    li.append(span(file.name, {fontWeight: 'bold'}));\n",
              "    li.append(span(\n",
              "        `(${file.type || 'n/a'}) - ${file.size} bytes, ` +\n",
              "        `last modified: ${\n",
              "            file.lastModifiedDate ? file.lastModifiedDate.toLocaleDateString() :\n",
              "                                    'n/a'} - `));\n",
              "    const percent = span('0% done');\n",
              "    li.appendChild(percent);\n",
              "\n",
              "    outputElement.appendChild(li);\n",
              "\n",
              "    const fileDataPromise = new Promise((resolve) => {\n",
              "      const reader = new FileReader();\n",
              "      reader.onload = (e) => {\n",
              "        resolve(e.target.result);\n",
              "      };\n",
              "      reader.readAsArrayBuffer(file);\n",
              "    });\n",
              "    // Wait for the data to be ready.\n",
              "    let fileData = yield {\n",
              "      promise: fileDataPromise,\n",
              "      response: {\n",
              "        action: 'continue',\n",
              "      }\n",
              "    };\n",
              "\n",
              "    // Use a chunked sending to avoid message size limits. See b/62115660.\n",
              "    let position = 0;\n",
              "    do {\n",
              "      const length = Math.min(fileData.byteLength - position, MAX_PAYLOAD_SIZE);\n",
              "      const chunk = new Uint8Array(fileData, position, length);\n",
              "      position += length;\n",
              "\n",
              "      const base64 = btoa(String.fromCharCode.apply(null, chunk));\n",
              "      yield {\n",
              "        response: {\n",
              "          action: 'append',\n",
              "          file: file.name,\n",
              "          data: base64,\n",
              "        },\n",
              "      };\n",
              "\n",
              "      let percentDone = fileData.byteLength === 0 ?\n",
              "          100 :\n",
              "          Math.round((position / fileData.byteLength) * 100);\n",
              "      percent.textContent = `${percentDone}% done`;\n",
              "\n",
              "    } while (position < fileData.byteLength);\n",
              "  }\n",
              "\n",
              "  // All done.\n",
              "  yield {\n",
              "    response: {\n",
              "      action: 'complete',\n",
              "    }\n",
              "  };\n",
              "}\n",
              "\n",
              "scope.google = scope.google || {};\n",
              "scope.google.colab = scope.google.colab || {};\n",
              "scope.google.colab._files = {\n",
              "  _uploadFiles,\n",
              "  _uploadFilesContinue,\n",
              "};\n",
              "})(self);\n",
              "</script> "
            ],
            "text/plain": [
              "<IPython.core.display.HTML object>"
            ]
          },
          "metadata": {},
          "output_type": "display_data"
        },
        {
          "name": "stdout",
          "output_type": "stream",
          "text": [
            "Saving emprestimos-20201.csv to emprestimos-20201.csv\n",
            "Saving emprestimos-20192.csv to emprestimos-20192.csv\n",
            "Saving emprestimos-20191.csv to emprestimos-20191.csv\n",
            "Saving emprestimos-20182.csv to emprestimos-20182.csv\n",
            "Saving emprestimos-20181.csv to emprestimos-20181.csv\n",
            "Saving emprestimos-20172.csv to emprestimos-20172.csv\n",
            "Saving emprestimos-20171.csv to emprestimos-20171.csv\n",
            "Saving emprestimos-20162.csv to emprestimos-20162.csv\n",
            "Saving emprestimos-20161.csv to emprestimos-20161.csv\n",
            "Saving emprestimos-20152.csv to emprestimos-20152.csv\n",
            "Saving emprestimos-20151.csv to emprestimos-20151.csv\n",
            "Saving emprestimos-20142.csv to emprestimos-20142.csv\n",
            "Saving emprestimos-20141.csv to emprestimos-20141.csv\n",
            "Saving emprestimos-20132.csv to emprestimos-20132.csv\n",
            "Saving emprestimos-20131.csv to emprestimos-20131.csv\n",
            "Saving emprestimos-20122.csv to emprestimos-20122.csv\n",
            "Saving emprestimos-20121.csv to emprestimos-20121.csv\n",
            "Saving emprestimos-20112.csv to emprestimos-20112.csv\n",
            "Saving emprestimos-20111.csv to emprestimos-20111.csv\n",
            "Saving emprestimos-20102.csv to emprestimos-20102.csv\n",
            "Saving emprestimos-20101.csv to emprestimos-20101.csv\n",
            "Saving dados_exemplares.parquet to dados_exemplares.parquet\n"
          ]
        }
      ],
      "source": [
        "uploaded = files.upload()"
      ]
    },
    {
      "cell_type": "code",
      "execution_count": null,
      "metadata": {
        "id": "u3HvMOaCMLLs"
      },
      "outputs": [],
      "source": [
        "import pandas as pd"
      ]
    },
    {
      "cell_type": "code",
      "execution_count": null,
      "metadata": {
        "id": "6oKAnQQnMb-H"
      },
      "outputs": [],
      "source": [
        "acervo = pd.read_parquet(\"dados_exemplares.parquet\")"
      ]
    },
    {
      "cell_type": "code",
      "execution_count": null,
      "metadata": {
        "id": "2gLZ3HIwMtl4"
      },
      "outputs": [],
      "source": [
        "import pandas as pd"
      ]
    },
    {
      "cell_type": "code",
      "execution_count": null,
      "metadata": {
        "colab": {
          "base_uri": "https://localhost:8080/"
        },
        "id": "49toKbhRMwOp",
        "outputId": "4583237d-71e5-4a0a-a837-b6e8100a65fd"
      },
      "outputs": [
        {
          "name": "stdout",
          "output_type": "stream",
          "text": [
            "Lendo emprestimos-20201.csv...\n",
            "Lendo emprestimos-20192.csv...\n",
            "Lendo emprestimos-20191.csv...\n",
            "Lendo emprestimos-20182.csv...\n",
            "Lendo emprestimos-20181.csv...\n",
            "Lendo emprestimos-20172.csv...\n",
            "Lendo emprestimos-20171.csv...\n",
            "Lendo emprestimos-20162.csv...\n",
            "Lendo emprestimos-20161.csv...\n",
            "Lendo emprestimos-20152.csv...\n",
            "Lendo emprestimos-20151.csv...\n",
            "Lendo emprestimos-20142.csv...\n",
            "Lendo emprestimos-20141.csv...\n",
            "Lendo emprestimos-20132.csv...\n",
            "Lendo emprestimos-20131.csv...\n",
            "Lendo emprestimos-20122.csv...\n",
            "Lendo emprestimos-20121.csv...\n",
            "Lendo emprestimos-20112.csv...\n",
            "Lendo emprestimos-20111.csv...\n",
            "Lendo emprestimos-20102.csv...\n",
            "Lendo emprestimos-20101.csv...\n",
            "Total de registros de empréstimos: 2258018\n",
            "  id_emprestimo,codigo_barras,data_renovacao,data_emprestimo,data_devolucao,matricula_ou_siape,tipo_vinculo_usuario\n",
            "0  2962509,2007005628,,2020/01/02 08:17:30.290000...                                                               \n",
            "1  2962510,L202802,,2020/01/02 08:17:30.391000000...                                                               \n",
            "2  2962511,2012008328,,2020/01/02 08:17:30.436000...                                                               \n",
            "3  2962512,2012055016,2020/01/17 09:56:18.3800000...                                                               \n",
            "4  2962513,L197391,2020/01/17 23:50:18.862000000,...                                                               \n"
          ]
        }
      ],
      "source": [
        "emprestimos_dfs = []\n",
        "for nome_arquivo in uploaded.keys():\n",
        "    if nome_arquivo.endswith('.csv'):\n",
        "        print(f\"Lendo {nome_arquivo}...\")\n",
        "        df = pd.read_csv(nome_arquivo, sep=\";\", encoding=\"ISO-8859-1\", low_memory=False)\n",
        "        emprestimos_dfs.append(df)\n",
        "\n",
        "emprestimos = pd.concat(emprestimos_dfs, ignore_index=True)\n",
        "print(f\"Total de registros de empréstimos: {len(emprestimos)}\")\n",
        "print(emprestimos.head())"
      ]
    },
    {
      "cell_type": "code",
      "execution_count": null,
      "metadata": {
        "id": "UxMwaANUN441"
      },
      "outputs": [],
      "source": [
        "df = pd.read_csv(\n",
        "    nome_arquivo,\n",
        "    sep=None,             # detecta automaticamente o separador\n",
        "    engine=\"python\",\n",
        "    encoding=\"ISO-8859-1\",\n",
        "    on_bad_lines=\"skip\"   # ignora linhas problemáticas\n",
        ")"
      ]
    },
    {
      "cell_type": "code",
      "execution_count": null,
      "metadata": {
        "id": "PTVukcDgN-z5"
      },
      "outputs": [],
      "source": [
        "emprestimos_dfs = []"
      ]
    },
    {
      "cell_type": "code",
      "execution_count": null,
      "metadata": {
        "colab": {
          "base_uri": "https://localhost:8080/"
        },
        "id": "WMqASNihOEBa",
        "outputId": "795e9977-4a10-4514-c9b3-601c383b8519"
      },
      "outputs": [
        {
          "name": "stdout",
          "output_type": "stream",
          "text": [
            "Lendo emprestimos-20201.csv...\n",
            "Lendo emprestimos-20192.csv...\n",
            "Lendo emprestimos-20191.csv...\n",
            "Lendo emprestimos-20182.csv...\n",
            "Lendo emprestimos-20181.csv...\n",
            "Lendo emprestimos-20172.csv...\n",
            "Lendo emprestimos-20171.csv...\n",
            "Lendo emprestimos-20162.csv...\n",
            "Lendo emprestimos-20161.csv...\n",
            "Lendo emprestimos-20152.csv...\n",
            "Lendo emprestimos-20151.csv...\n",
            "Lendo emprestimos-20142.csv...\n",
            "Lendo emprestimos-20141.csv...\n",
            "Lendo emprestimos-20132.csv...\n",
            "Lendo emprestimos-20131.csv...\n",
            "Lendo emprestimos-20122.csv...\n",
            "Lendo emprestimos-20121.csv...\n",
            "Lendo emprestimos-20112.csv...\n",
            "Lendo emprestimos-20111.csv...\n",
            "Lendo emprestimos-20102.csv...\n",
            "Lendo emprestimos-20101.csv...\n"
          ]
        }
      ],
      "source": [
        "for nome_arquivo in uploaded.keys():\n",
        "    if nome_arquivo.endswith('.csv'):\n",
        "        print(f\"Lendo {nome_arquivo}...\")\n",
        "        df = pd.read_csv(\n",
        "            nome_arquivo,\n",
        "            sep=None,\n",
        "            engine=\"python\",\n",
        "            encoding=\"ISO-8859-1\",\n",
        "            on_bad_lines=\"skip\"\n",
        "        )\n",
        "        emprestimos_dfs.append(df)"
      ]
    },
    {
      "cell_type": "code",
      "execution_count": null,
      "metadata": {
        "id": "o-PqlfAWOLHf"
      },
      "outputs": [],
      "source": [
        "emprestimos = pd.concat(emprestimos_dfs, ignore_index=True)"
      ]
    },
    {
      "cell_type": "code",
      "execution_count": null,
      "metadata": {
        "colab": {
          "base_uri": "https://localhost:8080/"
        },
        "id": "qSHf_fWVON-S",
        "outputId": "c83b1acd-cb12-49e7-9038-c5057cb1bd43"
      },
      "outputs": [
        {
          "name": "stdout",
          "output_type": "stream",
          "text": [
            "Total de registros de empréstimos: 2258018\n",
            "   id_emprestimo codigo_barras                 data_renovacao  \\\n",
            "0        2962509    2007005628                            NaN   \n",
            "1        2962510       L202802                            NaN   \n",
            "2        2962511    2012008328                            NaN   \n",
            "3        2962512    2012055016  2020/01/17 09:56:18.380000000   \n",
            "4        2962513       L197391  2020/01/17 23:50:18.862000000   \n",
            "\n",
            "                 data_emprestimo                 data_devolucao  \\\n",
            "0  2020/01/02 08:17:30.290000000  2020/01/07 11:14:07.000000000   \n",
            "1  2020/01/02 08:17:30.391000000  2020/01/07 11:14:17.000000000   \n",
            "2  2020/01/02 08:17:30.436000000  2020/01/07 11:24:46.000000000   \n",
            "3  2020/01/02 08:36:40.163000000  2020/01/31 14:53:52.000000000   \n",
            "4  2020/01/02 09:36:03.877000000  2020/01/24 08:18:19.000000000   \n",
            "\n",
            "   matricula_ou_siape       tipo_vinculo_usuario  \n",
            "0        2.018103e+10  ALUNO DE PÃS-GRADUAÃÃO  \n",
            "1        2.018103e+10  ALUNO DE PÃS-GRADUAÃÃO  \n",
            "2        2.018103e+10  ALUNO DE PÃS-GRADUAÃÃO  \n",
            "3        2.019015e+10       ALUNO DE GRADUAÃÃO  \n",
            "4        2.018005e+10       ALUNO DE GRADUAÃÃO  \n"
          ]
        }
      ],
      "source": [
        "print(f\"Total de registros de empréstimos: {len(emprestimos)}\")\n",
        "print(emprestimos.head())"
      ]
    },
    {
      "cell_type": "code",
      "execution_count": null,
      "metadata": {
        "id": "Z4TwGU-gOnKP"
      },
      "outputs": [],
      "source": [
        "import pandas as pd"
      ]
    },
    {
      "cell_type": "code",
      "execution_count": null,
      "metadata": {
        "colab": {
          "base_uri": "https://localhost:8080/"
        },
        "id": "0ZI5GQpJOsiC",
        "outputId": "288da9a6-8fcc-4318-83ca-797fc5076429"
      },
      "outputs": [
        {
          "name": "stdout",
          "output_type": "stream",
          "text": [
            "Collecting unidecode\n",
            "  Downloading Unidecode-1.4.0-py3-none-any.whl.metadata (13 kB)\n",
            "Downloading Unidecode-1.4.0-py3-none-any.whl (235 kB)\n",
            "\u001b[?25l   \u001b[90m━━━━━━━━━━━━━━━━━━━━━━━━━━━━━━━━━━━━━━━━\u001b[0m \u001b[32m0.0/235.8 kB\u001b[0m \u001b[31m?\u001b[0m eta \u001b[36m-:--:--\u001b[0m\r\u001b[2K   \u001b[91m━━━━━━━━━━━━━━━━━━━━\u001b[0m\u001b[91m╸\u001b[0m\u001b[90m━━━━━━━━━━━━━━━━━━━\u001b[0m \u001b[32m122.9/235.8 kB\u001b[0m \u001b[31m3.5 MB/s\u001b[0m eta \u001b[36m0:00:01\u001b[0m\r\u001b[2K   \u001b[90m━━━━━━━━━━━━━━━━━━━━━━━━━━━━━━━━━━━━━━━━\u001b[0m \u001b[32m235.8/235.8 kB\u001b[0m \u001b[31m4.0 MB/s\u001b[0m eta \u001b[36m0:00:00\u001b[0m\n",
            "\u001b[?25hInstalling collected packages: unidecode\n",
            "Successfully installed unidecode-1.4.0\n"
          ]
        }
      ],
      "source": [
        "!pip install unidecode"
      ]
    },
    {
      "cell_type": "code",
      "execution_count": null,
      "metadata": {
        "id": "JNY9AuvsPCPv"
      },
      "outputs": [],
      "source": [
        "import pandas as pd"
      ]
    },
    {
      "cell_type": "code",
      "execution_count": null,
      "metadata": {
        "id": "BMf0UEsDPDaC"
      },
      "outputs": [],
      "source": [
        "import unidecode"
      ]
    },
    {
      "cell_type": "code",
      "execution_count": null,
      "metadata": {
        "id": "GehUtEaVPGBW"
      },
      "outputs": [],
      "source": [
        "import glob"
      ]
    },
    {
      "cell_type": "code",
      "execution_count": null,
      "metadata": {
        "id": "3C6Y3-6FPLDo"
      },
      "outputs": [],
      "source": [
        "arquivos = glob.glob(\"*.csv\")"
      ]
    },
    {
      "cell_type": "code",
      "execution_count": null,
      "metadata": {
        "colab": {
          "base_uri": "https://localhost:8080/"
        },
        "id": "450Xwe3mPT6I",
        "outputId": "c0a241ef-6b8e-45e4-907c-02d70f4e7d39"
      },
      "outputs": [
        {
          "name": "stdout",
          "output_type": "stream",
          "text": [
            "Lendo emprestimos-20162.csv...\n",
            "Lendo emprestimos-20141.csv...\n",
            "Lendo emprestimos-20191.csv...\n",
            "Lendo emprestimos-20122.csv...\n",
            "Lendo emprestimos-20131.csv...\n",
            "Lendo emprestimos-20142.csv...\n",
            "Lendo emprestimos-20132.csv...\n",
            "Lendo emprestimos-20101.csv...\n",
            "Lendo emprestimos-20161.csv...\n",
            "Lendo emprestimos-20172.csv...\n",
            "Lendo emprestimos-20151.csv...\n",
            "Lendo emprestimos-20111.csv...\n",
            "Lendo emprestimos-20181.csv...\n",
            "Lendo emprestimos-20171.csv...\n",
            "Lendo emprestimos-20121.csv...\n",
            "Lendo emprestimos-20152.csv...\n",
            "Lendo emprestimos-20112.csv...\n",
            "Lendo emprestimos-20192.csv...\n",
            "Lendo emprestimos-20102.csv...\n",
            "Lendo emprestimos-20182.csv...\n",
            "Lendo emprestimos-20201.csv...\n"
          ]
        }
      ],
      "source": [
        "dfs = []\n",
        "for nome_arquivo in arquivos:\n",
        "    print(f\"Lendo {nome_arquivo}...\")\n",
        "    try:\n",
        "        df = pd.read_csv(nome_arquivo, sep=\";\", encoding=\"ISO-8859-1\", on_bad_lines=\"skip\", low_memory=False)\n",
        "        dfs.append(df)\n",
        "    except Exception as e:\n",
        "        print(f\"Erro ao ler {nome_arquivo}: {e}\")"
      ]
    },
    {
      "cell_type": "code",
      "execution_count": null,
      "metadata": {
        "id": "ywCobZXlPYZm"
      },
      "outputs": [],
      "source": [
        "acervo = pd.concat(dfs, ignore_index=True)"
      ]
    },
    {
      "cell_type": "code",
      "execution_count": null,
      "metadata": {
        "colab": {
          "base_uri": "https://localhost:8080/"
        },
        "id": "mz8NOJDoPd00",
        "outputId": "8b16d58e-108f-469e-ba66-f83c2af58d82"
      },
      "outputs": [
        {
          "name": "stderr",
          "output_type": "stream",
          "text": [
            "/tmp/ipython-input-799821404.py:1: FutureWarning: DataFrame.applymap has been deprecated. Use DataFrame.map instead.\n",
            "  acervo = acervo.applymap(lambda x: unidecode.unidecode(x) if isinstance(x, str) else x)\n"
          ]
        }
      ],
      "source": [
        "acervo = acervo.applymap(lambda x: unidecode.unidecode(x) if isinstance(x, str) else x)"
      ]
    },
    {
      "cell_type": "code",
      "execution_count": null,
      "metadata": {
        "id": "LtvTlFQIP3Pl"
      },
      "outputs": [],
      "source": [
        "acervo.columns = [unidecode.unidecode(col).lower() for col in acervo.columns]"
      ]
    },
    {
      "cell_type": "code",
      "execution_count": null,
      "metadata": {
        "colab": {
          "base_uri": "https://localhost:8080/"
        },
        "id": "JoQeTH_KP45p",
        "outputId": "bb47df49-f9ae-4260-86d4-52d17cf9cf99"
      },
      "outputs": [
        {
          "name": "stdout",
          "output_type": "stream",
          "text": [
            "Total de registros: 2257981\n",
            "  id_emprestimo,codigo_barras,data_renovacao,data_emprestimo,data_devolucao,matricula_ou_siape,tipo_vinculo_usuario\n",
            "0  2244075,2014000938,2016/07/18 08:45:47.1440000...                                                               \n",
            "1  2244076,2014068108,,2016/07/01 08:15:16.838000...                                                               \n",
            "2  2244077,2011019724,,2016/07/01 08:23:08.484000...                                                               \n",
            "3  2244078,2013087606,,2016/07/01 08:28:36.707000...                                                               \n",
            "4  2244079,2015035561,2016/07/17 10:04:58.0430000...                                                               \n"
          ]
        }
      ],
      "source": [
        "print(f\"Total de registros: {len(acervo)}\")\n",
        "print(acervo.head())"
      ]
    },
    {
      "cell_type": "code",
      "execution_count": null,
      "metadata": {
        "id": "-FHKHNFzQGbW"
      },
      "outputs": [],
      "source": [
        "acervo = acervo.dropna(how=\"all\")"
      ]
    },
    {
      "cell_type": "code",
      "execution_count": null,
      "metadata": {
        "id": "O8inz_YmQO0t"
      },
      "outputs": [],
      "source": [
        "acervo = acervo.drop_duplicates()"
      ]
    },
    {
      "cell_type": "code",
      "execution_count": null,
      "metadata": {
        "colab": {
          "base_uri": "https://localhost:8080/"
        },
        "id": "3Zp-cN39QS4y",
        "outputId": "e9f1b5ba-c75c-41de-d7eb-86a7cd0d929f"
      },
      "outputs": [
        {
          "name": "stdout",
          "output_type": "stream",
          "text": [
            "Total de registros após limpeza: 2257981\n"
          ]
        }
      ],
      "source": [
        "print(f\"Total de registros após limpeza: {len(acervo)}\")"
      ]
    },
    {
      "cell_type": "code",
      "execution_count": null,
      "metadata": {
        "id": "weFMNh7eQUQ5"
      },
      "outputs": [],
      "source": [
        "acervo.to_csv(\"acervo_limpo.csv\", sep=\";\", index=False, encoding=\"utf-8\")"
      ]
    },
    {
      "cell_type": "code",
      "execution_count": null,
      "metadata": {
        "id": "a1IQG737UhHM"
      },
      "outputs": [],
      "source": [
        "import pandas as pd"
      ]
    },
    {
      "cell_type": "code",
      "execution_count": null,
      "metadata": {
        "id": "ChWb4UkfUoMy"
      },
      "outputs": [],
      "source": [
        "def mapear_cdu(codigo):\n",
        "    try:\n",
        "        codigo = int(codigo)\n",
        "        if 0 <= codigo <= 99:\n",
        "            return \"Generalidades. Ciência e conhecimento\"\n",
        "        elif 100 <= codigo <= 199:\n",
        "            return \"Filosofia e psicologia\"\n",
        "        elif 200 <= codigo <= 299:\n",
        "            return \"Religião\"\n",
        "        elif 300 <= codigo <= 399:\n",
        "            return \"Ciências sociais\"\n",
        "        elif 400 <= codigo <= 499:\n",
        "            return \"Classe vaga. Provisoriamente não ocupada\"\n",
        "        elif 500 <= codigo <= 599:\n",
        "            return \"Matemática e ciências naturais\"\n",
        "        elif 600 <= codigo <= 699:\n",
        "            return \"Ciências aplicadas\"\n",
        "        elif 700 <= codigo <= 799:\n",
        "            return \"Belas artes\"\n",
        "        elif 800 <= codigo <= 899:\n",
        "            return \"Linguagem. Língua. Linguística\"\n",
        "        elif 900 <= codigo <= 999:\n",
        "            return \"Geografia. Biografia. História\"\n",
        "        else:\n",
        "            return \"Código inválido\"\n",
        "    except:\n",
        "        return \"Não informado\""
      ]
    },
    {
      "cell_type": "code",
      "execution_count": null,
      "metadata": {
        "id": "Xs2NKHrRVcWU"
      },
      "outputs": [],
      "source": [
        "import pandas as pd"
      ]
    },
    {
      "cell_type": "code",
      "execution_count": null,
      "metadata": {
        "id": "r9I-m9PAVe1m"
      },
      "outputs": [],
      "source": [
        "from google.colab import files"
      ]
    },
    {
      "cell_type": "code",
      "execution_count": null,
      "metadata": {
        "colab": {
          "base_uri": "https://localhost:8080/",
          "height": 802
        },
        "id": "cn-FqqFmVh0P",
        "outputId": "1e79a702-9d54-41cd-acec-06927c5d09bc"
      },
      "outputs": [
        {
          "data": {
            "text/html": [
              "\n",
              "     <input type=\"file\" id=\"files-9159acad-bacf-4bfa-9e38-12a6f7077056\" name=\"files[]\" multiple disabled\n",
              "        style=\"border:none\" />\n",
              "     <output id=\"result-9159acad-bacf-4bfa-9e38-12a6f7077056\">\n",
              "      Upload widget is only available when the cell has been executed in the\n",
              "      current browser session. Please rerun this cell to enable.\n",
              "      </output>\n",
              "      <script>// Copyright 2017 Google LLC\n",
              "//\n",
              "// Licensed under the Apache License, Version 2.0 (the \"License\");\n",
              "// you may not use this file except in compliance with the License.\n",
              "// You may obtain a copy of the License at\n",
              "//\n",
              "//      http://www.apache.org/licenses/LICENSE-2.0\n",
              "//\n",
              "// Unless required by applicable law or agreed to in writing, software\n",
              "// distributed under the License is distributed on an \"AS IS\" BASIS,\n",
              "// WITHOUT WARRANTIES OR CONDITIONS OF ANY KIND, either express or implied.\n",
              "// See the License for the specific language governing permissions and\n",
              "// limitations under the License.\n",
              "\n",
              "/**\n",
              " * @fileoverview Helpers for google.colab Python module.\n",
              " */\n",
              "(function(scope) {\n",
              "function span(text, styleAttributes = {}) {\n",
              "  const element = document.createElement('span');\n",
              "  element.textContent = text;\n",
              "  for (const key of Object.keys(styleAttributes)) {\n",
              "    element.style[key] = styleAttributes[key];\n",
              "  }\n",
              "  return element;\n",
              "}\n",
              "\n",
              "// Max number of bytes which will be uploaded at a time.\n",
              "const MAX_PAYLOAD_SIZE = 100 * 1024;\n",
              "\n",
              "function _uploadFiles(inputId, outputId) {\n",
              "  const steps = uploadFilesStep(inputId, outputId);\n",
              "  const outputElement = document.getElementById(outputId);\n",
              "  // Cache steps on the outputElement to make it available for the next call\n",
              "  // to uploadFilesContinue from Python.\n",
              "  outputElement.steps = steps;\n",
              "\n",
              "  return _uploadFilesContinue(outputId);\n",
              "}\n",
              "\n",
              "// This is roughly an async generator (not supported in the browser yet),\n",
              "// where there are multiple asynchronous steps and the Python side is going\n",
              "// to poll for completion of each step.\n",
              "// This uses a Promise to block the python side on completion of each step,\n",
              "// then passes the result of the previous step as the input to the next step.\n",
              "function _uploadFilesContinue(outputId) {\n",
              "  const outputElement = document.getElementById(outputId);\n",
              "  const steps = outputElement.steps;\n",
              "\n",
              "  const next = steps.next(outputElement.lastPromiseValue);\n",
              "  return Promise.resolve(next.value.promise).then((value) => {\n",
              "    // Cache the last promise value to make it available to the next\n",
              "    // step of the generator.\n",
              "    outputElement.lastPromiseValue = value;\n",
              "    return next.value.response;\n",
              "  });\n",
              "}\n",
              "\n",
              "/**\n",
              " * Generator function which is called between each async step of the upload\n",
              " * process.\n",
              " * @param {string} inputId Element ID of the input file picker element.\n",
              " * @param {string} outputId Element ID of the output display.\n",
              " * @return {!Iterable<!Object>} Iterable of next steps.\n",
              " */\n",
              "function* uploadFilesStep(inputId, outputId) {\n",
              "  const inputElement = document.getElementById(inputId);\n",
              "  inputElement.disabled = false;\n",
              "\n",
              "  const outputElement = document.getElementById(outputId);\n",
              "  outputElement.innerHTML = '';\n",
              "\n",
              "  const pickedPromise = new Promise((resolve) => {\n",
              "    inputElement.addEventListener('change', (e) => {\n",
              "      resolve(e.target.files);\n",
              "    });\n",
              "  });\n",
              "\n",
              "  const cancel = document.createElement('button');\n",
              "  inputElement.parentElement.appendChild(cancel);\n",
              "  cancel.textContent = 'Cancel upload';\n",
              "  const cancelPromise = new Promise((resolve) => {\n",
              "    cancel.onclick = () => {\n",
              "      resolve(null);\n",
              "    };\n",
              "  });\n",
              "\n",
              "  // Wait for the user to pick the files.\n",
              "  const files = yield {\n",
              "    promise: Promise.race([pickedPromise, cancelPromise]),\n",
              "    response: {\n",
              "      action: 'starting',\n",
              "    }\n",
              "  };\n",
              "\n",
              "  cancel.remove();\n",
              "\n",
              "  // Disable the input element since further picks are not allowed.\n",
              "  inputElement.disabled = true;\n",
              "\n",
              "  if (!files) {\n",
              "    return {\n",
              "      response: {\n",
              "        action: 'complete',\n",
              "      }\n",
              "    };\n",
              "  }\n",
              "\n",
              "  for (const file of files) {\n",
              "    const li = document.createElement('li');\n",
              "    li.append(span(file.name, {fontWeight: 'bold'}));\n",
              "    li.append(span(\n",
              "        `(${file.type || 'n/a'}) - ${file.size} bytes, ` +\n",
              "        `last modified: ${\n",
              "            file.lastModifiedDate ? file.lastModifiedDate.toLocaleDateString() :\n",
              "                                    'n/a'} - `));\n",
              "    const percent = span('0% done');\n",
              "    li.appendChild(percent);\n",
              "\n",
              "    outputElement.appendChild(li);\n",
              "\n",
              "    const fileDataPromise = new Promise((resolve) => {\n",
              "      const reader = new FileReader();\n",
              "      reader.onload = (e) => {\n",
              "        resolve(e.target.result);\n",
              "      };\n",
              "      reader.readAsArrayBuffer(file);\n",
              "    });\n",
              "    // Wait for the data to be ready.\n",
              "    let fileData = yield {\n",
              "      promise: fileDataPromise,\n",
              "      response: {\n",
              "        action: 'continue',\n",
              "      }\n",
              "    };\n",
              "\n",
              "    // Use a chunked sending to avoid message size limits. See b/62115660.\n",
              "    let position = 0;\n",
              "    do {\n",
              "      const length = Math.min(fileData.byteLength - position, MAX_PAYLOAD_SIZE);\n",
              "      const chunk = new Uint8Array(fileData, position, length);\n",
              "      position += length;\n",
              "\n",
              "      const base64 = btoa(String.fromCharCode.apply(null, chunk));\n",
              "      yield {\n",
              "        response: {\n",
              "          action: 'append',\n",
              "          file: file.name,\n",
              "          data: base64,\n",
              "        },\n",
              "      };\n",
              "\n",
              "      let percentDone = fileData.byteLength === 0 ?\n",
              "          100 :\n",
              "          Math.round((position / fileData.byteLength) * 100);\n",
              "      percent.textContent = `${percentDone}% done`;\n",
              "\n",
              "    } while (position < fileData.byteLength);\n",
              "  }\n",
              "\n",
              "  // All done.\n",
              "  yield {\n",
              "    response: {\n",
              "      action: 'complete',\n",
              "    }\n",
              "  };\n",
              "}\n",
              "\n",
              "scope.google = scope.google || {};\n",
              "scope.google.colab = scope.google.colab || {};\n",
              "scope.google.colab._files = {\n",
              "  _uploadFiles,\n",
              "  _uploadFilesContinue,\n",
              "};\n",
              "})(self);\n",
              "</script> "
            ],
            "text/plain": [
              "<IPython.core.display.HTML object>"
            ]
          },
          "metadata": {},
          "output_type": "display_data"
        },
        {
          "name": "stdout",
          "output_type": "stream",
          "text": [
            "Saving emprestimos-20201.csv to emprestimos-20201 (1).csv\n",
            "Saving emprestimos-20192.csv to emprestimos-20192 (1).csv\n",
            "Saving emprestimos-20191.csv to emprestimos-20191 (1).csv\n",
            "Saving emprestimos-20182.csv to emprestimos-20182 (1).csv\n",
            "Saving emprestimos-20181.csv to emprestimos-20181 (1).csv\n",
            "Saving emprestimos-20172.csv to emprestimos-20172 (1).csv\n",
            "Saving emprestimos-20171.csv to emprestimos-20171 (1).csv\n",
            "Saving emprestimos-20162.csv to emprestimos-20162 (1).csv\n",
            "Saving emprestimos-20161.csv to emprestimos-20161 (1).csv\n",
            "Saving emprestimos-20152.csv to emprestimos-20152 (1).csv\n",
            "Saving emprestimos-20151.csv to emprestimos-20151 (1).csv\n",
            "Saving emprestimos-20142.csv to emprestimos-20142 (1).csv\n",
            "Saving emprestimos-20141.csv to emprestimos-20141 (1).csv\n",
            "Saving emprestimos-20132.csv to emprestimos-20132 (1).csv\n",
            "Saving emprestimos-20131.csv to emprestimos-20131 (1).csv\n",
            "Saving emprestimos-20122.csv to emprestimos-20122 (1).csv\n",
            "Saving emprestimos-20121.csv to emprestimos-20121 (1).csv\n",
            "Saving emprestimos-20112.csv to emprestimos-20112 (1).csv\n",
            "Saving emprestimos-20111.csv to emprestimos-20111 (1).csv\n",
            "Saving emprestimos-20102.csv to emprestimos-20102 (1).csv\n",
            "Saving emprestimos-20101.csv to emprestimos-20101 (1).csv\n",
            "Saving dados_exemplares.parquet to dados_exemplares (1).parquet\n"
          ]
        }
      ],
      "source": [
        "uploaded = files.upload()"
      ]
    },
    {
      "cell_type": "code",
      "execution_count": null,
      "metadata": {
        "colab": {
          "base_uri": "https://localhost:8080/"
        },
        "id": "bF33Ay0KY5KQ",
        "outputId": "76d5fc90-00d1-4d54-b17f-96fff7edd955"
      },
      "outputs": [
        {
          "name": "stdout",
          "output_type": "stream",
          "text": [
            "Lendo emprestimos-20201 (1).csv...\n",
            "Lendo emprestimos-20192 (1).csv...\n",
            "Lendo emprestimos-20191 (1).csv...\n",
            "Lendo emprestimos-20182 (1).csv...\n",
            "Lendo emprestimos-20181 (1).csv...\n",
            "Lendo emprestimos-20172 (1).csv...\n",
            "Lendo emprestimos-20171 (1).csv...\n",
            "Lendo emprestimos-20162 (1).csv...\n",
            "Lendo emprestimos-20161 (1).csv...\n",
            "Lendo emprestimos-20152 (1).csv...\n",
            "Lendo emprestimos-20151 (1).csv...\n",
            "Lendo emprestimos-20142 (1).csv...\n",
            "Lendo emprestimos-20141 (1).csv...\n",
            "Lendo emprestimos-20132 (1).csv...\n",
            "Lendo emprestimos-20131 (1).csv...\n",
            "Lendo emprestimos-20122 (1).csv...\n",
            "Lendo emprestimos-20121 (1).csv...\n",
            "Lendo emprestimos-20112 (1).csv...\n",
            "Lendo emprestimos-20111 (1).csv...\n",
            "Lendo emprestimos-20102 (1).csv...\n",
            "Lendo emprestimos-20101 (1).csv...\n"
          ]
        }
      ],
      "source": [
        "emprestimos_dfs = []\n",
        "for nome_arquivo in uploaded.keys():\n",
        "    if nome_arquivo.endswith('.csv'):\n",
        "        print(f\"Lendo {nome_arquivo}...\")\n",
        "        df = pd.read_csv(nome_arquivo, sep=\";\", encoding=\"ISO-8859-1\", low_memory=False)\n",
        "        emprestimos_dfs.append(df)"
      ]
    },
    {
      "cell_type": "code",
      "execution_count": null,
      "metadata": {
        "colab": {
          "base_uri": "https://localhost:8080/",
          "height": 224
        },
        "id": "05lk_4BmY_-m",
        "outputId": "01f5e34a-d3b5-4f53-fb84-d6b36184ec52"
      },
      "outputs": [
        {
          "name": "stdout",
          "output_type": "stream",
          "text": [
            "Total de registros de empréstimos: 2258018\n"
          ]
        },
        {
          "data": {
            "application/vnd.google.colaboratory.intrinsic+json": {
              "type": "dataframe",
              "variable_name": "emprestimos"
            },
            "text/html": [
              "\n",
              "  <div id=\"df-16e5fc9e-a890-497e-924a-18558a7b63c2\" class=\"colab-df-container\">\n",
              "    <div>\n",
              "<style scoped>\n",
              "    .dataframe tbody tr th:only-of-type {\n",
              "        vertical-align: middle;\n",
              "    }\n",
              "\n",
              "    .dataframe tbody tr th {\n",
              "        vertical-align: top;\n",
              "    }\n",
              "\n",
              "    .dataframe thead th {\n",
              "        text-align: right;\n",
              "    }\n",
              "</style>\n",
              "<table border=\"1\" class=\"dataframe\">\n",
              "  <thead>\n",
              "    <tr style=\"text-align: right;\">\n",
              "      <th></th>\n",
              "      <th>id_emprestimo,codigo_barras,data_renovacao,data_emprestimo,data_devolucao,matricula_ou_siape,tipo_vinculo_usuario</th>\n",
              "    </tr>\n",
              "  </thead>\n",
              "  <tbody>\n",
              "    <tr>\n",
              "      <th>0</th>\n",
              "      <td>2962509,2007005628,,2020/01/02 08:17:30.290000...</td>\n",
              "    </tr>\n",
              "    <tr>\n",
              "      <th>1</th>\n",
              "      <td>2962510,L202802,,2020/01/02 08:17:30.391000000...</td>\n",
              "    </tr>\n",
              "    <tr>\n",
              "      <th>2</th>\n",
              "      <td>2962511,2012008328,,2020/01/02 08:17:30.436000...</td>\n",
              "    </tr>\n",
              "    <tr>\n",
              "      <th>3</th>\n",
              "      <td>2962512,2012055016,2020/01/17 09:56:18.3800000...</td>\n",
              "    </tr>\n",
              "    <tr>\n",
              "      <th>4</th>\n",
              "      <td>2962513,L197391,2020/01/17 23:50:18.862000000,...</td>\n",
              "    </tr>\n",
              "  </tbody>\n",
              "</table>\n",
              "</div>\n",
              "    <div class=\"colab-df-buttons\">\n",
              "\n",
              "  <div class=\"colab-df-container\">\n",
              "    <button class=\"colab-df-convert\" onclick=\"convertToInteractive('df-16e5fc9e-a890-497e-924a-18558a7b63c2')\"\n",
              "            title=\"Convert this dataframe to an interactive table.\"\n",
              "            style=\"display:none;\">\n",
              "\n",
              "  <svg xmlns=\"http://www.w3.org/2000/svg\" height=\"24px\" viewBox=\"0 -960 960 960\">\n",
              "    <path d=\"M120-120v-720h720v720H120Zm60-500h600v-160H180v160Zm220 220h160v-160H400v160Zm0 220h160v-160H400v160ZM180-400h160v-160H180v160Zm440 0h160v-160H620v160ZM180-180h160v-160H180v160Zm440 0h160v-160H620v160Z\"/>\n",
              "  </svg>\n",
              "    </button>\n",
              "\n",
              "  <style>\n",
              "    .colab-df-container {\n",
              "      display:flex;\n",
              "      gap: 12px;\n",
              "    }\n",
              "\n",
              "    .colab-df-convert {\n",
              "      background-color: #E8F0FE;\n",
              "      border: none;\n",
              "      border-radius: 50%;\n",
              "      cursor: pointer;\n",
              "      display: none;\n",
              "      fill: #1967D2;\n",
              "      height: 32px;\n",
              "      padding: 0 0 0 0;\n",
              "      width: 32px;\n",
              "    }\n",
              "\n",
              "    .colab-df-convert:hover {\n",
              "      background-color: #E2EBFA;\n",
              "      box-shadow: 0px 1px 2px rgba(60, 64, 67, 0.3), 0px 1px 3px 1px rgba(60, 64, 67, 0.15);\n",
              "      fill: #174EA6;\n",
              "    }\n",
              "\n",
              "    .colab-df-buttons div {\n",
              "      margin-bottom: 4px;\n",
              "    }\n",
              "\n",
              "    [theme=dark] .colab-df-convert {\n",
              "      background-color: #3B4455;\n",
              "      fill: #D2E3FC;\n",
              "    }\n",
              "\n",
              "    [theme=dark] .colab-df-convert:hover {\n",
              "      background-color: #434B5C;\n",
              "      box-shadow: 0px 1px 3px 1px rgba(0, 0, 0, 0.15);\n",
              "      filter: drop-shadow(0px 1px 2px rgba(0, 0, 0, 0.3));\n",
              "      fill: #FFFFFF;\n",
              "    }\n",
              "  </style>\n",
              "\n",
              "    <script>\n",
              "      const buttonEl =\n",
              "        document.querySelector('#df-16e5fc9e-a890-497e-924a-18558a7b63c2 button.colab-df-convert');\n",
              "      buttonEl.style.display =\n",
              "        google.colab.kernel.accessAllowed ? 'block' : 'none';\n",
              "\n",
              "      async function convertToInteractive(key) {\n",
              "        const element = document.querySelector('#df-16e5fc9e-a890-497e-924a-18558a7b63c2');\n",
              "        const dataTable =\n",
              "          await google.colab.kernel.invokeFunction('convertToInteractive',\n",
              "                                                    [key], {});\n",
              "        if (!dataTable) return;\n",
              "\n",
              "        const docLinkHtml = 'Like what you see? Visit the ' +\n",
              "          '<a target=\"_blank\" href=https://colab.research.google.com/notebooks/data_table.ipynb>data table notebook</a>'\n",
              "          + ' to learn more about interactive tables.';\n",
              "        element.innerHTML = '';\n",
              "        dataTable['output_type'] = 'display_data';\n",
              "        await google.colab.output.renderOutput(dataTable, element);\n",
              "        const docLink = document.createElement('div');\n",
              "        docLink.innerHTML = docLinkHtml;\n",
              "        element.appendChild(docLink);\n",
              "      }\n",
              "    </script>\n",
              "  </div>\n",
              "\n",
              "\n",
              "    <div id=\"df-b838fe27-58db-4a4f-8cb0-916a4b1021bd\">\n",
              "      <button class=\"colab-df-quickchart\" onclick=\"quickchart('df-b838fe27-58db-4a4f-8cb0-916a4b1021bd')\"\n",
              "                title=\"Suggest charts\"\n",
              "                style=\"display:none;\">\n",
              "\n",
              "<svg xmlns=\"http://www.w3.org/2000/svg\" height=\"24px\"viewBox=\"0 0 24 24\"\n",
              "     width=\"24px\">\n",
              "    <g>\n",
              "        <path d=\"M19 3H5c-1.1 0-2 .9-2 2v14c0 1.1.9 2 2 2h14c1.1 0 2-.9 2-2V5c0-1.1-.9-2-2-2zM9 17H7v-7h2v7zm4 0h-2V7h2v10zm4 0h-2v-4h2v4z\"/>\n",
              "    </g>\n",
              "</svg>\n",
              "      </button>\n",
              "\n",
              "<style>\n",
              "  .colab-df-quickchart {\n",
              "      --bg-color: #E8F0FE;\n",
              "      --fill-color: #1967D2;\n",
              "      --hover-bg-color: #E2EBFA;\n",
              "      --hover-fill-color: #174EA6;\n",
              "      --disabled-fill-color: #AAA;\n",
              "      --disabled-bg-color: #DDD;\n",
              "  }\n",
              "\n",
              "  [theme=dark] .colab-df-quickchart {\n",
              "      --bg-color: #3B4455;\n",
              "      --fill-color: #D2E3FC;\n",
              "      --hover-bg-color: #434B5C;\n",
              "      --hover-fill-color: #FFFFFF;\n",
              "      --disabled-bg-color: #3B4455;\n",
              "      --disabled-fill-color: #666;\n",
              "  }\n",
              "\n",
              "  .colab-df-quickchart {\n",
              "    background-color: var(--bg-color);\n",
              "    border: none;\n",
              "    border-radius: 50%;\n",
              "    cursor: pointer;\n",
              "    display: none;\n",
              "    fill: var(--fill-color);\n",
              "    height: 32px;\n",
              "    padding: 0;\n",
              "    width: 32px;\n",
              "  }\n",
              "\n",
              "  .colab-df-quickchart:hover {\n",
              "    background-color: var(--hover-bg-color);\n",
              "    box-shadow: 0 1px 2px rgba(60, 64, 67, 0.3), 0 1px 3px 1px rgba(60, 64, 67, 0.15);\n",
              "    fill: var(--button-hover-fill-color);\n",
              "  }\n",
              "\n",
              "  .colab-df-quickchart-complete:disabled,\n",
              "  .colab-df-quickchart-complete:disabled:hover {\n",
              "    background-color: var(--disabled-bg-color);\n",
              "    fill: var(--disabled-fill-color);\n",
              "    box-shadow: none;\n",
              "  }\n",
              "\n",
              "  .colab-df-spinner {\n",
              "    border: 2px solid var(--fill-color);\n",
              "    border-color: transparent;\n",
              "    border-bottom-color: var(--fill-color);\n",
              "    animation:\n",
              "      spin 1s steps(1) infinite;\n",
              "  }\n",
              "\n",
              "  @keyframes spin {\n",
              "    0% {\n",
              "      border-color: transparent;\n",
              "      border-bottom-color: var(--fill-color);\n",
              "      border-left-color: var(--fill-color);\n",
              "    }\n",
              "    20% {\n",
              "      border-color: transparent;\n",
              "      border-left-color: var(--fill-color);\n",
              "      border-top-color: var(--fill-color);\n",
              "    }\n",
              "    30% {\n",
              "      border-color: transparent;\n",
              "      border-left-color: var(--fill-color);\n",
              "      border-top-color: var(--fill-color);\n",
              "      border-right-color: var(--fill-color);\n",
              "    }\n",
              "    40% {\n",
              "      border-color: transparent;\n",
              "      border-right-color: var(--fill-color);\n",
              "      border-top-color: var(--fill-color);\n",
              "    }\n",
              "    60% {\n",
              "      border-color: transparent;\n",
              "      border-right-color: var(--fill-color);\n",
              "    }\n",
              "    80% {\n",
              "      border-color: transparent;\n",
              "      border-right-color: var(--fill-color);\n",
              "      border-bottom-color: var(--fill-color);\n",
              "    }\n",
              "    90% {\n",
              "      border-color: transparent;\n",
              "      border-bottom-color: var(--fill-color);\n",
              "    }\n",
              "  }\n",
              "</style>\n",
              "\n",
              "      <script>\n",
              "        async function quickchart(key) {\n",
              "          const quickchartButtonEl =\n",
              "            document.querySelector('#' + key + ' button');\n",
              "          quickchartButtonEl.disabled = true;  // To prevent multiple clicks.\n",
              "          quickchartButtonEl.classList.add('colab-df-spinner');\n",
              "          try {\n",
              "            const charts = await google.colab.kernel.invokeFunction(\n",
              "                'suggestCharts', [key], {});\n",
              "          } catch (error) {\n",
              "            console.error('Error during call to suggestCharts:', error);\n",
              "          }\n",
              "          quickchartButtonEl.classList.remove('colab-df-spinner');\n",
              "          quickchartButtonEl.classList.add('colab-df-quickchart-complete');\n",
              "        }\n",
              "        (() => {\n",
              "          let quickchartButtonEl =\n",
              "            document.querySelector('#df-b838fe27-58db-4a4f-8cb0-916a4b1021bd button');\n",
              "          quickchartButtonEl.style.display =\n",
              "            google.colab.kernel.accessAllowed ? 'block' : 'none';\n",
              "        })();\n",
              "      </script>\n",
              "    </div>\n",
              "\n",
              "    </div>\n",
              "  </div>\n"
            ],
            "text/plain": [
              "  id_emprestimo,codigo_barras,data_renovacao,data_emprestimo,data_devolucao,matricula_ou_siape,tipo_vinculo_usuario\n",
              "0  2962509,2007005628,,2020/01/02 08:17:30.290000...                                                               \n",
              "1  2962510,L202802,,2020/01/02 08:17:30.391000000...                                                               \n",
              "2  2962511,2012008328,,2020/01/02 08:17:30.436000...                                                               \n",
              "3  2962512,2012055016,2020/01/17 09:56:18.3800000...                                                               \n",
              "4  2962513,L197391,2020/01/17 23:50:18.862000000,...                                                               "
            ]
          },
          "execution_count": 65,
          "metadata": {},
          "output_type": "execute_result"
        }
      ],
      "source": [
        "emprestimos = pd.concat(emprestimos_dfs, ignore_index=True)\n",
        "print(f\"Total de registros de empréstimos: {len(emprestimos)}\")\n",
        "emprestimos.head()"
      ]
    },
    {
      "cell_type": "code",
      "execution_count": null,
      "metadata": {
        "id": "9nCEyydHZSlu"
      },
      "outputs": [],
      "source": [
        "emprestimos.columns = emprestimos.columns.str.strip().str.lower()\n",
        "acervo.columns = acervo.columns.str.strip().str.lower()"
      ]
    },
    {
      "cell_type": "code",
      "execution_count": null,
      "metadata": {
        "colab": {
          "base_uri": "https://localhost:8080/"
        },
        "id": "Atd6WsNfZV9v",
        "outputId": "fc41864c-fe73-43ac-8e64-7f63354ee71f"
      },
      "outputs": [
        {
          "name": "stdout",
          "output_type": "stream",
          "text": [
            "Index(['id_emprestimo,codigo_barras,data_renovacao,data_emprestimo,data_devolucao,matricula_ou_siape,tipo_vinculo_usuario'], dtype='object')\n"
          ]
        }
      ],
      "source": [
        "print(emprestimos.columns)"
      ]
    },
    {
      "cell_type": "code",
      "execution_count": null,
      "metadata": {
        "id": "4eKR5Dm7Zo3V"
      },
      "outputs": [],
      "source": [
        "emprestimos.columns = emprestimos.columns.str.strip().str.lower()"
      ]
    },
    {
      "cell_type": "code",
      "execution_count": null,
      "metadata": {
        "colab": {
          "base_uri": "https://localhost:8080/"
        },
        "id": "eulmUKzEZtSO",
        "outputId": "65d39fd5-3afd-43a5-dca0-4186b506ca1a"
      },
      "outputs": [
        {
          "name": "stdout",
          "output_type": "stream",
          "text": [
            "Index(['id_emprestimo,codigo_barras,data_renovacao,data_emprestimo,data_devolucao,matricula_ou_siape,tipo_vinculo_usuario'], dtype='object')\n"
          ]
        }
      ],
      "source": [
        "print(emprestimos.columns)"
      ]
    },
    {
      "cell_type": "code",
      "execution_count": null,
      "metadata": {
        "colab": {
          "base_uri": "https://localhost:8080/"
        },
        "id": "JOsC7ehmZw9n",
        "outputId": "ffeaebbb-a385-4c6d-88cb-24091de75c7f"
      },
      "outputs": [
        {
          "name": "stdout",
          "output_type": "stream",
          "text": [
            " acervo_limpo.csv\t\t'emprestimos-20151 (1).csv'\n",
            "'dados_exemplares (1).parquet'\t emprestimos-20151.csv\n",
            " dados_exemplares.parquet\t'emprestimos-20152 (1).csv'\n",
            "'emprestimos-20101 (1).csv'\t emprestimos-20152.csv\n",
            " emprestimos-20101.csv\t\t'emprestimos-20161 (1).csv'\n",
            "'emprestimos-20102 (1).csv'\t emprestimos-20161.csv\n",
            " emprestimos-20102.csv\t\t'emprestimos-20162 (1).csv'\n",
            "'emprestimos-20111 (1).csv'\t emprestimos-20162.csv\n",
            " emprestimos-20111.csv\t\t'emprestimos-20171 (1).csv'\n",
            "'emprestimos-20112 (1).csv'\t emprestimos-20171.csv\n",
            " emprestimos-20112.csv\t\t'emprestimos-20172 (1).csv'\n",
            "'emprestimos-20121 (1).csv'\t emprestimos-20172.csv\n",
            " emprestimos-20121.csv\t\t'emprestimos-20181 (1).csv'\n",
            "'emprestimos-20122 (1).csv'\t emprestimos-20181.csv\n",
            " emprestimos-20122.csv\t\t'emprestimos-20182 (1).csv'\n",
            "'emprestimos-20131 (1).csv'\t emprestimos-20182.csv\n",
            " emprestimos-20131.csv\t\t'emprestimos-20191 (1).csv'\n",
            "'emprestimos-20132 (1).csv'\t emprestimos-20191.csv\n",
            " emprestimos-20132.csv\t\t'emprestimos-20192 (1).csv'\n",
            "'emprestimos-20141 (1).csv'\t emprestimos-20192.csv\n",
            " emprestimos-20141.csv\t\t'emprestimos-20201 (1).csv'\n",
            "'emprestimos-20142 (1).csv'\t emprestimos-20201.csv\n",
            " emprestimos-20142.csv\t\t sample_data\n"
          ]
        }
      ],
      "source": [
        "!ls"
      ]
    },
    {
      "cell_type": "code",
      "execution_count": null,
      "metadata": {
        "id": "m99PmTgxaC34"
      },
      "outputs": [],
      "source": [
        "emprestimos = pd.read_csv(\"emprestimos-20191.csv\", sep=\";\", encoding=\"ISO-8859-1\", low_memory=False)"
      ]
    },
    {
      "cell_type": "code",
      "execution_count": null,
      "metadata": {
        "id": "m-ywOW6maFK7"
      },
      "outputs": [],
      "source": [
        "import pandas as pd"
      ]
    },
    {
      "cell_type": "code",
      "execution_count": null,
      "metadata": {
        "colab": {
          "base_uri": "https://localhost:8080/"
        },
        "id": "DIUML9jTaJGL",
        "outputId": "9402cf32-ba38-4073-afb5-54b41d0d3fb4"
      },
      "outputs": [
        {
          "name": "stdout",
          "output_type": "stream",
          "text": [
            "Total de registros: 2258018\n",
            "  id_emprestimo,codigo_barras,data_renovacao,data_emprestimo,data_devolucao,matricula_ou_siape,tipo_vinculo_usuario\n",
            "0  2962509,2007005628,,2020/01/02 08:17:30.290000...                                                               \n",
            "1  2962510,L202802,,2020/01/02 08:17:30.391000000...                                                               \n",
            "2  2962511,2012008328,,2020/01/02 08:17:30.436000...                                                               \n",
            "3  2962512,2012055016,2020/01/17 09:56:18.3800000...                                                               \n",
            "4  2962513,L197391,2020/01/17 23:50:18.862000000,...                                                               \n"
          ]
        }
      ],
      "source": [
        "emprestimos_dfs = []\n",
        "\n",
        "for nome_arquivo in uploaded.keys():\n",
        "    if nome_arquivo.endswith('.csv'):\n",
        "        df = pd.read_csv(nome_arquivo, sep=\";\", encoding=\"ISO-8859-1\", low_memory=False)\n",
        "        emprestimos_dfs.append(df)\n",
        "\n",
        "emprestimos = pd.concat(emprestimos_dfs, ignore_index=True)\n",
        "print(\"Total de registros:\", len(emprestimos))\n",
        "print(emprestimos.head())"
      ]
    },
    {
      "cell_type": "code",
      "execution_count": null,
      "metadata": {
        "id": "jnTCeFmmaY5K"
      },
      "outputs": [],
      "source": [
        "emprestimos.columns = emprestimos.columns.str.strip().str.lower()\n",
        "acervo.columns = acervo.columns.str.strip().str.lower()"
      ]
    },
    {
      "cell_type": "code",
      "execution_count": null,
      "metadata": {
        "colab": {
          "base_uri": "https://localhost:8080/"
        },
        "id": "5uvjzRpOadBw",
        "outputId": "32a6b410-db41-4d85-b90d-2a220e264060"
      },
      "outputs": [
        {
          "name": "stdout",
          "output_type": "stream",
          "text": [
            "Index(['id_emprestimo,codigo_barras,data_renovacao,data_emprestimo,data_devolucao,matricula_ou_siape,tipo_vinculo_usuario'], dtype='object')\n",
            "Index(['id_exemplar', 'codigo_barras', 'colecao', 'biblioteca',\n",
            "       'status_material', 'localizacao', 'registro_sistema'],\n",
            "      dtype='object')\n"
          ]
        }
      ],
      "source": [
        "print(emprestimos.columns)\n",
        "print(acervo.columns)"
      ]
    },
    {
      "cell_type": "code",
      "execution_count": null,
      "metadata": {
        "id": "ToJLZ2ZEbeUu"
      },
      "outputs": [],
      "source": [
        "emprestimos.columns = emprestimos.columns.str.strip().str.lower()\n",
        "acervo.columns = acervo.columns.str.strip().str.lower()"
      ]
    },
    {
      "cell_type": "code",
      "execution_count": null,
      "metadata": {
        "colab": {
          "base_uri": "https://localhost:8080/"
        },
        "id": "Ho5REPE0bfhL",
        "outputId": "00bddb6e-7904-44eb-c3e7-2670c50b18de"
      },
      "outputs": [
        {
          "name": "stdout",
          "output_type": "stream",
          "text": [
            "Index(['id_emprestimo,codigo_barras,data_renovacao,data_emprestimo,data_devolucao,matricula_ou_siape,tipo_vinculo_usuario'], dtype='object')\n",
            "Index(['id_exemplar', 'codigo_barras', 'colecao', 'biblioteca',\n",
            "       'status_material', 'localizacao', 'registro_sistema'],\n",
            "      dtype='object')\n"
          ]
        }
      ],
      "source": [
        "print(emprestimos.columns)\n",
        "print(acervo.columns)"
      ]
    },
    {
      "cell_type": "code",
      "execution_count": null,
      "metadata": {
        "id": "fvRJMRvVcGos"
      },
      "outputs": [],
      "source": [
        "emprestimos.columns = emprestimos.columns.str.strip().str.lower()\n",
        "acervo.columns = acervo.columns.str.strip().str.lower()"
      ]
    },
    {
      "cell_type": "code",
      "execution_count": null,
      "metadata": {
        "colab": {
          "base_uri": "https://localhost:8080/"
        },
        "id": "Jhyo801AcJTD",
        "outputId": "f86839b7-22dd-4f51-f518-31f6c5af0c43"
      },
      "outputs": [
        {
          "name": "stdout",
          "output_type": "stream",
          "text": [
            "Index(['id_emprestimo,codigo_barras,data_renovacao,data_emprestimo,data_devolucao,matricula_ou_siape,tipo_vinculo_usuario'], dtype='object')\n",
            "Index(['id_exemplar', 'codigo_barras', 'colecao', 'biblioteca',\n",
            "       'status_material', 'localizacao', 'registro_sistema'],\n",
            "      dtype='object')\n"
          ]
        }
      ],
      "source": [
        "print(emprestimos.columns)\n",
        "print(acervo.columns)"
      ]
    },
    {
      "cell_type": "code",
      "execution_count": null,
      "metadata": {
        "id": "OdsD4M3RcMjo"
      },
      "outputs": [],
      "source": [
        "import pandas as pd"
      ]
    },
    {
      "cell_type": "code",
      "execution_count": null,
      "metadata": {
        "id": "5HRKi4WFceVh"
      },
      "outputs": [],
      "source": [
        "arquivos = [nome for nome in uploaded.keys() if nome.endswith(\".csv\")]"
      ]
    },
    {
      "cell_type": "code",
      "execution_count": null,
      "metadata": {
        "colab": {
          "base_uri": "https://localhost:8080/"
        },
        "id": "Yw4U90hQczCz",
        "outputId": "275d2d04-ce3f-4dce-9fc0-8fc3c3f1002a"
      },
      "outputs": [
        {
          "name": "stdout",
          "output_type": "stream",
          "text": [
            "['emprestimos-20201 (1).csv', 'emprestimos-20192 (1).csv', 'emprestimos-20191 (1).csv', 'emprestimos-20182 (1).csv', 'emprestimos-20181 (1).csv', 'emprestimos-20172 (1).csv', 'emprestimos-20171 (1).csv', 'emprestimos-20162 (1).csv', 'emprestimos-20161 (1).csv', 'emprestimos-20152 (1).csv', 'emprestimos-20151 (1).csv', 'emprestimos-20142 (1).csv', 'emprestimos-20141 (1).csv', 'emprestimos-20132 (1).csv', 'emprestimos-20131 (1).csv', 'emprestimos-20122 (1).csv', 'emprestimos-20121 (1).csv', 'emprestimos-20112 (1).csv', 'emprestimos-20111 (1).csv', 'emprestimos-20102 (1).csv', 'emprestimos-20101 (1).csv']\n"
          ]
        }
      ],
      "source": [
        "print(arquivos)"
      ]
    },
    {
      "cell_type": "code",
      "execution_count": null,
      "metadata": {
        "id": "MvC39JN3c5z2"
      },
      "outputs": [],
      "source": [
        "import pandas as pd"
      ]
    },
    {
      "cell_type": "code",
      "execution_count": null,
      "metadata": {
        "id": "pptbHi26dAu1"
      },
      "outputs": [],
      "source": [
        "arquivos = [nome for nome in uploaded.keys() if nome.endswith(\".csv\")]"
      ]
    },
    {
      "cell_type": "code",
      "execution_count": null,
      "metadata": {
        "id": "P1d4oInVdDEy"
      },
      "outputs": [],
      "source": [
        "emprestimos_dfs = []"
      ]
    },
    {
      "cell_type": "code",
      "execution_count": null,
      "metadata": {
        "colab": {
          "base_uri": "https://localhost:8080/"
        },
        "id": "6T6PRM0edJJ-",
        "outputId": "67606c29-08fb-4d89-9407-d96828a5cb44"
      },
      "outputs": [
        {
          "name": "stdout",
          "output_type": "stream",
          "text": [
            "Lendo emprestimos-20201 (1).csv...\n",
            "Lendo emprestimos-20192 (1).csv...\n",
            "Lendo emprestimos-20191 (1).csv...\n",
            "Lendo emprestimos-20182 (1).csv...\n",
            "Lendo emprestimos-20181 (1).csv...\n",
            "Lendo emprestimos-20172 (1).csv...\n",
            "Lendo emprestimos-20171 (1).csv...\n",
            "Lendo emprestimos-20162 (1).csv...\n",
            "Lendo emprestimos-20161 (1).csv...\n",
            "Lendo emprestimos-20152 (1).csv...\n",
            "Lendo emprestimos-20151 (1).csv...\n",
            "Lendo emprestimos-20142 (1).csv...\n",
            "Lendo emprestimos-20141 (1).csv...\n",
            "Lendo emprestimos-20132 (1).csv...\n",
            "Lendo emprestimos-20131 (1).csv...\n",
            "Lendo emprestimos-20122 (1).csv...\n",
            "Lendo emprestimos-20121 (1).csv...\n",
            "Lendo emprestimos-20112 (1).csv...\n",
            "Lendo emprestimos-20111 (1).csv...\n",
            "Lendo emprestimos-20102 (1).csv...\n",
            "Lendo emprestimos-20101 (1).csv...\n"
          ]
        }
      ],
      "source": [
        "for nome_arquivo in arquivos:\n",
        "    print(f\"Lendo {nome_arquivo}...\")\n",
        "    df = pd.read_csv(nome_arquivo, sep=\";\", encoding=\"ISO-8859-1\", low_memory=False)\n",
        "    emprestimos_dfs.append(df)"
      ]
    },
    {
      "cell_type": "code",
      "execution_count": null,
      "metadata": {
        "id": "EjzN0cimdM-p"
      },
      "outputs": [],
      "source": [
        "emprestimos = pd.concat(emprestimos_dfs, ignore_index=True)"
      ]
    },
    {
      "cell_type": "code",
      "execution_count": null,
      "metadata": {
        "colab": {
          "base_uri": "https://localhost:8080/"
        },
        "id": "uIXVxgXkdPUx",
        "outputId": "16060b50-1aaf-4b14-8594-cd9ea5fafa9c"
      },
      "outputs": [
        {
          "name": "stdout",
          "output_type": "stream",
          "text": [
            "Total de registros de empréstimos: 2258018\n",
            "  id_emprestimo,codigo_barras,data_renovacao,data_emprestimo,data_devolucao,matricula_ou_siape,tipo_vinculo_usuario\n",
            "0  2962509,2007005628,,2020/01/02 08:17:30.290000...                                                               \n",
            "1  2962510,L202802,,2020/01/02 08:17:30.391000000...                                                               \n",
            "2  2962511,2012008328,,2020/01/02 08:17:30.436000...                                                               \n",
            "3  2962512,2012055016,2020/01/17 09:56:18.3800000...                                                               \n",
            "4  2962513,L197391,2020/01/17 23:50:18.862000000,...                                                               \n"
          ]
        }
      ],
      "source": [
        "print(f\"Total de registros de empréstimos: {len(emprestimos)}\")\n",
        "print(emprestimos.head())"
      ]
    },
    {
      "cell_type": "code",
      "execution_count": null,
      "metadata": {
        "id": "CeZ69VIfdPNY"
      },
      "outputs": [],
      "source": [
        "emprestimos.columns = emprestimos.columns.str.strip().str.lower()\n",
        "acervo.columns = acervo.columns.str.strip().str.lower()"
      ]
    },
    {
      "cell_type": "code",
      "execution_count": null,
      "metadata": {
        "colab": {
          "base_uri": "https://localhost:8080/"
        },
        "id": "6vUtJvHgdYjp",
        "outputId": "063abc47-bba2-40f6-c875-2d3d14d85beb"
      },
      "outputs": [
        {
          "name": "stdout",
          "output_type": "stream",
          "text": [
            "Index(['id_emprestimo,codigo_barras,data_renovacao,data_emprestimo,data_devolucao,matricula_ou_siape,tipo_vinculo_usuario'], dtype='object')\n",
            "Index(['id_exemplar', 'codigo_barras', 'colecao', 'biblioteca',\n",
            "       'status_material', 'localizacao', 'registro_sistema'],\n",
            "      dtype='object')\n"
          ]
        }
      ],
      "source": [
        "print(emprestimos.columns)\n",
        "print(acervo.columns)"
      ]
    },
    {
      "cell_type": "code",
      "execution_count": null,
      "metadata": {
        "colab": {
          "base_uri": "https://localhost:8080/",
          "height": 35
        },
        "id": "9IfaZRCVdrXH",
        "outputId": "12d21939-9af3-4992-8d71-17f1e6b8324d"
      },
      "outputs": [
        {
          "data": {
            "application/vnd.google.colaboratory.intrinsic+json": {
              "type": "string"
            },
            "text/plain": [
              "'id_emprestimo,codigo_barras,data_renovacao,data_emprestimo,data_devolucao,matricula_ou_siape,tipo_vinculo_usuario'"
            ]
          },
          "execution_count": 100,
          "metadata": {},
          "output_type": "execute_result"
        }
      ],
      "source": [
        "'id_emprestimo,codigo_barras,data_renovacao,data_emprestimo,data_devolucao,matricula_ou_siape,tipo_vinculo_usuario'"
      ]
    },
    {
      "cell_type": "code",
      "execution_count": null,
      "metadata": {
        "id": "vNuXFudLdvNx"
      },
      "outputs": [],
      "source": [
        "import pandas as pd"
      ]
    },
    {
      "cell_type": "code",
      "execution_count": null,
      "metadata": {
        "id": "_wjFMZN5d--Y"
      },
      "outputs": [],
      "source": [
        "arquivos = list(uploaded.keys())"
      ]
    },
    {
      "cell_type": "code",
      "execution_count": null,
      "metadata": {
        "id": "6w0xEMBxeCAT"
      },
      "outputs": [],
      "source": [
        "emprestimos_dfs = []"
      ]
    },
    {
      "cell_type": "code",
      "execution_count": null,
      "metadata": {
        "id": "5chv7Q5feHbu"
      },
      "outputs": [],
      "source": [
        "for nome_arquivo in arquivos:\n",
        "    if nome_arquivo.endswith(\".csv\"):\n",
        "        df = pd.read_csv(nome_arquivo, sep=\",\", encoding=\"ISO-8859-1\", low_memory=False)\n",
        "        emprestimos_dfs.append(df)\n"
      ]
    },
    {
      "cell_type": "code",
      "execution_count": null,
      "metadata": {
        "id": "P9m1W9eJeMLR"
      },
      "outputs": [],
      "source": [
        "for nome_arquivo in arquivos:\n",
        "    if nome_arquivo.endswith(\".csv\"):\n",
        "        df = pd.read_csv(nome_arquivo, sep=\",\", encoding=\"ISO-8859-1\", low_memory=False)\n",
        "        emprestimos_dfs.append(df)\n"
      ]
    },
    {
      "cell_type": "code",
      "execution_count": null,
      "metadata": {
        "id": "W4Wr1N-7eUpp"
      },
      "outputs": [],
      "source": [
        "emprestimos = pd.concat(emprestimos_dfs, ignore_index=True)"
      ]
    },
    {
      "cell_type": "code",
      "execution_count": null,
      "metadata": {
        "colab": {
          "base_uri": "https://localhost:8080/"
        },
        "id": "vaSD83wFeXes",
        "outputId": "ae6ec5c0-7cf3-4ac7-e95c-b36afbf7e384"
      },
      "outputs": [
        {
          "name": "stdout",
          "output_type": "stream",
          "text": [
            "Total de registros: 4516036\n",
            "   id_emprestimo codigo_barras                 data_renovacao  \\\n",
            "0        2962509    2007005628                            NaN   \n",
            "1        2962510       L202802                            NaN   \n",
            "2        2962511    2012008328                            NaN   \n",
            "3        2962512    2012055016  2020/01/17 09:56:18.380000000   \n",
            "4        2962513       L197391  2020/01/17 23:50:18.862000000   \n",
            "\n",
            "                 data_emprestimo                 data_devolucao  \\\n",
            "0  2020/01/02 08:17:30.290000000  2020/01/07 11:14:07.000000000   \n",
            "1  2020/01/02 08:17:30.391000000  2020/01/07 11:14:17.000000000   \n",
            "2  2020/01/02 08:17:30.436000000  2020/01/07 11:24:46.000000000   \n",
            "3  2020/01/02 08:36:40.163000000  2020/01/31 14:53:52.000000000   \n",
            "4  2020/01/02 09:36:03.877000000  2020/01/24 08:18:19.000000000   \n",
            "\n",
            "   matricula_ou_siape       tipo_vinculo_usuario  \n",
            "0        2.018103e+10  ALUNO DE PÃS-GRADUAÃÃO  \n",
            "1        2.018103e+10  ALUNO DE PÃS-GRADUAÃÃO  \n",
            "2        2.018103e+10  ALUNO DE PÃS-GRADUAÃÃO  \n",
            "3        2.019015e+10       ALUNO DE GRADUAÃÃO  \n",
            "4        2.018005e+10       ALUNO DE GRADUAÃÃO  \n"
          ]
        }
      ],
      "source": [
        "emprestimos.columns = emprestimos.columns.str.strip().str.lower()\n",
        "\n",
        "print(f\"Total de registros: {len(emprestimos)}\")\n",
        "print(emprestimos.head())"
      ]
    },
    {
      "cell_type": "code",
      "execution_count": null,
      "metadata": {
        "id": "paeEQcTFeuWd"
      },
      "outputs": [],
      "source": [
        "import pandas as pd\n",
        "from google.colab import files"
      ]
    },
    {
      "cell_type": "code",
      "execution_count": null,
      "metadata": {
        "colab": {
          "base_uri": "https://localhost:8080/",
          "height": 802
        },
        "id": "hxrg8gjBexSN",
        "outputId": "a36a8ca3-051b-40e9-f135-89c407093d20"
      },
      "outputs": [
        {
          "data": {
            "text/html": [
              "\n",
              "     <input type=\"file\" id=\"files-e0a14226-2417-4132-aafd-df874961fe55\" name=\"files[]\" multiple disabled\n",
              "        style=\"border:none\" />\n",
              "     <output id=\"result-e0a14226-2417-4132-aafd-df874961fe55\">\n",
              "      Upload widget is only available when the cell has been executed in the\n",
              "      current browser session. Please rerun this cell to enable.\n",
              "      </output>\n",
              "      <script>// Copyright 2017 Google LLC\n",
              "//\n",
              "// Licensed under the Apache License, Version 2.0 (the \"License\");\n",
              "// you may not use this file except in compliance with the License.\n",
              "// You may obtain a copy of the License at\n",
              "//\n",
              "//      http://www.apache.org/licenses/LICENSE-2.0\n",
              "//\n",
              "// Unless required by applicable law or agreed to in writing, software\n",
              "// distributed under the License is distributed on an \"AS IS\" BASIS,\n",
              "// WITHOUT WARRANTIES OR CONDITIONS OF ANY KIND, either express or implied.\n",
              "// See the License for the specific language governing permissions and\n",
              "// limitations under the License.\n",
              "\n",
              "/**\n",
              " * @fileoverview Helpers for google.colab Python module.\n",
              " */\n",
              "(function(scope) {\n",
              "function span(text, styleAttributes = {}) {\n",
              "  const element = document.createElement('span');\n",
              "  element.textContent = text;\n",
              "  for (const key of Object.keys(styleAttributes)) {\n",
              "    element.style[key] = styleAttributes[key];\n",
              "  }\n",
              "  return element;\n",
              "}\n",
              "\n",
              "// Max number of bytes which will be uploaded at a time.\n",
              "const MAX_PAYLOAD_SIZE = 100 * 1024;\n",
              "\n",
              "function _uploadFiles(inputId, outputId) {\n",
              "  const steps = uploadFilesStep(inputId, outputId);\n",
              "  const outputElement = document.getElementById(outputId);\n",
              "  // Cache steps on the outputElement to make it available for the next call\n",
              "  // to uploadFilesContinue from Python.\n",
              "  outputElement.steps = steps;\n",
              "\n",
              "  return _uploadFilesContinue(outputId);\n",
              "}\n",
              "\n",
              "// This is roughly an async generator (not supported in the browser yet),\n",
              "// where there are multiple asynchronous steps and the Python side is going\n",
              "// to poll for completion of each step.\n",
              "// This uses a Promise to block the python side on completion of each step,\n",
              "// then passes the result of the previous step as the input to the next step.\n",
              "function _uploadFilesContinue(outputId) {\n",
              "  const outputElement = document.getElementById(outputId);\n",
              "  const steps = outputElement.steps;\n",
              "\n",
              "  const next = steps.next(outputElement.lastPromiseValue);\n",
              "  return Promise.resolve(next.value.promise).then((value) => {\n",
              "    // Cache the last promise value to make it available to the next\n",
              "    // step of the generator.\n",
              "    outputElement.lastPromiseValue = value;\n",
              "    return next.value.response;\n",
              "  });\n",
              "}\n",
              "\n",
              "/**\n",
              " * Generator function which is called between each async step of the upload\n",
              " * process.\n",
              " * @param {string} inputId Element ID of the input file picker element.\n",
              " * @param {string} outputId Element ID of the output display.\n",
              " * @return {!Iterable<!Object>} Iterable of next steps.\n",
              " */\n",
              "function* uploadFilesStep(inputId, outputId) {\n",
              "  const inputElement = document.getElementById(inputId);\n",
              "  inputElement.disabled = false;\n",
              "\n",
              "  const outputElement = document.getElementById(outputId);\n",
              "  outputElement.innerHTML = '';\n",
              "\n",
              "  const pickedPromise = new Promise((resolve) => {\n",
              "    inputElement.addEventListener('change', (e) => {\n",
              "      resolve(e.target.files);\n",
              "    });\n",
              "  });\n",
              "\n",
              "  const cancel = document.createElement('button');\n",
              "  inputElement.parentElement.appendChild(cancel);\n",
              "  cancel.textContent = 'Cancel upload';\n",
              "  const cancelPromise = new Promise((resolve) => {\n",
              "    cancel.onclick = () => {\n",
              "      resolve(null);\n",
              "    };\n",
              "  });\n",
              "\n",
              "  // Wait for the user to pick the files.\n",
              "  const files = yield {\n",
              "    promise: Promise.race([pickedPromise, cancelPromise]),\n",
              "    response: {\n",
              "      action: 'starting',\n",
              "    }\n",
              "  };\n",
              "\n",
              "  cancel.remove();\n",
              "\n",
              "  // Disable the input element since further picks are not allowed.\n",
              "  inputElement.disabled = true;\n",
              "\n",
              "  if (!files) {\n",
              "    return {\n",
              "      response: {\n",
              "        action: 'complete',\n",
              "      }\n",
              "    };\n",
              "  }\n",
              "\n",
              "  for (const file of files) {\n",
              "    const li = document.createElement('li');\n",
              "    li.append(span(file.name, {fontWeight: 'bold'}));\n",
              "    li.append(span(\n",
              "        `(${file.type || 'n/a'}) - ${file.size} bytes, ` +\n",
              "        `last modified: ${\n",
              "            file.lastModifiedDate ? file.lastModifiedDate.toLocaleDateString() :\n",
              "                                    'n/a'} - `));\n",
              "    const percent = span('0% done');\n",
              "    li.appendChild(percent);\n",
              "\n",
              "    outputElement.appendChild(li);\n",
              "\n",
              "    const fileDataPromise = new Promise((resolve) => {\n",
              "      const reader = new FileReader();\n",
              "      reader.onload = (e) => {\n",
              "        resolve(e.target.result);\n",
              "      };\n",
              "      reader.readAsArrayBuffer(file);\n",
              "    });\n",
              "    // Wait for the data to be ready.\n",
              "    let fileData = yield {\n",
              "      promise: fileDataPromise,\n",
              "      response: {\n",
              "        action: 'continue',\n",
              "      }\n",
              "    };\n",
              "\n",
              "    // Use a chunked sending to avoid message size limits. See b/62115660.\n",
              "    let position = 0;\n",
              "    do {\n",
              "      const length = Math.min(fileData.byteLength - position, MAX_PAYLOAD_SIZE);\n",
              "      const chunk = new Uint8Array(fileData, position, length);\n",
              "      position += length;\n",
              "\n",
              "      const base64 = btoa(String.fromCharCode.apply(null, chunk));\n",
              "      yield {\n",
              "        response: {\n",
              "          action: 'append',\n",
              "          file: file.name,\n",
              "          data: base64,\n",
              "        },\n",
              "      };\n",
              "\n",
              "      let percentDone = fileData.byteLength === 0 ?\n",
              "          100 :\n",
              "          Math.round((position / fileData.byteLength) * 100);\n",
              "      percent.textContent = `${percentDone}% done`;\n",
              "\n",
              "    } while (position < fileData.byteLength);\n",
              "  }\n",
              "\n",
              "  // All done.\n",
              "  yield {\n",
              "    response: {\n",
              "      action: 'complete',\n",
              "    }\n",
              "  };\n",
              "}\n",
              "\n",
              "scope.google = scope.google || {};\n",
              "scope.google.colab = scope.google.colab || {};\n",
              "scope.google.colab._files = {\n",
              "  _uploadFiles,\n",
              "  _uploadFilesContinue,\n",
              "};\n",
              "})(self);\n",
              "</script> "
            ],
            "text/plain": [
              "<IPython.core.display.HTML object>"
            ]
          },
          "metadata": {},
          "output_type": "display_data"
        },
        {
          "name": "stdout",
          "output_type": "stream",
          "text": [
            "Saving emprestimos-20201.csv to emprestimos-20201 (2).csv\n",
            "Saving emprestimos-20192.csv to emprestimos-20192 (2).csv\n",
            "Saving emprestimos-20191.csv to emprestimos-20191 (2).csv\n",
            "Saving emprestimos-20182.csv to emprestimos-20182 (2).csv\n",
            "Saving emprestimos-20181.csv to emprestimos-20181 (2).csv\n",
            "Saving emprestimos-20172.csv to emprestimos-20172 (2).csv\n",
            "Saving emprestimos-20171.csv to emprestimos-20171 (2).csv\n",
            "Saving emprestimos-20162.csv to emprestimos-20162 (2).csv\n",
            "Saving emprestimos-20161.csv to emprestimos-20161 (2).csv\n",
            "Saving emprestimos-20152.csv to emprestimos-20152 (2).csv\n",
            "Saving emprestimos-20151.csv to emprestimos-20151 (2).csv\n",
            "Saving emprestimos-20142.csv to emprestimos-20142 (2).csv\n",
            "Saving emprestimos-20141.csv to emprestimos-20141 (2).csv\n",
            "Saving emprestimos-20132.csv to emprestimos-20132 (2).csv\n",
            "Saving emprestimos-20131.csv to emprestimos-20131 (2).csv\n",
            "Saving emprestimos-20122.csv to emprestimos-20122 (2).csv\n",
            "Saving emprestimos-20121.csv to emprestimos-20121 (2).csv\n",
            "Saving emprestimos-20112.csv to emprestimos-20112 (2).csv\n",
            "Saving emprestimos-20111.csv to emprestimos-20111 (2).csv\n",
            "Saving emprestimos-20102.csv to emprestimos-20102 (2).csv\n",
            "Saving emprestimos-20101.csv to emprestimos-20101 (2).csv\n",
            "Saving dados_exemplares.parquet to dados_exemplares (2).parquet\n"
          ]
        }
      ],
      "source": [
        "uploaded = files.upload()"
      ]
    },
    {
      "cell_type": "code",
      "execution_count": null,
      "metadata": {
        "id": "_EVMx90RgLtu"
      },
      "outputs": [],
      "source": [
        "emprestimos_dfs = []\n"
      ]
    },
    {
      "cell_type": "code",
      "execution_count": null,
      "metadata": {
        "id": "-kglVbzNiHKk"
      },
      "outputs": [],
      "source": [
        "for nome_arquivo in uploaded.keys():\n",
        "    if \"emprestimos\" in nome_arquivo.lower() and nome_arquivo.endswith(\".csv\"):\n",
        "        df = pd.read_csv(nome_arquivo, sep=\",\", encoding=\"ISO-8859-1\", low_memory=False)\n",
        "        emprestimos_dfs.append(df)\n",
        "\n"
      ]
    },
    {
      "cell_type": "code",
      "execution_count": null,
      "metadata": {
        "id": "yEBwp-zOiMEX"
      },
      "outputs": [],
      "source": [
        "\n",
        "\n",
        "emprestimos = pd.concat(emprestimos_dfs, ignore_index=True)"
      ]
    },
    {
      "cell_type": "code",
      "execution_count": null,
      "metadata": {
        "id": "yXqNC2fliPpC"
      },
      "outputs": [],
      "source": [
        "emprestimos.columns = emprestimos.columns.str.strip().str.lower()"
      ]
    },
    {
      "cell_type": "code",
      "execution_count": null,
      "metadata": {
        "colab": {
          "base_uri": "https://localhost:8080/"
        },
        "id": "qhxf5OpxiSvJ",
        "outputId": "ca0704c2-c642-4c09-aa6f-12243d388c04"
      },
      "outputs": [
        {
          "name": "stdout",
          "output_type": "stream",
          "text": [
            "['emprestimos-20201 (2).csv', 'emprestimos-20192 (2).csv', 'emprestimos-20191 (2).csv', 'emprestimos-20182 (2).csv', 'emprestimos-20181 (2).csv', 'emprestimos-20172 (2).csv', 'emprestimos-20171 (2).csv', 'emprestimos-20162 (2).csv', 'emprestimos-20161 (2).csv', 'emprestimos-20152 (2).csv', 'emprestimos-20151 (2).csv', 'emprestimos-20142 (2).csv', 'emprestimos-20141 (2).csv', 'emprestimos-20132 (2).csv', 'emprestimos-20131 (2).csv', 'emprestimos-20122 (2).csv', 'emprestimos-20121 (2).csv', 'emprestimos-20112 (2).csv', 'emprestimos-20111 (2).csv', 'emprestimos-20102 (2).csv', 'emprestimos-20101 (2).csv', 'dados_exemplares (2).parquet']\n"
          ]
        }
      ],
      "source": [
        "print(list(uploaded.keys()))\n"
      ]
    },
    {
      "cell_type": "code",
      "execution_count": null,
      "metadata": {
        "id": "ubutjTWbiyca"
      },
      "outputs": [],
      "source": [
        "nome_acervo = \"exemplares.csv\"  # ['emprestimos-20201 (2).csv', 'emprestimos-20192 (2).csv', 'emprestimos-20191 (2).csv', 'emprestimos-20182 (2).csv', 'emprestimos-20181 (2).csv', 'emprestimos-20172 (2).csv', 'emprestimos-20171 (2).csv', 'emprestimos-20162 (2).csv', 'emprestimos-20161 (2).csv', 'emprestimos-20152 (2).csv', 'emprestimos-20151 (2).csv', 'emprestimos-20142 (2).csv', 'emprestimos-20141 (2).csv', 'emprestimos-20132 (2).csv', 'emprestimos-20131 (2).csv', 'emprestimos-20122 (2).csv', 'emprestimos-20121 (2).csv', 'emprestimos-20112 (2).csv', 'emprestimos-20111 (2).csv', 'emprestimos-20102 (2).csv', 'emprestimos-20101 (2).csv', 'dados_exemplares (2).parquet']\n"
      ]
    },
    {
      "cell_type": "code",
      "execution_count": null,
      "metadata": {
        "colab": {
          "base_uri": "https://localhost:8080/"
        },
        "id": "zlwjVB3fi70K",
        "outputId": "74725cd8-474b-400b-f90c-06b7aea5d514"
      },
      "outputs": [
        {
          "data": {
            "text/plain": [
              "dict_keys(['emprestimos-20201 (2).csv', 'emprestimos-20192 (2).csv', 'emprestimos-20191 (2).csv', 'emprestimos-20182 (2).csv', 'emprestimos-20181 (2).csv', 'emprestimos-20172 (2).csv', 'emprestimos-20171 (2).csv', 'emprestimos-20162 (2).csv', 'emprestimos-20161 (2).csv', 'emprestimos-20152 (2).csv', 'emprestimos-20151 (2).csv', 'emprestimos-20142 (2).csv', 'emprestimos-20141 (2).csv', 'emprestimos-20132 (2).csv', 'emprestimos-20131 (2).csv', 'emprestimos-20122 (2).csv', 'emprestimos-20121 (2).csv', 'emprestimos-20112 (2).csv', 'emprestimos-20111 (2).csv', 'emprestimos-20102 (2).csv', 'emprestimos-20101 (2).csv', 'dados_exemplares (2).parquet'])"
            ]
          },
          "execution_count": 125,
          "metadata": {},
          "output_type": "execute_result"
        }
      ],
      "source": [
        "uploaded.keys()"
      ]
    },
    {
      "cell_type": "code",
      "execution_count": null,
      "metadata": {
        "colab": {
          "base_uri": "https://localhost:8080/"
        },
        "id": "7vxPtygijjym",
        "outputId": "3461ea7d-55cd-4a82-e329-c778e831418a"
      },
      "outputs": [
        {
          "name": "stdout",
          "output_type": "stream",
          "text": [
            "       id_exemplar codigo_barras            colecao  \\\n",
            "index                                                 \n",
            "0                5       L000003  Acervo Circulante   \n",
            "1                4       L000002  Acervo Circulante   \n",
            "2                3       L000001  Acervo Circulante   \n",
            "3                7       L000114  Acervo Circulante   \n",
            "5               10       L000041  Acervo Circulante   \n",
            "\n",
            "                           biblioteca status_material  localizacao  \\\n",
            "index                                                                \n",
            "0      Biblioteca Central Zila Mamede         REGULAR          694   \n",
            "1      Biblioteca Central Zila Mamede         REGULAR          688   \n",
            "2      Biblioteca Central Zila Mamede        ESPECIAL          638   \n",
            "3      Biblioteca Central Zila Mamede         REGULAR          616   \n",
            "5      Biblioteca Central Zila Mamede        ESPECIAL          657   \n",
            "\n",
            "       registro_sistema  \n",
            "index                    \n",
            "0                     1  \n",
            "1                     1  \n",
            "2                     1  \n",
            "3                     5  \n",
            "5                    15  \n"
          ]
        }
      ],
      "source": [
        "acervo = pd.read_parquet(\"dados_exemplares (2).parquet\")\n",
        "acervo.columns = acervo.columns.str.strip().str.lower()\n",
        "print(acervo.head())"
      ]
    },
    {
      "cell_type": "code",
      "execution_count": null,
      "metadata": {
        "id": "p4kKBhDNkf-v"
      },
      "outputs": [],
      "source": [
        "import pandas as pd"
      ]
    },
    {
      "cell_type": "code",
      "execution_count": null,
      "metadata": {
        "colab": {
          "base_uri": "https://localhost:8080/",
          "height": 17
        },
        "id": "fMqr-VDOkt75",
        "outputId": "fdc33e59-95c3-40c6-e3bd-76d9b0a24482"
      },
      "outputs": [
        {
          "data": {
            "application/javascript": [
              "\n",
              "    async function download(id, filename, size) {\n",
              "      if (!google.colab.kernel.accessAllowed) {\n",
              "        return;\n",
              "      }\n",
              "      const div = document.createElement('div');\n",
              "      const label = document.createElement('label');\n",
              "      label.textContent = `Downloading \"${filename}\": `;\n",
              "      div.appendChild(label);\n",
              "      const progress = document.createElement('progress');\n",
              "      progress.max = size;\n",
              "      div.appendChild(progress);\n",
              "      document.body.appendChild(div);\n",
              "\n",
              "      const buffers = [];\n",
              "      let downloaded = 0;\n",
              "\n",
              "      const channel = await google.colab.kernel.comms.open(id);\n",
              "      // Send a message to notify the kernel that we're ready.\n",
              "      channel.send({})\n",
              "\n",
              "      for await (const message of channel.messages) {\n",
              "        // Send a message to notify the kernel that we're ready.\n",
              "        channel.send({})\n",
              "        if (message.buffers) {\n",
              "          for (const buffer of message.buffers) {\n",
              "            buffers.push(buffer);\n",
              "            downloaded += buffer.byteLength;\n",
              "            progress.value = downloaded;\n",
              "          }\n",
              "        }\n",
              "      }\n",
              "      const blob = new Blob(buffers, {type: 'application/binary'});\n",
              "      const a = document.createElement('a');\n",
              "      a.href = window.URL.createObjectURL(blob);\n",
              "      a.download = filename;\n",
              "      div.appendChild(a);\n",
              "      a.click();\n",
              "      div.remove();\n",
              "    }\n",
              "  "
            ],
            "text/plain": [
              "<IPython.core.display.Javascript object>"
            ]
          },
          "metadata": {},
          "output_type": "display_data"
        },
        {
          "data": {
            "application/javascript": [
              "download(\"download_6c94f2e0-b6d9-486e-a6e7-5fad9f618efa\", \"emprestimos_completo.csv\", 284838667)"
            ],
            "text/plain": [
              "<IPython.core.display.Javascript object>"
            ]
          },
          "metadata": {},
          "output_type": "display_data"
        }
      ],
      "source": [
        "from google.colab import files\n",
        "emprestimos.to_csv(\"emprestimos_completo.csv\", index=False, encoding=\"ISO-8859-1\")\n",
        "files.download(\"emprestimos_completo.csv\")\n"
      ]
    },
    {
      "cell_type": "code",
      "execution_count": null,
      "metadata": {
        "id": "O98FqT_ulbMU"
      },
      "outputs": [],
      "source": [
        "emprestimos.to_parquet(\"emprestimos_completo.parquet\")\n",
        "acervo.to_parquet(\"acervo_completo.parquet\")"
      ]
    },
    {
      "cell_type": "code",
      "execution_count": null,
      "metadata": {
        "id": "UcVDd0xxl3-u"
      },
      "outputs": [],
      "source": [
        "import pandas as pd"
      ]
    },
    {
      "cell_type": "code",
      "execution_count": null,
      "metadata": {
        "id": "RoqVvtk8l6fx"
      },
      "outputs": [],
      "source": [
        "emprestimos = pd.read_csv(\"emprestimos_completo.csv\", encoding=\"ISO-8859-1\")\n"
      ]
    },
    {
      "cell_type": "code",
      "execution_count": null,
      "metadata": {
        "id": "u6XaEjm7mBxO"
      },
      "outputs": [],
      "source": [
        "acervo = pd.read_parquet(\"acervo_completo.parquet\")"
      ]
    },
    {
      "cell_type": "code",
      "execution_count": null,
      "metadata": {
        "colab": {
          "base_uri": "https://localhost:8080/"
        },
        "id": "wfcvZ2r_mMtp",
        "outputId": "9efb3ed0-c488-48f2-b34c-e2d8467fadb7"
      },
      "outputs": [
        {
          "name": "stdout",
          "output_type": "stream",
          "text": [
            "   id_emprestimo codigo_barras                 data_renovacao  \\\n",
            "0        2962509    2007005628                            NaN   \n",
            "1        2962510       L202802                            NaN   \n",
            "2        2962511    2012008328                            NaN   \n",
            "3        2962512    2012055016  2020/01/17 09:56:18.380000000   \n",
            "4        2962513       L197391  2020/01/17 23:50:18.862000000   \n",
            "\n",
            "                 data_emprestimo                 data_devolucao  \\\n",
            "0  2020/01/02 08:17:30.290000000  2020/01/07 11:14:07.000000000   \n",
            "1  2020/01/02 08:17:30.391000000  2020/01/07 11:14:17.000000000   \n",
            "2  2020/01/02 08:17:30.436000000  2020/01/07 11:24:46.000000000   \n",
            "3  2020/01/02 08:36:40.163000000  2020/01/31 14:53:52.000000000   \n",
            "4  2020/01/02 09:36:03.877000000  2020/01/24 08:18:19.000000000   \n",
            "\n",
            "   matricula_ou_siape       tipo_vinculo_usuario  \n",
            "0        2.018103e+10  ALUNO DE PÃS-GRADUAÃÃO  \n",
            "1        2.018103e+10  ALUNO DE PÃS-GRADUAÃÃO  \n",
            "2        2.018103e+10  ALUNO DE PÃS-GRADUAÃÃO  \n",
            "3        2.019015e+10       ALUNO DE GRADUAÃÃO  \n",
            "4        2.018005e+10       ALUNO DE GRADUAÃÃO  \n",
            "       id_exemplar codigo_barras            colecao  \\\n",
            "index                                                 \n",
            "0                5       L000003  Acervo Circulante   \n",
            "1                4       L000002  Acervo Circulante   \n",
            "2                3       L000001  Acervo Circulante   \n",
            "3                7       L000114  Acervo Circulante   \n",
            "5               10       L000041  Acervo Circulante   \n",
            "\n",
            "                           biblioteca status_material  localizacao  \\\n",
            "index                                                                \n",
            "0      Biblioteca Central Zila Mamede         REGULAR          694   \n",
            "1      Biblioteca Central Zila Mamede         REGULAR          688   \n",
            "2      Biblioteca Central Zila Mamede        ESPECIAL          638   \n",
            "3      Biblioteca Central Zila Mamede         REGULAR          616   \n",
            "5      Biblioteca Central Zila Mamede        ESPECIAL          657   \n",
            "\n",
            "       registro_sistema  \n",
            "index                    \n",
            "0                     1  \n",
            "1                     1  \n",
            "2                     1  \n",
            "3                     5  \n",
            "5                    15  \n"
          ]
        }
      ],
      "source": [
        "print(emprestimos.head())\n",
        "print(acervo.head())"
      ]
    },
    {
      "cell_type": "code",
      "execution_count": null,
      "metadata": {
        "id": "MlRn7rM1mRz4"
      },
      "outputs": [],
      "source": [
        "dados_completos = emprestimos.merge(acervo, how=\"left\", on=\"codigo_barras\")"
      ]
    },
    {
      "cell_type": "code",
      "execution_count": null,
      "metadata": {
        "id": "1Ftzs7y1mWfJ"
      },
      "outputs": [],
      "source": [
        "def mapear_cdu(codigo):\n",
        "    try:\n",
        "        codigo = int(codigo)\n",
        "        if 0 <= codigo <= 99:\n",
        "            return \"Generalidades. Ciência e conhecimento\"\n",
        "        elif 100 <= codigo <= 199:\n",
        "            return \"Filosofia e psicologia\"\n",
        "        elif 200 <= codigo <= 299:\n",
        "            return \"Religião\"\n",
        "        elif 300 <= codigo <= 399:\n",
        "            return \"Ciências sociais\"\n",
        "        elif 400 <= codigo <= 499:\n",
        "            return \"Classe vaga. Provisoriamente não ocupada\"\n",
        "        elif 500 <= codigo <= 599:\n",
        "            return \"Matemática e ciências naturais\"\n",
        "        elif 600 <= codigo <= 699:\n",
        "            return \"Ciências aplicadas\"\n",
        "        elif 700 <= codigo <= 799:\n",
        "            return \"Belas artes\"\n",
        "        elif 800 <= codigo <= 899:\n",
        "            return \"Linguagem. Língua. Linguística\"\n",
        "        elif 900 <= codigo <= 999:\n",
        "            return \"Geografia. Biografia. História\"\n",
        "        else:\n",
        "            return \"Código inválido\"\n",
        "    except:\n",
        "        return \"Não informado\""
      ]
    },
    {
      "cell_type": "code",
      "execution_count": null,
      "metadata": {
        "id": "g9vvJtIHmaZN"
      },
      "outputs": [],
      "source": [
        "dados_completos[\"classe_geral\"] = dados_completos[\"localizacao\"].apply(mapear_cdu)"
      ]
    },
    {
      "cell_type": "code",
      "execution_count": null,
      "metadata": {
        "id": "uamFuONhmc9b"
      },
      "outputs": [],
      "source": [
        "dados_completos[\"matricula_ou_siape\"] = dados_completos[\"matricula_ou_siape\"].astype(str)"
      ]
    },
    {
      "cell_type": "code",
      "execution_count": null,
      "metadata": {
        "id": "GxAZswG8mjEe"
      },
      "outputs": [],
      "source": [
        "if \"registro_sistema\" in dados_completos.columns:\n",
        "    dados_completos.drop(columns=[\"registro_sistema\"], inplace=True)"
      ]
    },
    {
      "cell_type": "code",
      "execution_count": null,
      "metadata": {
        "colab": {
          "base_uri": "https://localhost:8080/"
        },
        "id": "rw1Dez41mlPM",
        "outputId": "78162bae-f4fc-4988-876d-5fd0d1f667a6"
      },
      "outputs": [
        {
          "name": "stdout",
          "output_type": "stream",
          "text": [
            "   id_emprestimo codigo_barras                 data_renovacao  \\\n",
            "0        2962509    2007005628                            NaN   \n",
            "1        2962510       L202802                            NaN   \n",
            "2        2962511    2012008328                            NaN   \n",
            "3        2962512    2012055016  2020/01/17 09:56:18.380000000   \n",
            "4        2962513       L197391  2020/01/17 23:50:18.862000000   \n",
            "\n",
            "                 data_emprestimo                 data_devolucao  \\\n",
            "0  2020/01/02 08:17:30.290000000  2020/01/07 11:14:07.000000000   \n",
            "1  2020/01/02 08:17:30.391000000  2020/01/07 11:14:17.000000000   \n",
            "2  2020/01/02 08:17:30.436000000  2020/01/07 11:24:46.000000000   \n",
            "3  2020/01/02 08:36:40.163000000  2020/01/31 14:53:52.000000000   \n",
            "4  2020/01/02 09:36:03.877000000  2020/01/24 08:18:19.000000000   \n",
            "\n",
            "  matricula_ou_siape       tipo_vinculo_usuario  id_exemplar  \\\n",
            "0      20181028903.0  ALUNO DE PÃS-GRADUAÃÃO     216276.0   \n",
            "1      20181028903.0  ALUNO DE PÃS-GRADUAÃÃO          NaN   \n",
            "2      20181028903.0  ALUNO DE PÃS-GRADUAÃÃO     971301.0   \n",
            "3      20190153535.0       ALUNO DE GRADUAÃÃO    1019380.0   \n",
            "4      20180051611.0       ALUNO DE GRADUAÃÃO     177552.0   \n",
            "\n",
            "             colecao                      biblioteca status_material  \\\n",
            "0  Acervo Circulante  Biblioteca Central Zila Mamede         REGULAR   \n",
            "1                NaN                             NaN             NaN   \n",
            "2  Acervo Circulante  Biblioteca Central Zila Mamede         REGULAR   \n",
            "3  Acervo Circulante  Biblioteca Central Zila Mamede         REGULAR   \n",
            "4  Acervo Circulante  Biblioteca Central Zila Mamede         REGULAR   \n",
            "\n",
            "   localizacao        classe_geral  \n",
            "0        640.0  Ciências aplicadas  \n",
            "1          NaN       Não informado  \n",
            "2        350.0    Ciências sociais  \n",
            "3        696.0  Ciências aplicadas  \n",
            "4        699.0  Ciências aplicadas  \n"
          ]
        }
      ],
      "source": [
        "print(dados_completos.head())"
      ]
    },
    {
      "cell_type": "code",
      "execution_count": null,
      "metadata": {
        "id": "hDU5wc2Dm2m1"
      },
      "outputs": [],
      "source": [
        "dados_completos.to_csv(\"dados_completos_limpos.csv\", index=False, encoding=\"ISO-8859-1\")"
      ]
    },
    {
      "cell_type": "code",
      "execution_count": null,
      "metadata": {
        "id": "5w3nWT8Um8pW"
      },
      "outputs": [],
      "source": [
        "emprestimos.to_csv(\"emprestimos_completo.csv\", index=False, encoding=\"ISO-8859-1\")"
      ]
    },
    {
      "cell_type": "code",
      "execution_count": null,
      "metadata": {
        "id": "eeUBmK-nnA7I"
      },
      "outputs": [],
      "source": [
        "acervo.to_csv(\"acervo_completo.csv\", index=False, encoding=\"ISO-8859-1\")"
      ]
    },
    {
      "cell_type": "code",
      "execution_count": null,
      "metadata": {
        "id": "CZYk63lxqpVd"
      },
      "outputs": [],
      "source": [
        "import pandas as pd"
      ]
    },
    {
      "cell_type": "code",
      "execution_count": null,
      "metadata": {
        "colab": {
          "base_uri": "https://localhost:8080/"
        },
        "id": "56aab138",
        "outputId": "e3689448-26aa-40f1-ba43-e806044b3c84"
      },
      "outputs": [
        {
          "name": "stdout",
          "output_type": "stream",
          "text": [
            "sample_data\n"
          ]
        }
      ],
      "source": [
        "!ls"
      ]
    },
    {
      "cell_type": "code",
      "execution_count": null,
      "metadata": {
        "colab": {
          "base_uri": "https://localhost:8080/",
          "height": 377
        },
        "id": "8b597fe3",
        "outputId": "bb37b726-b733-47a2-b57e-12d479e7b108"
      },
      "outputs": [
        {
          "output_type": "display_data",
          "data": {
            "text/plain": [
              "<IPython.core.display.HTML object>"
            ],
            "text/html": [
              "\n",
              "     <input type=\"file\" id=\"files-6501a811-056e-4ea4-b244-763b635d9e11\" name=\"files[]\" multiple disabled\n",
              "        style=\"border:none\" />\n",
              "     <output id=\"result-6501a811-056e-4ea4-b244-763b635d9e11\">\n",
              "      Upload widget is only available when the cell has been executed in the\n",
              "      current browser session. Please rerun this cell to enable.\n",
              "      </output>\n",
              "      <script>// Copyright 2017 Google LLC\n",
              "//\n",
              "// Licensed under the Apache License, Version 2.0 (the \"License\");\n",
              "// you may not use this file except in compliance with the License.\n",
              "// You may obtain a copy of the License at\n",
              "//\n",
              "//      http://www.apache.org/licenses/LICENSE-2.0\n",
              "//\n",
              "// Unless required by applicable law or agreed to in writing, software\n",
              "// distributed under the License is distributed on an \"AS IS\" BASIS,\n",
              "// WITHOUT WARRANTIES OR CONDITIONS OF ANY KIND, either express or implied.\n",
              "// See the License for the specific language governing permissions and\n",
              "// limitations under the License.\n",
              "\n",
              "/**\n",
              " * @fileoverview Helpers for google.colab Python module.\n",
              " */\n",
              "(function(scope) {\n",
              "function span(text, styleAttributes = {}) {\n",
              "  const element = document.createElement('span');\n",
              "  element.textContent = text;\n",
              "  for (const key of Object.keys(styleAttributes)) {\n",
              "    element.style[key] = styleAttributes[key];\n",
              "  }\n",
              "  return element;\n",
              "}\n",
              "\n",
              "// Max number of bytes which will be uploaded at a time.\n",
              "const MAX_PAYLOAD_SIZE = 100 * 1024;\n",
              "\n",
              "function _uploadFiles(inputId, outputId) {\n",
              "  const steps = uploadFilesStep(inputId, outputId);\n",
              "  const outputElement = document.getElementById(outputId);\n",
              "  // Cache steps on the outputElement to make it available for the next call\n",
              "  // to uploadFilesContinue from Python.\n",
              "  outputElement.steps = steps;\n",
              "\n",
              "  return _uploadFilesContinue(outputId);\n",
              "}\n",
              "\n",
              "// This is roughly an async generator (not supported in the browser yet),\n",
              "// where there are multiple asynchronous steps and the Python side is going\n",
              "// to poll for completion of each step.\n",
              "// This uses a Promise to block the python side on completion of each step,\n",
              "// then passes the result of the previous step as the input to the next step.\n",
              "function _uploadFilesContinue(outputId) {\n",
              "  const outputElement = document.getElementById(outputId);\n",
              "  const steps = outputElement.steps;\n",
              "\n",
              "  const next = steps.next(outputElement.lastPromiseValue);\n",
              "  return Promise.resolve(next.value.promise).then((value) => {\n",
              "    // Cache the last promise value to make it available to the next\n",
              "    // step of the generator.\n",
              "    outputElement.lastPromiseValue = value;\n",
              "    return next.value.response;\n",
              "  });\n",
              "}\n",
              "\n",
              "/**\n",
              " * Generator function which is called between each async step of the upload\n",
              " * process.\n",
              " * @param {string} inputId Element ID of the input file picker element.\n",
              " * @param {string} outputId Element ID of the output display.\n",
              " * @return {!Iterable<!Object>} Iterable of next steps.\n",
              " */\n",
              "function* uploadFilesStep(inputId, outputId) {\n",
              "  const inputElement = document.getElementById(inputId);\n",
              "  inputElement.disabled = false;\n",
              "\n",
              "  const outputElement = document.getElementById(outputId);\n",
              "  outputElement.innerHTML = '';\n",
              "\n",
              "  const pickedPromise = new Promise((resolve) => {\n",
              "    inputElement.addEventListener('change', (e) => {\n",
              "      resolve(e.target.files);\n",
              "    });\n",
              "  });\n",
              "\n",
              "  const cancel = document.createElement('button');\n",
              "  inputElement.parentElement.appendChild(cancel);\n",
              "  cancel.textContent = 'Cancel upload';\n",
              "  const cancelPromise = new Promise((resolve) => {\n",
              "    cancel.onclick = () => {\n",
              "      resolve(null);\n",
              "    };\n",
              "  });\n",
              "\n",
              "  // Wait for the user to pick the files.\n",
              "  const files = yield {\n",
              "    promise: Promise.race([pickedPromise, cancelPromise]),\n",
              "    response: {\n",
              "      action: 'starting',\n",
              "    }\n",
              "  };\n",
              "\n",
              "  cancel.remove();\n",
              "\n",
              "  // Disable the input element since further picks are not allowed.\n",
              "  inputElement.disabled = true;\n",
              "\n",
              "  if (!files) {\n",
              "    return {\n",
              "      response: {\n",
              "        action: 'complete',\n",
              "      }\n",
              "    };\n",
              "  }\n",
              "\n",
              "  for (const file of files) {\n",
              "    const li = document.createElement('li');\n",
              "    li.append(span(file.name, {fontWeight: 'bold'}));\n",
              "    li.append(span(\n",
              "        `(${file.type || 'n/a'}) - ${file.size} bytes, ` +\n",
              "        `last modified: ${\n",
              "            file.lastModifiedDate ? file.lastModifiedDate.toLocaleDateString() :\n",
              "                                    'n/a'} - `));\n",
              "    const percent = span('0% done');\n",
              "    li.appendChild(percent);\n",
              "\n",
              "    outputElement.appendChild(li);\n",
              "\n",
              "    const fileDataPromise = new Promise((resolve) => {\n",
              "      const reader = new FileReader();\n",
              "      reader.onload = (e) => {\n",
              "        resolve(e.target.result);\n",
              "      };\n",
              "      reader.readAsArrayBuffer(file);\n",
              "    });\n",
              "    // Wait for the data to be ready.\n",
              "    let fileData = yield {\n",
              "      promise: fileDataPromise,\n",
              "      response: {\n",
              "        action: 'continue',\n",
              "      }\n",
              "    };\n",
              "\n",
              "    // Use a chunked sending to avoid message size limits. See b/62115660.\n",
              "    let position = 0;\n",
              "    do {\n",
              "      const length = Math.min(fileData.byteLength - position, MAX_PAYLOAD_SIZE);\n",
              "      const chunk = new Uint8Array(fileData, position, length);\n",
              "      position += length;\n",
              "\n",
              "      const base64 = btoa(String.fromCharCode.apply(null, chunk));\n",
              "      yield {\n",
              "        response: {\n",
              "          action: 'append',\n",
              "          file: file.name,\n",
              "          data: base64,\n",
              "        },\n",
              "      };\n",
              "\n",
              "      let percentDone = fileData.byteLength === 0 ?\n",
              "          100 :\n",
              "          Math.round((position / fileData.byteLength) * 100);\n",
              "      percent.textContent = `${percentDone}% done`;\n",
              "\n",
              "    } while (position < fileData.byteLength);\n",
              "  }\n",
              "\n",
              "  // All done.\n",
              "  yield {\n",
              "    response: {\n",
              "      action: 'complete',\n",
              "    }\n",
              "  };\n",
              "}\n",
              "\n",
              "scope.google = scope.google || {};\n",
              "scope.google.colab = scope.google.colab || {};\n",
              "scope.google.colab._files = {\n",
              "  _uploadFiles,\n",
              "  _uploadFilesContinue,\n",
              "};\n",
              "})(self);\n",
              "</script> "
            ]
          },
          "metadata": {}
        },
        {
          "output_type": "error",
          "ename": "KeyboardInterrupt",
          "evalue": "",
          "traceback": [
            "\u001b[0;31m---------------------------------------------------------------------------\u001b[0m",
            "\u001b[0;31mKeyboardInterrupt\u001b[0m                         Traceback (most recent call last)",
            "\u001b[0;32m/tmp/ipython-input-1079862008.py\u001b[0m in \u001b[0;36m<cell line: 0>\u001b[0;34m()\u001b[0m\n\u001b[1;32m      2\u001b[0m \u001b[0;32mfrom\u001b[0m \u001b[0mgoogle\u001b[0m\u001b[0;34m.\u001b[0m\u001b[0mcolab\u001b[0m \u001b[0;32mimport\u001b[0m \u001b[0mfiles\u001b[0m\u001b[0;34m\u001b[0m\u001b[0;34m\u001b[0m\u001b[0m\n\u001b[1;32m      3\u001b[0m \u001b[0;34m\u001b[0m\u001b[0m\n\u001b[0;32m----> 4\u001b[0;31m \u001b[0muploaded\u001b[0m \u001b[0;34m=\u001b[0m \u001b[0mfiles\u001b[0m\u001b[0;34m.\u001b[0m\u001b[0mupload\u001b[0m\u001b[0;34m(\u001b[0m\u001b[0;34m)\u001b[0m\u001b[0;34m\u001b[0m\u001b[0;34m\u001b[0m\u001b[0m\n\u001b[0m\u001b[1;32m      5\u001b[0m \u001b[0;34m\u001b[0m\u001b[0m\n\u001b[1;32m      6\u001b[0m \u001b[0memprestimos_dfs\u001b[0m \u001b[0;34m=\u001b[0m \u001b[0;34m[\u001b[0m\u001b[0;34m]\u001b[0m\u001b[0;34m\u001b[0m\u001b[0;34m\u001b[0m\u001b[0m\n",
            "\u001b[0;32m/usr/local/lib/python3.12/dist-packages/google/colab/files.py\u001b[0m in \u001b[0;36mupload\u001b[0;34m(target_dir)\u001b[0m\n\u001b[1;32m     70\u001b[0m   \"\"\"\n\u001b[1;32m     71\u001b[0m \u001b[0;34m\u001b[0m\u001b[0m\n\u001b[0;32m---> 72\u001b[0;31m   \u001b[0muploaded_files\u001b[0m \u001b[0;34m=\u001b[0m \u001b[0m_upload_files\u001b[0m\u001b[0;34m(\u001b[0m\u001b[0mmultiple\u001b[0m\u001b[0;34m=\u001b[0m\u001b[0;32mTrue\u001b[0m\u001b[0;34m)\u001b[0m\u001b[0;34m\u001b[0m\u001b[0;34m\u001b[0m\u001b[0m\n\u001b[0m\u001b[1;32m     73\u001b[0m   \u001b[0;31m# Mapping from original filename to filename as saved locally.\u001b[0m\u001b[0;34m\u001b[0m\u001b[0;34m\u001b[0m\u001b[0m\n\u001b[1;32m     74\u001b[0m   \u001b[0mlocal_filenames\u001b[0m \u001b[0;34m=\u001b[0m \u001b[0mdict\u001b[0m\u001b[0;34m(\u001b[0m\u001b[0;34m)\u001b[0m\u001b[0;34m\u001b[0m\u001b[0;34m\u001b[0m\u001b[0m\n",
            "\u001b[0;32m/usr/local/lib/python3.12/dist-packages/google/colab/files.py\u001b[0m in \u001b[0;36m_upload_files\u001b[0;34m(multiple)\u001b[0m\n\u001b[1;32m    162\u001b[0m \u001b[0;34m\u001b[0m\u001b[0m\n\u001b[1;32m    163\u001b[0m   \u001b[0;31m# First result is always an indication that the file picker has completed.\u001b[0m\u001b[0;34m\u001b[0m\u001b[0;34m\u001b[0m\u001b[0m\n\u001b[0;32m--> 164\u001b[0;31m   result = _output.eval_js(\n\u001b[0m\u001b[1;32m    165\u001b[0m       'google.colab._files._uploadFiles(\"{input_id}\", \"{output_id}\")'.format(\n\u001b[1;32m    166\u001b[0m           \u001b[0minput_id\u001b[0m\u001b[0;34m=\u001b[0m\u001b[0minput_id\u001b[0m\u001b[0;34m,\u001b[0m \u001b[0moutput_id\u001b[0m\u001b[0;34m=\u001b[0m\u001b[0moutput_id\u001b[0m\u001b[0;34m\u001b[0m\u001b[0;34m\u001b[0m\u001b[0m\n",
            "\u001b[0;32m/usr/local/lib/python3.12/dist-packages/google/colab/output/_js.py\u001b[0m in \u001b[0;36meval_js\u001b[0;34m(script, ignore_result, timeout_sec)\u001b[0m\n\u001b[1;32m     38\u001b[0m   \u001b[0;32mif\u001b[0m \u001b[0mignore_result\u001b[0m\u001b[0;34m:\u001b[0m\u001b[0;34m\u001b[0m\u001b[0;34m\u001b[0m\u001b[0m\n\u001b[1;32m     39\u001b[0m     \u001b[0;32mreturn\u001b[0m\u001b[0;34m\u001b[0m\u001b[0;34m\u001b[0m\u001b[0m\n\u001b[0;32m---> 40\u001b[0;31m   \u001b[0;32mreturn\u001b[0m \u001b[0m_message\u001b[0m\u001b[0;34m.\u001b[0m\u001b[0mread_reply_from_input\u001b[0m\u001b[0;34m(\u001b[0m\u001b[0mrequest_id\u001b[0m\u001b[0;34m,\u001b[0m \u001b[0mtimeout_sec\u001b[0m\u001b[0;34m)\u001b[0m\u001b[0;34m\u001b[0m\u001b[0;34m\u001b[0m\u001b[0m\n\u001b[0m\u001b[1;32m     41\u001b[0m \u001b[0;34m\u001b[0m\u001b[0m\n\u001b[1;32m     42\u001b[0m \u001b[0;34m\u001b[0m\u001b[0m\n",
            "\u001b[0;32m/usr/local/lib/python3.12/dist-packages/google/colab/_message.py\u001b[0m in \u001b[0;36mread_reply_from_input\u001b[0;34m(message_id, timeout_sec)\u001b[0m\n\u001b[1;32m     94\u001b[0m     \u001b[0mreply\u001b[0m \u001b[0;34m=\u001b[0m \u001b[0m_read_next_input_message\u001b[0m\u001b[0;34m(\u001b[0m\u001b[0;34m)\u001b[0m\u001b[0;34m\u001b[0m\u001b[0;34m\u001b[0m\u001b[0m\n\u001b[1;32m     95\u001b[0m     \u001b[0;32mif\u001b[0m \u001b[0mreply\u001b[0m \u001b[0;34m==\u001b[0m \u001b[0m_NOT_READY\u001b[0m \u001b[0;32mor\u001b[0m \u001b[0;32mnot\u001b[0m \u001b[0misinstance\u001b[0m\u001b[0;34m(\u001b[0m\u001b[0mreply\u001b[0m\u001b[0;34m,\u001b[0m \u001b[0mdict\u001b[0m\u001b[0;34m)\u001b[0m\u001b[0;34m:\u001b[0m\u001b[0;34m\u001b[0m\u001b[0;34m\u001b[0m\u001b[0m\n\u001b[0;32m---> 96\u001b[0;31m       \u001b[0mtime\u001b[0m\u001b[0;34m.\u001b[0m\u001b[0msleep\u001b[0m\u001b[0;34m(\u001b[0m\u001b[0;36m0.025\u001b[0m\u001b[0;34m)\u001b[0m\u001b[0;34m\u001b[0m\u001b[0;34m\u001b[0m\u001b[0m\n\u001b[0m\u001b[1;32m     97\u001b[0m       \u001b[0;32mcontinue\u001b[0m\u001b[0;34m\u001b[0m\u001b[0;34m\u001b[0m\u001b[0m\n\u001b[1;32m     98\u001b[0m     if (\n",
            "\u001b[0;31mKeyboardInterrupt\u001b[0m: "
          ]
        }
      ],
      "source": [
        "import pandas as pd\n",
        "from google.colab import files\n",
        "\n",
        "uploaded = files.upload()\n",
        "\n",
        "emprestimos_dfs = []\n",
        "\n",
        "for nome_arquivo in uploaded.keys():\n",
        "    if \"emprestimos\" in nome_arquivo.lower() and nome_arquivo.endswith(\".csv\"):\n",
        "        df = pd.read_csv(nome_arquivo, sep=\",\", encoding=\"ISO-8859-1\", low_memory=False)\n",
        "        emprestimos_dfs.append(df)\n",
        "\n",
        "emprestimos = pd.concat(emprestimos_dfs, ignore_index=True)\n",
        "emprestimos.columns = emprestimos.columns.str.strip().str.lower()\n",
        "\n",
        "acervo = pd.read_parquet([nome for nome in uploaded.keys() if nome.endswith(\".parquet\")][0])\n",
        "acervo.columns = acervo.columns.str.strip().str.lower()\n",
        "\n",
        "dados_completos = emprestimos.merge(acervo, how=\"left\", on=\"codigo_barras\")\n",
        "\n",
        "def mapear_cdu(codigo):\n",
        "    try:\n",
        "        codigo = int(codigo)\n",
        "        if 0 <= codigo <= 99:\n",
        "            return \"Generalidades. Ciência e conhecimento\"\n",
        "        elif 100 <= codigo <= 199:\n",
        "            return \"Filosofia e psicologia\"\n",
        "        elif 200 <= codigo <= 299:\n",
        "            return \"Religião\"\n",
        "        elif 300 <= codigo <= 399:\n",
        "            return \"Ciências sociais\"\n",
        "        elif 400 <= codigo <= 499:\n",
        "            return \"Classe vaga. Provisoriamente não ocupada\"\n",
        "        elif 500 <= codigo <= 599:\n",
        "            return \"Matemática e ciências naturais\"\n",
        "        elif 600 <= codigo <= 699:\n",
        "            return \"Ciências aplicadas\"\n",
        "        elif 700 <= codigo <= 799:\n",
        "            return \"Belas artes\"\n",
        "        elif 800 <= codigo <= 899:\n",
        "            return \"Linguagem. Língua. Linguística\"\n",
        "        elif 900 <= codigo <= 999:\n",
        "            return \"Geografia. Biografia. História\"\n",
        "        else:\n",
        "            return \"Código inválido\"\n",
        "    except:\n",
        "        return \"Não informado\"\n",
        "\n",
        "dados_completos[\"classe_geral\"] = dados_completos[\"localizacao\"].apply(mapear_cdu)\n",
        "dados_completos[\"matricula_ou_siape\"] = dados_completos[\"matricula_ou_siape\"].astype(str)\n",
        "\n",
        "if \"registro_sistema\" in dados_completos.columns:\n",
        "    dados_completos.drop(columns=[\"registro_sistema\"], inplace=True)\n",
        "\n",
        "dados_completos.to_csv(\"dados_completos_limpos.csv\", index=False, encoding=\"ISO-8859-1\")\n",
        "emprestimos.to_csv(\"emprestimos_completo.csv\", index=False, encoding=\"ISO-8859-1\")\n",
        "acervo.to_csv(\"acervo_completo.csv\", index=False, encoding=\"ISO-8859-1\")"
      ]
    },
    {
      "cell_type": "code",
      "source": [
        "import pandas as pd"
      ],
      "metadata": {
        "id": "kVmsPxuvAsQU"
      },
      "execution_count": null,
      "outputs": []
    },
    {
      "cell_type": "code",
      "source": [
        "emprestimos_dfs = []\n",
        "for nome_arquivo in uploaded.keys():\n",
        "    if \"emprestimos\" in nome_arquivo.lower() and nome_arquivo.endswith(\".csv\"):\n",
        "        df = pd.read_csv(nome_arquivo, sep=\",\", encoding=\"ISO-8859-1\", low_memory=False)\n",
        "        emprestimos_dfs.append(df)\n"
      ],
      "metadata": {
        "id": "-CNDQb0MAwfJ"
      },
      "execution_count": null,
      "outputs": []
    },
    {
      "cell_type": "code",
      "source": [
        "emprestimos = pd.concat(emprestimos_dfs, ignore_index=True)"
      ],
      "metadata": {
        "id": "yafAccnYB0ir"
      },
      "execution_count": null,
      "outputs": []
    },
    {
      "cell_type": "code",
      "source": [
        "emprestimos.columns = emprestimos.columns.str.strip().str.lower()"
      ],
      "metadata": {
        "id": "IvrY1K52B3cq"
      },
      "execution_count": null,
      "outputs": []
    },
    {
      "cell_type": "code",
      "source": [
        "arquivos_parquet = [nome for nome in uploaded.keys() if nome.endswith(\".parquet\")]"
      ],
      "metadata": {
        "id": "qGlLokRSB7e-"
      },
      "execution_count": null,
      "outputs": []
    },
    {
      "cell_type": "code",
      "source": [
        "acervo = pd.read_parquet(arquivos_parquet[0]) if arquivos_parquet else pd.DataFrame()"
      ],
      "metadata": {
        "id": "BnfHV3ycCCWs"
      },
      "execution_count": null,
      "outputs": []
    },
    {
      "cell_type": "code",
      "source": [
        "if not acervo.empty:\n",
        "    acervo.columns = acervo.columns.str.strip().str.lower()"
      ],
      "metadata": {
        "id": "5nhBRmrWCFDj"
      },
      "execution_count": null,
      "outputs": []
    },
    {
      "cell_type": "code",
      "source": [
        "print(emprestimos.columns)\n",
        "print(acervo.columns)"
      ],
      "metadata": {
        "colab": {
          "base_uri": "https://localhost:8080/"
        },
        "id": "e5Bv0VQPCMvw",
        "outputId": "b6c7095d-ff5c-4958-d605-6353cb499058"
      },
      "execution_count": null,
      "outputs": [
        {
          "output_type": "stream",
          "name": "stdout",
          "text": [
            "Index(['id_emprestimo', 'codigo_barras', 'data_renovacao', 'data_emprestimo',\n",
            "       'data_devolucao', 'matricula_ou_siape', 'tipo_vinculo_usuario'],\n",
            "      dtype='object')\n",
            "RangeIndex(start=0, stop=0, step=1)\n"
          ]
        }
      ]
    },
    {
      "cell_type": "code",
      "source": [
        "if not acervo.empty and \"codigo_barras\" in acervo.columns and \"codigo_barras\" in emprestimos.columns:\n",
        "    dados_completos = emprestimos.merge(acervo, how=\"left\", on=\"codigo_barras\")\n",
        "else:\n",
        "    dados_completos = emprestimos.copy()  # segue apenas com empréstimos"
      ],
      "metadata": {
        "id": "RdnaAKwaCQ85"
      },
      "execution_count": null,
      "outputs": []
    },
    {
      "cell_type": "code",
      "source": [
        "print(dados_completos.columns.tolist())"
      ],
      "metadata": {
        "colab": {
          "base_uri": "https://localhost:8080/"
        },
        "id": "HhgW9LpCC-2O",
        "outputId": "0943c089-2900-4bd2-803f-880635baefa6"
      },
      "execution_count": null,
      "outputs": [
        {
          "output_type": "stream",
          "name": "stdout",
          "text": [
            "['id_emprestimo', 'codigo_barras', 'data_renovacao', 'data_emprestimo', 'data_devolucao', 'matricula_ou_siape', 'tipo_vinculo_usuario']\n"
          ]
        }
      ]
    },
    {
      "cell_type": "code",
      "source": [
        "print(acervo.columns.tolist())"
      ],
      "metadata": {
        "colab": {
          "base_uri": "https://localhost:8080/"
        },
        "id": "L91svSaZDMvO",
        "outputId": "b80cf4a0-ec9a-426a-dd05-617e50d6e57c"
      },
      "execution_count": null,
      "outputs": [
        {
          "output_type": "stream",
          "name": "stdout",
          "text": [
            "[]\n"
          ]
        }
      ]
    },
    {
      "cell_type": "code",
      "source": [
        "!head -n 10 acervo_completo.csv"
      ],
      "metadata": {
        "colab": {
          "base_uri": "https://localhost:8080/"
        },
        "id": "ZZbR8bASDflp",
        "outputId": "bcbea76e-48df-4564-b429-2cb397d3f162"
      },
      "execution_count": null,
      "outputs": [
        {
          "output_type": "stream",
          "name": "stdout",
          "text": [
            "head: cannot open 'acervo_completo.csv' for reading: No such file or directory\n"
          ]
        }
      ]
    },
    {
      "cell_type": "code",
      "source": [
        "import pandas as pd"
      ],
      "metadata": {
        "id": "xcAgInd8DkIN"
      },
      "execution_count": null,
      "outputs": []
    },
    {
      "cell_type": "code",
      "source": [
        "import os"
      ],
      "metadata": {
        "id": "-UZIRu7cE5I4"
      },
      "execution_count": null,
      "outputs": []
    },
    {
      "cell_type": "code",
      "source": [
        "print(os.listdir())"
      ],
      "metadata": {
        "colab": {
          "base_uri": "https://localhost:8080/"
        },
        "id": "d2IIZKnEE8gg",
        "outputId": "b702463b-ea24-4774-a0b1-63f39eff9228"
      },
      "execution_count": null,
      "outputs": [
        {
          "output_type": "stream",
          "name": "stdout",
          "text": [
            "['.config', 'emprestimos_completo.csv', 'sample_data']\n"
          ]
        }
      ]
    },
    {
      "cell_type": "code",
      "source": [
        "from google.colab import files"
      ],
      "metadata": {
        "id": "0kq6Vrq8FwN6"
      },
      "execution_count": null,
      "outputs": []
    },
    {
      "cell_type": "code",
      "source": [
        "uploaded = files.upload()"
      ],
      "metadata": {
        "colab": {
          "base_uri": "https://localhost:8080/",
          "height": 107
        },
        "id": "IA8HrMoNFy2m",
        "outputId": "095df745-2670-4782-bfc4-ee976f36c22f"
      },
      "execution_count": null,
      "outputs": [
        {
          "output_type": "display_data",
          "data": {
            "text/plain": [
              "<IPython.core.display.HTML object>"
            ],
            "text/html": [
              "\n",
              "     <input type=\"file\" id=\"files-564e7276-025c-4d84-88f0-5b7b8ada424e\" name=\"files[]\" multiple disabled\n",
              "        style=\"border:none\" />\n",
              "     <output id=\"result-564e7276-025c-4d84-88f0-5b7b8ada424e\">\n",
              "      Upload widget is only available when the cell has been executed in the\n",
              "      current browser session. Please rerun this cell to enable.\n",
              "      </output>\n",
              "      <script>// Copyright 2017 Google LLC\n",
              "//\n",
              "// Licensed under the Apache License, Version 2.0 (the \"License\");\n",
              "// you may not use this file except in compliance with the License.\n",
              "// You may obtain a copy of the License at\n",
              "//\n",
              "//      http://www.apache.org/licenses/LICENSE-2.0\n",
              "//\n",
              "// Unless required by applicable law or agreed to in writing, software\n",
              "// distributed under the License is distributed on an \"AS IS\" BASIS,\n",
              "// WITHOUT WARRANTIES OR CONDITIONS OF ANY KIND, either express or implied.\n",
              "// See the License for the specific language governing permissions and\n",
              "// limitations under the License.\n",
              "\n",
              "/**\n",
              " * @fileoverview Helpers for google.colab Python module.\n",
              " */\n",
              "(function(scope) {\n",
              "function span(text, styleAttributes = {}) {\n",
              "  const element = document.createElement('span');\n",
              "  element.textContent = text;\n",
              "  for (const key of Object.keys(styleAttributes)) {\n",
              "    element.style[key] = styleAttributes[key];\n",
              "  }\n",
              "  return element;\n",
              "}\n",
              "\n",
              "// Max number of bytes which will be uploaded at a time.\n",
              "const MAX_PAYLOAD_SIZE = 100 * 1024;\n",
              "\n",
              "function _uploadFiles(inputId, outputId) {\n",
              "  const steps = uploadFilesStep(inputId, outputId);\n",
              "  const outputElement = document.getElementById(outputId);\n",
              "  // Cache steps on the outputElement to make it available for the next call\n",
              "  // to uploadFilesContinue from Python.\n",
              "  outputElement.steps = steps;\n",
              "\n",
              "  return _uploadFilesContinue(outputId);\n",
              "}\n",
              "\n",
              "// This is roughly an async generator (not supported in the browser yet),\n",
              "// where there are multiple asynchronous steps and the Python side is going\n",
              "// to poll for completion of each step.\n",
              "// This uses a Promise to block the python side on completion of each step,\n",
              "// then passes the result of the previous step as the input to the next step.\n",
              "function _uploadFilesContinue(outputId) {\n",
              "  const outputElement = document.getElementById(outputId);\n",
              "  const steps = outputElement.steps;\n",
              "\n",
              "  const next = steps.next(outputElement.lastPromiseValue);\n",
              "  return Promise.resolve(next.value.promise).then((value) => {\n",
              "    // Cache the last promise value to make it available to the next\n",
              "    // step of the generator.\n",
              "    outputElement.lastPromiseValue = value;\n",
              "    return next.value.response;\n",
              "  });\n",
              "}\n",
              "\n",
              "/**\n",
              " * Generator function which is called between each async step of the upload\n",
              " * process.\n",
              " * @param {string} inputId Element ID of the input file picker element.\n",
              " * @param {string} outputId Element ID of the output display.\n",
              " * @return {!Iterable<!Object>} Iterable of next steps.\n",
              " */\n",
              "function* uploadFilesStep(inputId, outputId) {\n",
              "  const inputElement = document.getElementById(inputId);\n",
              "  inputElement.disabled = false;\n",
              "\n",
              "  const outputElement = document.getElementById(outputId);\n",
              "  outputElement.innerHTML = '';\n",
              "\n",
              "  const pickedPromise = new Promise((resolve) => {\n",
              "    inputElement.addEventListener('change', (e) => {\n",
              "      resolve(e.target.files);\n",
              "    });\n",
              "  });\n",
              "\n",
              "  const cancel = document.createElement('button');\n",
              "  inputElement.parentElement.appendChild(cancel);\n",
              "  cancel.textContent = 'Cancel upload';\n",
              "  const cancelPromise = new Promise((resolve) => {\n",
              "    cancel.onclick = () => {\n",
              "      resolve(null);\n",
              "    };\n",
              "  });\n",
              "\n",
              "  // Wait for the user to pick the files.\n",
              "  const files = yield {\n",
              "    promise: Promise.race([pickedPromise, cancelPromise]),\n",
              "    response: {\n",
              "      action: 'starting',\n",
              "    }\n",
              "  };\n",
              "\n",
              "  cancel.remove();\n",
              "\n",
              "  // Disable the input element since further picks are not allowed.\n",
              "  inputElement.disabled = true;\n",
              "\n",
              "  if (!files) {\n",
              "    return {\n",
              "      response: {\n",
              "        action: 'complete',\n",
              "      }\n",
              "    };\n",
              "  }\n",
              "\n",
              "  for (const file of files) {\n",
              "    const li = document.createElement('li');\n",
              "    li.append(span(file.name, {fontWeight: 'bold'}));\n",
              "    li.append(span(\n",
              "        `(${file.type || 'n/a'}) - ${file.size} bytes, ` +\n",
              "        `last modified: ${\n",
              "            file.lastModifiedDate ? file.lastModifiedDate.toLocaleDateString() :\n",
              "                                    'n/a'} - `));\n",
              "    const percent = span('0% done');\n",
              "    li.appendChild(percent);\n",
              "\n",
              "    outputElement.appendChild(li);\n",
              "\n",
              "    const fileDataPromise = new Promise((resolve) => {\n",
              "      const reader = new FileReader();\n",
              "      reader.onload = (e) => {\n",
              "        resolve(e.target.result);\n",
              "      };\n",
              "      reader.readAsArrayBuffer(file);\n",
              "    });\n",
              "    // Wait for the data to be ready.\n",
              "    let fileData = yield {\n",
              "      promise: fileDataPromise,\n",
              "      response: {\n",
              "        action: 'continue',\n",
              "      }\n",
              "    };\n",
              "\n",
              "    // Use a chunked sending to avoid message size limits. See b/62115660.\n",
              "    let position = 0;\n",
              "    do {\n",
              "      const length = Math.min(fileData.byteLength - position, MAX_PAYLOAD_SIZE);\n",
              "      const chunk = new Uint8Array(fileData, position, length);\n",
              "      position += length;\n",
              "\n",
              "      const base64 = btoa(String.fromCharCode.apply(null, chunk));\n",
              "      yield {\n",
              "        response: {\n",
              "          action: 'append',\n",
              "          file: file.name,\n",
              "          data: base64,\n",
              "        },\n",
              "      };\n",
              "\n",
              "      let percentDone = fileData.byteLength === 0 ?\n",
              "          100 :\n",
              "          Math.round((position / fileData.byteLength) * 100);\n",
              "      percent.textContent = `${percentDone}% done`;\n",
              "\n",
              "    } while (position < fileData.byteLength);\n",
              "  }\n",
              "\n",
              "  // All done.\n",
              "  yield {\n",
              "    response: {\n",
              "      action: 'complete',\n",
              "    }\n",
              "  };\n",
              "}\n",
              "\n",
              "scope.google = scope.google || {};\n",
              "scope.google.colab = scope.google.colab || {};\n",
              "scope.google.colab._files = {\n",
              "  _uploadFiles,\n",
              "  _uploadFilesContinue,\n",
              "};\n",
              "})(self);\n",
              "</script> "
            ]
          },
          "metadata": {}
        },
        {
          "output_type": "stream",
          "name": "stdout",
          "text": [
            "Saving emprestimos_completo.csv to emprestimos_completo (1).csv\n",
            "Saving dados_exemplares.parquet to dados_exemplares.parquet\n"
          ]
        }
      ]
    },
    {
      "cell_type": "code",
      "source": [
        "import pandas as pd"
      ],
      "metadata": {
        "id": "23WGNRvMNsUJ"
      },
      "execution_count": null,
      "outputs": []
    },
    {
      "cell_type": "code",
      "source": [
        "emprestimos = pd.read_csv(\"emprestimos_completo.csv\", encoding=\"ISO-8859-1\")\n",
        "emprestimos.columns = emprestimos.columns.str.strip().str.lower()"
      ],
      "metadata": {
        "id": "coTIafLANvyJ"
      },
      "execution_count": null,
      "outputs": []
    },
    {
      "cell_type": "code",
      "source": [
        "acervo = pd.read_parquet(\"dados_exemplares.parquet\")\n",
        "acervo.columns = acervo.columns.str.strip().str.lower()"
      ],
      "metadata": {
        "id": "pEBP4tjnN1hI"
      },
      "execution_count": null,
      "outputs": []
    },
    {
      "cell_type": "code",
      "source": [
        "print(emprestimos.columns.tolist())\n",
        "print(acervo.columns.tolist())"
      ],
      "metadata": {
        "colab": {
          "base_uri": "https://localhost:8080/"
        },
        "id": "SbJ-59_PN4zK",
        "outputId": "e26a461e-e6e1-4998-efb3-d90495f6cf4b"
      },
      "execution_count": null,
      "outputs": [
        {
          "output_type": "stream",
          "name": "stdout",
          "text": [
            "['id_emprestimo', 'codigo_barras', 'data_renovacao', 'data_emprestimo', 'data_devolucao', 'matricula_ou_siape', 'tipo_vinculo_usuario']\n",
            "['id_exemplar', 'codigo_barras', 'colecao', 'biblioteca', 'status_material', 'localizacao', 'registro_sistema']\n"
          ]
        }
      ]
    },
    {
      "cell_type": "code",
      "source": [
        "dados_completos = emprestimos.merge(acervo, how=\"left\", on=\"codigo_barras\")"
      ],
      "metadata": {
        "id": "iUp-h1woOWQy"
      },
      "execution_count": null,
      "outputs": []
    },
    {
      "cell_type": "code",
      "source": [
        "def mapear_cdu(codigo):\n",
        "    try:\n",
        "        codigo = int(codigo)\n",
        "        if 0 <= codigo <= 99:\n",
        "            return \"Generalidades. Ciência e conhecimento\"\n",
        "        elif 100 <= codigo <= 199:\n",
        "            return \"Filosofia e psicologia\"\n",
        "        elif 200 <= codigo <= 299:\n",
        "            return \"Religião\"\n",
        "        elif 300 <= codigo <= 399:\n",
        "            return \"Ciências sociais\"\n",
        "        elif 400 <= codigo <= 499:\n",
        "            return \"Classe vaga. Provisoriamente não ocupada\"\n",
        "        elif 500 <= codigo <= 599:\n",
        "            return \"Matemática e ciências naturais\"\n",
        "        elif 600 <= codigo <= 699:\n",
        "            return \"Ciências aplicadas\"\n",
        "        elif 700 <= codigo <= 799:\n",
        "            return \"Belas artes\"\n",
        "        elif 800 <= codigo <= 899:\n",
        "            return \"Linguagem. Língua. Linguística\"\n",
        "        elif 900 <= codigo <= 999:\n",
        "            return \"Geografia. Biografia. História\"\n",
        "        else:\n",
        "            return \"Código inválido\"\n",
        "    except:\n",
        "        return \"Não informado\""
      ],
      "metadata": {
        "id": "0kqp9nq8ObB8"
      },
      "execution_count": null,
      "outputs": []
    },
    {
      "cell_type": "code",
      "source": [],
      "metadata": {
        "id": "z9sLNecCOdUe"
      },
      "execution_count": null,
      "outputs": []
    },
    {
      "cell_type": "code",
      "source": [
        "dados_completos[\"classe_geral\"] = dados_completos[\"localizacao\"].apply(mapear_cdu)"
      ],
      "metadata": {
        "id": "8KD6hs_8OfXq"
      },
      "execution_count": null,
      "outputs": []
    },
    {
      "cell_type": "code",
      "source": [],
      "metadata": {
        "id": "ZmkpCfgQOgyC"
      },
      "execution_count": null,
      "outputs": []
    },
    {
      "cell_type": "code",
      "source": [
        "dados_completos[\"matricula_ou_siape\"] = dados_completos[\"matricula_ou_siape\"].astype(str)"
      ],
      "metadata": {
        "id": "ztkbe_B5Oi7N"
      },
      "execution_count": null,
      "outputs": []
    },
    {
      "cell_type": "code",
      "source": [
        "if \"registro_sistema\" in dados_completos.columns:\n",
        "    dados_completos.drop(columns=[\"registro_sistema\"], inplace=True)\n"
      ],
      "metadata": {
        "id": "Yrj1BN0cOoA7"
      },
      "execution_count": null,
      "outputs": []
    },
    {
      "cell_type": "code",
      "source": [
        "dados_completos.to_csv(\"dados_completos_limpos.csv\", index=False, encoding=\"ISO-8859-1\")\n",
        "emprestimos.to_csv(\"emprestimos_completo.csv\", index=False, encoding=\"ISO-8859-1\")\n",
        "acervo.to_csv(\"acervo_completo.csv\", index=False, encoding=\"ISO-8859-1\")"
      ],
      "metadata": {
        "id": "gEgv9I5fOpWF"
      },
      "execution_count": null,
      "outputs": []
    },
    {
      "cell_type": "code",
      "source": [
        "\n",
        "print(\"Merge e limpeza finalizados com sucesso!\")\n",
        "print(dados_completos.head())"
      ],
      "metadata": {
        "colab": {
          "base_uri": "https://localhost:8080/"
        },
        "id": "0L4BlZiXO_K1",
        "outputId": "3d94f485-82b5-4faf-e449-e391fd637134"
      },
      "execution_count": null,
      "outputs": [
        {
          "output_type": "stream",
          "name": "stdout",
          "text": [
            "Merge e limpeza finalizados com sucesso!\n",
            "   id_emprestimo codigo_barras                 data_renovacao  \\\n",
            "0        2962509    2007005628                            NaN   \n",
            "1        2962510       L202802                            NaN   \n",
            "2        2962511    2012008328                            NaN   \n",
            "3        2962512    2012055016  2020/01/17 09:56:18.380000000   \n",
            "4        2962513       L197391  2020/01/17 23:50:18.862000000   \n",
            "\n",
            "                 data_emprestimo                 data_devolucao  \\\n",
            "0  2020/01/02 08:17:30.290000000  2020/01/07 11:14:07.000000000   \n",
            "1  2020/01/02 08:17:30.391000000  2020/01/07 11:14:17.000000000   \n",
            "2  2020/01/02 08:17:30.436000000  2020/01/07 11:24:46.000000000   \n",
            "3  2020/01/02 08:36:40.163000000  2020/01/31 14:53:52.000000000   \n",
            "4  2020/01/02 09:36:03.877000000  2020/01/24 08:18:19.000000000   \n",
            "\n",
            "  matricula_ou_siape       tipo_vinculo_usuario  id_exemplar  \\\n",
            "0      20181028903.0  ALUNO DE PÃS-GRADUAÃÃO     216276.0   \n",
            "1      20181028903.0  ALUNO DE PÃS-GRADUAÃÃO          NaN   \n",
            "2      20181028903.0  ALUNO DE PÃS-GRADUAÃÃO     971301.0   \n",
            "3      20190153535.0       ALUNO DE GRADUAÃÃO    1019380.0   \n",
            "4      20180051611.0       ALUNO DE GRADUAÃÃO     177552.0   \n",
            "\n",
            "             colecao                      biblioteca status_material  \\\n",
            "0  Acervo Circulante  Biblioteca Central Zila Mamede         REGULAR   \n",
            "1                NaN                             NaN             NaN   \n",
            "2  Acervo Circulante  Biblioteca Central Zila Mamede         REGULAR   \n",
            "3  Acervo Circulante  Biblioteca Central Zila Mamede         REGULAR   \n",
            "4  Acervo Circulante  Biblioteca Central Zila Mamede         REGULAR   \n",
            "\n",
            "   localizacao        classe_geral  \n",
            "0        640.0  Ciências aplicadas  \n",
            "1          NaN       Não informado  \n",
            "2        350.0    Ciências sociais  \n",
            "3        696.0  Ciências aplicadas  \n",
            "4        699.0  Ciências aplicadas  \n"
          ]
        }
      ]
    },
    {
      "cell_type": "code",
      "source": [
        "dados_completos = dados_completos.dropna(subset=[\"codigo_barras\", \"data_emprestimo\"])"
      ],
      "metadata": {
        "id": "aRGSsoqWPXLz"
      },
      "execution_count": null,
      "outputs": []
    },
    {
      "cell_type": "code",
      "source": [
        "dados_completos[\"ano_emprestimo\"] = pd.to_datetime(dados_completos[\"data_emprestimo\"]).dt.year"
      ],
      "metadata": {
        "id": "icrmfmCiPcE0"
      },
      "execution_count": null,
      "outputs": []
    },
    {
      "cell_type": "code",
      "source": [
        "dados_completos[\"mes_emprestimo\"] = pd.to_datetime(dados_completos[\"data_emprestimo\"]).dt.month"
      ],
      "metadata": {
        "id": "aEfK7yzUPjRo"
      },
      "execution_count": null,
      "outputs": []
    },
    {
      "cell_type": "code",
      "source": [
        "emprestimos_ano = dados_completos.groupby(\"ano_emprestimo\").size().reset_index(name=\"total_emprestimos\")\n",
        "print(emprestimos_ano)"
      ],
      "metadata": {
        "colab": {
          "base_uri": "https://localhost:8080/"
        },
        "id": "MNb43xTjPmnD",
        "outputId": "dda6f2cd-3448-4d56-bfde-7e3d142ed4d4"
      },
      "execution_count": null,
      "outputs": [
        {
          "output_type": "stream",
          "name": "stdout",
          "text": [
            "    ano_emprestimo  total_emprestimos\n",
            "0             2010             196165\n",
            "1             2011             229548\n",
            "2             2012             250260\n",
            "3             2013             259598\n",
            "4             2014             235725\n",
            "5             2015             225317\n",
            "6             2016             226399\n",
            "7             2017             229527\n",
            "8             2018             202613\n",
            "9             2019             180028\n",
            "10            2020              26636\n"
          ]
        }
      ]
    },
    {
      "cell_type": "code",
      "source": [
        "emprestimos_classe = dados_completos.groupby(\"classe_geral\").size().reset_index(name=\"total_emprestimos\")\n",
        "print(emprestimos_classe)"
      ],
      "metadata": {
        "colab": {
          "base_uri": "https://localhost:8080/"
        },
        "id": "btbFrN01PqMj",
        "outputId": "198e1485-385a-4e32-e714-90495d6e20a3"
      },
      "execution_count": null,
      "outputs": [
        {
          "output_type": "stream",
          "name": "stdout",
          "text": [
            "                            classe_geral  total_emprestimos\n",
            "0                            Belas artes               7911\n",
            "1                     Ciências aplicadas            1425496\n",
            "2                       Ciências sociais             369543\n",
            "3                 Filosofia e psicologia              60564\n",
            "4  Generalidades. Ciência e conhecimento              62525\n",
            "5         Geografia. Biografia. História               7989\n",
            "6         Linguagem. Língua. Linguística               7490\n",
            "7         Matemática e ciências naturais              68745\n",
            "8                          Não informado             189258\n",
            "9                               Religião              62295\n"
          ]
        }
      ]
    },
    {
      "cell_type": "code",
      "source": [
        "import pandas as pd"
      ],
      "metadata": {
        "id": "ghqR7pb4QT_L"
      },
      "execution_count": null,
      "outputs": []
    },
    {
      "cell_type": "code",
      "source": [
        "emprestimos = pd.read_csv(\"emprestimos_completo.csv\", encoding=\"ISO-8859-1\")"
      ],
      "metadata": {
        "id": "NB6EWZ5lQWm5"
      },
      "execution_count": null,
      "outputs": []
    },
    {
      "cell_type": "code",
      "source": [
        "emprestimos.columns = emprestimos.columns.str.strip().str.lower()"
      ],
      "metadata": {
        "id": "bNV7k-ewQa4f"
      },
      "execution_count": null,
      "outputs": []
    },
    {
      "cell_type": "code",
      "source": [
        "acervo = pd.read_parquet(\"dados_exemplares.parquet\")"
      ],
      "metadata": {
        "id": "V59Yu5zHQaoO"
      },
      "execution_count": null,
      "outputs": []
    },
    {
      "cell_type": "code",
      "source": [
        "acervo.columns = acervo.columns.str.strip().str.lower()"
      ],
      "metadata": {
        "id": "mKUmSgtQQjam"
      },
      "execution_count": null,
      "outputs": []
    },
    {
      "cell_type": "code",
      "source": [
        "dados_completos = emprestimos.merge(acervo, how=\"left\", on=\"codigo_barras\")"
      ],
      "metadata": {
        "id": "JbQv7fFiQjNH"
      },
      "execution_count": null,
      "outputs": []
    },
    {
      "cell_type": "code",
      "source": [
        "def mapear_cdu(codigo):\n",
        "    try:\n",
        "        codigo = int(codigo)\n",
        "        if 0 <= codigo <= 99:\n",
        "            return \"Generalidades. Ciência e conhecimento\"\n",
        "        elif 100 <= codigo <= 199:\n",
        "            return \"Filosofia e psicologia\"\n",
        "        elif 200 <= codigo <= 299:\n",
        "            return \"Religião\"\n",
        "        elif 300 <= codigo <= 399:\n",
        "            return \"Ciências sociais\"\n",
        "        elif 400 <= codigo <= 499:\n",
        "            return \"Classe vaga. Provisoriamente não ocupada\"\n",
        "        elif 500 <= codigo <= 599:\n",
        "            return \"Matemática e ciências naturais\"\n",
        "        elif 600 <= codigo <= 699:\n",
        "            return \"Ciências aplicadas\"\n",
        "        elif 700 <= codigo <= 799:\n",
        "            return \"Belas artes\"\n",
        "        elif 800 <= codigo <= 899:\n",
        "            return \"Linguagem. Língua. Linguística\"\n",
        "        elif 900 <= codigo <= 999:\n",
        "            return \"Geografia. Biografia. História\"\n",
        "        else:\n",
        "            return \"Código inválido\"\n",
        "    except:\n",
        "        return \"Não informado\""
      ],
      "metadata": {
        "id": "tPcWNFjyQqr3"
      },
      "execution_count": null,
      "outputs": []
    },
    {
      "cell_type": "code",
      "source": [
        "\n",
        "dados_completos[\"classe_geral\"] = dados_completos[\"localizacao\"].apply(mapear_cdu)"
      ],
      "metadata": {
        "id": "i6qH7yZUQtjb"
      },
      "execution_count": null,
      "outputs": []
    },
    {
      "cell_type": "code",
      "source": [
        "dados_completos[\"matricula_ou_siape\"] = dados_completos[\"matricula_ou_siape\"].astype(str)"
      ],
      "metadata": {
        "id": "jBx_jVb_QyXs"
      },
      "execution_count": null,
      "outputs": []
    },
    {
      "cell_type": "code",
      "source": [
        "if \"registro_sistema\" in dados_completos.columns:\n",
        "    dados_completos.drop(columns=[\"registro_sistema\"], inplace=True)"
      ],
      "metadata": {
        "id": "_V-s5yu-Q1EK"
      },
      "execution_count": null,
      "outputs": []
    },
    {
      "cell_type": "code",
      "source": [
        "dados_completos = dados_completos.dropna(subset=[\"codigo_barras\", \"data_emprestimo\"])"
      ],
      "metadata": {
        "id": "PFEfY2CfQ2dh"
      },
      "execution_count": null,
      "outputs": []
    },
    {
      "cell_type": "code",
      "source": [
        "dados_completos[\"data_emprestimo\"] = pd.to_datetime(dados_completos[\"data_emprestimo\"], errors='coerce')\n",
        "dados_completos[\"ano_emprestimo\"] = dados_completos[\"data_emprestimo\"].dt.year\n",
        "dados_completos[\"mes_emprestimo\"] = dados_completos[\"data_emprestimo\"].dt.month"
      ],
      "metadata": {
        "id": "CnFOTqG-Q_JG"
      },
      "execution_count": null,
      "outputs": []
    },
    {
      "cell_type": "code",
      "source": [
        "emprestimos_ano = dados_completos.groupby(\"ano_emprestimo\").size().reset_index(name=\"total_emprestimos\")\n",
        "print(emprestimos_ano)"
      ],
      "metadata": {
        "colab": {
          "base_uri": "https://localhost:8080/"
        },
        "id": "caAJsYgiRDYt",
        "outputId": "f2ffcdf0-680e-4a1a-a87b-0a3cac4837ba"
      },
      "execution_count": null,
      "outputs": [
        {
          "output_type": "stream",
          "name": "stdout",
          "text": [
            "    ano_emprestimo  total_emprestimos\n",
            "0             2010             196165\n",
            "1             2011             229548\n",
            "2             2012             250260\n",
            "3             2013             259598\n",
            "4             2014             235725\n",
            "5             2015             225317\n",
            "6             2016             226399\n",
            "7             2017             229527\n",
            "8             2018             202613\n",
            "9             2019             180028\n",
            "10            2020              26636\n"
          ]
        }
      ]
    },
    {
      "cell_type": "code",
      "source": [
        "emprestimos_classe = dados_completos.groupby(\"classe_geral\").size().reset_index(name=\"total_emprestimos\")\n",
        "print(emprestimos_classe)"
      ],
      "metadata": {
        "colab": {
          "base_uri": "https://localhost:8080/"
        },
        "id": "7YeqFlf0RHuB",
        "outputId": "dd3cfa36-87d0-444a-efea-1a02bd1e9e9c"
      },
      "execution_count": null,
      "outputs": [
        {
          "output_type": "stream",
          "name": "stdout",
          "text": [
            "                            classe_geral  total_emprestimos\n",
            "0                            Belas artes               7911\n",
            "1                     Ciências aplicadas            1425496\n",
            "2                       Ciências sociais             369543\n",
            "3                 Filosofia e psicologia              60564\n",
            "4  Generalidades. Ciência e conhecimento              62525\n",
            "5         Geografia. Biografia. História               7989\n",
            "6         Linguagem. Língua. Linguística               7490\n",
            "7         Matemática e ciências naturais              68745\n",
            "8                          Não informado             189258\n",
            "9                               Religião              62295\n"
          ]
        }
      ]
    },
    {
      "cell_type": "code",
      "source": [
        "emprestimos_biblioteca = dados_completos.groupby(\"biblioteca\").size().reset_index(name=\"total_emprestimos\")\n",
        "print(emprestimos_biblioteca)"
      ],
      "metadata": {
        "colab": {
          "base_uri": "https://localhost:8080/"
        },
        "id": "C_hygF-DRLO2",
        "outputId": "16fab5db-3fdb-40cc-d18e-2dc1bb2782f3"
      },
      "execution_count": null,
      "outputs": [
        {
          "output_type": "stream",
          "name": "stdout",
          "text": [
            "                                           biblioteca  total_emprestimos\n",
            "0                      Biblioteca Central Zila Mamede            1426148\n",
            "1   Biblioteca Setorial Bertha Cruz Enders - ­Esco...              46040\n",
            "2   Biblioteca Setorial Dr. Paulo Bezerra - EMCM/R...              32097\n",
            "3             Biblioteca Setorial Moacyr de Góes - CE               1036\n",
            "4   Biblioteca Setorial Pe. Jaime Diniz - Escola d...              21476\n",
            "5   Biblioteca Setorial Prof. Alberto Moreira Camp...              66452\n",
            "6   Biblioteca Setorial Prof. Dr. Marcelo Bezerra ...               5057\n",
            "7   Biblioteca Setorial Prof. Francisco Gurgel De ...              26923\n",
            "8   Biblioteca Setorial Prof. Horácio Nicolas Soli...               4098\n",
            "9   Biblioteca Setorial Prof. Leopoldo Nelson - ­C...              12900\n",
            "10  Biblioteca Setorial Prof. Rodolfo Helinski - E...              27220\n",
            "11  Biblioteca Setorial Prof. Ronaldo Xavier de Ar...              22749\n",
            "12  Biblioteca Setorial Profª. Maria José Mamede G...              29089\n",
            "13  Biblioteca Setorial Profª. Maria Lúcia da Cost...              61478\n",
            "14  Biblioteca Setorial da Faculdade de Ciências d...              77609\n",
            "15  Biblioteca Setorial do Centro Ciências Sociais...              10533\n",
            "16  Biblioteca Setorial do Centro Ciências da Saúd...             118616\n",
            "17  Biblioteca Setorial do Centro de Ciências Huma...              40746\n",
            "18  Biblioteca Setorial do Departamento de Artes -...              17099\n",
            "19  Biblioteca Setorial do Núcleo de Educação da I...              23656\n",
            "20  Biblioteca Setorial do Núcleo de Ensino Superi...                617\n",
            "21  Biblioteca Setorial Árvore do Conhecimento - I...                919\n"
          ]
        }
      ]
    },
    {
      "cell_type": "code",
      "source": [
        "dados_completos.to_csv(\"dados_completos_limpos.csv\", index=False, encoding=\"ISO-8859-1\")"
      ],
      "metadata": {
        "id": "lfP0oQ_iRTqP"
      },
      "execution_count": null,
      "outputs": []
    },
    {
      "cell_type": "code",
      "source": [
        "from google.colab import files"
      ],
      "metadata": {
        "id": "dl_YDBNiXdEk"
      },
      "execution_count": null,
      "outputs": []
    },
    {
      "cell_type": "code",
      "source": [
        "dados_completos.to_csv(\"dados_completos_limpos.csv\", index=False, encoding=\"ISO-8859-1\")\n",
        "files.download(\"dados_completos_limpos.csv\")"
      ],
      "metadata": {
        "colab": {
          "base_uri": "https://localhost:8080/",
          "height": 17
        },
        "id": "PXKuCyVDXkMB",
        "outputId": "58e77bbd-ca73-4cc9-c9ba-5711081098b3"
      },
      "execution_count": null,
      "outputs": [
        {
          "output_type": "display_data",
          "data": {
            "text/plain": [
              "<IPython.core.display.Javascript object>"
            ],
            "application/javascript": [
              "\n",
              "    async function download(id, filename, size) {\n",
              "      if (!google.colab.kernel.accessAllowed) {\n",
              "        return;\n",
              "      }\n",
              "      const div = document.createElement('div');\n",
              "      const label = document.createElement('label');\n",
              "      label.textContent = `Downloading \"${filename}\": `;\n",
              "      div.appendChild(label);\n",
              "      const progress = document.createElement('progress');\n",
              "      progress.max = size;\n",
              "      div.appendChild(progress);\n",
              "      document.body.appendChild(div);\n",
              "\n",
              "      const buffers = [];\n",
              "      let downloaded = 0;\n",
              "\n",
              "      const channel = await google.colab.kernel.comms.open(id);\n",
              "      // Send a message to notify the kernel that we're ready.\n",
              "      channel.send({})\n",
              "\n",
              "      for await (const message of channel.messages) {\n",
              "        // Send a message to notify the kernel that we're ready.\n",
              "        channel.send({})\n",
              "        if (message.buffers) {\n",
              "          for (const buffer of message.buffers) {\n",
              "            buffers.push(buffer);\n",
              "            downloaded += buffer.byteLength;\n",
              "            progress.value = downloaded;\n",
              "          }\n",
              "        }\n",
              "      }\n",
              "      const blob = new Blob(buffers, {type: 'application/binary'});\n",
              "      const a = document.createElement('a');\n",
              "      a.href = window.URL.createObjectURL(blob);\n",
              "      a.download = filename;\n",
              "      div.appendChild(a);\n",
              "      a.click();\n",
              "      div.remove();\n",
              "    }\n",
              "  "
            ]
          },
          "metadata": {}
        },
        {
          "output_type": "display_data",
          "data": {
            "text/plain": [
              "<IPython.core.display.Javascript object>"
            ],
            "application/javascript": [
              "download(\"download_5a28bb19-5c4c-4ff2-b07a-112588fdf1cc\", \"dados_completos_limpos.csv\", 507189112)"
            ]
          },
          "metadata": {}
        }
      ]
    },
    {
      "cell_type": "code",
      "source": [
        "emprestimos = pd.read_csv(\"emprestimos_completo.csv\", encoding=\"ISO-8859-1\")\n",
        "acervo = pd.read_parquet(\"dados_exemplares.parquet\")\n",
        "dados_completos = pd.read_csv(\"dados_completos_limpos.csv\", encoding=\"ISO-8859-1\")"
      ],
      "metadata": {
        "id": "wWbV3-DNX99K"
      },
      "execution_count": null,
      "outputs": []
    },
    {
      "cell_type": "code",
      "source": [
        "print(\"Empréstimos:\", emprestimos.shape)\n",
        "print(\"Acervo:\", acervo.shape)\n",
        "print(\"Dados completos:\", dados_completos.shape)"
      ],
      "metadata": {
        "colab": {
          "base_uri": "https://localhost:8080/"
        },
        "id": "KyhvSBHbYU5P",
        "outputId": "05d3e0bb-576c-4eb8-f2e3-1016e289c737"
      },
      "execution_count": null,
      "outputs": [
        {
          "output_type": "stream",
          "name": "stdout",
          "text": [
            "Empréstimos: (2258018, 7)\n",
            "Acervo: (546237, 7)\n",
            "Dados completos: (2261816, 15)\n"
          ]
        }
      ]
    },
    {
      "cell_type": "code",
      "source": [
        "from google.colab import files"
      ],
      "metadata": {
        "id": "rec4g672Yhx3"
      },
      "execution_count": null,
      "outputs": []
    },
    {
      "cell_type": "code",
      "source": [
        "dados_completos.to_csv(\"dados_completos_limpos.csv\", index=False, encoding=\"ISO-8859-1\")\n",
        "files.download(\"dados_completos_limpos.csv\")"
      ],
      "metadata": {
        "colab": {
          "base_uri": "https://localhost:8080/",
          "height": 17
        },
        "id": "FBNCuidKYjZ-",
        "outputId": "4270504b-cd31-4661-d641-8eb701c4834b"
      },
      "execution_count": null,
      "outputs": [
        {
          "output_type": "display_data",
          "data": {
            "text/plain": [
              "<IPython.core.display.Javascript object>"
            ],
            "application/javascript": [
              "\n",
              "    async function download(id, filename, size) {\n",
              "      if (!google.colab.kernel.accessAllowed) {\n",
              "        return;\n",
              "      }\n",
              "      const div = document.createElement('div');\n",
              "      const label = document.createElement('label');\n",
              "      label.textContent = `Downloading \"${filename}\": `;\n",
              "      div.appendChild(label);\n",
              "      const progress = document.createElement('progress');\n",
              "      progress.max = size;\n",
              "      div.appendChild(progress);\n",
              "      document.body.appendChild(div);\n",
              "\n",
              "      const buffers = [];\n",
              "      let downloaded = 0;\n",
              "\n",
              "      const channel = await google.colab.kernel.comms.open(id);\n",
              "      // Send a message to notify the kernel that we're ready.\n",
              "      channel.send({})\n",
              "\n",
              "      for await (const message of channel.messages) {\n",
              "        // Send a message to notify the kernel that we're ready.\n",
              "        channel.send({})\n",
              "        if (message.buffers) {\n",
              "          for (const buffer of message.buffers) {\n",
              "            buffers.push(buffer);\n",
              "            downloaded += buffer.byteLength;\n",
              "            progress.value = downloaded;\n",
              "          }\n",
              "        }\n",
              "      }\n",
              "      const blob = new Blob(buffers, {type: 'application/binary'});\n",
              "      const a = document.createElement('a');\n",
              "      a.href = window.URL.createObjectURL(blob);\n",
              "      a.download = filename;\n",
              "      div.appendChild(a);\n",
              "      a.click();\n",
              "      div.remove();\n",
              "    }\n",
              "  "
            ]
          },
          "metadata": {}
        },
        {
          "output_type": "display_data",
          "data": {
            "text/plain": [
              "<IPython.core.display.Javascript object>"
            ],
            "application/javascript": [
              "download(\"download_199d2ed1-ac50-4b36-9dfb-fa2f433ef0a8\", \"dados_completos_limpos.csv\", 507179599)"
            ]
          },
          "metadata": {}
        }
      ]
    },
    {
      "cell_type": "code",
      "source": [
        "emprestimos.to_csv(\"emprestimos_completo.csv\", index=False, encoding=\"ISO-8859-1\")\n",
        "files.download(\"emprestimos_completo.csv\")"
      ],
      "metadata": {
        "colab": {
          "base_uri": "https://localhost:8080/",
          "height": 17
        },
        "id": "HcGetrpsYnZ2",
        "outputId": "0ad7c84c-703d-45e5-b6ef-af0027a6c1fd"
      },
      "execution_count": null,
      "outputs": [
        {
          "output_type": "display_data",
          "data": {
            "text/plain": [
              "<IPython.core.display.Javascript object>"
            ],
            "application/javascript": [
              "\n",
              "    async function download(id, filename, size) {\n",
              "      if (!google.colab.kernel.accessAllowed) {\n",
              "        return;\n",
              "      }\n",
              "      const div = document.createElement('div');\n",
              "      const label = document.createElement('label');\n",
              "      label.textContent = `Downloading \"${filename}\": `;\n",
              "      div.appendChild(label);\n",
              "      const progress = document.createElement('progress');\n",
              "      progress.max = size;\n",
              "      div.appendChild(progress);\n",
              "      document.body.appendChild(div);\n",
              "\n",
              "      const buffers = [];\n",
              "      let downloaded = 0;\n",
              "\n",
              "      const channel = await google.colab.kernel.comms.open(id);\n",
              "      // Send a message to notify the kernel that we're ready.\n",
              "      channel.send({})\n",
              "\n",
              "      for await (const message of channel.messages) {\n",
              "        // Send a message to notify the kernel that we're ready.\n",
              "        channel.send({})\n",
              "        if (message.buffers) {\n",
              "          for (const buffer of message.buffers) {\n",
              "            buffers.push(buffer);\n",
              "            downloaded += buffer.byteLength;\n",
              "            progress.value = downloaded;\n",
              "          }\n",
              "        }\n",
              "      }\n",
              "      const blob = new Blob(buffers, {type: 'application/binary'});\n",
              "      const a = document.createElement('a');\n",
              "      a.href = window.URL.createObjectURL(blob);\n",
              "      a.download = filename;\n",
              "      div.appendChild(a);\n",
              "      a.click();\n",
              "      div.remove();\n",
              "    }\n",
              "  "
            ]
          },
          "metadata": {}
        },
        {
          "output_type": "display_data",
          "data": {
            "text/plain": [
              "<IPython.core.display.Javascript object>"
            ],
            "application/javascript": [
              "download(\"download_e8d2f07c-e7c6-417e-8804-38910f937e08\", \"emprestimos_completo.csv\", 284838667)"
            ]
          },
          "metadata": {}
        }
      ]
    },
    {
      "cell_type": "code",
      "source": [
        "acervo.to_csv(\"acervo_completo.csv\", index=False, encoding=\"ISO-8859-1\")\n",
        "files.download(\"acervo_completo.csv\")"
      ],
      "metadata": {
        "colab": {
          "base_uri": "https://localhost:8080/",
          "height": 17
        },
        "id": "xJMAOk5xYqAg",
        "outputId": "ef2442d4-aa89-45e5-f34a-43c8be702509"
      },
      "execution_count": null,
      "outputs": [
        {
          "output_type": "display_data",
          "data": {
            "text/plain": [
              "<IPython.core.display.Javascript object>"
            ],
            "application/javascript": [
              "\n",
              "    async function download(id, filename, size) {\n",
              "      if (!google.colab.kernel.accessAllowed) {\n",
              "        return;\n",
              "      }\n",
              "      const div = document.createElement('div');\n",
              "      const label = document.createElement('label');\n",
              "      label.textContent = `Downloading \"${filename}\": `;\n",
              "      div.appendChild(label);\n",
              "      const progress = document.createElement('progress');\n",
              "      progress.max = size;\n",
              "      div.appendChild(progress);\n",
              "      document.body.appendChild(div);\n",
              "\n",
              "      const buffers = [];\n",
              "      let downloaded = 0;\n",
              "\n",
              "      const channel = await google.colab.kernel.comms.open(id);\n",
              "      // Send a message to notify the kernel that we're ready.\n",
              "      channel.send({})\n",
              "\n",
              "      for await (const message of channel.messages) {\n",
              "        // Send a message to notify the kernel that we're ready.\n",
              "        channel.send({})\n",
              "        if (message.buffers) {\n",
              "          for (const buffer of message.buffers) {\n",
              "            buffers.push(buffer);\n",
              "            downloaded += buffer.byteLength;\n",
              "            progress.value = downloaded;\n",
              "          }\n",
              "        }\n",
              "      }\n",
              "      const blob = new Blob(buffers, {type: 'application/binary'});\n",
              "      const a = document.createElement('a');\n",
              "      a.href = window.URL.createObjectURL(blob);\n",
              "      a.download = filename;\n",
              "      div.appendChild(a);\n",
              "      a.click();\n",
              "      div.remove();\n",
              "    }\n",
              "  "
            ]
          },
          "metadata": {}
        },
        {
          "output_type": "display_data",
          "data": {
            "text/plain": [
              "<IPython.core.display.Javascript object>"
            ],
            "application/javascript": [
              "download(\"download_6da8d405-2907-4b55-8234-196afccedec4\", \"acervo_completo.csv\", 57338436)"
            ]
          },
          "metadata": {}
        }
      ]
    }
  ],
  "metadata": {
    "colab": {
      "provenance": [],
      "authorship_tag": "ABX9TyMoWa21AUl8nflIxQRODHGP",
      "include_colab_link": true
    },
    "kernelspec": {
      "display_name": "Python 3",
      "name": "python3"
    },
    "language_info": {
      "name": "python"
    }
  },
  "nbformat": 4,
  "nbformat_minor": 0
}