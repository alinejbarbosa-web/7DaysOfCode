{
  "nbformat": 4,
  "nbformat_minor": 0,
  "metadata": {
    "colab": {
      "provenance": [],
      "authorship_tag": "ABX9TyMeUiI7bwyO488SkdVlAreW",
      "include_colab_link": true
    },
    "kernelspec": {
      "name": "python3",
      "display_name": "Python 3"
    },
    "language_info": {
      "name": "python"
    }
  },
  "cells": [
    {
      "cell_type": "markdown",
      "metadata": {
        "id": "view-in-github",
        "colab_type": "text"
      },
      "source": [
        "<a href=\"https://colab.research.google.com/github/alinejbarbosa-web/7DaysOfCode/blob/main/_7DaysOfCode_Dia_05.ipynb\" target=\"_parent\"><img src=\"https://colab.research.google.com/assets/colab-badge.svg\" alt=\"Open In Colab\"/></a>"
      ]
    },
    {
      "cell_type": "code",
      "execution_count": null,
      "metadata": {
        "id": "YZNkXsRs2b42"
      },
      "outputs": [],
      "source": [
        "import os\n",
        "import pandas as pd\n",
        "import numpy as np\n",
        "import matplotlib.pyplot as plt"
      ]
    },
    {
      "cell_type": "code",
      "source": [
        "import pandas as pd"
      ],
      "metadata": {
        "id": "LRn52Bbf-0Pj"
      },
      "execution_count": null,
      "outputs": []
    },
    {
      "cell_type": "code",
      "source": [
        "dados = pd.read_csv(\"/content/drive/MyDrive/desafio_biblioteca/dia02_dados.csv\")"
      ],
      "metadata": {
        "id": "0qa9lT-k-8Rj"
      },
      "execution_count": null,
      "outputs": []
    },
    {
      "cell_type": "code",
      "metadata": {
        "id": "94da63ab"
      },
      "source": [
        "import os\n",
        "\n",
        "# List files in the specified directory\n",
        "try:\n",
        "    files_in_drive = os.listdir('/content/drive/MyDrive/desafio_biblioteca/')\n",
        "    print(\"Files in '/content/drive/MyDrive/desafio_biblioteca/':\")\n",
        "    for file in files_in_drive:\n",
        "        print(file)\n",
        "except FileNotFoundError:\n",
        "    print(\"The directory '/content/drive/MyDrive/desafio_biblioteca/' was not found. Please check the path.\")\n",
        "except Exception as e:\n",
        "    print(f\"An error occurred: {e}\")"
      ],
      "execution_count": null,
      "outputs": []
    },
    {
      "cell_type": "code",
      "source": [
        "import os"
      ],
      "metadata": {
        "id": "x6C8kieLAT44"
      },
      "execution_count": null,
      "outputs": []
    },
    {
      "cell_type": "code",
      "source": [
        "from google.colab import drive\n",
        "drive.mount('/content/drive')"
      ],
      "metadata": {
        "id": "1haSQCjVAWxH"
      },
      "execution_count": null,
      "outputs": []
    },
    {
      "cell_type": "code",
      "source": [
        "import os\n",
        "\n",
        "caminho_desafio = '/content/drive/MyDrive/desafio_biblioteca'\n",
        "print(\"Arquivos e pastas dentro de desafio_biblioteca:\")\n",
        "print(os.listdir(caminho_desafio))"
      ],
      "metadata": {
        "id": "v_BSilwUBum7"
      },
      "execution_count": null,
      "outputs": []
    },
    {
      "cell_type": "code",
      "source": [
        "arquivo_dia04 = os.path.join(caminho_desafio, 'dia04_dados.csv')  # ajuste se for outro arquivo\n",
        "print(f\"\\nArquivo selecionado para carregar: {arquivo_dia04}\")"
      ],
      "metadata": {
        "id": "LH6ow-qxBxjT"
      },
      "execution_count": null,
      "outputs": []
    },
    {
      "cell_type": "code",
      "source": [
        "['dia01_dados.parquet', 'dia01_dados.csv', 'dia02_dados.csv', 'dia03']"
      ],
      "metadata": {
        "id": "hRw6vFeHByik"
      },
      "execution_count": null,
      "outputs": []
    },
    {
      "cell_type": "code",
      "source": [
        "arquivo_dia05 = '/content/drive/MyDrive/desafio_biblioteca/dia03/dia03_dados.csv'\n",
        "dados = pd.read_csv(arquivo_dia05)\n",
        "display(dados.head())"
      ],
      "metadata": {
        "colab": {
          "base_uri": "https://localhost:8080/",
          "height": 400
        },
        "id": "E056xfZaCOJ3",
        "outputId": "924c6a50-74b7-466b-bf59-9686c0ff0a65"
      },
      "execution_count": null,
      "outputs": [
        {
          "output_type": "display_data",
          "data": {
            "text/plain": [
              "   id_emprestimo codigo_barras                 data_renovacao  \\\n",
              "0        1895298    2014007904                            NaN   \n",
              "1        1895299    2014061826                            NaN   \n",
              "2        1895300    2014059501                            NaN   \n",
              "3        1895301    2014037987                            NaN   \n",
              "4        1895302    2014059024  2015/01/16 16:01:54.126000000   \n",
              "\n",
              "           data_emprestimo       data_devolucao  matricula_ou_siape  \\\n",
              "0  2015-01-02 08:48:54.915  2015-02-09 16:15:02        2.010116e+09   \n",
              "1  2015-01-02 08:48:55.227  2015-02-09 16:15:08        2.010116e+09   \n",
              "2  2015-01-02 08:48:55.495  2015-02-09 16:15:15        2.010116e+09   \n",
              "3  2015-01-02 09:01:36.820  2015-04-13 16:54:20        2.010116e+09   \n",
              "4  2015-01-02 09:16:49.566  2015-02-03 16:00:40        2.013022e+09   \n",
              "\n",
              "     tipo_vinculo_usuario  id_exemplar            colecao  \\\n",
              "0  ALUNO DE PÓS-GRADUAÇÃO    1115927.0  Acervo Circulante   \n",
              "1  ALUNO DE PÓS-GRADUAÇÃO    1153140.0  Acervo Circulante   \n",
              "2  ALUNO DE PÓS-GRADUAÇÃO    1157507.0  Acervo Circulante   \n",
              "3  ALUNO DE PÓS-GRADUAÇÃO    1159718.0  Acervo Circulante   \n",
              "4      ALUNO DE GRADUAÇÃO    1145874.0  Acervo Circulante   \n",
              "\n",
              "                       biblioteca status_material  localizacao  \\\n",
              "0  Biblioteca Central Zila Mamede         REGULAR        310.0   \n",
              "1  Biblioteca Central Zila Mamede         REGULAR        641.0   \n",
              "2  Biblioteca Central Zila Mamede         REGULAR        688.0   \n",
              "3  Biblioteca Central Zila Mamede         REGULAR         28.0   \n",
              "4  Biblioteca Central Zila Mamede         REGULAR        680.0   \n",
              "\n",
              "   registro_sistema  dias_emprestado  tempo_emprestimo   ano  mes  hora  \\\n",
              "0          178604.0             38.0              38.0  2015    1     8   \n",
              "1          110007.0             38.0              38.0  2015    1     8   \n",
              "2          170629.0             38.0              38.0  2015    1     8   \n",
              "3          215211.0            101.0             101.0  2015    1     9   \n",
              "4          134050.0             32.0              32.0  2015    1     9   \n",
              "\n",
              "                              classe_cdu  \n",
              "0                       Ciências sociais  \n",
              "1                     Ciências aplicadas  \n",
              "2                     Ciências aplicadas  \n",
              "3  Generalidades. Ciência e conhecimento  \n",
              "4                     Ciências aplicadas  "
            ],
            "text/html": [
              "\n",
              "  <div id=\"df-679b2274-558f-4f20-86ad-214d12b2ff0b\" class=\"colab-df-container\">\n",
              "    <div>\n",
              "<style scoped>\n",
              "    .dataframe tbody tr th:only-of-type {\n",
              "        vertical-align: middle;\n",
              "    }\n",
              "\n",
              "    .dataframe tbody tr th {\n",
              "        vertical-align: top;\n",
              "    }\n",
              "\n",
              "    .dataframe thead th {\n",
              "        text-align: right;\n",
              "    }\n",
              "</style>\n",
              "<table border=\"1\" class=\"dataframe\">\n",
              "  <thead>\n",
              "    <tr style=\"text-align: right;\">\n",
              "      <th></th>\n",
              "      <th>id_emprestimo</th>\n",
              "      <th>codigo_barras</th>\n",
              "      <th>data_renovacao</th>\n",
              "      <th>data_emprestimo</th>\n",
              "      <th>data_devolucao</th>\n",
              "      <th>matricula_ou_siape</th>\n",
              "      <th>tipo_vinculo_usuario</th>\n",
              "      <th>id_exemplar</th>\n",
              "      <th>colecao</th>\n",
              "      <th>biblioteca</th>\n",
              "      <th>status_material</th>\n",
              "      <th>localizacao</th>\n",
              "      <th>registro_sistema</th>\n",
              "      <th>dias_emprestado</th>\n",
              "      <th>tempo_emprestimo</th>\n",
              "      <th>ano</th>\n",
              "      <th>mes</th>\n",
              "      <th>hora</th>\n",
              "      <th>classe_cdu</th>\n",
              "    </tr>\n",
              "  </thead>\n",
              "  <tbody>\n",
              "    <tr>\n",
              "      <th>0</th>\n",
              "      <td>1895298</td>\n",
              "      <td>2014007904</td>\n",
              "      <td>NaN</td>\n",
              "      <td>2015-01-02 08:48:54.915</td>\n",
              "      <td>2015-02-09 16:15:02</td>\n",
              "      <td>2.010116e+09</td>\n",
              "      <td>ALUNO DE PÓS-GRADUAÇÃO</td>\n",
              "      <td>1115927.0</td>\n",
              "      <td>Acervo Circulante</td>\n",
              "      <td>Biblioteca Central Zila Mamede</td>\n",
              "      <td>REGULAR</td>\n",
              "      <td>310.0</td>\n",
              "      <td>178604.0</td>\n",
              "      <td>38.0</td>\n",
              "      <td>38.0</td>\n",
              "      <td>2015</td>\n",
              "      <td>1</td>\n",
              "      <td>8</td>\n",
              "      <td>Ciências sociais</td>\n",
              "    </tr>\n",
              "    <tr>\n",
              "      <th>1</th>\n",
              "      <td>1895299</td>\n",
              "      <td>2014061826</td>\n",
              "      <td>NaN</td>\n",
              "      <td>2015-01-02 08:48:55.227</td>\n",
              "      <td>2015-02-09 16:15:08</td>\n",
              "      <td>2.010116e+09</td>\n",
              "      <td>ALUNO DE PÓS-GRADUAÇÃO</td>\n",
              "      <td>1153140.0</td>\n",
              "      <td>Acervo Circulante</td>\n",
              "      <td>Biblioteca Central Zila Mamede</td>\n",
              "      <td>REGULAR</td>\n",
              "      <td>641.0</td>\n",
              "      <td>110007.0</td>\n",
              "      <td>38.0</td>\n",
              "      <td>38.0</td>\n",
              "      <td>2015</td>\n",
              "      <td>1</td>\n",
              "      <td>8</td>\n",
              "      <td>Ciências aplicadas</td>\n",
              "    </tr>\n",
              "    <tr>\n",
              "      <th>2</th>\n",
              "      <td>1895300</td>\n",
              "      <td>2014059501</td>\n",
              "      <td>NaN</td>\n",
              "      <td>2015-01-02 08:48:55.495</td>\n",
              "      <td>2015-02-09 16:15:15</td>\n",
              "      <td>2.010116e+09</td>\n",
              "      <td>ALUNO DE PÓS-GRADUAÇÃO</td>\n",
              "      <td>1157507.0</td>\n",
              "      <td>Acervo Circulante</td>\n",
              "      <td>Biblioteca Central Zila Mamede</td>\n",
              "      <td>REGULAR</td>\n",
              "      <td>688.0</td>\n",
              "      <td>170629.0</td>\n",
              "      <td>38.0</td>\n",
              "      <td>38.0</td>\n",
              "      <td>2015</td>\n",
              "      <td>1</td>\n",
              "      <td>8</td>\n",
              "      <td>Ciências aplicadas</td>\n",
              "    </tr>\n",
              "    <tr>\n",
              "      <th>3</th>\n",
              "      <td>1895301</td>\n",
              "      <td>2014037987</td>\n",
              "      <td>NaN</td>\n",
              "      <td>2015-01-02 09:01:36.820</td>\n",
              "      <td>2015-04-13 16:54:20</td>\n",
              "      <td>2.010116e+09</td>\n",
              "      <td>ALUNO DE PÓS-GRADUAÇÃO</td>\n",
              "      <td>1159718.0</td>\n",
              "      <td>Acervo Circulante</td>\n",
              "      <td>Biblioteca Central Zila Mamede</td>\n",
              "      <td>REGULAR</td>\n",
              "      <td>28.0</td>\n",
              "      <td>215211.0</td>\n",
              "      <td>101.0</td>\n",
              "      <td>101.0</td>\n",
              "      <td>2015</td>\n",
              "      <td>1</td>\n",
              "      <td>9</td>\n",
              "      <td>Generalidades. Ciência e conhecimento</td>\n",
              "    </tr>\n",
              "    <tr>\n",
              "      <th>4</th>\n",
              "      <td>1895302</td>\n",
              "      <td>2014059024</td>\n",
              "      <td>2015/01/16 16:01:54.126000000</td>\n",
              "      <td>2015-01-02 09:16:49.566</td>\n",
              "      <td>2015-02-03 16:00:40</td>\n",
              "      <td>2.013022e+09</td>\n",
              "      <td>ALUNO DE GRADUAÇÃO</td>\n",
              "      <td>1145874.0</td>\n",
              "      <td>Acervo Circulante</td>\n",
              "      <td>Biblioteca Central Zila Mamede</td>\n",
              "      <td>REGULAR</td>\n",
              "      <td>680.0</td>\n",
              "      <td>134050.0</td>\n",
              "      <td>32.0</td>\n",
              "      <td>32.0</td>\n",
              "      <td>2015</td>\n",
              "      <td>1</td>\n",
              "      <td>9</td>\n",
              "      <td>Ciências aplicadas</td>\n",
              "    </tr>\n",
              "  </tbody>\n",
              "</table>\n",
              "</div>\n",
              "    <div class=\"colab-df-buttons\">\n",
              "\n",
              "  <div class=\"colab-df-container\">\n",
              "    <button class=\"colab-df-convert\" onclick=\"convertToInteractive('df-679b2274-558f-4f20-86ad-214d12b2ff0b')\"\n",
              "            title=\"Convert this dataframe to an interactive table.\"\n",
              "            style=\"display:none;\">\n",
              "\n",
              "  <svg xmlns=\"http://www.w3.org/2000/svg\" height=\"24px\" viewBox=\"0 -960 960 960\">\n",
              "    <path d=\"M120-120v-720h720v720H120Zm60-500h600v-160H180v160Zm220 220h160v-160H400v160Zm0 220h160v-160H400v160ZM180-400h160v-160H180v160Zm440 0h160v-160H620v160ZM180-180h160v-160H180v160Zm440 0h160v-160H620v160Z\"/>\n",
              "  </svg>\n",
              "    </button>\n",
              "\n",
              "  <style>\n",
              "    .colab-df-container {\n",
              "      display:flex;\n",
              "      gap: 12px;\n",
              "    }\n",
              "\n",
              "    .colab-df-convert {\n",
              "      background-color: #E8F0FE;\n",
              "      border: none;\n",
              "      border-radius: 50%;\n",
              "      cursor: pointer;\n",
              "      display: none;\n",
              "      fill: #1967D2;\n",
              "      height: 32px;\n",
              "      padding: 0 0 0 0;\n",
              "      width: 32px;\n",
              "    }\n",
              "\n",
              "    .colab-df-convert:hover {\n",
              "      background-color: #E2EBFA;\n",
              "      box-shadow: 0px 1px 2px rgba(60, 64, 67, 0.3), 0px 1px 3px 1px rgba(60, 64, 67, 0.15);\n",
              "      fill: #174EA6;\n",
              "    }\n",
              "\n",
              "    .colab-df-buttons div {\n",
              "      margin-bottom: 4px;\n",
              "    }\n",
              "\n",
              "    [theme=dark] .colab-df-convert {\n",
              "      background-color: #3B4455;\n",
              "      fill: #D2E3FC;\n",
              "    }\n",
              "\n",
              "    [theme=dark] .colab-df-convert:hover {\n",
              "      background-color: #434B5C;\n",
              "      box-shadow: 0px 1px 3px 1px rgba(0, 0, 0, 0.15);\n",
              "      filter: drop-shadow(0px 1px 2px rgba(0, 0, 0, 0.3));\n",
              "      fill: #FFFFFF;\n",
              "    }\n",
              "  </style>\n",
              "\n",
              "    <script>\n",
              "      const buttonEl =\n",
              "        document.querySelector('#df-679b2274-558f-4f20-86ad-214d12b2ff0b button.colab-df-convert');\n",
              "      buttonEl.style.display =\n",
              "        google.colab.kernel.accessAllowed ? 'block' : 'none';\n",
              "\n",
              "      async function convertToInteractive(key) {\n",
              "        const element = document.querySelector('#df-679b2274-558f-4f20-86ad-214d12b2ff0b');\n",
              "        const dataTable =\n",
              "          await google.colab.kernel.invokeFunction('convertToInteractive',\n",
              "                                                    [key], {});\n",
              "        if (!dataTable) return;\n",
              "\n",
              "        const docLinkHtml = 'Like what you see? Visit the ' +\n",
              "          '<a target=\"_blank\" href=https://colab.research.google.com/notebooks/data_table.ipynb>data table notebook</a>'\n",
              "          + ' to learn more about interactive tables.';\n",
              "        element.innerHTML = '';\n",
              "        dataTable['output_type'] = 'display_data';\n",
              "        await google.colab.output.renderOutput(dataTable, element);\n",
              "        const docLink = document.createElement('div');\n",
              "        docLink.innerHTML = docLinkHtml;\n",
              "        element.appendChild(docLink);\n",
              "      }\n",
              "    </script>\n",
              "  </div>\n",
              "\n",
              "\n",
              "    <div id=\"df-d14a081a-9083-448a-8143-5b1b38dcc2e3\">\n",
              "      <button class=\"colab-df-quickchart\" onclick=\"quickchart('df-d14a081a-9083-448a-8143-5b1b38dcc2e3')\"\n",
              "                title=\"Suggest charts\"\n",
              "                style=\"display:none;\">\n",
              "\n",
              "<svg xmlns=\"http://www.w3.org/2000/svg\" height=\"24px\"viewBox=\"0 0 24 24\"\n",
              "     width=\"24px\">\n",
              "    <g>\n",
              "        <path d=\"M19 3H5c-1.1 0-2 .9-2 2v14c0 1.1.9 2 2 2h14c1.1 0 2-.9 2-2V5c0-1.1-.9-2-2-2zM9 17H7v-7h2v7zm4 0h-2V7h2v10zm4 0h-2v-4h2v4z\"/>\n",
              "    </g>\n",
              "</svg>\n",
              "      </button>\n",
              "\n",
              "<style>\n",
              "  .colab-df-quickchart {\n",
              "      --bg-color: #E8F0FE;\n",
              "      --fill-color: #1967D2;\n",
              "      --hover-bg-color: #E2EBFA;\n",
              "      --hover-fill-color: #174EA6;\n",
              "      --disabled-fill-color: #AAA;\n",
              "      --disabled-bg-color: #DDD;\n",
              "  }\n",
              "\n",
              "  [theme=dark] .colab-df-quickchart {\n",
              "      --bg-color: #3B4455;\n",
              "      --fill-color: #D2E3FC;\n",
              "      --hover-bg-color: #434B5C;\n",
              "      --hover-fill-color: #FFFFFF;\n",
              "      --disabled-bg-color: #3B4455;\n",
              "      --disabled-fill-color: #666;\n",
              "  }\n",
              "\n",
              "  .colab-df-quickchart {\n",
              "    background-color: var(--bg-color);\n",
              "    border: none;\n",
              "    border-radius: 50%;\n",
              "    cursor: pointer;\n",
              "    display: none;\n",
              "    fill: var(--fill-color);\n",
              "    height: 32px;\n",
              "    padding: 0;\n",
              "    width: 32px;\n",
              "  }\n",
              "\n",
              "  .colab-df-quickchart:hover {\n",
              "    background-color: var(--hover-bg-color);\n",
              "    box-shadow: 0 1px 2px rgba(60, 64, 67, 0.3), 0 1px 3px 1px rgba(60, 64, 67, 0.15);\n",
              "    fill: var(--button-hover-fill-color);\n",
              "  }\n",
              "\n",
              "  .colab-df-quickchart-complete:disabled,\n",
              "  .colab-df-quickchart-complete:disabled:hover {\n",
              "    background-color: var(--disabled-bg-color);\n",
              "    fill: var(--disabled-fill-color);\n",
              "    box-shadow: none;\n",
              "  }\n",
              "\n",
              "  .colab-df-spinner {\n",
              "    border: 2px solid var(--fill-color);\n",
              "    border-color: transparent;\n",
              "    border-bottom-color: var(--fill-color);\n",
              "    animation:\n",
              "      spin 1s steps(1) infinite;\n",
              "  }\n",
              "\n",
              "  @keyframes spin {\n",
              "    0% {\n",
              "      border-color: transparent;\n",
              "      border-bottom-color: var(--fill-color);\n",
              "      border-left-color: var(--fill-color);\n",
              "    }\n",
              "    20% {\n",
              "      border-color: transparent;\n",
              "      border-left-color: var(--fill-color);\n",
              "      border-top-color: var(--fill-color);\n",
              "    }\n",
              "    30% {\n",
              "      border-color: transparent;\n",
              "      border-left-color: var(--fill-color);\n",
              "      border-top-color: var(--fill-color);\n",
              "      border-right-color: var(--fill-color);\n",
              "    }\n",
              "    40% {\n",
              "      border-color: transparent;\n",
              "      border-right-color: var(--fill-color);\n",
              "      border-top-color: var(--fill-color);\n",
              "    }\n",
              "    60% {\n",
              "      border-color: transparent;\n",
              "      border-right-color: var(--fill-color);\n",
              "    }\n",
              "    80% {\n",
              "      border-color: transparent;\n",
              "      border-right-color: var(--fill-color);\n",
              "      border-bottom-color: var(--fill-color);\n",
              "    }\n",
              "    90% {\n",
              "      border-color: transparent;\n",
              "      border-bottom-color: var(--fill-color);\n",
              "    }\n",
              "  }\n",
              "</style>\n",
              "\n",
              "      <script>\n",
              "        async function quickchart(key) {\n",
              "          const quickchartButtonEl =\n",
              "            document.querySelector('#' + key + ' button');\n",
              "          quickchartButtonEl.disabled = true;  // To prevent multiple clicks.\n",
              "          quickchartButtonEl.classList.add('colab-df-spinner');\n",
              "          try {\n",
              "            const charts = await google.colab.kernel.invokeFunction(\n",
              "                'suggestCharts', [key], {});\n",
              "          } catch (error) {\n",
              "            console.error('Error during call to suggestCharts:', error);\n",
              "          }\n",
              "          quickchartButtonEl.classList.remove('colab-df-spinner');\n",
              "          quickchartButtonEl.classList.add('colab-df-quickchart-complete');\n",
              "        }\n",
              "        (() => {\n",
              "          let quickchartButtonEl =\n",
              "            document.querySelector('#df-d14a081a-9083-448a-8143-5b1b38dcc2e3 button');\n",
              "          quickchartButtonEl.style.display =\n",
              "            google.colab.kernel.accessAllowed ? 'block' : 'none';\n",
              "        })();\n",
              "      </script>\n",
              "    </div>\n",
              "\n",
              "    </div>\n",
              "  </div>\n"
            ],
            "application/vnd.google.colaboratory.intrinsic+json": {
              "type": "dataframe",
              "summary": "{\n  \"name\": \"display(dados\",\n  \"rows\": 5,\n  \"fields\": [\n    {\n      \"column\": \"id_emprestimo\",\n      \"properties\": {\n        \"dtype\": \"number\",\n        \"std\": 1,\n        \"min\": 1895298,\n        \"max\": 1895302,\n        \"num_unique_values\": 5,\n        \"samples\": [\n          1895299,\n          1895302,\n          1895300\n        ],\n        \"semantic_type\": \"\",\n        \"description\": \"\"\n      }\n    },\n    {\n      \"column\": \"codigo_barras\",\n      \"properties\": {\n        \"dtype\": \"string\",\n        \"num_unique_values\": 5,\n        \"samples\": [\n          \"2014061826\",\n          \"2014059024\",\n          \"2014059501\"\n        ],\n        \"semantic_type\": \"\",\n        \"description\": \"\"\n      }\n    },\n    {\n      \"column\": \"data_renovacao\",\n      \"properties\": {\n        \"dtype\": \"date\",\n        \"min\": \"2015-01-16 16:01:54.126000\",\n        \"max\": \"2015-01-16 16:01:54.126000\",\n        \"num_unique_values\": 1,\n        \"samples\": [\n          \"2015/01/16 16:01:54.126000000\"\n        ],\n        \"semantic_type\": \"\",\n        \"description\": \"\"\n      }\n    },\n    {\n      \"column\": \"data_emprestimo\",\n      \"properties\": {\n        \"dtype\": \"object\",\n        \"num_unique_values\": 5,\n        \"samples\": [\n          \"2015-01-02 08:48:55.227\"\n        ],\n        \"semantic_type\": \"\",\n        \"description\": \"\"\n      }\n    },\n    {\n      \"column\": \"data_devolucao\",\n      \"properties\": {\n        \"dtype\": \"object\",\n        \"num_unique_values\": 5,\n        \"samples\": [\n          \"2015-02-09 16:15:08\"\n        ],\n        \"semantic_type\": \"\",\n        \"description\": \"\"\n      }\n    },\n    {\n      \"column\": \"matricula_ou_siape\",\n      \"properties\": {\n        \"dtype\": \"number\",\n        \"std\": 1299219.4464715344,\n        \"min\": 2010116433.0,\n        \"max\": 2013021576.0,\n        \"num_unique_values\": 2,\n        \"samples\": [\n          2013021576.0\n        ],\n        \"semantic_type\": \"\",\n        \"description\": \"\"\n      }\n    },\n    {\n      \"column\": \"tipo_vinculo_usuario\",\n      \"properties\": {\n        \"dtype\": \"category\",\n        \"num_unique_values\": 2,\n        \"samples\": [\n          \"ALUNO DE GRADUA\\u00c7\\u00c3O\"\n        ],\n        \"semantic_type\": \"\",\n        \"description\": \"\"\n      }\n    },\n    {\n      \"column\": \"id_exemplar\",\n      \"properties\": {\n        \"dtype\": \"number\",\n        \"std\": 17853.830588980058,\n        \"min\": 1115927.0,\n        \"max\": 1159718.0,\n        \"num_unique_values\": 5,\n        \"samples\": [\n          1153140.0\n        ],\n        \"semantic_type\": \"\",\n        \"description\": \"\"\n      }\n    },\n    {\n      \"column\": \"colecao\",\n      \"properties\": {\n        \"dtype\": \"category\",\n        \"num_unique_values\": 1,\n        \"samples\": [\n          \"Acervo Circulante\"\n        ],\n        \"semantic_type\": \"\",\n        \"description\": \"\"\n      }\n    },\n    {\n      \"column\": \"biblioteca\",\n      \"properties\": {\n        \"dtype\": \"category\",\n        \"num_unique_values\": 1,\n        \"samples\": [\n          \"Biblioteca Central Zila Mamede\"\n        ],\n        \"semantic_type\": \"\",\n        \"description\": \"\"\n      }\n    },\n    {\n      \"column\": \"status_material\",\n      \"properties\": {\n        \"dtype\": \"category\",\n        \"num_unique_values\": 1,\n        \"samples\": [\n          \"REGULAR\"\n        ],\n        \"semantic_type\": \"\",\n        \"description\": \"\"\n      }\n    },\n    {\n      \"column\": \"localizacao\",\n      \"properties\": {\n        \"dtype\": \"number\",\n        \"std\": 292.3299505695576,\n        \"min\": 28.0,\n        \"max\": 688.0,\n        \"num_unique_values\": 5,\n        \"samples\": [\n          641.0\n        ],\n        \"semantic_type\": \"\",\n        \"description\": \"\"\n      }\n    },\n    {\n      \"column\": \"registro_sistema\",\n      \"properties\": {\n        \"dtype\": \"number\",\n        \"std\": 40821.5265723858,\n        \"min\": 110007.0,\n        \"max\": 215211.0,\n        \"num_unique_values\": 5,\n        \"samples\": [\n          110007.0\n        ],\n        \"semantic_type\": \"\",\n        \"description\": \"\"\n      }\n    },\n    {\n      \"column\": \"dias_emprestado\",\n      \"properties\": {\n        \"dtype\": \"number\",\n        \"std\": 28.962044126753206,\n        \"min\": 32.0,\n        \"max\": 101.0,\n        \"num_unique_values\": 3,\n        \"samples\": [\n          38.0\n        ],\n        \"semantic_type\": \"\",\n        \"description\": \"\"\n      }\n    },\n    {\n      \"column\": \"tempo_emprestimo\",\n      \"properties\": {\n        \"dtype\": \"number\",\n        \"std\": 28.962044126753206,\n        \"min\": 32.0,\n        \"max\": 101.0,\n        \"num_unique_values\": 3,\n        \"samples\": [\n          38.0\n        ],\n        \"semantic_type\": \"\",\n        \"description\": \"\"\n      }\n    },\n    {\n      \"column\": \"ano\",\n      \"properties\": {\n        \"dtype\": \"number\",\n        \"std\": 0,\n        \"min\": 2015,\n        \"max\": 2015,\n        \"num_unique_values\": 1,\n        \"samples\": [\n          2015\n        ],\n        \"semantic_type\": \"\",\n        \"description\": \"\"\n      }\n    },\n    {\n      \"column\": \"mes\",\n      \"properties\": {\n        \"dtype\": \"number\",\n        \"std\": 0,\n        \"min\": 1,\n        \"max\": 1,\n        \"num_unique_values\": 1,\n        \"samples\": [\n          1\n        ],\n        \"semantic_type\": \"\",\n        \"description\": \"\"\n      }\n    },\n    {\n      \"column\": \"hora\",\n      \"properties\": {\n        \"dtype\": \"number\",\n        \"std\": 0,\n        \"min\": 8,\n        \"max\": 9,\n        \"num_unique_values\": 2,\n        \"samples\": [\n          9\n        ],\n        \"semantic_type\": \"\",\n        \"description\": \"\"\n      }\n    },\n    {\n      \"column\": \"classe_cdu\",\n      \"properties\": {\n        \"dtype\": \"string\",\n        \"num_unique_values\": 3,\n        \"samples\": [\n          \"Ci\\u00eancias sociais\"\n        ],\n        \"semantic_type\": \"\",\n        \"description\": \"\"\n      }\n    }\n  ]\n}"
            }
          },
          "metadata": {}
        }
      ]
    },
    {
      "cell_type": "code",
      "source": [
        "import pandas as pd"
      ],
      "metadata": {
        "id": "N6ZJfM_MCqc-"
      },
      "execution_count": null,
      "outputs": []
    },
    {
      "cell_type": "code",
      "source": [
        "arquivo_dia05 = '/content/drive/MyDrive/desafio_biblioteca/dia03/dia03_dados.csv'"
      ],
      "metadata": {
        "id": "oiZFPFquCsvK"
      },
      "execution_count": null,
      "outputs": []
    },
    {
      "cell_type": "code",
      "source": [
        "try:\n",
        "    dados = pd.read_csv(arquivo_dia05)\n",
        "    print(\"✅ Dados carregados com sucesso!\")\n",
        "    display(dados.head())\n",
        "except FileNotFoundError:\n",
        "    print(\"❌ Arquivo não encontrado. Verifique o caminho e o nome do arquivo.\")"
      ],
      "metadata": {
        "colab": {
          "base_uri": "https://localhost:8080/",
          "height": 417
        },
        "id": "vm_dlN2YCvgC",
        "outputId": "a67c685a-a93e-4f88-8f9c-51bb2cebdfd5"
      },
      "execution_count": null,
      "outputs": [
        {
          "output_type": "stream",
          "name": "stdout",
          "text": [
            "✅ Dados carregados com sucesso!\n"
          ]
        },
        {
          "output_type": "display_data",
          "data": {
            "text/plain": [
              "   id_emprestimo codigo_barras                 data_renovacao  \\\n",
              "0        1895298    2014007904                            NaN   \n",
              "1        1895299    2014061826                            NaN   \n",
              "2        1895300    2014059501                            NaN   \n",
              "3        1895301    2014037987                            NaN   \n",
              "4        1895302    2014059024  2015/01/16 16:01:54.126000000   \n",
              "\n",
              "           data_emprestimo       data_devolucao  matricula_ou_siape  \\\n",
              "0  2015-01-02 08:48:54.915  2015-02-09 16:15:02        2.010116e+09   \n",
              "1  2015-01-02 08:48:55.227  2015-02-09 16:15:08        2.010116e+09   \n",
              "2  2015-01-02 08:48:55.495  2015-02-09 16:15:15        2.010116e+09   \n",
              "3  2015-01-02 09:01:36.820  2015-04-13 16:54:20        2.010116e+09   \n",
              "4  2015-01-02 09:16:49.566  2015-02-03 16:00:40        2.013022e+09   \n",
              "\n",
              "     tipo_vinculo_usuario  id_exemplar            colecao  \\\n",
              "0  ALUNO DE PÓS-GRADUAÇÃO    1115927.0  Acervo Circulante   \n",
              "1  ALUNO DE PÓS-GRADUAÇÃO    1153140.0  Acervo Circulante   \n",
              "2  ALUNO DE PÓS-GRADUAÇÃO    1157507.0  Acervo Circulante   \n",
              "3  ALUNO DE PÓS-GRADUAÇÃO    1159718.0  Acervo Circulante   \n",
              "4      ALUNO DE GRADUAÇÃO    1145874.0  Acervo Circulante   \n",
              "\n",
              "                       biblioteca status_material  localizacao  \\\n",
              "0  Biblioteca Central Zila Mamede         REGULAR        310.0   \n",
              "1  Biblioteca Central Zila Mamede         REGULAR        641.0   \n",
              "2  Biblioteca Central Zila Mamede         REGULAR        688.0   \n",
              "3  Biblioteca Central Zila Mamede         REGULAR         28.0   \n",
              "4  Biblioteca Central Zila Mamede         REGULAR        680.0   \n",
              "\n",
              "   registro_sistema  dias_emprestado  tempo_emprestimo   ano  mes  hora  \\\n",
              "0          178604.0             38.0              38.0  2015    1     8   \n",
              "1          110007.0             38.0              38.0  2015    1     8   \n",
              "2          170629.0             38.0              38.0  2015    1     8   \n",
              "3          215211.0            101.0             101.0  2015    1     9   \n",
              "4          134050.0             32.0              32.0  2015    1     9   \n",
              "\n",
              "                              classe_cdu  \n",
              "0                       Ciências sociais  \n",
              "1                     Ciências aplicadas  \n",
              "2                     Ciências aplicadas  \n",
              "3  Generalidades. Ciência e conhecimento  \n",
              "4                     Ciências aplicadas  "
            ],
            "text/html": [
              "\n",
              "  <div id=\"df-5cb91d53-d3ff-4429-94f2-5c6de23399f2\" class=\"colab-df-container\">\n",
              "    <div>\n",
              "<style scoped>\n",
              "    .dataframe tbody tr th:only-of-type {\n",
              "        vertical-align: middle;\n",
              "    }\n",
              "\n",
              "    .dataframe tbody tr th {\n",
              "        vertical-align: top;\n",
              "    }\n",
              "\n",
              "    .dataframe thead th {\n",
              "        text-align: right;\n",
              "    }\n",
              "</style>\n",
              "<table border=\"1\" class=\"dataframe\">\n",
              "  <thead>\n",
              "    <tr style=\"text-align: right;\">\n",
              "      <th></th>\n",
              "      <th>id_emprestimo</th>\n",
              "      <th>codigo_barras</th>\n",
              "      <th>data_renovacao</th>\n",
              "      <th>data_emprestimo</th>\n",
              "      <th>data_devolucao</th>\n",
              "      <th>matricula_ou_siape</th>\n",
              "      <th>tipo_vinculo_usuario</th>\n",
              "      <th>id_exemplar</th>\n",
              "      <th>colecao</th>\n",
              "      <th>biblioteca</th>\n",
              "      <th>status_material</th>\n",
              "      <th>localizacao</th>\n",
              "      <th>registro_sistema</th>\n",
              "      <th>dias_emprestado</th>\n",
              "      <th>tempo_emprestimo</th>\n",
              "      <th>ano</th>\n",
              "      <th>mes</th>\n",
              "      <th>hora</th>\n",
              "      <th>classe_cdu</th>\n",
              "    </tr>\n",
              "  </thead>\n",
              "  <tbody>\n",
              "    <tr>\n",
              "      <th>0</th>\n",
              "      <td>1895298</td>\n",
              "      <td>2014007904</td>\n",
              "      <td>NaN</td>\n",
              "      <td>2015-01-02 08:48:54.915</td>\n",
              "      <td>2015-02-09 16:15:02</td>\n",
              "      <td>2.010116e+09</td>\n",
              "      <td>ALUNO DE PÓS-GRADUAÇÃO</td>\n",
              "      <td>1115927.0</td>\n",
              "      <td>Acervo Circulante</td>\n",
              "      <td>Biblioteca Central Zila Mamede</td>\n",
              "      <td>REGULAR</td>\n",
              "      <td>310.0</td>\n",
              "      <td>178604.0</td>\n",
              "      <td>38.0</td>\n",
              "      <td>38.0</td>\n",
              "      <td>2015</td>\n",
              "      <td>1</td>\n",
              "      <td>8</td>\n",
              "      <td>Ciências sociais</td>\n",
              "    </tr>\n",
              "    <tr>\n",
              "      <th>1</th>\n",
              "      <td>1895299</td>\n",
              "      <td>2014061826</td>\n",
              "      <td>NaN</td>\n",
              "      <td>2015-01-02 08:48:55.227</td>\n",
              "      <td>2015-02-09 16:15:08</td>\n",
              "      <td>2.010116e+09</td>\n",
              "      <td>ALUNO DE PÓS-GRADUAÇÃO</td>\n",
              "      <td>1153140.0</td>\n",
              "      <td>Acervo Circulante</td>\n",
              "      <td>Biblioteca Central Zila Mamede</td>\n",
              "      <td>REGULAR</td>\n",
              "      <td>641.0</td>\n",
              "      <td>110007.0</td>\n",
              "      <td>38.0</td>\n",
              "      <td>38.0</td>\n",
              "      <td>2015</td>\n",
              "      <td>1</td>\n",
              "      <td>8</td>\n",
              "      <td>Ciências aplicadas</td>\n",
              "    </tr>\n",
              "    <tr>\n",
              "      <th>2</th>\n",
              "      <td>1895300</td>\n",
              "      <td>2014059501</td>\n",
              "      <td>NaN</td>\n",
              "      <td>2015-01-02 08:48:55.495</td>\n",
              "      <td>2015-02-09 16:15:15</td>\n",
              "      <td>2.010116e+09</td>\n",
              "      <td>ALUNO DE PÓS-GRADUAÇÃO</td>\n",
              "      <td>1157507.0</td>\n",
              "      <td>Acervo Circulante</td>\n",
              "      <td>Biblioteca Central Zila Mamede</td>\n",
              "      <td>REGULAR</td>\n",
              "      <td>688.0</td>\n",
              "      <td>170629.0</td>\n",
              "      <td>38.0</td>\n",
              "      <td>38.0</td>\n",
              "      <td>2015</td>\n",
              "      <td>1</td>\n",
              "      <td>8</td>\n",
              "      <td>Ciências aplicadas</td>\n",
              "    </tr>\n",
              "    <tr>\n",
              "      <th>3</th>\n",
              "      <td>1895301</td>\n",
              "      <td>2014037987</td>\n",
              "      <td>NaN</td>\n",
              "      <td>2015-01-02 09:01:36.820</td>\n",
              "      <td>2015-04-13 16:54:20</td>\n",
              "      <td>2.010116e+09</td>\n",
              "      <td>ALUNO DE PÓS-GRADUAÇÃO</td>\n",
              "      <td>1159718.0</td>\n",
              "      <td>Acervo Circulante</td>\n",
              "      <td>Biblioteca Central Zila Mamede</td>\n",
              "      <td>REGULAR</td>\n",
              "      <td>28.0</td>\n",
              "      <td>215211.0</td>\n",
              "      <td>101.0</td>\n",
              "      <td>101.0</td>\n",
              "      <td>2015</td>\n",
              "      <td>1</td>\n",
              "      <td>9</td>\n",
              "      <td>Generalidades. Ciência e conhecimento</td>\n",
              "    </tr>\n",
              "    <tr>\n",
              "      <th>4</th>\n",
              "      <td>1895302</td>\n",
              "      <td>2014059024</td>\n",
              "      <td>2015/01/16 16:01:54.126000000</td>\n",
              "      <td>2015-01-02 09:16:49.566</td>\n",
              "      <td>2015-02-03 16:00:40</td>\n",
              "      <td>2.013022e+09</td>\n",
              "      <td>ALUNO DE GRADUAÇÃO</td>\n",
              "      <td>1145874.0</td>\n",
              "      <td>Acervo Circulante</td>\n",
              "      <td>Biblioteca Central Zila Mamede</td>\n",
              "      <td>REGULAR</td>\n",
              "      <td>680.0</td>\n",
              "      <td>134050.0</td>\n",
              "      <td>32.0</td>\n",
              "      <td>32.0</td>\n",
              "      <td>2015</td>\n",
              "      <td>1</td>\n",
              "      <td>9</td>\n",
              "      <td>Ciências aplicadas</td>\n",
              "    </tr>\n",
              "  </tbody>\n",
              "</table>\n",
              "</div>\n",
              "    <div class=\"colab-df-buttons\">\n",
              "\n",
              "  <div class=\"colab-df-container\">\n",
              "    <button class=\"colab-df-convert\" onclick=\"convertToInteractive('df-5cb91d53-d3ff-4429-94f2-5c6de23399f2')\"\n",
              "            title=\"Convert this dataframe to an interactive table.\"\n",
              "            style=\"display:none;\">\n",
              "\n",
              "  <svg xmlns=\"http://www.w3.org/2000/svg\" height=\"24px\" viewBox=\"0 -960 960 960\">\n",
              "    <path d=\"M120-120v-720h720v720H120Zm60-500h600v-160H180v160Zm220 220h160v-160H400v160Zm0 220h160v-160H400v160ZM180-400h160v-160H180v160Zm440 0h160v-160H620v160ZM180-180h160v-160H180v160Zm440 0h160v-160H620v160Z\"/>\n",
              "  </svg>\n",
              "    </button>\n",
              "\n",
              "  <style>\n",
              "    .colab-df-container {\n",
              "      display:flex;\n",
              "      gap: 12px;\n",
              "    }\n",
              "\n",
              "    .colab-df-convert {\n",
              "      background-color: #E8F0FE;\n",
              "      border: none;\n",
              "      border-radius: 50%;\n",
              "      cursor: pointer;\n",
              "      display: none;\n",
              "      fill: #1967D2;\n",
              "      height: 32px;\n",
              "      padding: 0 0 0 0;\n",
              "      width: 32px;\n",
              "    }\n",
              "\n",
              "    .colab-df-convert:hover {\n",
              "      background-color: #E2EBFA;\n",
              "      box-shadow: 0px 1px 2px rgba(60, 64, 67, 0.3), 0px 1px 3px 1px rgba(60, 64, 67, 0.15);\n",
              "      fill: #174EA6;\n",
              "    }\n",
              "\n",
              "    .colab-df-buttons div {\n",
              "      margin-bottom: 4px;\n",
              "    }\n",
              "\n",
              "    [theme=dark] .colab-df-convert {\n",
              "      background-color: #3B4455;\n",
              "      fill: #D2E3FC;\n",
              "    }\n",
              "\n",
              "    [theme=dark] .colab-df-convert:hover {\n",
              "      background-color: #434B5C;\n",
              "      box-shadow: 0px 1px 3px 1px rgba(0, 0, 0, 0.15);\n",
              "      filter: drop-shadow(0px 1px 2px rgba(0, 0, 0, 0.3));\n",
              "      fill: #FFFFFF;\n",
              "    }\n",
              "  </style>\n",
              "\n",
              "    <script>\n",
              "      const buttonEl =\n",
              "        document.querySelector('#df-5cb91d53-d3ff-4429-94f2-5c6de23399f2 button.colab-df-convert');\n",
              "      buttonEl.style.display =\n",
              "        google.colab.kernel.accessAllowed ? 'block' : 'none';\n",
              "\n",
              "      async function convertToInteractive(key) {\n",
              "        const element = document.querySelector('#df-5cb91d53-d3ff-4429-94f2-5c6de23399f2');\n",
              "        const dataTable =\n",
              "          await google.colab.kernel.invokeFunction('convertToInteractive',\n",
              "                                                    [key], {});\n",
              "        if (!dataTable) return;\n",
              "\n",
              "        const docLinkHtml = 'Like what you see? Visit the ' +\n",
              "          '<a target=\"_blank\" href=https://colab.research.google.com/notebooks/data_table.ipynb>data table notebook</a>'\n",
              "          + ' to learn more about interactive tables.';\n",
              "        element.innerHTML = '';\n",
              "        dataTable['output_type'] = 'display_data';\n",
              "        await google.colab.output.renderOutput(dataTable, element);\n",
              "        const docLink = document.createElement('div');\n",
              "        docLink.innerHTML = docLinkHtml;\n",
              "        element.appendChild(docLink);\n",
              "      }\n",
              "    </script>\n",
              "  </div>\n",
              "\n",
              "\n",
              "    <div id=\"df-9de82706-6777-4a5c-8127-57f904ab20fd\">\n",
              "      <button class=\"colab-df-quickchart\" onclick=\"quickchart('df-9de82706-6777-4a5c-8127-57f904ab20fd')\"\n",
              "                title=\"Suggest charts\"\n",
              "                style=\"display:none;\">\n",
              "\n",
              "<svg xmlns=\"http://www.w3.org/2000/svg\" height=\"24px\"viewBox=\"0 0 24 24\"\n",
              "     width=\"24px\">\n",
              "    <g>\n",
              "        <path d=\"M19 3H5c-1.1 0-2 .9-2 2v14c0 1.1.9 2 2 2h14c1.1 0 2-.9 2-2V5c0-1.1-.9-2-2-2zM9 17H7v-7h2v7zm4 0h-2V7h2v10zm4 0h-2v-4h2v4z\"/>\n",
              "    </g>\n",
              "</svg>\n",
              "      </button>\n",
              "\n",
              "<style>\n",
              "  .colab-df-quickchart {\n",
              "      --bg-color: #E8F0FE;\n",
              "      --fill-color: #1967D2;\n",
              "      --hover-bg-color: #E2EBFA;\n",
              "      --hover-fill-color: #174EA6;\n",
              "      --disabled-fill-color: #AAA;\n",
              "      --disabled-bg-color: #DDD;\n",
              "  }\n",
              "\n",
              "  [theme=dark] .colab-df-quickchart {\n",
              "      --bg-color: #3B4455;\n",
              "      --fill-color: #D2E3FC;\n",
              "      --hover-bg-color: #434B5C;\n",
              "      --hover-fill-color: #FFFFFF;\n",
              "      --disabled-bg-color: #3B4455;\n",
              "      --disabled-fill-color: #666;\n",
              "  }\n",
              "\n",
              "  .colab-df-quickchart {\n",
              "    background-color: var(--bg-color);\n",
              "    border: none;\n",
              "    border-radius: 50%;\n",
              "    cursor: pointer;\n",
              "    display: none;\n",
              "    fill: var(--fill-color);\n",
              "    height: 32px;\n",
              "    padding: 0;\n",
              "    width: 32px;\n",
              "  }\n",
              "\n",
              "  .colab-df-quickchart:hover {\n",
              "    background-color: var(--hover-bg-color);\n",
              "    box-shadow: 0 1px 2px rgba(60, 64, 67, 0.3), 0 1px 3px 1px rgba(60, 64, 67, 0.15);\n",
              "    fill: var(--button-hover-fill-color);\n",
              "  }\n",
              "\n",
              "  .colab-df-quickchart-complete:disabled,\n",
              "  .colab-df-quickchart-complete:disabled:hover {\n",
              "    background-color: var(--disabled-bg-color);\n",
              "    fill: var(--disabled-fill-color);\n",
              "    box-shadow: none;\n",
              "  }\n",
              "\n",
              "  .colab-df-spinner {\n",
              "    border: 2px solid var(--fill-color);\n",
              "    border-color: transparent;\n",
              "    border-bottom-color: var(--fill-color);\n",
              "    animation:\n",
              "      spin 1s steps(1) infinite;\n",
              "  }\n",
              "\n",
              "  @keyframes spin {\n",
              "    0% {\n",
              "      border-color: transparent;\n",
              "      border-bottom-color: var(--fill-color);\n",
              "      border-left-color: var(--fill-color);\n",
              "    }\n",
              "    20% {\n",
              "      border-color: transparent;\n",
              "      border-left-color: var(--fill-color);\n",
              "      border-top-color: var(--fill-color);\n",
              "    }\n",
              "    30% {\n",
              "      border-color: transparent;\n",
              "      border-left-color: var(--fill-color);\n",
              "      border-top-color: var(--fill-color);\n",
              "      border-right-color: var(--fill-color);\n",
              "    }\n",
              "    40% {\n",
              "      border-color: transparent;\n",
              "      border-right-color: var(--fill-color);\n",
              "      border-top-color: var(--fill-color);\n",
              "    }\n",
              "    60% {\n",
              "      border-color: transparent;\n",
              "      border-right-color: var(--fill-color);\n",
              "    }\n",
              "    80% {\n",
              "      border-color: transparent;\n",
              "      border-right-color: var(--fill-color);\n",
              "      border-bottom-color: var(--fill-color);\n",
              "    }\n",
              "    90% {\n",
              "      border-color: transparent;\n",
              "      border-bottom-color: var(--fill-color);\n",
              "    }\n",
              "  }\n",
              "</style>\n",
              "\n",
              "      <script>\n",
              "        async function quickchart(key) {\n",
              "          const quickchartButtonEl =\n",
              "            document.querySelector('#' + key + ' button');\n",
              "          quickchartButtonEl.disabled = true;  // To prevent multiple clicks.\n",
              "          quickchartButtonEl.classList.add('colab-df-spinner');\n",
              "          try {\n",
              "            const charts = await google.colab.kernel.invokeFunction(\n",
              "                'suggestCharts', [key], {});\n",
              "          } catch (error) {\n",
              "            console.error('Error during call to suggestCharts:', error);\n",
              "          }\n",
              "          quickchartButtonEl.classList.remove('colab-df-spinner');\n",
              "          quickchartButtonEl.classList.add('colab-df-quickchart-complete');\n",
              "        }\n",
              "        (() => {\n",
              "          let quickchartButtonEl =\n",
              "            document.querySelector('#df-9de82706-6777-4a5c-8127-57f904ab20fd button');\n",
              "          quickchartButtonEl.style.display =\n",
              "            google.colab.kernel.accessAllowed ? 'block' : 'none';\n",
              "        })();\n",
              "      </script>\n",
              "    </div>\n",
              "\n",
              "    </div>\n",
              "  </div>\n"
            ],
            "application/vnd.google.colaboratory.intrinsic+json": {
              "type": "dataframe",
              "summary": "{\n  \"name\": \"    print(\\\"\\u274c Arquivo n\\u00e3o encontrado\",\n  \"rows\": 5,\n  \"fields\": [\n    {\n      \"column\": \"id_emprestimo\",\n      \"properties\": {\n        \"dtype\": \"number\",\n        \"std\": 1,\n        \"min\": 1895298,\n        \"max\": 1895302,\n        \"num_unique_values\": 5,\n        \"samples\": [\n          1895299,\n          1895302,\n          1895300\n        ],\n        \"semantic_type\": \"\",\n        \"description\": \"\"\n      }\n    },\n    {\n      \"column\": \"codigo_barras\",\n      \"properties\": {\n        \"dtype\": \"string\",\n        \"num_unique_values\": 5,\n        \"samples\": [\n          \"2014061826\",\n          \"2014059024\",\n          \"2014059501\"\n        ],\n        \"semantic_type\": \"\",\n        \"description\": \"\"\n      }\n    },\n    {\n      \"column\": \"data_renovacao\",\n      \"properties\": {\n        \"dtype\": \"date\",\n        \"min\": \"2015-01-16 16:01:54.126000\",\n        \"max\": \"2015-01-16 16:01:54.126000\",\n        \"num_unique_values\": 1,\n        \"samples\": [\n          \"2015/01/16 16:01:54.126000000\"\n        ],\n        \"semantic_type\": \"\",\n        \"description\": \"\"\n      }\n    },\n    {\n      \"column\": \"data_emprestimo\",\n      \"properties\": {\n        \"dtype\": \"object\",\n        \"num_unique_values\": 5,\n        \"samples\": [\n          \"2015-01-02 08:48:55.227\"\n        ],\n        \"semantic_type\": \"\",\n        \"description\": \"\"\n      }\n    },\n    {\n      \"column\": \"data_devolucao\",\n      \"properties\": {\n        \"dtype\": \"object\",\n        \"num_unique_values\": 5,\n        \"samples\": [\n          \"2015-02-09 16:15:08\"\n        ],\n        \"semantic_type\": \"\",\n        \"description\": \"\"\n      }\n    },\n    {\n      \"column\": \"matricula_ou_siape\",\n      \"properties\": {\n        \"dtype\": \"number\",\n        \"std\": 1299219.4464715344,\n        \"min\": 2010116433.0,\n        \"max\": 2013021576.0,\n        \"num_unique_values\": 2,\n        \"samples\": [\n          2013021576.0\n        ],\n        \"semantic_type\": \"\",\n        \"description\": \"\"\n      }\n    },\n    {\n      \"column\": \"tipo_vinculo_usuario\",\n      \"properties\": {\n        \"dtype\": \"category\",\n        \"num_unique_values\": 2,\n        \"samples\": [\n          \"ALUNO DE GRADUA\\u00c7\\u00c3O\"\n        ],\n        \"semantic_type\": \"\",\n        \"description\": \"\"\n      }\n    },\n    {\n      \"column\": \"id_exemplar\",\n      \"properties\": {\n        \"dtype\": \"number\",\n        \"std\": 17853.830588980058,\n        \"min\": 1115927.0,\n        \"max\": 1159718.0,\n        \"num_unique_values\": 5,\n        \"samples\": [\n          1153140.0\n        ],\n        \"semantic_type\": \"\",\n        \"description\": \"\"\n      }\n    },\n    {\n      \"column\": \"colecao\",\n      \"properties\": {\n        \"dtype\": \"category\",\n        \"num_unique_values\": 1,\n        \"samples\": [\n          \"Acervo Circulante\"\n        ],\n        \"semantic_type\": \"\",\n        \"description\": \"\"\n      }\n    },\n    {\n      \"column\": \"biblioteca\",\n      \"properties\": {\n        \"dtype\": \"category\",\n        \"num_unique_values\": 1,\n        \"samples\": [\n          \"Biblioteca Central Zila Mamede\"\n        ],\n        \"semantic_type\": \"\",\n        \"description\": \"\"\n      }\n    },\n    {\n      \"column\": \"status_material\",\n      \"properties\": {\n        \"dtype\": \"category\",\n        \"num_unique_values\": 1,\n        \"samples\": [\n          \"REGULAR\"\n        ],\n        \"semantic_type\": \"\",\n        \"description\": \"\"\n      }\n    },\n    {\n      \"column\": \"localizacao\",\n      \"properties\": {\n        \"dtype\": \"number\",\n        \"std\": 292.3299505695576,\n        \"min\": 28.0,\n        \"max\": 688.0,\n        \"num_unique_values\": 5,\n        \"samples\": [\n          641.0\n        ],\n        \"semantic_type\": \"\",\n        \"description\": \"\"\n      }\n    },\n    {\n      \"column\": \"registro_sistema\",\n      \"properties\": {\n        \"dtype\": \"number\",\n        \"std\": 40821.5265723858,\n        \"min\": 110007.0,\n        \"max\": 215211.0,\n        \"num_unique_values\": 5,\n        \"samples\": [\n          110007.0\n        ],\n        \"semantic_type\": \"\",\n        \"description\": \"\"\n      }\n    },\n    {\n      \"column\": \"dias_emprestado\",\n      \"properties\": {\n        \"dtype\": \"number\",\n        \"std\": 28.962044126753206,\n        \"min\": 32.0,\n        \"max\": 101.0,\n        \"num_unique_values\": 3,\n        \"samples\": [\n          38.0\n        ],\n        \"semantic_type\": \"\",\n        \"description\": \"\"\n      }\n    },\n    {\n      \"column\": \"tempo_emprestimo\",\n      \"properties\": {\n        \"dtype\": \"number\",\n        \"std\": 28.962044126753206,\n        \"min\": 32.0,\n        \"max\": 101.0,\n        \"num_unique_values\": 3,\n        \"samples\": [\n          38.0\n        ],\n        \"semantic_type\": \"\",\n        \"description\": \"\"\n      }\n    },\n    {\n      \"column\": \"ano\",\n      \"properties\": {\n        \"dtype\": \"number\",\n        \"std\": 0,\n        \"min\": 2015,\n        \"max\": 2015,\n        \"num_unique_values\": 1,\n        \"samples\": [\n          2015\n        ],\n        \"semantic_type\": \"\",\n        \"description\": \"\"\n      }\n    },\n    {\n      \"column\": \"mes\",\n      \"properties\": {\n        \"dtype\": \"number\",\n        \"std\": 0,\n        \"min\": 1,\n        \"max\": 1,\n        \"num_unique_values\": 1,\n        \"samples\": [\n          1\n        ],\n        \"semantic_type\": \"\",\n        \"description\": \"\"\n      }\n    },\n    {\n      \"column\": \"hora\",\n      \"properties\": {\n        \"dtype\": \"number\",\n        \"std\": 0,\n        \"min\": 8,\n        \"max\": 9,\n        \"num_unique_values\": 2,\n        \"samples\": [\n          9\n        ],\n        \"semantic_type\": \"\",\n        \"description\": \"\"\n      }\n    },\n    {\n      \"column\": \"classe_cdu\",\n      \"properties\": {\n        \"dtype\": \"string\",\n        \"num_unique_values\": 3,\n        \"samples\": [\n          \"Ci\\u00eancias sociais\"\n        ],\n        \"semantic_type\": \"\",\n        \"description\": \"\"\n      }\n    }\n  ]\n}"
            }
          },
          "metadata": {}
        }
      ]
    },
    {
      "cell_type": "code",
      "source": [
        "dados['data_emprestimo'] = pd.to_datetime(dados['data_emprestimo'], errors='coerce')"
      ],
      "metadata": {
        "id": "_qqB5J2hC1N0"
      },
      "execution_count": null,
      "outputs": []
    },
    {
      "cell_type": "code",
      "source": [
        "dados = dados.dropna(subset=['data_emprestimo']).copy()"
      ],
      "metadata": {
        "id": "JXsnCzKwC3zM"
      },
      "execution_count": null,
      "outputs": []
    },
    {
      "cell_type": "code",
      "source": [
        "dados['ano'] = dados['data_emprestimo'].dt.year\n",
        "dados['mes'] = dados['data_emprestimo'].dt.month"
      ],
      "metadata": {
        "id": "O1IXvu3VC5AT"
      },
      "execution_count": null,
      "outputs": []
    },
    {
      "cell_type": "code",
      "source": [
        "tipos_usuario = ['ALUNO DE GRADUAÇÃO', 'ALUNO DE PÓS-GRADUAÇÃO']\n",
        "dados = dados[dados['tipo_vinculo_usuario'].isin(tipos_usuario)]"
      ],
      "metadata": {
        "id": "8UCB5WmfC8ts"
      },
      "execution_count": null,
      "outputs": []
    },
    {
      "cell_type": "code",
      "source": [
        "colecoes_mais_frequentes = dados.groupby('tipo_vinculo_usuario')['colecao'].agg(lambda x: x.value_counts().idxmax())\n",
        "print(\"📌 Coleção mais emprestada por tipo de usuário:\")\n",
        "print(colecoes_mais_frequentes)"
      ],
      "metadata": {
        "colab": {
          "base_uri": "https://localhost:8080/"
        },
        "id": "GLduGkcNDAJt",
        "outputId": "1f603963-9aa6-4e32-ec45-5ab9bc573ac6"
      },
      "execution_count": null,
      "outputs": [
        {
          "output_type": "stream",
          "name": "stdout",
          "text": [
            "📌 Coleção mais emprestada por tipo de usuário:\n",
            "tipo_vinculo_usuario\n",
            "ALUNO DE GRADUAÇÃO        Acervo Circulante\n",
            "ALUNO DE PÓS-GRADUAÇÃO    Acervo Circulante\n",
            "Name: colecao, dtype: object\n"
          ]
        }
      ]
    },
    {
      "cell_type": "code",
      "source": [
        "print(dados['tipo_vinculo_usuario'].unique())"
      ],
      "metadata": {
        "colab": {
          "base_uri": "https://localhost:8080/"
        },
        "id": "tn8d6wjwDGtq",
        "outputId": "f3fca1ab-1419-44f2-ce0a-08a31bbd40b5"
      },
      "execution_count": null,
      "outputs": [
        {
          "output_type": "stream",
          "name": "stdout",
          "text": [
            "['ALUNO DE PÓS-GRADUAÇÃO' 'ALUNO DE GRADUAÇÃO']\n"
          ]
        }
      ]
    },
    {
      "cell_type": "code",
      "source": [
        "import pandas as pd\n",
        "import matplotlib.pyplot as plt\n",
        "import seaborn as sns"
      ],
      "metadata": {
        "id": "n1HA1cMiEiA7"
      },
      "execution_count": null,
      "outputs": []
    },
    {
      "cell_type": "code",
      "source": [
        "arquivo_dia03 = \"/content/drive/MyDrive/desafio_biblioteca/dia03/dia03_dados.csv\"\n",
        "df = pd.read_csv(arquivo_dia03)"
      ],
      "metadata": {
        "id": "CPjc-wZiEk0J"
      },
      "execution_count": null,
      "outputs": []
    },
    {
      "cell_type": "code",
      "source": [
        "df['data_emprestimo'] = pd.to_datetime(df['data_emprestimo'], errors='coerce')\n",
        "df = df.dropna(subset=['data_emprestimo']).copy()"
      ],
      "metadata": {
        "id": "7qA1jpOUEmW1"
      },
      "execution_count": null,
      "outputs": []
    },
    {
      "cell_type": "code",
      "source": [
        "df['ano'] = df['data_emprestimo'].dt.year\n",
        "df['mes'] = df['data_emprestimo'].dt.month"
      ],
      "metadata": {
        "id": "nqmYVCrdEqEg"
      },
      "execution_count": null,
      "outputs": []
    },
    {
      "cell_type": "code",
      "source": [
        "emprestimos_mensais = df.groupby(['ano', 'mes'])['id_emprestimo'].count().reset_index()\n",
        "emprestimos_mensais.rename(columns={'id_emprestimo': 'qtd_emprestimos'}, inplace=True)"
      ],
      "metadata": {
        "id": "rwy2yGS2Et2k"
      },
      "execution_count": null,
      "outputs": []
    },
    {
      "cell_type": "code",
      "source": [
        "def plot_boxplot_emprestimos(df_agg):\n",
        "    plt.figure(figsize=(15,7))\n",
        "    sns.boxplot(x='ano', y='qtd_emprestimos', data=df_agg, color='skyblue')\n",
        "    plt.title(\"Distribuição de empréstimos mensais por ano\")\n",
        "    plt.xlabel(\"Ano\")\n",
        "    plt.ylabel(\"Quantidade de empréstimos\")\n",
        "    plt.xticks(rotation=45)\n",
        "    plt.show()"
      ],
      "metadata": {
        "id": "qNuuXQkBEwKZ"
      },
      "execution_count": null,
      "outputs": []
    },
    {
      "cell_type": "code",
      "source": [
        "plot_boxplot_emprestimos(emprestimos_mensais)"
      ],
      "metadata": {
        "colab": {
          "base_uri": "https://localhost:8080/",
          "height": 655
        },
        "id": "Vr8XwMVLE1Xg",
        "outputId": "d386040f-bd87-43a5-c9bc-590ba5b4c6e5"
      },
      "execution_count": null,
      "outputs": [
        {
          "output_type": "display_data",
          "data": {
            "text/plain": [
              "<Figure size 1500x700 with 1 Axes>"
            ],
            "image/png": "[encoded data removed]"
          },
          "metadata": {}
        }
      ]
    },
    {
      "cell_type": "code",
      "source": [
        "plt.figure(figsize=(16,8))\n",
        "sns.boxplot(\n",
        "    x='ano',\n",
        "    y='qtd_emprestimos',\n",
        "    data=emprestimos_mensais,\n",
        "    color='lightgreen',\n",
        "    showfliers=True,   # exibe outliers\n",
        "    flierprops=dict(marker='o', markerfacecolor='red', markersize=8, linestyle='none'),\n",
        "    medianprops=dict(color='blue', linewidth=2)\n",
        ")\n",
        "plt.title(\"Distribuição de empréstimos mensais por ano (Boxplot Aprimorado)\", fontsize=16)\n",
        "plt.xlabel(\"Ano\", fontsize=12)\n",
        "plt.ylabel(\"Quantidade de empréstimos por mês\", fontsize=12)\n",
        "plt.xticks(rotation=45)\n",
        "plt.grid(axis='y', linestyle='--', alpha=0.7)\n",
        "plt.show()"
      ],
      "metadata": {
        "colab": {
          "base_uri": "https://localhost:8080/",
          "height": 694
        },
        "id": "Kr03bxWGFJ63",
        "outputId": "86367725-3927-4e15-b355-df8d5a5d5861"
      },
      "execution_count": null,
      "outputs": [
        {
          "output_type": "display_data",
          "data": {
            "text/plain": [
              "<Figure size 1600x800 with 1 Axes>"
            ],
            "image/png": "[encoded data removed]"
          },
          "metadata": {}
        }
      ]
    },
    {
      "cell_type": "code",
      "metadata": {
        "colab": {
          "base_uri": "https://localhost:8080/"
        },
        "id": "65d9a26d",
        "outputId": "d6366db7-d1de-489f-a96e-b719090e6bf4"
      },
      "source": [
        "print(\"Years available in the dataset:\")\n",
        "print(df['ano'].unique())"
      ],
      "execution_count": null,
      "outputs": [
        {
          "output_type": "stream",
          "name": "stdout",
          "text": [
            "Years available in the dataset:\n",
            "[2015 2017 2020 2018 2019 2016]\n"
          ]
        }
      ]
    },
    {
      "cell_type": "code",
      "source": [
        "import pandas as pd\n",
        "import os\n",
        "\n",
        "# Define the paths to the other data files\n",
        "caminho_desafio = '/content/drive/MyDrive/desafio_biblioteca'\n",
        "arquivo_dia01_csv = os.path.join(caminho_desafio, 'dia01_dados.csv')\n",
        "arquivo_dia02_csv = os.path.join(caminho_desafio, 'dia02_dados.csv')\n",
        "\n",
        "# Load the other datasets\n",
        "try:\n",
        "    df_dia01 = pd.read_csv(arquivo_dia01_csv)\n",
        "    print(\"✅ Dados do dia01_dados.csv carregados com sucesso!\")\n",
        "except FileNotFoundError:\n",
        "    print(f\"❌ Arquivo {arquivo_dia01_csv} não encontrado.\")\n",
        "    df_dia01 = pd.DataFrame() # Create an empty DataFrame if the file is not found\n",
        "\n",
        "try:\n",
        "    df_dia02 = pd.read_csv(arquivo_dia02_csv)\n",
        "    print(\"✅ Dados do dia02_dados.csv carregados com sucesso!\")\n",
        "except FileNotFoundError:\n",
        "    print(f\"❌ Arquivo {arquivo_dia02_csv} não encontrado.\")\n",
        "    df_dia02 = pd.DataFrame() # Create an empty DataFrame if the file is not found\n",
        "\n",
        "# Concatenate the dataframes\n",
        "# Assuming 'df' is already loaded from dia03_dados.csv\n",
        "df_combined = pd.concat([df, df_dia01, df_dia02], ignore_index=True)\n",
        "\n",
        "# Convert 'data_emprestimo' to datetime and handle errors\n",
        "df_combined['data_emprestimo'] = pd.to_datetime(df_combined['data_emprestimo'], errors='coerce')\n",
        "\n",
        "# Drop rows where 'data_emprestimo' is NaN after conversion\n",
        "df_combined = df_combined.dropna(subset=['data_emprestimo']).copy()\n",
        "\n",
        "# Extract year and month\n",
        "df_combined['ano'] = df_combined['data_emprestimo'].dt.year\n",
        "df_combined['mes'] = df_combined['data_emprestimo'].dt.month\n",
        "\n",
        "print(\"\\n✅ Dados combinados com sucesso!\")\n",
        "print(\"Years available in the combined dataset:\")\n",
        "print(df_combined['ano'].unique())\n",
        "\n",
        "# Now you can use df_combined for further analysis, like generating the boxplot\n",
        "# based on the available years in df_combined"
      ],
      "metadata": {
        "colab": {
          "base_uri": "https://localhost:8080/"
        },
        "id": "lmlMxfqrK2RE",
        "outputId": "581c5f91-20e9-43b7-8824-3daa68865ee1"
      },
      "execution_count": null,
      "outputs": [
        {
          "output_type": "stream",
          "name": "stdout",
          "text": [
            "✅ Dados do dia01_dados.csv carregados com sucesso!\n",
            "✅ Dados do dia02_dados.csv carregados com sucesso!\n",
            "\n",
            "✅ Dados combinados com sucesso!\n",
            "Years available in the combined dataset:\n",
            "[2015 2017 2020 2018 2019 2016]\n"
          ]
        }
      ]
    },
    {
      "cell_type": "code",
      "source": [
        "emprestimos.groupby(['tipo_vinculo_usuario', 'ano'])['qtd_emprestimos'].describe()"
      ],
      "metadata": {
        "colab": {
          "base_uri": "https://localhost:8080/",
          "height": 141
        },
        "id": "uXX_E5u5MEnm",
        "outputId": "3eea497f-5cc2-4709-f7b7-ad01e5a7d4e9"
      },
      "execution_count": null,
      "outputs": [
        {
          "output_type": "error",
          "ename": "NameError",
          "evalue": "name 'emprestimos' is not defined",
          "traceback": [
            "\u001b[0;31m---------------------------------------------------------------------------\u001b[0m",
            "\u001b[0;31mNameError\u001b[0m                                 Traceback (most recent call last)",
            "\u001b[0;32m/tmp/ipython-input-937496879.py\u001b[0m in \u001b[0;36m<cell line: 0>\u001b[0;34m()\u001b[0m\n\u001b[0;32m----> 1\u001b[0;31m \u001b[0memprestimos\u001b[0m\u001b[0;34m.\u001b[0m\u001b[0mgroupby\u001b[0m\u001b[0;34m(\u001b[0m\u001b[0;34m[\u001b[0m\u001b[0;34m'tipo_vinculo_usuario'\u001b[0m\u001b[0;34m,\u001b[0m \u001b[0;34m'ano'\u001b[0m\u001b[0;34m]\u001b[0m\u001b[0;34m)\u001b[0m\u001b[0;34m[\u001b[0m\u001b[0;34m'qtd_emprestimos'\u001b[0m\u001b[0;34m]\u001b[0m\u001b[0;34m.\u001b[0m\u001b[0mdescribe\u001b[0m\u001b[0;34m(\u001b[0m\u001b[0;34m)\u001b[0m\u001b[0;34m\u001b[0m\u001b[0;34m\u001b[0m\u001b[0m\n\u001b[0m",
            "\u001b[0;31mNameError\u001b[0m: name 'emprestimos' is not defined"
          ]
        }
      ]
    },
    {
      "cell_type": "code",
      "source": [
        "plt.savefig('/content/drive/MyDrive/desafio_biblioteca/dia05_boxplot_emprestimos.png', bbox_inches='tight')"
      ],
      "metadata": {
        "id": "zhdWvyDMMJHL"
      },
      "execution_count": null,
      "outputs": []
    },
    {
      "cell_type": "code",
      "source": [
        "resumo = emprestimos.groupby(['tipo_vinculo_usuario', 'ano'])['qtd_emprestimos'].sum().reset_index()\n",
        "resumo.to_csv('/content/drive/MyDrive/desafio_biblioteca/dia05_resumo.csv', index=False)"
      ],
      "metadata": {
        "id": "QjZhjRcrMMS2"
      },
      "execution_count": null,
      "outputs": []
    },
    {
      "cell_type": "code",
      "source": [
        "pasta_graficos = '/content/drive/MyDrive/desafio_biblioteca/dia05_graficos'\n",
        "os.makedirs(pasta_graficos, exist_ok=True)"
      ],
      "metadata": {
        "id": "J2bWxqNQQCZ7"
      },
      "execution_count": null,
      "outputs": []
    },
    {
      "cell_type": "code",
      "source": [
        "plt.savefig(f'{pasta_graficos}/boxplot_{tipo.replace(\" \", \"_\")}.png', bbox_inches='tight')"
      ],
      "metadata": {
        "id": "glE_7kSVQF3I"
      },
      "execution_count": null,
      "outputs": []
    },
    {
      "cell_type": "code",
      "source": [
        "resumo.to_csv('/content/drive/MyDrive/desafio_biblioteca/dia05_resumo.csv', index=False)"
      ],
      "metadata": {
        "id": "tl4yr5J3QIuu"
      },
      "execution_count": null,
      "outputs": []
    },
    {
      "cell_type": "code",
      "source": [
        "import os\n",
        "\n",
        "pasta_graficos = '/content/drive/MyDrive/desafio_biblioteca/dia05_graficos'"
      ],
      "metadata": {
        "id": "2uGPyqd2QIrA"
      },
      "execution_count": null,
      "outputs": []
    },
    {
      "cell_type": "code",
      "source": [
        "if os.path.exists(pasta_graficos):\n",
        "    arquivos = os.listdir(pasta_graficos)\n",
        "    if arquivos:\n",
        "        print(\"Arquivos salvos na pasta dia05_graficos:\")\n",
        "        for arq in arquivos:\n",
        "            print(\"-\", arq)\n",
        "    else:\n",
        "        print(\"A pasta está vazia.\")\n",
        "else:\n",
        "    print(\"A pasta dia05_graficos não existe.\")"
      ],
      "metadata": {
        "id": "Ypi6tmIeQS7X"
      },
      "execution_count": null,
      "outputs": []
    },
    {
      "cell_type": "code",
      "metadata": {
        "id": "e544b551"
      },
      "source": [
        "emprestimos_mensais = df.groupby(['ano', 'mes'])['id_emprestimo'].count().reset_index()\n",
        "emprestimos_mensais.rename(columns={'id_emprestimo': 'qtd_emprestimos'}, inplace=True)"
      ],
      "execution_count": null,
      "outputs": []
    },
    {
      "cell_type": "code",
      "metadata": {
        "id": "323f6ed3"
      },
      "source": [
        "def plot_boxplot_emprestimos(df_agg):\n",
        "    plt.figure(figsize=(15,7))\n",
        "    sns.boxplot(x='ano', y='qtd_emprestimos', data=df_agg, color='skyblue')\n",
        "    plt.title(\"Distribuição de empréstimos mensais por ano\")\n",
        "    plt.xlabel(\"Ano\")\n",
        "    plt.ylabel(\"Quantidade de empréstimos\")\n",
        "    plt.xticks(rotation=45)\n",
        "    plt.show()"
      ],
      "execution_count": null,
      "outputs": []
    },
    {
      "cell_type": "code",
      "metadata": {
        "id": "78dbdc1a"
      },
      "source": [
        "plot_boxplot_emprestimos(emprestimos_mensais)"
      ],
      "execution_count": null,
      "outputs": []
    },
    {
      "cell_type": "code",
      "metadata": {
        "id": "dd4372ad"
      },
      "source": [
        "emprestimos_mensais = df.groupby(['ano', 'mes'])['id_emprestimo'].count().reset_index()\n",
        "emprestimos_mensais.rename(columns={'id_emprestimo': 'qtd_emprestimos'}, inplace=True)"
      ],
      "execution_count": null,
      "outputs": []
    },
    {
      "cell_type": "code",
      "metadata": {
        "id": "039b4e3e"
      },
      "source": [
        "def plot_boxplot_emprestimos(df_agg):\n",
        "    plt.figure(figsize=(15,7))\n",
        "    sns.boxplot(x='ano', y='qtd_emprestimos', data=df_agg, color='skyblue')\n",
        "    plt.title(\"Distribuição de empréstimos mensais por ano\")\n",
        "    plt.xlabel(\"Ano\")\n",
        "    plt.ylabel(\"Quantidade de empréstimos\")\n",
        "    plt.xticks(rotation=45)\n",
        "    plt.show()"
      ],
      "execution_count": null,
      "outputs": []
    },
    {
      "cell_type": "code",
      "metadata": {
        "id": "6cfa15b1"
      },
      "source": [
        "plot_boxplot_emprestimos(emprestimos_mensais)"
      ],
      "execution_count": null,
      "outputs": []
    },
    {
      "cell_type": "code",
      "metadata": {
        "id": "f4520919"
      },
      "source": [
        "import pandas as pd\n",
        "import matplotlib.pyplot as plt\n",
        "import seaborn as sns"
      ],
      "execution_count": null,
      "outputs": []
    },
    {
      "cell_type": "code",
      "metadata": {
        "id": "95e587fe"
      },
      "source": [
        "import os\n",
        "import pandas as pd\n",
        "import matplotlib.pyplot as plt\n",
        "import seaborn as sns\n",
        "\n",
        "arquivo_dia03 = \"/content/drive/MyDrive/desafio_biblioteca/dia03/dia03_dados.csv\"\n",
        "\n",
        "if os.path.exists(arquivo_dia03):\n",
        "    df = pd.read_csv(arquivo_dia03)\n",
        "    print(\"✅ Dados carregados com sucesso!\")\n",
        "else:\n",
        "    print(f\"❌ Erro: O arquivo '{arquivo_dia03}' não foi encontrado.\")\n",
        "    print(\"Por favor, verifique se o Google Drive está montado corretamente e se o arquivo existe no caminho especificado.\")\n",
        "    df = pd.DataFrame() # Create an empty DataFrame to avoid NameError later"
      ],
      "execution_count": null,
      "outputs": []
    },
    {
      "cell_type": "code",
      "metadata": {
        "id": "63ce6502"
      },
      "source": [
        "df['data_emprestimo'] = pd.to_datetime(df['data_emprestimo'], errors='coerce')\n",
        "df = df.dropna(subset=['data_emprestimo']).copy()"
      ],
      "execution_count": null,
      "outputs": []
    },
    {
      "cell_type": "code",
      "metadata": {
        "id": "38848148"
      },
      "source": [
        "df['ano'] = df['data_emprestimo'].dt.year\n",
        "df['mes'] = df['data_emprestimo'].dt.month"
      ],
      "execution_count": null,
      "outputs": []
    },
    {
      "cell_type": "code",
      "metadata": {
        "id": "9f101de2"
      },
      "source": [
        "emprestimos_mensais = df.groupby(['ano', 'mes'])['id_emprestimo'].count().reset_index()\n",
        "emprestimos_mensais.rename(columns={'id_emprestimo': 'qtd_emprestimos'}, inplace=True)"
      ],
      "execution_count": null,
      "outputs": []
    },
    {
      "cell_type": "code",
      "metadata": {
        "id": "95cf11e1"
      },
      "source": [
        "def plot_boxplot_emprestimos(df_agg):\n",
        "    plt.figure(figsize=(15,7))\n",
        "    sns.boxplot(x='ano', y='qtd_emprestimos', data=df_agg, color='skyblue')\n",
        "    plt.title(\"Distribuição de empréstimos mensais por ano\")\n",
        "    plt.xlabel(\"Ano\")\n",
        "    plt.ylabel(\"Quantidade de empréstimos\")\n",
        "    plt.xticks(rotation=45)\n",
        "    plt.show()"
      ],
      "execution_count": null,
      "outputs": []
    },
    {
      "cell_type": "code",
      "metadata": {
        "id": "861e6dd9"
      },
      "source": [
        "plot_boxplot_emprestimos(emprestimos_mensais)"
      ],
      "execution_count": null,
      "outputs": []
    }
  ]
}