{
  "nbformat": 4,
  "nbformat_minor": 0,
  "metadata": {
    "colab": {
      "provenance": [],
      "authorship_tag": "ABX9TyOxQH+8mU4Cb44ujdjmX2V2",
      "include_colab_link": true
    },
    "kernelspec": {
      "name": "python3",
      "display_name": "Python 3"
    },
    "language_info": {
      "name": "python"
    }
  },
  "cells": [
    {
      "cell_type": "markdown",
      "metadata": {
        "id": "view-in-github",
        "colab_type": "text"
      },
      "source": [
        "<a href=\"https://colab.research.google.com/github/alinejbarbosa-web/7DaysOfCode/blob/main/_7DaysOfCode_Dia_06.ipynb\" target=\"_parent\"><img src=\"https://colab.research.google.com/assets/colab-badge.svg\" alt=\"Open In Colab\"/></a>"
      ]
    },
    {
      "cell_type": "code",
      "execution_count": null,
      "metadata": {
        "id": "C16evfs2Qior"
      },
      "outputs": [],
      "source": [
        "import pandas as pd\n",
        "import os\n",
        "import json\n"
      ]
    },
    {
      "cell_type": "code",
      "source": [
        "arquivo_excel = '/content/drive/MyDrive/desafio_biblioteca/dia06_dados.xlsx'\n",
        "arquivo_json = '/content/drive/MyDrive/desafio_biblioteca/dia06_dados.json'"
      ],
      "metadata": {
        "id": "NloervXtSiWq"
      },
      "execution_count": null,
      "outputs": []
    },
    {
      "cell_type": "code",
      "source": [
        "from google.colab import drive\n",
        "drive.mount('/content/drive')"
      ],
      "metadata": {
        "colab": {
          "base_uri": "https://localhost:8080/"
        },
        "id": "E4Di-wEASlQM",
        "outputId": "a364b062-2394-400c-ab0b-bbd63e11b0e8"
      },
      "execution_count": null,
      "outputs": [
        {
          "output_type": "stream",
          "name": "stdout",
          "text": [
            "Mounted at /content/drive\n"
          ]
        }
      ]
    },
    {
      "cell_type": "code",
      "source": [
        "import os\n",
        "\n",
        "caminho_desafio = '/content/drive/MyDrive/desafio_biblioteca'\n",
        "print(os.listdir(caminho_desafio))"
      ],
      "metadata": {
        "colab": {
          "base_uri": "https://localhost:8080/"
        },
        "id": "cGV5megFTbzu",
        "outputId": "05d7f314-a408-43c2-da99-b7878a42a557"
      },
      "execution_count": null,
      "outputs": [
        {
          "output_type": "stream",
          "name": "stdout",
          "text": [
            "['dia01_dados.parquet', 'dia01_dados.csv', 'dia02_dados.csv', 'dia03', 'dia05_boxplot_emprestimos.png', 'dia05_graficos', 'dia05_resumo.csv']\n"
          ]
        }
      ]
    },
    {
      "cell_type": "code",
      "source": [
        "import pandas as pd\n",
        "import os\n",
        "import json"
      ],
      "metadata": {
        "id": "dgi9QxVjT52r"
      },
      "execution_count": null,
      "outputs": []
    },
    {
      "cell_type": "code",
      "source": [
        "caminho_dia06 = '/content/drive/MyDrive/desafio_biblioteca'\n"
      ],
      "metadata": {
        "id": "8lh_dQi5T7lB"
      },
      "execution_count": null,
      "outputs": []
    },
    {
      "cell_type": "code",
      "source": [
        "cursos = ['Biblioteconomia', 'Ciências sociais', 'Comunicação social',\n",
        "          'Direito', 'Filosofia', 'Pedagogia']"
      ],
      "metadata": {
        "id": "DHhajp1KT-F0"
      },
      "execution_count": null,
      "outputs": []
    },
    {
      "cell_type": "code",
      "source": [
        "arquivos = os.listdir(caminho_dia06)"
      ],
      "metadata": {
        "id": "I0Utp8-EUBTS"
      },
      "execution_count": null,
      "outputs": []
    },
    {
      "cell_type": "code",
      "source": [
        "df_list = []"
      ],
      "metadata": {
        "id": "lV4L0iFwUDbW"
      },
      "execution_count": null,
      "outputs": []
    },
    {
      "cell_type": "code",
      "source": [
        "for arquivo in arquivos:\n",
        "    if arquivo.endswith('.xlsx'):\n",
        "        df_excel = pd.read_excel(os.path.join(caminho_dia06, arquivo))\n",
        "        df_list.append(df_excel)\n",
        "\n",
        "# Carrega arquivos JSON\n",
        "for arquivo in arquivos:\n",
        "    if arquivo.endswith('.json'):\n",
        "        with open(os.path.join(caminho_dia06, arquivo), 'r', encoding='utf-8') as f:\n",
        "            dados_json = json.load(f)\n",
        "        df_json = pd.DataFrame(dados_json)\n",
        "        df_list.append(df_json)\n"
      ],
      "metadata": {
        "id": "2keQU-DVUIE2"
      },
      "execution_count": null,
      "outputs": []
    },
    {
      "cell_type": "code",
      "source": [
        "import pandas as pd\n",
        "import os\n",
        "import json"
      ],
      "metadata": {
        "id": "_cOTFUoAUJeg"
      },
      "execution_count": null,
      "outputs": []
    },
    {
      "cell_type": "code",
      "source": [
        "caminho_desafio = '/content/drive/MyDrive/desafio_biblioteca'"
      ],
      "metadata": {
        "id": "RKQnZzAMaqHW"
      },
      "execution_count": null,
      "outputs": []
    },
    {
      "cell_type": "code",
      "source": [
        "arquivos = os.listdir(caminho_desafio)\n",
        "print(\"Arquivos disponíveis:\", arquivos)"
      ],
      "metadata": {
        "colab": {
          "base_uri": "https://localhost:8080/"
        },
        "id": "p9bTdmCraspl",
        "outputId": "e903a907-e9fb-47f6-df95-a19a576b5c50"
      },
      "execution_count": null,
      "outputs": [
        {
          "output_type": "stream",
          "name": "stdout",
          "text": [
            "Arquivos disponíveis: ['dia01_dados.parquet', 'dia01_dados.csv', 'dia02_dados.csv', 'dia03', 'dia05_boxplot_emprestimos.png', 'dia05_graficos', 'dia05_resumo.csv']\n"
          ]
        }
      ]
    },
    {
      "cell_type": "code",
      "source": [
        "df_list = []"
      ],
      "metadata": {
        "id": "BGuGUY0OayE5"
      },
      "execution_count": null,
      "outputs": []
    },
    {
      "cell_type": "code",
      "source": [
        "for arquivo in arquivos:\n",
        "    if arquivo.endswith('.xlsx'):\n",
        "        caminho_arquivo = os.path.join(caminho_desafio, arquivo)\n",
        "        df_excel = pd.read_excel(caminho_arquivo)\n",
        "        df_list.append(df_excel)"
      ],
      "metadata": {
        "id": "4OC8Z3u-azJB"
      },
      "execution_count": null,
      "outputs": []
    },
    {
      "cell_type": "code",
      "source": [
        "for arquivo in arquivos:\n",
        "    if arquivo.endswith('.json'):\n",
        "        caminho_arquivo = os.path.join(caminho_desafio, arquivo)\n",
        "        with open(caminho_arquivo, 'r', encoding='utf-8') as f:\n",
        "            dados_json = json.load(f)\n",
        "        df_json = pd.json_normalize(dados_json)\n",
        "        df_list.append(df_json)"
      ],
      "metadata": {
        "id": "WPpIriwka2QI"
      },
      "execution_count": null,
      "outputs": []
    },
    {
      "cell_type": "code",
      "source": [
        "import pandas as pd\n",
        "import numpy as np\n"
      ],
      "metadata": {
        "id": "cGK29l9ca8RD"
      },
      "execution_count": null,
      "outputs": []
    },
    {
      "cell_type": "code",
      "source": [
        "cursos = ['Biblioteconomia', 'Ciências sociais', 'Comunicação social', 'Direito', 'Filosofia', 'Pedagogia']"
      ],
      "metadata": {
        "id": "pFS0FZRUbJpb"
      },
      "execution_count": null,
      "outputs": []
    },
    {
      "cell_type": "code",
      "source": [
        "anos = list(range(2015, 2021))"
      ],
      "metadata": {
        "id": "fDLhZ46cbPog"
      },
      "execution_count": null,
      "outputs": []
    },
    {
      "cell_type": "code",
      "source": [
        "df_simulado = pd.DataFrame(columns=['curso', 'ano', 'qtd_emprestimos'])"
      ],
      "metadata": {
        "id": "MMZyXcAebRFk"
      },
      "execution_count": null,
      "outputs": []
    },
    {
      "cell_type": "code",
      "source": [
        "for curso in cursos:\n",
        "    for ano in anos:\n",
        "        qtd = np.random.randint(20, 100)  # Você pode ajustar o range conforme o seu dataset real\n",
        "        df_simulado = pd.concat([df_simulado, pd.DataFrame({'curso':[curso], 'ano':[ano], 'qtd_emprestimos':[qtd]})], ignore_index=True)\n"
      ],
      "metadata": {
        "id": "L8yaQ1sYbW_h"
      },
      "execution_count": null,
      "outputs": []
    },
    {
      "cell_type": "code",
      "source": [
        "tabela_final = df_simulado.pivot(index='curso', columns='ano', values='qtd_emprestimos')"
      ],
      "metadata": {
        "id": "Pr2sM-OIbal8"
      },
      "execution_count": null,
      "outputs": []
    },
    {
      "cell_type": "code",
      "source": [
        "tabela_final['Total'] = tabela_final.sum(axis=1)"
      ],
      "metadata": {
        "id": "1nCksmmtbbm3"
      },
      "execution_count": null,
      "outputs": []
    },
    {
      "cell_type": "code",
      "source": [
        "tabela_final.loc['Total'] = tabela_final.sum(axis=0)"
      ],
      "metadata": {
        "id": "AKbqoOgabegn"
      },
      "execution_count": null,
      "outputs": []
    },
    {
      "cell_type": "code",
      "source": [
        "print(tabela_final)"
      ],
      "metadata": {
        "colab": {
          "base_uri": "https://localhost:8080/"
        },
        "id": "PTQzfXxMbh_h",
        "outputId": "2626d138-9179-46fa-e3d2-cf10706daa2d"
      },
      "execution_count": null,
      "outputs": [
        {
          "output_type": "stream",
          "name": "stdout",
          "text": [
            "ano                2015 2016 2017 2018 2019 2020 Total\n",
            "curso                                                 \n",
            "Biblioteconomia      82   67   48   57   44   44   342\n",
            "Ciências sociais     67   57   68   59   32   77   360\n",
            "Comunicação social   29   27   61   82   44   78   321\n",
            "Direito              85   51   79   38   89   46   388\n",
            "Filosofia            97   85   79   40   32   55   388\n",
            "Pedagogia            23   64   66   82   68   98   401\n",
            "Total               383  351  401  358  309  398  2200\n"
          ]
        }
      ]
    },
    {
      "cell_type": "code",
      "source": [
        "import pandas as pd\n",
        "import numpy as np"
      ],
      "metadata": {
        "id": "M7m1wQydb9wr"
      },
      "execution_count": null,
      "outputs": []
    },
    {
      "cell_type": "code",
      "source": [
        "cursos = ['Biblioteconomia', 'Ciências sociais', 'Comunicação social', 'Direito', 'Filosofia', 'Pedagogia']\n",
        "anos = list(range(2015, 2021))"
      ],
      "metadata": {
        "id": "dNTYMiVLcAsJ"
      },
      "execution_count": null,
      "outputs": []
    },
    {
      "cell_type": "code",
      "source": [
        "df_simulado = pd.DataFrame(columns=['curso', 'ano', 'qtd_emprestimos'])"
      ],
      "metadata": {
        "id": "lh2hjH5ycHpq"
      },
      "execution_count": null,
      "outputs": []
    },
    {
      "cell_type": "code",
      "source": [
        "for curso in cursos:\n",
        "    for ano in anos:\n",
        "        qtd = np.random.randint(20, 100)  # Quantidade aleatória de empréstimos\n",
        "        df_simulado = pd.concat([df_simulado, pd.DataFrame({'curso':[curso], 'ano':[ano], 'qtd_emprestimos':[qtd]})], ignore_index=True)\n",
        "\n",
        "df_simulado['qtd_emprestimos'] = df_simulado['qtd_emprestimos'].astype(int)"
      ],
      "metadata": {
        "id": "RjJMEYO8cKQh"
      },
      "execution_count": null,
      "outputs": []
    },
    {
      "cell_type": "code",
      "source": [
        "tabela_final = df_simulado.pivot(index='curso', columns='ano', values='qtd_emprestimos')"
      ],
      "metadata": {
        "id": "k2NH9pjecOPQ"
      },
      "execution_count": null,
      "outputs": []
    },
    {
      "cell_type": "code",
      "source": [
        "tabela_final['Total'] = tabela_final.sum(axis=1)"
      ],
      "metadata": {
        "id": "2y3dYC7rcRQO"
      },
      "execution_count": null,
      "outputs": []
    },
    {
      "cell_type": "code",
      "source": [
        "tabela_final.loc['Total'] = tabela_final.sum(axis=0)"
      ],
      "metadata": {
        "id": "SkNJ7S0qcURi"
      },
      "execution_count": null,
      "outputs": []
    },
    {
      "cell_type": "code",
      "source": [
        "print(tabela_final)"
      ],
      "metadata": {
        "colab": {
          "base_uri": "https://localhost:8080/"
        },
        "id": "zosucezscV1y",
        "outputId": "6c074599-3bff-420a-b912-07294204da8c"
      },
      "execution_count": null,
      "outputs": [
        {
          "output_type": "stream",
          "name": "stdout",
          "text": [
            "ano                 2015  2016  2017  2018  2019  2020  Total\n",
            "curso                                                        \n",
            "Biblioteconomia       28    94    23    39    73    21    278\n",
            "Ciências sociais      49    79    34    27    89    68    346\n",
            "Comunicação social    93    45    24    47    73    60    342\n",
            "Direito               63    96    47    51    94    53    404\n",
            "Filosofia             80    43    74    40    82    84    403\n",
            "Pedagogia             66    90    84    25    79    60    404\n",
            "Total                379   447   286   229   490   346   2177\n"
          ]
        }
      ]
    },
    {
      "cell_type": "code",
      "source": [
        "import seaborn as sns\n",
        "import matplotlib.pyplot as plt\n",
        "\n",
        "plt.figure(figsize=(10,6))\n",
        "sns.heatmap(tabela_final.iloc[:-1, :-1], annot=True, fmt='d', cmap='YlGnBu')\n",
        "plt.title(\"Empréstimos por curso e ano (2015-2020)\")\n",
        "plt.xlabel(\"Ano\")\n",
        "plt.ylabel(\"Curso\")\n",
        "plt.show()"
      ],
      "metadata": {
        "colab": {
          "base_uri": "https://localhost:8080/",
          "height": 565
        },
        "id": "6SaVHM4ucdpV",
        "outputId": "e7c3d490-fd9d-4dd5-c5d6-d5e935310ed5"
      },
      "execution_count": null,
      "outputs": [
        {
          "output_type": "display_data",
          "data": {
            "text/plain": [
              "<Figure size 1000x600 with 2 Axes>"
            ],
            "image/png": "[encoded data removed]"
          },
          "metadata": {}
        }
      ]
    },
    {
      "cell_type": "code",
      "source": [
        "import pandas as pd\n",
        "import numpy as np\n",
        "\n",
        "cursos = ['Biblioteconomia', 'Ciências sociais', 'Comunicação social', 'Direito', 'Filosofia', 'Pedagogia']\n",
        "anos = list(range(2015, 2021))\n",
        "\n",
        "df_simulado = pd.DataFrame(columns=['curso','ano','qtd_emprestimos'])\n",
        "\n",
        "for curso in cursos:\n",
        "    for ano in anos:\n",
        "        qtd = np.random.randint(20, 100)\n",
        "        df_simulado = pd.concat([df_simulado, pd.DataFrame({'curso':[curso],'ano':[ano],'qtd_emprestimos':[qtd]})], ignore_index=True)\n"
      ],
      "metadata": {
        "id": "5i8qCsoPcltA"
      },
      "execution_count": null,
      "outputs": []
    },
    {
      "cell_type": "code",
      "source": [
        "tabela_final = df_simulado.pivot(index='curso', columns='ano', values='qtd_emprestimos')\n",
        "tabela_final['Total'] = tabela_final.sum(axis=1)\n",
        "tabela_final.loc['Total'] = tabela_final.sum(axis=0)\n"
      ],
      "metadata": {
        "id": "l9HjbYFRc33H"
      },
      "execution_count": null,
      "outputs": []
    },
    {
      "cell_type": "code",
      "source": [
        "print(tabela_final)"
      ],
      "metadata": {
        "colab": {
          "base_uri": "https://localhost:8080/"
        },
        "id": "DChUEFPtc4xS",
        "outputId": "4c29ab1b-8348-4a30-c4ad-8de4b651f433"
      },
      "execution_count": null,
      "outputs": [
        {
          "output_type": "stream",
          "name": "stdout",
          "text": [
            "ano                2015 2016 2017 2018 2019 2020 Total\n",
            "curso                                                 \n",
            "Biblioteconomia      27   98   95   56   66   76   418\n",
            "Ciências sociais     75   64   52   96   32   86   405\n",
            "Comunicação social   65   68   71   39   83   46   372\n",
            "Direito              20   49   37   41   49   97   293\n",
            "Filosofia            25   59   66   37   75   81   343\n",
            "Pedagogia            73   33   86   54   85   31   362\n",
            "Total               285  371  407  323  390  417  2193\n"
          ]
        }
      ]
    },
    {
      "cell_type": "code",
      "source": [
        "import matplotlib.pyplot as plt\n",
        "import seaborn as sns\n",
        "import os"
      ],
      "metadata": {
        "id": "6HmaPGHUdP1e"
      },
      "execution_count": null,
      "outputs": []
    },
    {
      "cell_type": "code",
      "source": [
        "pasta_graficos = '/content/drive/MyDrive/desafio_biblioteca/dia06_graficos'\n",
        "os.makedirs(pasta_graficos, exist_ok=True)"
      ],
      "metadata": {
        "id": "Hm0WELHPdSAk"
      },
      "execution_count": null,
      "outputs": []
    },
    {
      "cell_type": "code",
      "source": [
        "import pandas as pd\n",
        "import os"
      ],
      "metadata": {
        "id": "jnSznzewdTHC"
      },
      "execution_count": null,
      "outputs": []
    },
    {
      "cell_type": "code",
      "source": [
        "arquivo_excel = '/content/drive/MyDrive/desafio_biblioteca/dia06_dados.xlsx'\n",
        "arquivo_json = '/content/drive/MyDrive/desafio_biblioteca/dia06_dados.json'"
      ],
      "metadata": {
        "id": "uFdOH7v7dho1"
      },
      "execution_count": null,
      "outputs": []
    },
    {
      "cell_type": "code",
      "source": [
        "import pandas as pd\n",
        "import numpy as np\n",
        "import os"
      ],
      "metadata": {
        "id": "z6vv8_4jdlJ2"
      },
      "execution_count": null,
      "outputs": []
    },
    {
      "cell_type": "code",
      "source": [
        "cursos = [\n",
        "    'Biblioteconomia', 'Ciências sociais', 'Comunicação social',\n",
        "    'Direito', 'Filosofia', 'Pedagogia'\n",
        "]\n",
        "anos = list(range(2015, 2021))\n",
        "tipos_usuario = ['ALUNO DE GRADUAÇÃO']\n"
      ],
      "metadata": {
        "id": "BDEzFWw6d3rp"
      },
      "execution_count": null,
      "outputs": []
    },
    {
      "cell_type": "code",
      "source": [
        "np.random.seed(42)\n",
        "dados_list = []\n",
        "for curso in cursos:\n",
        "    for ano in anos:\n",
        "        qtd_emprestimos = np.random.randint(5, 50)\n",
        "        for i in range(qtd_emprestimos):\n",
        "            dados_list.append({\n",
        "                'curso': curso,\n",
        "                'ano': ano,\n",
        "                'id_emprestimo': f'{curso[:3]}-{ano}-{i+1}',\n",
        "                'tipo_vinculo_usuario': 'ALUNO DE GRADUAÇÃO'\n",
        "            })"
      ],
      "metadata": {
        "id": "CtIQP2DGd4pG"
      },
      "execution_count": null,
      "outputs": []
    },
    {
      "cell_type": "code",
      "source": [
        "df = pd.DataFrame(dados_list)"
      ],
      "metadata": {
        "id": "zXoDzl2Jd98Q"
      },
      "execution_count": null,
      "outputs": []
    },
    {
      "cell_type": "code",
      "source": [
        "tabela = pd.pivot_table(\n",
        "    df,\n",
        "    values='id_emprestimo',\n",
        "    index='curso',\n",
        "    columns='ano',\n",
        "    aggfunc='count',\n",
        "    margins=True,  # adiciona linha e coluna 'All'\n",
        "    margins_name='Total'\n",
        ")\n"
      ],
      "metadata": {
        "id": "szeOH2Q2eDMV"
      },
      "execution_count": null,
      "outputs": []
    },
    {
      "cell_type": "code",
      "source": [
        "print(tabela)"
      ],
      "metadata": {
        "colab": {
          "base_uri": "https://localhost:8080/"
        },
        "id": "STZWbj-WeEr6",
        "outputId": "51952b43-bfc2-4d0c-e4f1-51f57191b3d5"
      },
      "execution_count": null,
      "outputs": [
        {
          "output_type": "stream",
          "name": "stdout",
          "text": [
            "ano                 2015  2016  2017  2018  2019  2020  Total\n",
            "curso                                                        \n",
            "Biblioteconomia       43    33    19    47    12    25    179\n",
            "Ciências sociais      43    23    27    15    15    28    151\n",
            "Comunicação social    40    44    28     7    26     6    151\n",
            "Direito               28    48    34    42     6    25    183\n",
            "Filosofia             37    16    26    48    29    31    187\n",
            "Pedagogia             46    32    20    19    48     7    172\n",
            "Total                237   196   154   178   136   122   1023\n"
          ]
        }
      ]
    },
    {
      "cell_type": "code",
      "source": [],
      "metadata": {
        "id": "5C8XDI_BeIkD"
      },
      "execution_count": null,
      "outputs": []
    },
    {
      "cell_type": "code",
      "source": [
        "pasta_graficos = '/content/drive/MyDrive/desafio_biblioteca/dia06_graficos'\n",
        "os.makedirs(pasta_graficos, exist_ok=True)\n",
        "arquivo_csv = os.path.join(pasta_graficos, 'resumo_emprestimos_dia06.csv')\n",
        "tabela.to_csv(arquivo_csv)\n",
        "print(f\"\\n✅ Tabela salva em: {arquivo_csv}\")"
      ],
      "metadata": {
        "colab": {
          "base_uri": "https://localhost:8080/"
        },
        "id": "0_xTilrgeIid",
        "outputId": "9815f267-0629-44bc-cf31-996e8bfa3e65"
      },
      "execution_count": null,
      "outputs": [
        {
          "output_type": "stream",
          "name": "stdout",
          "text": [
            "\n",
            "✅ Tabela salva em: /content/drive/MyDrive/desafio_biblioteca/dia06_graficos/resumo_emprestimos_dia06.csv\n"
          ]
        }
      ]
    },
    {
      "cell_type": "code",
      "source": [
        "import pandas as pd\n",
        "import matplotlib.pyplot as plt\n",
        "import seaborn as sns\n",
        "import os"
      ],
      "metadata": {
        "id": "g1oFawdTeiQB"
      },
      "execution_count": null,
      "outputs": []
    },
    {
      "cell_type": "code",
      "source": [
        "arquivo_excel = '/content/drive/MyDrive/desafio_biblioteca/dia06_dados.xlsx'\n",
        "arquivo_json = '/content/drive/MyDrive/desafio_biblioteca/dia06_dados.json'"
      ],
      "metadata": {
        "id": "bKCWvvjWemVA"
      },
      "execution_count": null,
      "outputs": []
    },
    {
      "cell_type": "code",
      "source": [
        "pasta_graficos = '/content/drive/MyDrive/desafio_biblioteca/dia06_graficos'\n",
        "os.makedirs(pasta_graficos, exist_ok=True)"
      ],
      "metadata": {
        "id": "ijIfWxkmep3m"
      },
      "execution_count": null,
      "outputs": []
    },
    {
      "cell_type": "code",
      "source": [
        "import os\n",
        "import pandas as pd\n",
        "import matplotlib.pyplot as plt\n",
        "import seaborn as sns"
      ],
      "metadata": {
        "id": "lkJ17GP4es1p"
      },
      "execution_count": null,
      "outputs": []
    },
    {
      "cell_type": "code",
      "source": [
        "pasta_graficos = '/content/drive/MyDrive/desafio_biblioteca/dia06_graficos'\n",
        "os.makedirs(pasta_graficos, exist_ok=True)"
      ],
      "metadata": {
        "id": "7M4x1MELfHgO"
      },
      "execution_count": null,
      "outputs": []
    },
    {
      "cell_type": "code",
      "source": [
        "# The current DataFrame 'df' does not have a 'matricula' column.\n",
        "# It seems the code below was intended for a different DataFrame structure.\n",
        "# Based on the current 'df', we can proceed with the available columns.\n",
        "\n",
        "# If 'id_emprestimo' is intended as a unique identifier, you can use it.\n",
        "# However, the operations below seem to be for cleaning data based on 'matricula' and 'data_emprestimo' which are not in the current df.\n",
        "\n",
        "# If you have another DataFrame with 'matricula' and 'data_emprestimo' that you intended to use,\n",
        "# please load it and apply these operations to that DataFrame.\n",
        "\n",
        "# Based on the current structure of 'df', the following lines are not necessary\n",
        "# and will cause errors:\n",
        "# df['matricula'] = df['matricula'].astype(str)\n",
        "# df = df.dropna(subset=['matricula', 'curso', 'data_emprestimo'])\n",
        "# df['data_emprestimo'] = pd.to_datetime(df['data_emprestimo'], errors='coerce')\n",
        "# df = df.dropna(subset=['data_emprestimo'])\n",
        "# df['ano'] = df['data_emprestimo'].dt.year\n",
        "# df = df[(df['ano'] >= 2015) & (df['ano'] <= 2020)]\n",
        "\n",
        "# The DataFrame 'df' already has 'curso', 'ano', and 'id_emprestimo' which were used to create the pivot table.\n",
        "# You can continue with the next steps using the existing 'df' and the 'tabela' created from it.\n",
        "\n",
        "# If you intended to perform filtering or cleaning on a different dataset,\n",
        "# please provide the code to load and process that dataset."
      ],
      "metadata": {
        "id": "B6SU9REXfOlp"
      },
      "execution_count": null,
      "outputs": []
    },
    {
      "cell_type": "code",
      "source": [
        "cursos = ['Biblioteconomia', 'Ciências sociais', 'Comunicação social',\n",
        "          'Direito', 'Filosofia', 'Pedagogia']\n",
        "df = df[df['curso'].isin(cursos)]"
      ],
      "metadata": {
        "id": "DEJJMPt3fXRk"
      },
      "execution_count": null,
      "outputs": []
    },
    {
      "cell_type": "code",
      "source": [
        "resumo = df.groupby(['curso', 'ano']).size().reset_index(name='qtd_emprestimos')\n",
        "tabela = resumo.pivot(index='curso', columns='ano', values='qtd_emprestimos').fillna(0)\n",
        "tabela['Total'] = tabela.sum(axis=1)\n",
        "tabela.loc['Total'] = tabela.sum(axis=0)\n",
        "display(tabela)"
      ],
      "metadata": {
        "colab": {
          "base_uri": "https://localhost:8080/",
          "height": 300
        },
        "id": "8o26vV_1ffHr",
        "outputId": "6e62bebd-060c-4539-cc76-4ee4095d691f"
      },
      "execution_count": null,
      "outputs": [
        {
          "output_type": "display_data",
          "data": {
            "text/plain": [
              "ano                 2015  2016  2017  2018  2019  2020  Total\n",
              "curso                                                        \n",
              "Biblioteconomia       43    33    19    47    12    25    179\n",
              "Ciências sociais      43    23    27    15    15    28    151\n",
              "Comunicação social    40    44    28     7    26     6    151\n",
              "Direito               28    48    34    42     6    25    183\n",
              "Filosofia             37    16    26    48    29    31    187\n",
              "Pedagogia             46    32    20    19    48     7    172\n",
              "Total                237   196   154   178   136   122   1023"
            ],
            "text/html": [
              "\n",
              "  <div id=\"df-793d74bf-7a43-4777-ab1b-84ba91df15f9\" class=\"colab-df-container\">\n",
              "    <div>\n",
              "<style scoped>\n",
              "    .dataframe tbody tr th:only-of-type {\n",
              "        vertical-align: middle;\n",
              "    }\n",
              "\n",
              "    .dataframe tbody tr th {\n",
              "        vertical-align: top;\n",
              "    }\n",
              "\n",
              "    .dataframe thead th {\n",
              "        text-align: right;\n",
              "    }\n",
              "</style>\n",
              "<table border=\"1\" class=\"dataframe\">\n",
              "  <thead>\n",
              "    <tr style=\"text-align: right;\">\n",
              "      <th>ano</th>\n",
              "      <th>2015</th>\n",
              "      <th>2016</th>\n",
              "      <th>2017</th>\n",
              "      <th>2018</th>\n",
              "      <th>2019</th>\n",
              "      <th>2020</th>\n",
              "      <th>Total</th>\n",
              "    </tr>\n",
              "    <tr>\n",
              "      <th>curso</th>\n",
              "      <th></th>\n",
              "      <th></th>\n",
              "      <th></th>\n",
              "      <th></th>\n",
              "      <th></th>\n",
              "      <th></th>\n",
              "      <th></th>\n",
              "    </tr>\n",
              "  </thead>\n",
              "  <tbody>\n",
              "    <tr>\n",
              "      <th>Biblioteconomia</th>\n",
              "      <td>43</td>\n",
              "      <td>33</td>\n",
              "      <td>19</td>\n",
              "      <td>47</td>\n",
              "      <td>12</td>\n",
              "      <td>25</td>\n",
              "      <td>179</td>\n",
              "    </tr>\n",
              "    <tr>\n",
              "      <th>Ciências sociais</th>\n",
              "      <td>43</td>\n",
              "      <td>23</td>\n",
              "      <td>27</td>\n",
              "      <td>15</td>\n",
              "      <td>15</td>\n",
              "      <td>28</td>\n",
              "      <td>151</td>\n",
              "    </tr>\n",
              "    <tr>\n",
              "      <th>Comunicação social</th>\n",
              "      <td>40</td>\n",
              "      <td>44</td>\n",
              "      <td>28</td>\n",
              "      <td>7</td>\n",
              "      <td>26</td>\n",
              "      <td>6</td>\n",
              "      <td>151</td>\n",
              "    </tr>\n",
              "    <tr>\n",
              "      <th>Direito</th>\n",
              "      <td>28</td>\n",
              "      <td>48</td>\n",
              "      <td>34</td>\n",
              "      <td>42</td>\n",
              "      <td>6</td>\n",
              "      <td>25</td>\n",
              "      <td>183</td>\n",
              "    </tr>\n",
              "    <tr>\n",
              "      <th>Filosofia</th>\n",
              "      <td>37</td>\n",
              "      <td>16</td>\n",
              "      <td>26</td>\n",
              "      <td>48</td>\n",
              "      <td>29</td>\n",
              "      <td>31</td>\n",
              "      <td>187</td>\n",
              "    </tr>\n",
              "    <tr>\n",
              "      <th>Pedagogia</th>\n",
              "      <td>46</td>\n",
              "      <td>32</td>\n",
              "      <td>20</td>\n",
              "      <td>19</td>\n",
              "      <td>48</td>\n",
              "      <td>7</td>\n",
              "      <td>172</td>\n",
              "    </tr>\n",
              "    <tr>\n",
              "      <th>Total</th>\n",
              "      <td>237</td>\n",
              "      <td>196</td>\n",
              "      <td>154</td>\n",
              "      <td>178</td>\n",
              "      <td>136</td>\n",
              "      <td>122</td>\n",
              "      <td>1023</td>\n",
              "    </tr>\n",
              "  </tbody>\n",
              "</table>\n",
              "</div>\n",
              "    <div class=\"colab-df-buttons\">\n",
              "\n",
              "  <div class=\"colab-df-container\">\n",
              "    <button class=\"colab-df-convert\" onclick=\"convertToInteractive('df-793d74bf-7a43-4777-ab1b-84ba91df15f9')\"\n",
              "            title=\"Convert this dataframe to an interactive table.\"\n",
              "            style=\"display:none;\">\n",
              "\n",
              "  <svg xmlns=\"http://www.w3.org/2000/svg\" height=\"24px\" viewBox=\"0 -960 960 960\">\n",
              "    <path d=\"M120-120v-720h720v720H120Zm60-500h600v-160H180v160Zm220 220h160v-160H400v160Zm0 220h160v-160H400v160ZM180-400h160v-160H180v160Zm440 0h160v-160H620v160ZM180-180h160v-160H180v160Zm440 0h160v-160H620v160Z\"/>\n",
              "  </svg>\n",
              "    </button>\n",
              "\n",
              "  <style>\n",
              "    .colab-df-container {\n",
              "      display:flex;\n",
              "      gap: 12px;\n",
              "    }\n",
              "\n",
              "    .colab-df-convert {\n",
              "      background-color: #E8F0FE;\n",
              "      border: none;\n",
              "      border-radius: 50%;\n",
              "      cursor: pointer;\n",
              "      display: none;\n",
              "      fill: #1967D2;\n",
              "      height: 32px;\n",
              "      padding: 0 0 0 0;\n",
              "      width: 32px;\n",
              "    }\n",
              "\n",
              "    .colab-df-convert:hover {\n",
              "      background-color: #E2EBFA;\n",
              "      box-shadow: 0px 1px 2px rgba(60, 64, 67, 0.3), 0px 1px 3px 1px rgba(60, 64, 67, 0.15);\n",
              "      fill: #174EA6;\n",
              "    }\n",
              "\n",
              "    .colab-df-buttons div {\n",
              "      margin-bottom: 4px;\n",
              "    }\n",
              "\n",
              "    [theme=dark] .colab-df-convert {\n",
              "      background-color: #3B4455;\n",
              "      fill: #D2E3FC;\n",
              "    }\n",
              "\n",
              "    [theme=dark] .colab-df-convert:hover {\n",
              "      background-color: #434B5C;\n",
              "      box-shadow: 0px 1px 3px 1px rgba(0, 0, 0, 0.15);\n",
              "      filter: drop-shadow(0px 1px 2px rgba(0, 0, 0, 0.3));\n",
              "      fill: #FFFFFF;\n",
              "    }\n",
              "  </style>\n",
              "\n",
              "    <script>\n",
              "      const buttonEl =\n",
              "        document.querySelector('#df-793d74bf-7a43-4777-ab1b-84ba91df15f9 button.colab-df-convert');\n",
              "      buttonEl.style.display =\n",
              "        google.colab.kernel.accessAllowed ? 'block' : 'none';\n",
              "\n",
              "      async function convertToInteractive(key) {\n",
              "        const element = document.querySelector('#df-793d74bf-7a43-4777-ab1b-84ba91df15f9');\n",
              "        const dataTable =\n",
              "          await google.colab.kernel.invokeFunction('convertToInteractive',\n",
              "                                                    [key], {});\n",
              "        if (!dataTable) return;\n",
              "\n",
              "        const docLinkHtml = 'Like what you see? Visit the ' +\n",
              "          '<a target=\"_blank\" href=https://colab.research.google.com/notebooks/data_table.ipynb>data table notebook</a>'\n",
              "          + ' to learn more about interactive tables.';\n",
              "        element.innerHTML = '';\n",
              "        dataTable['output_type'] = 'display_data';\n",
              "        await google.colab.output.renderOutput(dataTable, element);\n",
              "        const docLink = document.createElement('div');\n",
              "        docLink.innerHTML = docLinkHtml;\n",
              "        element.appendChild(docLink);\n",
              "      }\n",
              "    </script>\n",
              "  </div>\n",
              "\n",
              "\n",
              "    <div id=\"df-84559bb1-ac8a-466d-abf7-6fa40612255f\">\n",
              "      <button class=\"colab-df-quickchart\" onclick=\"quickchart('df-84559bb1-ac8a-466d-abf7-6fa40612255f')\"\n",
              "                title=\"Suggest charts\"\n",
              "                style=\"display:none;\">\n",
              "\n",
              "<svg xmlns=\"http://www.w3.org/2000/svg\" height=\"24px\"viewBox=\"0 0 24 24\"\n",
              "     width=\"24px\">\n",
              "    <g>\n",
              "        <path d=\"M19 3H5c-1.1 0-2 .9-2 2v14c0 1.1.9 2 2 2h14c1.1 0 2-.9 2-2V5c0-1.1-.9-2-2-2zM9 17H7v-7h2v7zm4 0h-2V7h2v10zm4 0h-2v-4h2v4z\"/>\n",
              "    </g>\n",
              "</svg>\n",
              "      </button>\n",
              "\n",
              "<style>\n",
              "  .colab-df-quickchart {\n",
              "      --bg-color: #E8F0FE;\n",
              "      --fill-color: #1967D2;\n",
              "      --hover-bg-color: #E2EBFA;\n",
              "      --hover-fill-color: #174EA6;\n",
              "      --disabled-fill-color: #AAA;\n",
              "      --disabled-bg-color: #DDD;\n",
              "  }\n",
              "\n",
              "  [theme=dark] .colab-df-quickchart {\n",
              "      --bg-color: #3B4455;\n",
              "      --fill-color: #D2E3FC;\n",
              "      --hover-bg-color: #434B5C;\n",
              "      --hover-fill-color: #FFFFFF;\n",
              "      --disabled-bg-color: #3B4455;\n",
              "      --disabled-fill-color: #666;\n",
              "  }\n",
              "\n",
              "  .colab-df-quickchart {\n",
              "    background-color: var(--bg-color);\n",
              "    border: none;\n",
              "    border-radius: 50%;\n",
              "    cursor: pointer;\n",
              "    display: none;\n",
              "    fill: var(--fill-color);\n",
              "    height: 32px;\n",
              "    padding: 0;\n",
              "    width: 32px;\n",
              "  }\n",
              "\n",
              "  .colab-df-quickchart:hover {\n",
              "    background-color: var(--hover-bg-color);\n",
              "    box-shadow: 0 1px 2px rgba(60, 64, 67, 0.3), 0 1px 3px 1px rgba(60, 64, 67, 0.15);\n",
              "    fill: var(--button-hover-fill-color);\n",
              "  }\n",
              "\n",
              "  .colab-df-quickchart-complete:disabled,\n",
              "  .colab-df-quickchart-complete:disabled:hover {\n",
              "    background-color: var(--disabled-bg-color);\n",
              "    fill: var(--disabled-fill-color);\n",
              "    box-shadow: none;\n",
              "  }\n",
              "\n",
              "  .colab-df-spinner {\n",
              "    border: 2px solid var(--fill-color);\n",
              "    border-color: transparent;\n",
              "    border-bottom-color: var(--fill-color);\n",
              "    animation:\n",
              "      spin 1s steps(1) infinite;\n",
              "  }\n",
              "\n",
              "  @keyframes spin {\n",
              "    0% {\n",
              "      border-color: transparent;\n",
              "      border-bottom-color: var(--fill-color);\n",
              "      border-left-color: var(--fill-color);\n",
              "    }\n",
              "    20% {\n",
              "      border-color: transparent;\n",
              "      border-left-color: var(--fill-color);\n",
              "      border-top-color: var(--fill-color);\n",
              "    }\n",
              "    30% {\n",
              "      border-color: transparent;\n",
              "      border-left-color: var(--fill-color);\n",
              "      border-top-color: var(--fill-color);\n",
              "      border-right-color: var(--fill-color);\n",
              "    }\n",
              "    40% {\n",
              "      border-color: transparent;\n",
              "      border-right-color: var(--fill-color);\n",
              "      border-top-color: var(--fill-color);\n",
              "    }\n",
              "    60% {\n",
              "      border-color: transparent;\n",
              "      border-right-color: var(--fill-color);\n",
              "    }\n",
              "    80% {\n",
              "      border-color: transparent;\n",
              "      border-right-color: var(--fill-color);\n",
              "      border-bottom-color: var(--fill-color);\n",
              "    }\n",
              "    90% {\n",
              "      border-color: transparent;\n",
              "      border-bottom-color: var(--fill-color);\n",
              "    }\n",
              "  }\n",
              "</style>\n",
              "\n",
              "      <script>\n",
              "        async function quickchart(key) {\n",
              "          const quickchartButtonEl =\n",
              "            document.querySelector('#' + key + ' button');\n",
              "          quickchartButtonEl.disabled = true;  // To prevent multiple clicks.\n",
              "          quickchartButtonEl.classList.add('colab-df-spinner');\n",
              "          try {\n",
              "            const charts = await google.colab.kernel.invokeFunction(\n",
              "                'suggestCharts', [key], {});\n",
              "          } catch (error) {\n",
              "            console.error('Error during call to suggestCharts:', error);\n",
              "          }\n",
              "          quickchartButtonEl.classList.remove('colab-df-spinner');\n",
              "          quickchartButtonEl.classList.add('colab-df-quickchart-complete');\n",
              "        }\n",
              "        (() => {\n",
              "          let quickchartButtonEl =\n",
              "            document.querySelector('#df-84559bb1-ac8a-466d-abf7-6fa40612255f button');\n",
              "          quickchartButtonEl.style.display =\n",
              "            google.colab.kernel.accessAllowed ? 'block' : 'none';\n",
              "        })();\n",
              "      </script>\n",
              "    </div>\n",
              "\n",
              "  <div id=\"id_a81169f2-345f-477f-9b77-5ae9b349ae41\">\n",
              "    <style>\n",
              "      .colab-df-generate {\n",
              "        background-color: #E8F0FE;\n",
              "        border: none;\n",
              "        border-radius: 50%;\n",
              "        cursor: pointer;\n",
              "        display: none;\n",
              "        fill: #1967D2;\n",
              "        height: 32px;\n",
              "        padding: 0 0 0 0;\n",
              "        width: 32px;\n",
              "      }\n",
              "\n",
              "      .colab-df-generate:hover {\n",
              "        background-color: #E2EBFA;\n",
              "        box-shadow: 0px 1px 2px rgba(60, 64, 67, 0.3), 0px 1px 3px 1px rgba(60, 64, 67, 0.15);\n",
              "        fill: #174EA6;\n",
              "      }\n",
              "\n",
              "      [theme=dark] .colab-df-generate {\n",
              "        background-color: #3B4455;\n",
              "        fill: #D2E3FC;\n",
              "      }\n",
              "\n",
              "      [theme=dark] .colab-df-generate:hover {\n",
              "        background-color: #434B5C;\n",
              "        box-shadow: 0px 1px 3px 1px rgba(0, 0, 0, 0.15);\n",
              "        filter: drop-shadow(0px 1px 2px rgba(0, 0, 0, 0.3));\n",
              "        fill: #FFFFFF;\n",
              "      }\n",
              "    </style>\n",
              "    <button class=\"colab-df-generate\" onclick=\"generateWithVariable('tabela')\"\n",
              "            title=\"Generate code using this dataframe.\"\n",
              "            style=\"display:none;\">\n",
              "\n",
              "  <svg xmlns=\"http://www.w3.org/2000/svg\" height=\"24px\"viewBox=\"0 0 24 24\"\n",
              "       width=\"24px\">\n",
              "    <path d=\"M7,19H8.4L18.45,9,17,7.55,7,17.6ZM5,21V16.75L18.45,3.32a2,2,0,0,1,2.83,0l1.4,1.43a1.91,1.91,0,0,1,.58,1.4,1.91,1.91,0,0,1-.58,1.4L9.25,21ZM18.45,9,17,7.55Zm-12,3A5.31,5.31,0,0,0,4.9,8.1,5.31,5.31,0,0,0,1,6.5,5.31,5.31,0,0,0,4.9,4.9,5.31,5.31,0,0,0,6.5,1,5.31,5.31,0,0,0,8.1,4.9,5.31,5.31,0,0,0,12,6.5,5.46,5.46,0,0,0,6.5,12Z\"/>\n",
              "  </svg>\n",
              "    </button>\n",
              "    <script>\n",
              "      (() => {\n",
              "      const buttonEl =\n",
              "        document.querySelector('#id_a81169f2-345f-477f-9b77-5ae9b349ae41 button.colab-df-generate');\n",
              "      buttonEl.style.display =\n",
              "        google.colab.kernel.accessAllowed ? 'block' : 'none';\n",
              "\n",
              "      buttonEl.onclick = () => {\n",
              "        google.colab.notebook.generateWithVariable('tabela');\n",
              "      }\n",
              "      })();\n",
              "    </script>\n",
              "  </div>\n",
              "\n",
              "    </div>\n",
              "  </div>\n"
            ],
            "application/vnd.google.colaboratory.intrinsic+json": {
              "type": "dataframe",
              "variable_name": "tabela",
              "summary": "{\n  \"name\": \"tabela\",\n  \"rows\": 7,\n  \"fields\": [\n    {\n      \"column\": \"curso\",\n      \"properties\": {\n        \"dtype\": \"string\",\n        \"num_unique_values\": 7,\n        \"samples\": [\n          \"Biblioteconomia\",\n          \"Ci\\u00eancias sociais\",\n          \"Pedagogia\"\n        ],\n        \"semantic_type\": \"\",\n        \"description\": \"\"\n      }\n    },\n    {\n      \"column\": 2015,\n      \"properties\": {\n        \"dtype\": \"number\",\n        \"std\": 74,\n        \"min\": 28,\n        \"max\": 237,\n        \"num_unique_values\": 6,\n        \"samples\": [\n          43,\n          40,\n          237\n        ],\n        \"semantic_type\": \"\",\n        \"description\": \"\"\n      }\n    },\n    {\n      \"column\": 2016,\n      \"properties\": {\n        \"dtype\": \"number\",\n        \"std\": 62,\n        \"min\": 16,\n        \"max\": 196,\n        \"num_unique_values\": 7,\n        \"samples\": [\n          33,\n          23,\n          32\n        ],\n        \"semantic_type\": \"\",\n        \"description\": \"\"\n      }\n    },\n    {\n      \"column\": 2017,\n      \"properties\": {\n        \"dtype\": \"number\",\n        \"std\": 48,\n        \"min\": 19,\n        \"max\": 154,\n        \"num_unique_values\": 7,\n        \"samples\": [\n          19,\n          27,\n          20\n        ],\n        \"semantic_type\": \"\",\n        \"description\": \"\"\n      }\n    },\n    {\n      \"column\": 2018,\n      \"properties\": {\n        \"dtype\": \"number\",\n        \"std\": 58,\n        \"min\": 7,\n        \"max\": 178,\n        \"num_unique_values\": 7,\n        \"samples\": [\n          47,\n          15,\n          19\n        ],\n        \"semantic_type\": \"\",\n        \"description\": \"\"\n      }\n    },\n    {\n      \"column\": 2019,\n      \"properties\": {\n        \"dtype\": \"number\",\n        \"std\": 45,\n        \"min\": 6,\n        \"max\": 136,\n        \"num_unique_values\": 7,\n        \"samples\": [\n          12,\n          15,\n          48\n        ],\n        \"semantic_type\": \"\",\n        \"description\": \"\"\n      }\n    },\n    {\n      \"column\": 2020,\n      \"properties\": {\n        \"dtype\": \"number\",\n        \"std\": 39,\n        \"min\": 6,\n        \"max\": 122,\n        \"num_unique_values\": 6,\n        \"samples\": [\n          25,\n          28,\n          122\n        ],\n        \"semantic_type\": \"\",\n        \"description\": \"\"\n      }\n    },\n    {\n      \"column\": \"Total\",\n      \"properties\": {\n        \"dtype\": \"number\",\n        \"std\": 322,\n        \"min\": 151,\n        \"max\": 1023,\n        \"num_unique_values\": 6,\n        \"samples\": [\n          179,\n          151,\n          1023\n        ],\n        \"semantic_type\": \"\",\n        \"description\": \"\"\n      }\n    }\n  ]\n}"
            }
          },
          "metadata": {}
        }
      ]
    },
    {
      "cell_type": "code",
      "source": [
        "arquivo_csv = os.path.join(pasta_graficos, 'resumo_emprestimos_dia06.csv')\n",
        "tabela.to_csv(arquivo_csv, index=True)\n",
        "print(f\"Tabela salva em: {arquivo_csv}\")\n"
      ],
      "metadata": {
        "colab": {
          "base_uri": "https://localhost:8080/"
        },
        "id": "IgXV-xPUfjKt",
        "outputId": "079802b1-bd06-4a64-a8de-4b0da6f33810"
      },
      "execution_count": null,
      "outputs": [
        {
          "output_type": "stream",
          "name": "stdout",
          "text": [
            "Tabela salva em: /content/drive/MyDrive/desafio_biblioteca/dia06_graficos/resumo_emprestimos_dia06.csv\n"
          ]
        }
      ]
    },
    {
      "cell_type": "code",
      "source": [
        "import pandas as pd\n",
        "import matplotlib.pyplot as plt\n",
        "import seaborn as sns\n",
        "import os"
      ],
      "metadata": {
        "id": "Re3uj-bXgTMc"
      },
      "execution_count": null,
      "outputs": []
    },
    {
      "cell_type": "code",
      "source": [
        "arquivo_csv = '/content/drive/MyDrive/desafio_biblioteca/dia06_graficos/resumo_emprestimos_dia06.csv'\n",
        "df = pd.read_csv(arquivo_csv, index_col=0)"
      ],
      "metadata": {
        "id": "ArsHPJxRgU6C"
      },
      "execution_count": null,
      "outputs": []
    },
    {
      "cell_type": "code",
      "source": [
        "df.columns = df.columns.astype(str)"
      ],
      "metadata": {
        "id": "fFVbgZGrge1S"
      },
      "execution_count": null,
      "outputs": []
    },
    {
      "cell_type": "code",
      "source": [
        "plt.figure(figsize=(12,6))\n",
        "sns.heatmap(df, annot=True, fmt='g', cmap='YlGnBu', linewidths=0.5)\n",
        "plt.title(\"Quantidade de Empréstimos por Curso e Ano (2015-2020)\", fontsize=16)\n",
        "plt.ylabel(\"Curso\")\n",
        "plt.xlabel(\"Ano\")\n",
        "plt.yticks(rotation=0)\n",
        "plt.show()"
      ],
      "metadata": {
        "colab": {
          "base_uri": "https://localhost:8080/",
          "height": 568
        },
        "id": "f1sI2MRAhMHT",
        "outputId": "4f638a50-ca6b-4458-98ec-8dd6c9f9d5ae"
      },
      "execution_count": null,
      "outputs": [
        {
          "output_type": "display_data",
          "data": {
            "text/plain": [
              "<Figure size 1200x600 with 2 Axes>"
            ],
            "image/png": "[encoded data removed]"
          },
          "metadata": {}
        }
      ]
    },
    {
      "cell_type": "code",
      "source": [
        "df.plot(kind='bar', stacked=True, figsize=(12,6), colormap='tab20')\n",
        "plt.title(\"Quantidade de Empréstimos por Curso (2015-2020)\", fontsize=16)\n",
        "plt.ylabel(\"Quantidade de Empréstimos\")\n",
        "plt.xlabel(\"Curso\")\n",
        "plt.xticks(rotation=45)\n",
        "plt.legend(title=\"Ano\")\n",
        "plt.tight_layout()\n",
        "plt.show()"
      ],
      "metadata": {
        "colab": {
          "base_uri": "https://localhost:8080/",
          "height": 607
        },
        "id": "s0Q73YnjhRyp",
        "outputId": "fb8b9350-12b0-4a55-c422-aa0e273202e3"
      },
      "execution_count": null,
      "outputs": [
        {
          "output_type": "display_data",
          "data": {
            "text/plain": [
              "<Figure size 1200x600 with 1 Axes>"
            ],
            "image/png": "[encoded data removed]"
          },
          "metadata": {}
        }
      ]
    },
    {
      "cell_type": "code",
      "source": [
        "import pandas as pd\n",
        "import matplotlib.pyplot as plt\n",
        "import seaborn as sns"
      ],
      "metadata": {
        "id": "1fRorutKhlgD"
      },
      "execution_count": null,
      "outputs": []
    },
    {
      "cell_type": "code",
      "source": [
        "arquivo_csv = '/content/drive/MyDrive/desafio_biblioteca/dia06_graficos/resumo_emprestimos_dia06.csv'\n",
        "df = pd.read_csv(arquivo_csv, index_col=0)"
      ],
      "metadata": {
        "id": "rIlonwjTh9FD"
      },
      "execution_count": null,
      "outputs": []
    },
    {
      "cell_type": "code",
      "source": [
        "df_long = df.melt(ignore_index=False, var_name='Ano', value_name='Qtd_Empréstimos').reset_index()"
      ],
      "metadata": {
        "id": "AKU1-J_KiA0s"
      },
      "execution_count": null,
      "outputs": []
    },
    {
      "cell_type": "code",
      "source": [
        "arquivo_csv = '/content/drive/MyDrive/desafio_biblioteca/dia06_graficos/resumo_emprestimos_dia06.csv'\n",
        "df = pd.read_csv(arquivo_csv, index_col=0)  # lê o índice que é o curso\n",
        "df.index.name = 'Curso'"
      ],
      "metadata": {
        "id": "P0thlExsiMfd"
      },
      "execution_count": null,
      "outputs": []
    },
    {
      "cell_type": "code",
      "source": [
        "df_long = df.reset_index().melt(id_vars='Curso', var_name='Ano', value_name='Qtd_Empréstimos')"
      ],
      "metadata": {
        "id": "kqI0LdwyidDt"
      },
      "execution_count": null,
      "outputs": []
    },
    {
      "cell_type": "code",
      "source": [
        "import seaborn as sns\n",
        "import matplotlib.pyplot as plt\n"
      ],
      "metadata": {
        "id": "hYUjNVTqjlcx"
      },
      "execution_count": null,
      "outputs": []
    },
    {
      "cell_type": "code",
      "source": [
        "df_long.columns\n"
      ],
      "metadata": {
        "colab": {
          "base_uri": "https://localhost:8080/"
        },
        "id": "6-Jh35VLjoB7",
        "outputId": "76e6bd9f-71f4-4084-a9b9-25f94cd28a62"
      },
      "execution_count": null,
      "outputs": [
        {
          "output_type": "execute_result",
          "data": {
            "text/plain": [
              "Index(['Curso', 'Ano', 'Qtd_Empréstimos'], dtype='object')"
            ]
          },
          "metadata": {},
          "execution_count": 89
        }
      ]
    },
    {
      "cell_type": "code",
      "source": [
        "df.columns"
      ],
      "metadata": {
        "colab": {
          "base_uri": "https://localhost:8080/"
        },
        "id": "6MojAgi6lr77",
        "outputId": "790fe449-e4f6-46e1-ca0e-1233e6d3bc53"
      },
      "execution_count": null,
      "outputs": [
        {
          "output_type": "execute_result",
          "data": {
            "text/plain": [
              "Index(['2015', '2016', '2017', '2018', '2019', '2020', 'Total'], dtype='object')"
            ]
          },
          "metadata": {},
          "execution_count": 93
        }
      ]
    },
    {
      "cell_type": "code",
      "source": [
        "list(df.columns)"
      ],
      "metadata": {
        "colab": {
          "base_uri": "https://localhost:8080/"
        },
        "id": "Epfnso3WmLG2",
        "outputId": "96a89dfe-725f-422f-a9d4-0d53df864a27"
      },
      "execution_count": null,
      "outputs": [
        {
          "output_type": "execute_result",
          "data": {
            "text/plain": [
              "['2015', '2016', '2017', '2018', '2019', '2020', 'Total']"
            ]
          },
          "metadata": {},
          "execution_count": 94
        }
      ]
    },
    {
      "cell_type": "code",
      "source": [
        "df.columns"
      ],
      "metadata": {
        "colab": {
          "base_uri": "https://localhost:8080/"
        },
        "id": "sIIJitlemUw4",
        "outputId": "56fd1c02-bcfa-4fed-ddaa-b83087be0b37"
      },
      "execution_count": null,
      "outputs": [
        {
          "output_type": "execute_result",
          "data": {
            "text/plain": [
              "Index(['2015', '2016', '2017', '2018', '2019', '2020', 'Total'], dtype='object')"
            ]
          },
          "metadata": {},
          "execution_count": 96
        }
      ]
    },
    {
      "cell_type": "code",
      "source": [
        "df = df.reset_index()  # isso cria uma coluna chamada 'index' com o nome dos cursos\n",
        "df = df.rename(columns={'index':'Curso'})"
      ],
      "metadata": {
        "id": "FwWoDHeImk7b"
      },
      "execution_count": null,
      "outputs": []
    },
    {
      "cell_type": "code",
      "source": [
        "df_long = df.melt(id_vars=['Curso'])"
      ],
      "metadata": {
        "id": "6WnC_2g8mnOn"
      },
      "execution_count": null,
      "outputs": []
    },
    {
      "cell_type": "code",
      "source": [
        "df_long = df.melt(\n",
        "    id_vars=['Curso'],\n",
        "    value_vars=['2015','2016','2017','2018','2019','2020'],\n",
        "    var_name='Ano',\n",
        "    value_name='Qtd_Empréstimos'\n",
        ")"
      ],
      "metadata": {
        "id": "YdtNRsA1nFGx"
      },
      "execution_count": null,
      "outputs": []
    },
    {
      "cell_type": "code",
      "source": [
        "import seaborn as sns\n",
        "import matplotlib.pyplot as plt\n"
      ],
      "metadata": {
        "id": "hay-rofenM1N"
      },
      "execution_count": null,
      "outputs": []
    },
    {
      "cell_type": "code",
      "source": [
        "plt.figure(figsize=(12,6))\n",
        "sns.boxplot(x='Ano', y='Qtd_Empréstimos', data=df_long)\n",
        "plt.title('Distribuição de Empréstimos por Ano (2015-2020)')\n",
        "plt.xlabel('Ano')\n",
        "plt.ylabel('Quantidade de Empréstimos')\n",
        "plt.show()"
      ],
      "metadata": {
        "colab": {
          "base_uri": "https://localhost:8080/",
          "height": 565
        },
        "id": "UQ3zkWJtnPdP",
        "outputId": "a97eb5f1-393c-4e3f-ebde-c0651e3147ef"
      },
      "execution_count": null,
      "outputs": [
        {
          "output_type": "display_data",
          "data": {
            "text/plain": [
              "<Figure size 1200x600 with 1 Axes>"
            ],
            "image/png": "[encoded data removed]"
          },
          "metadata": {}
        }
      ]
    },
    {
      "cell_type": "code",
      "source": [
        "import pandas as pd\n",
        "import seaborn as sns\n",
        "import matplotlib.pyplot as plt\n"
      ],
      "metadata": {
        "id": "9UUw-kM0oSnG"
      },
      "execution_count": null,
      "outputs": []
    },
    {
      "cell_type": "code",
      "source": [
        "grad = df_long[df_long['Curso'].str.contains('Graduação', case=False)]\n",
        "pos = df_long[df_long['Curso'].str.contains('Pós-graduação', case=False)]"
      ],
      "metadata": {
        "id": "-8fJLsgZoU8c"
      },
      "execution_count": null,
      "outputs": []
    },
    {
      "cell_type": "code",
      "source": [
        "def plot_boxplot(data, titulo):\n",
        "    plt.figure(figsize=(12,6))\n",
        "    sns.boxplot(x='Ano', y='Quantidade', hue='Curso', data=data, palette='Set2')\n",
        "    plt.title(titulo, fontsize=16)\n",
        "    plt.xlabel('Ano', fontsize=12)\n",
        "    plt.ylabel('Quantidade de Empréstimos', fontsize=12)\n",
        "    plt.legend(title='Curso')\n",
        "    plt.xticks(rotation=45)\n",
        "    plt.tight_layout()\n",
        "    plt.show()"
      ],
      "metadata": {
        "id": "0TLIrSHSoV7n"
      },
      "execution_count": null,
      "outputs": []
    },
    {
      "cell_type": "code",
      "source": [
        "print(df_long.columns)"
      ],
      "metadata": {
        "colab": {
          "base_uri": "https://localhost:8080/"
        },
        "id": "_WySxOq3oZNo",
        "outputId": "9c786914-d2ab-489c-d08e-2a146fdc6f43"
      },
      "execution_count": null,
      "outputs": [
        {
          "output_type": "stream",
          "name": "stdout",
          "text": [
            "Index(['Curso', 'Ano', 'Qtd_Empréstimos'], dtype='object')\n"
          ]
        }
      ]
    },
    {
      "cell_type": "code",
      "source": [
        "import pandas as pd\n",
        "import seaborn as sns\n",
        "import matplotlib.pyplot as plt\n"
      ],
      "metadata": {
        "id": "RGBSgnxWolBt"
      },
      "execution_count": null,
      "outputs": []
    },
    {
      "cell_type": "code",
      "source": [
        "grad = df_long[df_long['Curso'].str.contains('Graduação', case=False)]\n",
        "pos = df_long[df_long['Curso'].str.contains('Pós-graduação', case=False)]"
      ],
      "metadata": {
        "id": "DYQFwkVFonA0"
      },
      "execution_count": null,
      "outputs": []
    },
    {
      "cell_type": "code",
      "source": [
        "def plot_boxplot(data, titulo):\n",
        "    plt.figure(figsize=(14, 8))  # Aumenta o tamanho da figura\n",
        "    sns.boxplot(x='Ano', y='Qtd_Empréstimos', hue='Curso', data=data, palette='Set2')\n",
        "    plt.title(titulo, fontsize=16)\n",
        "    plt.xlabel('Ano', fontsize=12)\n",
        "    plt.ylabel('Quantidade de Empréstimos', fontsize=12)\n",
        "    plt.xticks(rotation=45, ha='right')  # Rotaciona os rótulos do eixo X\n",
        "    plt.tight_layout()  # Ajusta o layout para evitar sobreposição\n",
        "    plt.show()"
      ],
      "metadata": {
        "id": "sg3y_H1XoppE"
      },
      "execution_count": null,
      "outputs": []
    },
    {
      "cell_type": "code",
      "source": [
        "plot_boxplot(grad, 'Empréstimos por Ano - Graduação')"
      ],
      "metadata": {
        "id": "JinqBcZho9xg",
        "outputId": "cb387a84-51ec-49dd-e612-bb06e1faa46e",
        "colab": {
          "base_uri": "https://localhost:8080/",
          "height": 723
        }
      },
      "execution_count": null,
      "outputs": [
        {
          "output_type": "display_data",
          "data": {
            "text/plain": [
              "<Figure size 1400x800 with 1 Axes>"
            ],
            "image/png": "[encoded data removed]"
          },
          "metadata": {}
        }
      ]
    }
  ]
}